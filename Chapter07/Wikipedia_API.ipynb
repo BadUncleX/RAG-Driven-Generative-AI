{
  "nbformat": 4,
  "nbformat_minor": 0,
  "metadata": {
    "colab": {
      "provenance": [],
      "collapsed_sections": [
        "FmFum0WEwi6b"
      ],
      "authorship_tag": "ABX9TyOD5LVxwtrLAqfLfDIVr9Sb"
    },
    "kernelspec": {
      "name": "python3",
      "display_name": "Python 3"
    },
    "language_info": {
      "name": "python"
    }
  },
  "cells": [
    {
      "cell_type": "markdown",
      "source": [
        "# Wikepedia API\n",
        "\n",
        "Copyright 2024, Denis Rothman\n",
        "\n",
        "**Summary:**\n",
        "This Python shows how to interact with the Wikipedia API to retrieve information about specified topics, tokenize the retrieved text, and manage citations from Wikipedia articles.\n",
        "\n",
        "**Description of Functions and Sections**\n",
        "\n",
        "#### Installing the environment\n",
        "- **Installation of Wikipedia-API**: This section ensures that the `wikipediaapi` library is installed.\n",
        "\n",
        "#### Functions\n",
        "- **Tokenization (`nb_tokens`)**: This function takes a string of text as input and returns the number of tokens in the text using the NLTK library for sophisticated tokenization, which includes punctuation.\n",
        "\n",
        "#### Retrieving Wikipedia Metadata\n",
        "- **Creating an instance**: Sets up an instance of the Wikipedia API with a specified language and user agent to start retrieving data.\n",
        "- **Defining root page**: Specifies the main topic and filename associated with the Wikipedia page of interest.\n",
        "- **Root page summary**: Retrieves the summary of the specified Wikipedia page, checks if the page exists, and prints its summary.\n",
        "- **URLs and Citations**: Displays the full URL of the Wikipedia page.\n",
        "- **Links in the page**: This subsection is intended to process and print the links found within the page.\n",
        "\n",
        "#### Writing the citations and URLs pages\n",
        "- **Management of citations**: Generates texts file containing citations for the links retrieved from a Wikipedia page and their urls.\n"
      ],
      "metadata": {
        "id": "_YmBvHiNBFN-"
      }
    },
    {
      "cell_type": "markdown",
      "source": [
        "[Wikipedia API documentation](https://pypi.org/project/Wikipedia-API/)\n",
        "\n",
        "The Citations of the Wikipedia pages are in the `Chapter10/citations` directory of the repository.\n",
        "\n",
        "For more on Wikipedia citations: [Citations](https://en.wikipedia.org/w/index.php?title=Special:CiteThisPage&page=Mark_Twain&id=1231834317&wpFormIdentifier=titleform)\n"
      ],
      "metadata": {
        "id": "noBD6n8g3C1P"
      }
    },
    {
      "cell_type": "markdown",
      "source": [
        "# Installing the environment"
      ],
      "metadata": {
        "id": "FmFum0WEwi6b"
      }
    },
    {
      "cell_type": "code",
      "source": [
        "try:\n",
        "  import wikipediaapi\n",
        "except:\n",
        "  !pip install Wikipedia-API==0.6.0\n",
        "  import wikipediaapi"
      ],
      "metadata": {
        "id": "1hJjyOH5wk5F",
        "colab": {
          "base_uri": "https://localhost:8080/"
        },
        "outputId": "39c53207-a978-4e73-b88c-a8a0a183f9b5"
      },
      "execution_count": 1,
      "outputs": [
        {
          "output_type": "stream",
          "name": "stdout",
          "text": [
            "Collecting Wikipedia-API==0.6.0\n",
            "  Downloading Wikipedia_API-0.6.0-py3-none-any.whl (14 kB)\n",
            "Requirement already satisfied: requests in /usr/local/lib/python3.10/dist-packages (from Wikipedia-API==0.6.0) (2.31.0)\n",
            "Requirement already satisfied: charset-normalizer<4,>=2 in /usr/local/lib/python3.10/dist-packages (from requests->Wikipedia-API==0.6.0) (3.3.2)\n",
            "Requirement already satisfied: idna<4,>=2.5 in /usr/local/lib/python3.10/dist-packages (from requests->Wikipedia-API==0.6.0) (3.7)\n",
            "Requirement already satisfied: urllib3<3,>=1.21.1 in /usr/local/lib/python3.10/dist-packages (from requests->Wikipedia-API==0.6.0) (2.0.7)\n",
            "Requirement already satisfied: certifi>=2017.4.17 in /usr/local/lib/python3.10/dist-packages (from requests->Wikipedia-API==0.6.0) (2024.6.2)\n",
            "Installing collected packages: Wikipedia-API\n",
            "Successfully installed Wikipedia-API-0.6.0\n"
          ]
        }
      ]
    },
    {
      "cell_type": "markdown",
      "source": [
        "## Functions"
      ],
      "metadata": {
        "id": "ww1rD8PyKbID"
      }
    },
    {
      "cell_type": "code",
      "source": [
        "import nltk\n",
        "from nltk.tokenize import word_tokenize\n",
        "\n",
        "# Ensure you have the necessary NLTK resource downloaded\n",
        "nltk.download('punkt')\n",
        "\n",
        "def nb_tokens(text):\n",
        "    # More sophisticated tokenization which includes punctuation\n",
        "    tokens = word_tokenize(text)\n",
        "    return len(tokens)"
      ],
      "metadata": {
        "colab": {
          "base_uri": "https://localhost:8080/"
        },
        "id": "HykBJUwHKjB4",
        "outputId": "c4784422-8e16-4e7a-a20b-e551b9eda2ab"
      },
      "execution_count": 2,
      "outputs": [
        {
          "output_type": "stream",
          "name": "stderr",
          "text": [
            "[nltk_data] Downloading package punkt to /root/nltk_data...\n",
            "[nltk_data]   Unzipping tokenizers/punkt.zip.\n"
          ]
        }
      ]
    },
    {
      "cell_type": "markdown",
      "source": [
        "# Retrieving Wikipedia Metadata"
      ],
      "metadata": {
        "id": "j0esGhE32dah"
      }
    },
    {
      "cell_type": "markdown",
      "source": [
        "## Creating an instance"
      ],
      "metadata": {
        "id": "6jJrABGr-z4c"
      }
    },
    {
      "cell_type": "code",
      "source": [
        "# Create an instance of the Wikipedia API with a detailed user agent\n",
        "wiki = wikipediaapi.Wikipedia(\n",
        "    language='en',\n",
        "    user_agent='Knowledge/1.0 (Denis.Rothman76@gmail.com)'\n",
        ")"
      ],
      "metadata": {
        "id": "FjWrcjUd48wj"
      },
      "execution_count": 3,
      "outputs": []
    },
    {
      "cell_type": "markdown",
      "source": [
        "## Defining root page"
      ],
      "metadata": {
        "id": "J3vhm24x1-jQ"
      }
    },
    {
      "cell_type": "code",
      "source": [
        "topic=\"Mark Twain\"     #topic\n",
        "filename=\"MarkTwain\"   #filename for saving the outputs\n",
        "maxl=20                #maximum number of links to retrieve\n",
        "#topic=\"Honoré de Balzac\""
      ],
      "metadata": {
        "id": "X3bX7DUwQBqo"
      },
      "execution_count": 4,
      "outputs": []
    },
    {
      "cell_type": "markdown",
      "source": [
        "## Root page summary"
      ],
      "metadata": {
        "id": "7r5WPI-3-xyb"
      }
    },
    {
      "cell_type": "code",
      "source": [
        "import textwrap # to wrap the text and display in paragraphs\n",
        "page=wiki.page(topic)\n",
        "\n",
        "if page.exists()==True:\n",
        "  print(\"Page - Exists: %s\" % page.exists())\n",
        "  summary=page.summary\n",
        "  # number of tokens)\n",
        "  nbt=nb_tokens(summary)\n",
        "  print(\"Number of tokens: \",nbt)\n",
        "  # Use textwrap to wrap the summary text to a specified width, e.g., 70 characters\n",
        "  wrapped_text = textwrap.fill(summary, width=60)\n",
        "  # Print the wrapped summary text\n",
        "  print(wrapped_text)\n",
        "else:\n",
        "  print(\"Page does not exist\")"
      ],
      "metadata": {
        "id": "qiXFmpw98Rkj",
        "colab": {
          "base_uri": "https://localhost:8080/"
        },
        "outputId": "47323008-0431-4664-93d1-d135f38dd5bd"
      },
      "execution_count": 5,
      "outputs": [
        {
          "output_type": "stream",
          "name": "stdout",
          "text": [
            "Page - Exists: True\n",
            "Number of tokens:  578\n",
            "Samuel Langhorne Clemens (November 30, 1835 – April 21,\n",
            "1910), known by the pen name Mark Twain, was an American\n",
            "writer, humorist, and essayist. He was praised as the\n",
            "\"greatest humorist the United States has produced,\" with\n",
            "William Faulkner calling him \"the father of American\n",
            "literature.\" Twain's novels include The Adventures of Tom\n",
            "Sawyer (1876) and its sequel, Adventures of Huckleberry Finn\n",
            "(1884), with the latter often called the \"Great American\n",
            "Novel.\" He also wrote A Connecticut Yankee in King Arthur's\n",
            "Court (1889) and Pudd'nhead Wilson (1894), and co-wrote The\n",
            "Gilded Age: A Tale of Today (1873) with Charles Dudley\n",
            "Warner. Twain was raised in Hannibal, Missouri, which later\n",
            "provided the setting for both Tom Sawyer and Huckleberry\n",
            "Finn. He served an apprenticeship with a printer early in\n",
            "his career, and then worked as a typesetter, contributing\n",
            "articles to his older brother Orion Clemens' newspaper.\n",
            "Twain then became a riverboat pilot on the Mississippi\n",
            "River, which provided him the material for Life on the\n",
            "Mississippi (1883). Soon after, Twain headed west to join\n",
            "Orion in Nevada. He referred humorously to his lack of\n",
            "success at mining, turning to journalism for the Virginia\n",
            "City Territorial Enterprise. Twain first achieved success as\n",
            "a writer with the humorous story \"The Celebrated Jumping\n",
            "Frog of Calaveras County,\" which was published in 1865; it\n",
            "was based on a story that he heard at Angels Hotel in Angels\n",
            "Camp, California, where Twain had spent some time while he\n",
            "was working as a miner. The short story brought Twain\n",
            "international attention. He wrote both fiction and non-\n",
            "fiction. As his fame grew, Twain became a much sought-after\n",
            "speaker. His wit and satire, both in prose and in speech,\n",
            "earned praise from critics and peers, and Twain was a friend\n",
            "to presidents, artists, industrialists, and European\n",
            "royalty. Although Twain initially spoke out in favor of\n",
            "American interests in the Hawaiian Islands, he later\n",
            "reversed his position, going on to become vice president of\n",
            "the American Anti-Imperialist League from 1901 until his\n",
            "death in 1910, coming out strongly against the Philippine-\n",
            "American War and American colonialism. Twain published a\n",
            "satirical pamphlet, \"King Leopold's Soliloquy\", in 1905\n",
            "about King Leopold II of Belgium's abuses of human rights in\n",
            "the Congo. Twain earned a great deal of money from his\n",
            "writing and lectures, but invested in ventures that lost\n",
            "most of it, such as the Paige Compositor, a mechanical\n",
            "typesetter that failed because of its complexity and\n",
            "imprecision. He filed for bankruptcy in the wake of these\n",
            "financial setbacks, but in time overcame his financial\n",
            "troubles with the help of Standard Oil executive Henry\n",
            "Huttleston Rogers. Twain eventually paid all his creditors\n",
            "in full, even though his declaration of bankruptcy meant he\n",
            "was not required to do so. Twain was born shortly after an\n",
            "appearance of Halley's Comet, and predicted that his death\n",
            "would accompany it as well, dying a day after the comet was\n",
            "at its closest to Earth.\n"
          ]
        }
      ]
    },
    {
      "cell_type": "markdown",
      "source": [
        "## URLs and Citations"
      ],
      "metadata": {
        "id": "PhsVk6k1omnQ"
      }
    },
    {
      "cell_type": "code",
      "source": [
        "print(page.fullurl)"
      ],
      "metadata": {
        "colab": {
          "base_uri": "https://localhost:8080/"
        },
        "id": "OQ9QXHleoLJ7",
        "outputId": "1656f240-d47e-47d6-f09a-92a746e8a4c8"
      },
      "execution_count": 6,
      "outputs": [
        {
          "output_type": "stream",
          "name": "stdout",
          "text": [
            "https://en.wikipedia.org/wiki/Mark_Twain\n"
          ]
        }
      ]
    },
    {
      "cell_type": "markdown",
      "source": [
        "## Links in the page"
      ],
      "metadata": {
        "id": "9jIllSQhG4Gn"
      }
    },
    {
      "cell_type": "code",
      "source": [
        "# prompt: read the program up to this cell. Then retrieve all the links for this page: print the link and a summary of each link\n",
        "\n",
        "# Get all the links on the page\n",
        "links = page.links\n",
        "\n",
        "# Print the link and a summary of each link\n",
        "urls = []\n",
        "counter=0\n",
        "for link in links:\n",
        "  try:\n",
        "    counter+=1\n",
        "    print(f\"Link {counter}: {link}\")\n",
        "    summary = wiki.page(link).summary\n",
        "    print(f\"Link: {link}\")\n",
        "    print(wiki.page(link).fullurl)\n",
        "    urls.append(wiki.page(link).fullurl)\n",
        "    print(f\"Summary: {summary}\")\n",
        "    if counter>=maxl: # limit Wikipedia scraping\n",
        "      break\n",
        "  except page.exists()==False:\n",
        "    # Ignore pages that don't exist\n",
        "    pass\n",
        "\n",
        "print(counter)\n",
        "print(urls)"
      ],
      "metadata": {
        "colab": {
          "base_uri": "https://localhost:8080/"
        },
        "id": "DFSQ5s5wzhLf",
        "outputId": "c05812dc-50e6-48d6-b60f-d123e69c5165"
      },
      "execution_count": 7,
      "outputs": [
        {
          "output_type": "stream",
          "name": "stdout",
          "text": [
            "Link 1: 1601 (Mark Twain)\n",
            "Link: 1601 (Mark Twain)\n",
            "https://en.wikipedia.org/wiki/1601_(Mark_Twain)\n",
            "Summary: [Date: 1601.] Conversation, as it was by the Social Fireside, in the Time of the Tudors. or simply 1601 is the title of a short risqué squib by Mark Twain, first published anonymously in 1880, and finally acknowledged by the author in 1906.\n",
            "Written as an extract from the diary of an \"old man\", Queen Elizabeth I's \"cup-bearer\", the pamphlet purports to record a conversation between Elizabeth and several famous writers of the day. The topics discussed are scatological, notably flatulence, flatulence humor, and sex.\n",
            "1601 was, according to Edward Wagenknecht, \"the most famous piece of pornography in American literature.\" However, it was more ribaldry than pornography; its content was more in the nature of irreverent and vulgar comedic shock than obscenity for sexual arousal.\n",
            "Before the court decisions in the United States in 1959–1966 that legalized the publication of Lady Chatterley's Lover, Tropic of Cancer, and Fanny Hill, the piece continued to be considered unprintable. It was circulated clandestinely in privately printed limited editions.\n",
            "Link 2: 1884 United States presidential election\n",
            "Link: 1884 United States presidential election\n",
            "https://en.wikipedia.org/wiki/1884_United_States_presidential_election\n",
            "Summary: The 1884 United States presidential election was the 25th quadrennial presidential election, held on Tuesday, November 4, 1884. In the election, Governor Grover Cleveland of New York defeated Republican James G. Blaine of Maine. It was set apart by unpleasant mudslinging and shameful personal allegations that eclipsed substantive issues, such as civil administration change. Cleveland was the first Democrat elected president of the United States since James Buchanan in 1856, the first to hold office since Andrew Johnson left the White House in 1869, and the last to hold office until Woodrow Wilson, who began his first term in 1913. For this reason, 1884 is a significant election in U.S. political history, marking an interruption in the era when Republicans largely controlled the presidency between Reconstruction and the Great Depression.\n",
            "Cleveland won the presidential nomination on the second ballot of the 1884 Democratic National Convention. President Chester A. Arthur had acceded to the presidency in 1881 following the assassination of James A. Garfield, but he was unsuccessful in his bid for nomination to a full term. Blaine, who had served as Secretary of State under President Garfield, defeated Arthur and other candidates on the fourth ballot of the 1884 Republican National Convention. A group of reformist Republicans known as \"Mugwumps\" abandoned Blaine's candidacy, viewing him as corrupt. The campaign was marred by exceptional political acrimony and personal invective. Blaine's reputation for public corruption and his inadvertent last-minute alienation of Catholic voters proved decisive.\n",
            "In the election, Cleveland won 48.8 % of the nationwide popular vote and 219 electoral votes, carrying the Solid South and several key swing states. Blaine won 48.3% of the popular vote and 182 electoral votes. Cleveland won his home state by just 1,149 votes. Two third-party candidates, John St. John of the Prohibition Party and Benjamin Butler of the Greenback Party and the Anti-Monopoly Party, each won less than 2% of the popular vote. Blaine was the last former Secretary of State to be nominated by a major political party until the nomination of Hillary Clinton in 2016, while Cleveland became the only Democratic president between the end of the Civil War and the election of Woodrow Wilson in 1912, a span of almost 50 years. Blaine, similarly, also became the only Republican nominee in the 56-year period between 1860 and 1916 never to win a presidential election, and just one of three nominees from that party never to win the presidency in the 80-year span between 1856 and 1936.This election is the only time that both vice presidential candidates would die before the next election.\n",
            "Link 3: 1906 San Francisco earthquake\n",
            "Link: 1906 San Francisco earthquake\n",
            "https://en.wikipedia.org/wiki/1906_San_Francisco_earthquake\n",
            "Summary: At 05:12 Pacific Standard Time on Wednesday, April 18, 1906, the coast of Northern California was struck by a major earthquake with an estimated moment magnitude of 7.9 and a maximum Mercalli intensity of XI (Extreme). High-intensity shaking was felt from Eureka on the North Coast to the Salinas Valley, an agricultural region to the south of the San Francisco Bay Area. Devastating fires soon broke out in San Francisco and lasted for several days. More than 3,000 people died, and over 80% of the city was destroyed. The event is remembered as the deadliest earthquake in the history of the United States. The death toll remains the greatest loss of life from a natural disaster in California's history and high on the lists of American disasters.\n",
            "Link 4: A Connecticut Yankee (film)\n",
            "Link: A Connecticut Yankee (film)\n",
            "https://en.wikipedia.org/wiki/A_Connecticut_Yankee_(film)\n",
            "Summary: A Connecticut Yankee is a 1931 American Pre-Code film adaptation of Mark Twain's 1889 novel, A Connecticut Yankee in King Arthur's Court. It was directed by David Butler to a script by William M. Conselman, Owen Davis, and Jack Moffitt. It was produced by Fox Film Corporation (later 20th Century Fox), who had earlier produced the 1921 silent adaptation of the novel, A Connecticut Yankee in King Arthur's Court. A Connecticut Yankee is the first sound film adaptation of Twain's novel. It is unrelated to the 1927 musical also titled A Connecticut Yankee.\n",
            "As in The Wizard of Oz, many of the actors in the film play more than one role, a character in the real world and one in the dream world. The film stars Will Rogers as Hank Martin, an American accidental time traveler who finds himself in Camelot back in the days of King Arthur (William Farnum, a Fox star for many years). Myrna Loy and Brandon Hurst play the evil Morgan le Fay and Merlin, who must be overcome by Hank's modern technical knowledge, while Maureen O'Sullivan plays Alisande.\n",
            "The hero's name was changed from Hank Morgan to Hank Martin, possibly because the original name sounded too similar to that of actor Frank Morgan.\n",
            "A trailer for the film exists at the Library of Congress.\n",
            "Link 5: A Connecticut Yankee (musical)\n",
            "Link: A Connecticut Yankee (musical)\n",
            "https://en.wikipedia.org/wiki/A_Connecticut_Yankee_(musical)\n",
            "Summary: A Connecticut Yankee is a musical based on the 1889 novel A Connecticut Yankee in King Arthur's Court by American writer Mark Twain. Like most adaptations of the Twain novel, it focuses on the lighter aspects of the story. The music was written by Richard Rodgers, the lyrics by Lorenz Hart, and the book by Herbert Fields. It was produced by Lew Fields and Lyle D. Andrews. It enjoyed an original run on Broadway in 1927 of 421 performances and a number of revivals.\n",
            "The 1931 film of the same name starring Will Rogers was not adapted from this musical, nor was the 1949 musical film A Connecticut Yankee in King Arthur's Court, which starred Bing Crosby. The Rodgers and Hart Connecticut Yankee, like many of the team's earlier musicals, has never been filmed for the big screen though a scene was staged for the 1948 biographical movie of the lives of Richard Rodgers and Lorenz Hart, Words and Music.\n",
            "Link 6: A Connecticut Yankee in King Arthur's Court\n",
            "Link: A Connecticut Yankee in King Arthur's Court\n",
            "https://en.wikipedia.org/wiki/A_Connecticut_Yankee_in_King_Arthur%27s_Court\n",
            "Summary: A Connecticut Yankee in King Arthur's Court is an 1889 novel by American humorist and writer Mark Twain. The book was originally titled A Yankee in King Arthur's Court. Some early editions are titled A Yankee at the Court of King Arthur.\n",
            "In the book, a Yankee engineer from Connecticut named Hank Morgan receives a severe blow to the head and is somehow transported in time and space to England during the reign of King Arthur. After some initial confusion and his capture by one of Arthur's knights, Hank realizes that he is actually in the past, and he uses his knowledge to make people believe that he is a powerful magician. He becomes a rival of Merlin, who appears to be little more than a fraud, and gains the trust of King Arthur. Hank attempts to modernize the past in order to make people's lives better. Hank is disgusted by how the Barons treat the commoners, and tries to implement democratic reforms. But in the end, he is unable to prevent the death of Arthur. Hank declares England a republic, but the Catholic Church, growing fearful of his power, issues an interdict against him.\n",
            "Twain wrote the book as a burlesque of Romantic notions of chivalry after being inspired by a dream in which he was a knight himself, severely inconvenienced by the weight and cumbersome nature of his armor.  It is a satire of feudalism and monarchy that also celebrates homespun ingenuity and democratic values while questioning the for-profit ideals of capitalism and outcomes of the Industrial Revolution. Twain strongly praises the French Revolution, defending the Reign of Terror as a minor problem compared to the monarchy. It is among several works by Twain and his contemporaries that mark the transition from the Gilded Age to the Progressive Era of socioeconomic discourse. It is often cited as a formative example of the fledgling time travel genre.\n",
            "Link 7: A Connecticut Yankee in King Arthur's Court (1921 film)\n",
            "Link: A Connecticut Yankee in King Arthur's Court (1921 film)\n",
            "https://en.wikipedia.org/wiki/A_Connecticut_Yankee_in_King_Arthur%27s_Court_(1921_film)\n",
            "Summary: A Connecticut Yankee in King Arthur's Court is a 1921 American silent film adaptation of Mark Twain's 1889 novel A Connecticut Yankee in King Arthur's Court. The film was produced by the Fox Film Corporation (later 20th Century Fox) and directed by Emmett J. Flynn based on a screenplay by Bernard McConville. It is notable as the first film adaptation of Twain's novel and as the second film about time travel to the past (after The Ghost of Slumber Mountain).\n",
            "The film stars Harry Myers as the titular Yankee Martin Cavendish. After reading Twain's novel, Cavendish dreams that he, like Twain's protagonist Henry Morgan, is transported back to the time of King Arthur (Charles Clary), where he must use modern know-how to outwit the king's foes Morgan le Fay (Rosemary Theby) and Merlin (William V. Mong). The screenplay modernizes the novel with many contemporary references, including mentions of Ford Model Ts, the Volstead Act, and the Battle of the Argonne Forest. The film was popular, and its success likely encouraged Fox to produce the later sound film adaptation of the novel, A Connecticut Yankee. According to author Barbara Leaming, the film's hanging scene inspired Tom Hepburn, brother of Katharine Hepburn, to commit suicide in 1921.\n",
            "The film is incomplete in the Library of Congress, and only reels 2, 4 and 7 survive.\n",
            "Link 8: A Connecticut Yankee in King Arthur's Court (1949 film)\n",
            "Link: A Connecticut Yankee in King Arthur's Court (1949 film)\n",
            "https://en.wikipedia.org/wiki/A_Connecticut_Yankee_in_King_Arthur%27s_Court_(1949_film)\n",
            "Summary: A Connecticut Yankee in King Arthur's Court is a 1949 American comedy musical film directed by Tay Garnett and starring Bing Crosby, Rhonda Fleming, Sir Cedric Hardwicke and William Bendix.\n",
            "Based on the novel A Connecticut Yankee in King Arthur's Court (1889) by Mark Twain, the film is about a mechanic in 1912 who bumps his head and finds himself in Arthurian Britain in AD 528, where he is befriended by a knight and gains power by judicious use of technology. When he falls in love with the King's niece, her fiancé Sir Lancelot takes exception, and when he meddles in the politics of the kingdom, trouble ensues.\n",
            "Filmed from October to December 1947, A Connecticut Yankee in King Arthur's Court was released on April 22, 1949 and distributed by Paramount Pictures. The film was a popular success and became one of the highlight films of 1949.\n",
            "Link 9: A Dog's Tale\n",
            "Link: A Dog's Tale\n",
            "https://en.wikipedia.org/wiki/A_Dog%27s_Tale\n",
            "Summary: \"A Dog's Tale\" is a short story written by Mark Twain.  It first appeared in the December 1903 issue of Harper's Magazine.  In January of the following year it was extracted into a stand-alone pamphlet published for the National Anti-Vivisection Society.  Still later in 1904 it was expanded into a book published by Harper & Brothers.\n",
            "Link 10: A Double Barrelled Detective Story\n",
            "Link: A Double Barrelled Detective Story\n",
            "https://en.wikipedia.org/wiki/A_Double_Barrelled_Detective_Story\n",
            "Summary: A Double Barreled Detective Story is a short story/novelette by Mark Twain (Samuel Clemens), in which Sherlock Holmes finds himself in the American west.\n",
            "Link 11: A Horse's Tale\n",
            "Link: A Horse's Tale\n",
            "https://en.wikipedia.org/wiki/A_Horse%27s_Tale\n",
            "Summary: A Horse's Tale is a 1906 novel written by American author Mark Twain (Samuel Clemens), written partially in the voice of Soldier Boy, who is Buffalo Bill's favorite horse, at a fictional frontier outpost with the U.S. 7th Cavalry.\n",
            "Link 12: A Kid in King Arthur's Court\n",
            "Link: A Kid in King Arthur's Court\n",
            "https://en.wikipedia.org/wiki/A_Kid_in_King_Arthur%27s_Court\n",
            "Summary: A Kid in King Arthur's Court is a 1995 adventure comedy fantasy film directed by Michael Gottlieb (in his final directorial film before his death in 2014). It is loosely based on the Mark Twain 1889 novel A Connecticut Yankee in King Arthur's Court, previously filmed by Disney as Unidentified Flying Oddball in 1978. The film stars Thomas Ian Nicholas, Joss Ackland and Art Malik, and is notable for being one the first film roles of Daniel Craig and Kate Winslet.\n",
            "Link 13: A Knight in Camelot\n",
            "Link: A Knight in Camelot\n",
            "https://en.wikipedia.org/wiki/A_Knight_in_Camelot\n",
            "Summary: A Knight in Camelot is a 1998 television film starring Whoopi Goldberg and Michael York, directed by Roger Young, and loosely based on Mark Twain's 1889 novel A Connecticut Yankee in King Arthur's Court.  The film was released as part of The Wonderful World of Disney anthology series that featured numerous productions released by the studio.\n",
            "Filming took place in the county of Northumberland, England, specifically Alnwick Castle (where a 1979 Disney iteration of the story had been filmed) as well as Budapest in Hungary.\n",
            "Link 14: A Literary Nightmare\n",
            "Link: A Literary Nightmare\n",
            "https://en.wikipedia.org/wiki/A_Literary_Nightmare\n",
            "Summary: \"A Literary Nightmare\" is a short story written by Mark Twain in 1876. The story is about Twain's encounter with an earworm, or virus-like jingle, and how it occupies his mind for several days until he manages to \"infect\" another person, thus removing the jingle from his mind. The story was also later published under the name \"Punch, Brothers, Punch!\"\n",
            "Link 15: A Modern Twain Story: The Prince and the Pauper\n",
            "Link: A Modern Twain Story: The Prince and the Pauper\n",
            "https://en.wikipedia.org/wiki/A_Modern_Twain_Story:_The_Prince_and_the_Pauper\n",
            "Summary: A Modern Twain Story: The Prince and the Pauper also known as The Prince and the Pauper: The Movie (or simply The Prince and the Pauper) is a 2007 film directed by James Quattrochi and starring Dylan and Cole Sprouse. The plot is based on the 1881 novel by Mark Twain, adapted by Amanda Moresco.\n",
            "Link 16: A Murder, a Mystery, and a Marriage\n",
            "Link: A Murder, a Mystery, and a Marriage\n",
            "https://en.wikipedia.org/wiki/A_Murder,_a_Mystery,_and_a_Marriage\n",
            "Summary: \"A Murder, a Mystery, and a Marriage\" is a short story written by Mark Twain in 1876. It was published in a very small, unauthorized edition in 1945, with an authorized edition not appearing until 2001.\n",
            "Link 17: A Tramp Abroad\n",
            "Link: A Tramp Abroad\n",
            "https://en.wikipedia.org/wiki/A_Tramp_Abroad\n",
            "Summary: A Tramp Abroad is a work of travel literature, including a mixture of autobiography and fictional events, by American author Mark Twain, published in 1880. The book details a journey by the author, with his friend Harris (a character created for the book, and based on his closest friend, Joseph Twichell), through central and southern Europe. While the stated goal of the journey is to walk most of the way, the men find themselves using other forms of transport as they traverse the continent. The book is the fourth  of Mark Twain's six travel books published during his lifetime and is often thought to be an unofficial sequel to the first one, The Innocents Abroad (1869).\n",
            "As the two men make their way through Germany, the Alps, and Italy, they encounter situations made all the more humorous by their reactions to them. The narrator (Twain) plays the part of the American tourist of the time, believing that he understands all that he sees, but in reality understanding none of it.\n",
            "Link 18: Abolitionism in the United States\n",
            "Link: Abolitionism in the United States\n",
            "https://en.wikipedia.org/wiki/Abolitionism_in_the_United_States\n",
            "Summary: In the United States, abolitionism, the movement that sought to end slavery in the country, was active from the colonial era until the American Civil War, the end of which brought about the abolition of American slavery, except as punishment for a crime, through the Thirteenth Amendment to the United States Constitution (ratified 1865).\n",
            "The anti-slavery movement originated during the Age of Enlightenment, focused on ending the transatlantic slave trade. In Colonial America, a few German Quakers issued the 1688 Germantown Quaker Petition Against Slavery, which marked the beginning of the American abolitionist movement. Before the Revolutionary War, evangelical colonists were the primary advocates for the opposition to slavery and the slave trade, doing so on the basis of humanitarian ethics. Still, others such as James Oglethorpe, the founder of the colony of Georgia, also retained political motivations for the removal of slavery. Prohibiting slavery through the 1735 Georgia Experiment in part to prevent Spanish partnership with Georgia's runaway slaves, Oglethorpe eventually revoked the act in 1750 after the Spanish's defeat in the Battle of Bloody Marsh eight years prior.\n",
            "During the Revolutionary era, all states abolished the international slave trade, but South Carolina reversed its decision. Between the Revolutionary War and 1804, laws, constitutions, or court decisions in each of the Northern states provided for the gradual or immediate abolition of slavery. No Southern state adopted similar policies. In 1807, Congress made the importation of slaves a crime, effective January 1, 1808, which was as soon as Article I, section 9 of the Constitution allowed. A small but dedicated group, under leaders such as William Lloyd Garrison and Frederick Douglass, agitated for abolition in the mid-19th century.  John Brown became an advocate and militia leader in attempting to end slavery by force of arms. In the Civil War, immediate emancipation became a war goal for the Union in 1861 and was fully achieved in 1865.\n",
            "Link 19: About.com\n",
            "Link: About.com\n",
            "https://en.wikipedia.org/wiki/Dotdash_Meredith\n",
            "Summary: Dotdash Meredith (formerly The Mining Company, About.com and Dotdash) is an American digital media company based in New York City. The company publishes online articles and videos about various subjects across categories including health, home, food, finance, tech, beauty, lifestyle, travel, and education. It operates brands including Verywell, Investopedia, People, The Balance, Byrdie, MyDomaine, Brides, The Spruce, Simply Recipes, Serious Eats, Liquor.com, Lifewire, TripSavvy, TreeHugger, and ThoughtCo. In August 2012, About.com became a property of IAC, owner of Ask.com and numerous other online brands, and its revenue is generated by advertising. In addition to its Manhattan headquarters, Dotdash Meredith maintains offices elsewhere in the New York metropolitan area, as well as in Des Moines, Iowa, and Birmingham, Alabama.\n",
            "Link 20: Abraham Lincoln\n",
            "Link: Abraham Lincoln\n",
            "https://en.wikipedia.org/wiki/Abraham_Lincoln\n",
            "Summary: Abraham Lincoln ( LING-kən; February 12, 1809 – April 15, 1865) was an American lawyer, politician, and statesman who served as the 16th president of the United States from 1861 until his assassination in 1865. Lincoln led the United States through the American Civil War, defending the nation as a constitutional union, defeating the insurgent Confederacy, playing a major role in the abolition of slavery, expanding the power of the federal government, and modernizing the U.S. economy.\n",
            "Lincoln was born into poverty in a log cabin in Kentucky and was raised on the frontier, mainly in Indiana. He was self-educated and became a lawyer, Whig Party leader, Illinois state legislator, and U.S. representative from Illinois. In 1849, he returned to his successful law practice in Springfield, Illinois. In 1854, angered by the Kansas–Nebraska Act, which opened the territories to slavery, he re-entered politics. He soon became a leader of the new Republican Party. He reached a national audience in the 1858 Senate campaign debates against Stephen A. Douglas. Lincoln ran for president in 1860, sweeping the North to gain victory. Pro-slavery elements in the South viewed his election as a threat to slavery, and Southern states began seceding from the nation. They formed the Confederate States of America, which began seizing federal military bases in the South. A little over one month after Lincoln assumed the presidency, Confederate forces attacked Fort Sumter, a U.S. fort in South Carolina. Following the bombardment, Lincoln mobilized forces to suppress the rebellion and restore the union.\n",
            "Lincoln, a moderate Republican, had to navigate a contentious array of factions with friends and opponents from both the Democratic and Republican parties. His allies, the War Democrats and the Radical Republicans, demanded harsh treatment of the Southern Confederates. He managed the factions by exploiting their mutual enmity, carefully distributing political patronage, and by appealing to the American people. Anti-war Democrats (called \"Copperheads\") despised Lincoln, and some irreconcilable pro-Confederate elements went so far as to plot his assassination. His Gettysburg Address came to be seen as one of the greatest and most influential statements of American national purpose. Lincoln closely supervised the strategy and tactics in the war effort, including the selection of generals, and implemented a naval blockade of the South's trade. He suspended habeas corpus in Maryland and elsewhere, and he averted war with Britain by defusing the Trent Affair. In 1863, he issued the Emancipation Proclamation, which declared the slaves in the states \"in rebellion\" to be free. It also directed the Army and Navy to \"recognize and maintain the freedom of said persons\" and to receive them \"into the armed service of the United States.\" Lincoln pressured border states to outlaw slavery, and he promoted the Thirteenth Amendment to the U.S. Constitution, which abolished slavery, except as punishment for a crime.\n",
            "Lincoln managed his own successful re-election campaign. He sought to heal the war-torn nation through reconciliation. On April 14, 1865, just five days after the Confederate surrender at Appomattox, he was attending a play at Ford's Theatre in Washington, D.C., with his wife, Mary, when he was fatally shot by Confederate sympathizer John Wilkes Booth. Lincoln is remembered as a martyr and a national hero for his wartime leadership and for his efforts to preserve the Union and abolish slavery. Lincoln is often ranked in both popular and scholarly polls as the greatest president in American history.\n",
            "20\n",
            "['https://en.wikipedia.org/wiki/1601_(Mark_Twain)', 'https://en.wikipedia.org/wiki/1884_United_States_presidential_election', 'https://en.wikipedia.org/wiki/1906_San_Francisco_earthquake', 'https://en.wikipedia.org/wiki/A_Connecticut_Yankee_(film)', 'https://en.wikipedia.org/wiki/A_Connecticut_Yankee_(musical)', 'https://en.wikipedia.org/wiki/A_Connecticut_Yankee_in_King_Arthur%27s_Court', 'https://en.wikipedia.org/wiki/A_Connecticut_Yankee_in_King_Arthur%27s_Court_(1921_film)', 'https://en.wikipedia.org/wiki/A_Connecticut_Yankee_in_King_Arthur%27s_Court_(1949_film)', 'https://en.wikipedia.org/wiki/A_Dog%27s_Tale', 'https://en.wikipedia.org/wiki/A_Double_Barrelled_Detective_Story', 'https://en.wikipedia.org/wiki/A_Horse%27s_Tale', 'https://en.wikipedia.org/wiki/A_Kid_in_King_Arthur%27s_Court', 'https://en.wikipedia.org/wiki/A_Knight_in_Camelot', 'https://en.wikipedia.org/wiki/A_Literary_Nightmare', 'https://en.wikipedia.org/wiki/A_Modern_Twain_Story:_The_Prince_and_the_Pauper', 'https://en.wikipedia.org/wiki/A_Murder,_a_Mystery,_and_a_Marriage', 'https://en.wikipedia.org/wiki/A_Tramp_Abroad', 'https://en.wikipedia.org/wiki/Abolitionism_in_the_United_States', 'https://en.wikipedia.org/wiki/Dotdash_Meredith', 'https://en.wikipedia.org/wiki/Abraham_Lincoln']\n"
          ]
        }
      ]
    },
    {
      "cell_type": "markdown",
      "source": [
        "## Writing the citataions page"
      ],
      "metadata": {
        "id": "JG3-B7NPG8Td"
      }
    },
    {
      "cell_type": "code",
      "source": [
        "from datetime import datetime\n",
        "\n",
        "# Get all the links on the page\n",
        "links = page.links\n",
        "\n",
        "# Prepare a file to store the outputs\n",
        "fname = filename+\"_citations.txt\"\n",
        "with open(fname, \"w\") as file:\n",
        "    # Write the citation header\n",
        "    file.write(f\"Citation. In Wikipedia, The Free Encyclopedia. Pages retrieved from the following Wikipedia contributors on {datetime.now()}\\n\")\n",
        "\n",
        "    # Initialize a counter\n",
        "    counter = 0\n",
        "    urls = []\n",
        "\n",
        "    # Loop through the links and collect summaries\n",
        "    for link in links:\n",
        "        try:\n",
        "            counter += 1\n",
        "            page_detail = wiki.page(link)\n",
        "            summary = page_detail.summary\n",
        "\n",
        "            # Print details to the file\n",
        "            file.write(f\"Link {counter}: {link}\\n\")\n",
        "            file.write(f\"Link: {link}\\n\")\n",
        "            file.write(f\"{page_detail.fullurl}\\n\")\n",
        "            urls.append(page_detail.fullurl)\n",
        "            file.write(f\"Summary: {summary}\\n\")\n",
        "\n",
        "            # Limit to 20 pages to avoid excessive scraping\n",
        "            if counter == 20:\n",
        "                break\n",
        "        except wiki.exceptions.PageError:\n",
        "            # Ignore pages that don't exist\n",
        "            continue\n",
        "\n",
        "    # Write the total counts and URLs at the end\n",
        "    file.write(f\"Total links processed: {counter}\\n\")\n",
        "    file.write(\"URLs:\\n\")\n",
        "    file.write(\"\\n\".join(urls))\n",
        "\n",
        "# Note: Ensure the topic you specify corresponds to a valid Wikipedia article.\n"
      ],
      "metadata": {
        "id": "hNZEJjHdGWlN"
      },
      "execution_count": 18,
      "outputs": []
    },
    {
      "cell_type": "code",
      "source": [
        "urls"
      ],
      "metadata": {
        "colab": {
          "base_uri": "https://localhost:8080/"
        },
        "id": "Fq5H3nJNBwfW",
        "outputId": "99186d10-025f-4b07-da24-031746bf12fe"
      },
      "execution_count": 19,
      "outputs": [
        {
          "output_type": "execute_result",
          "data": {
            "text/plain": [
              "['https://en.wikipedia.org/wiki/1601_(Mark_Twain)',\n",
              " 'https://en.wikipedia.org/wiki/1884_United_States_presidential_election',\n",
              " 'https://en.wikipedia.org/wiki/1906_San_Francisco_earthquake',\n",
              " 'https://en.wikipedia.org/wiki/A_Connecticut_Yankee_(film)',\n",
              " 'https://en.wikipedia.org/wiki/A_Connecticut_Yankee_(musical)',\n",
              " 'https://en.wikipedia.org/wiki/A_Connecticut_Yankee_in_King_Arthur%27s_Court',\n",
              " 'https://en.wikipedia.org/wiki/A_Connecticut_Yankee_in_King_Arthur%27s_Court_(1921_film)',\n",
              " 'https://en.wikipedia.org/wiki/A_Connecticut_Yankee_in_King_Arthur%27s_Court_(1949_film)',\n",
              " 'https://en.wikipedia.org/wiki/A_Dog%27s_Tale',\n",
              " 'https://en.wikipedia.org/wiki/A_Double_Barrelled_Detective_Story',\n",
              " 'https://en.wikipedia.org/wiki/A_Horse%27s_Tale',\n",
              " 'https://en.wikipedia.org/wiki/A_Kid_in_King_Arthur%27s_Court',\n",
              " 'https://en.wikipedia.org/wiki/A_Knight_in_Camelot',\n",
              " 'https://en.wikipedia.org/wiki/A_Literary_Nightmare',\n",
              " 'https://en.wikipedia.org/wiki/A_Modern_Twain_Story:_The_Prince_and_the_Pauper',\n",
              " 'https://en.wikipedia.org/wiki/A_Murder,_a_Mystery,_and_a_Marriage',\n",
              " 'https://en.wikipedia.org/wiki/A_Tramp_Abroad',\n",
              " 'https://en.wikipedia.org/wiki/Abolitionism_in_the_United_States',\n",
              " 'https://en.wikipedia.org/wiki/Dotdash_Meredith',\n",
              " 'https://en.wikipedia.org/wiki/Abraham_Lincoln']"
            ]
          },
          "metadata": {},
          "execution_count": 19
        }
      ]
    },
    {
      "cell_type": "code",
      "source": [
        "# Write URLs to a file\n",
        "ufname = filename+\"_urls.txt\"\n",
        "with open(ufname, 'w') as file:\n",
        "    for url in urls:\n",
        "        file.write(url + '\\n')\n",
        "\n",
        "print(\"URLs have been written to urls.txt\")"
      ],
      "metadata": {
        "colab": {
          "base_uri": "https://localhost:8080/"
        },
        "id": "1DiYrEf7JA__",
        "outputId": "a7b2723b-010f-43b4-a4ae-71732f5ad310"
      },
      "execution_count": 20,
      "outputs": [
        {
          "output_type": "stream",
          "name": "stdout",
          "text": [
            "URLs have been written to urls.txt\n"
          ]
        }
      ]
    },
    {
      "cell_type": "code",
      "source": [
        "# Read URLs from the file\n",
        "with open(ufname, 'r') as file:\n",
        "    urls = [line.strip() for line in file]\n",
        "\n",
        "# Display the URLs\n",
        "print(\"Read URLs:\")\n",
        "for url in urls:\n",
        "    print(url)"
      ],
      "metadata": {
        "id": "oxxO5wLzJGCY",
        "outputId": "fb6377d7-ce04-4cf4-e3b1-b4653d4962ea",
        "colab": {
          "base_uri": "https://localhost:8080/"
        }
      },
      "execution_count": 22,
      "outputs": [
        {
          "output_type": "stream",
          "name": "stdout",
          "text": [
            "Read URLs:\n",
            "https://en.wikipedia.org/wiki/1601_(Mark_Twain)\n",
            "https://en.wikipedia.org/wiki/1884_United_States_presidential_election\n",
            "https://en.wikipedia.org/wiki/1906_San_Francisco_earthquake\n",
            "https://en.wikipedia.org/wiki/A_Connecticut_Yankee_(film)\n",
            "https://en.wikipedia.org/wiki/A_Connecticut_Yankee_(musical)\n",
            "https://en.wikipedia.org/wiki/A_Connecticut_Yankee_in_King_Arthur%27s_Court\n",
            "https://en.wikipedia.org/wiki/A_Connecticut_Yankee_in_King_Arthur%27s_Court_(1921_film)\n",
            "https://en.wikipedia.org/wiki/A_Connecticut_Yankee_in_King_Arthur%27s_Court_(1949_film)\n",
            "https://en.wikipedia.org/wiki/A_Dog%27s_Tale\n",
            "https://en.wikipedia.org/wiki/A_Double_Barrelled_Detective_Story\n",
            "https://en.wikipedia.org/wiki/A_Horse%27s_Tale\n",
            "https://en.wikipedia.org/wiki/A_Kid_in_King_Arthur%27s_Court\n",
            "https://en.wikipedia.org/wiki/A_Knight_in_Camelot\n",
            "https://en.wikipedia.org/wiki/A_Literary_Nightmare\n",
            "https://en.wikipedia.org/wiki/A_Modern_Twain_Story:_The_Prince_and_the_Pauper\n",
            "https://en.wikipedia.org/wiki/A_Murder,_a_Mystery,_and_a_Marriage\n",
            "https://en.wikipedia.org/wiki/A_Tramp_Abroad\n",
            "https://en.wikipedia.org/wiki/Abolitionism_in_the_United_States\n",
            "https://en.wikipedia.org/wiki/Dotdash_Meredith\n",
            "https://en.wikipedia.org/wiki/Abraham_Lincoln\n"
          ]
        }
      ]
    }
  ]
}