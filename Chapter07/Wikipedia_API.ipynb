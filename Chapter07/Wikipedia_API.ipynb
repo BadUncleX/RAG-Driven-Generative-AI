{
  "nbformat": 4,
  "nbformat_minor": 0,
  "metadata": {
    "colab": {
      "provenance": [],
      "authorship_tag": "ABX9TyPYely2gloLRjkCuG0JiZen"
    },
    "kernelspec": {
      "name": "python3",
      "display_name": "Python 3"
    },
    "language_info": {
      "name": "python"
    }
  },
  "cells": [
    {
      "cell_type": "markdown",
      "source": [
        "# Wikepedia API\n",
        "\n",
        "Copyright 2024, Denis Rothman\n",
        "\n",
        "**Summary:**\n",
        "This Python shows how to interact with the Wikipedia API to retrieve information about specified topics, tokenize the retrieved text, and manage citations from Wikipedia articles.\n",
        "\n",
        "**Description of Functions and Sections**\n",
        "\n",
        "#### Installing the environment\n",
        "- **Installation of Wikipedia-API**: This section ensures that the `wikipediaapi` library is installed.\n",
        "\n",
        "#### Functions\n",
        "- **Tokenization (`nb_tokens`)**: This function takes a string of text as input and returns the number of tokens in the text using the NLTK library for sophisticated tokenization, which includes punctuation.\n",
        "\n",
        "#### Retrieving Wikipedia Metadata\n",
        "- **Creating an instance**: Sets up an instance of the Wikipedia API with a specified language and user agent to start retrieving data.\n",
        "- **Defining root page**: Specifies the main topic and filename associated with the Wikipedia page of interest.\n",
        "- **Root page summary**: Retrieves the summary of the specified Wikipedia page, checks if the page exists, and prints its summary.\n",
        "- **URLs and Citations**: Displays the full URL of the Wikipedia page.\n",
        "- **Links in the page**: This subsection is intended to process and print the links found within the page.\n",
        "\n",
        "#### Writing the citations and URLs pages\n",
        "- **Management of citations**: Generates texts file containing citations for the links retrieved from a Wikipedia page and their urls.\n"
      ],
      "metadata": {
        "id": "_YmBvHiNBFN-"
      }
    },
    {
      "cell_type": "markdown",
      "source": [
        "[Wikipedia API documentation](https://pypi.org/project/Wikipedia-API/)\n",
        "\n",
        "The Citations of the Wikipedia pages are in the `Chapter10/citations` directory of the repository.\n",
        "\n",
        "For more on Wikipedia citations: [Citations](https://en.wikipedia.org/w/index.php?title=Special:CiteThisPage&page=Mark_Twain&id=1231834317&wpFormIdentifier=titleform)\n"
      ],
      "metadata": {
        "id": "noBD6n8g3C1P"
      }
    },
    {
      "cell_type": "markdown",
      "source": [
        "# Installing the environment"
      ],
      "metadata": {
        "id": "FmFum0WEwi6b"
      }
    },
    {
      "cell_type": "code",
      "source": [
        "try:\n",
        "  import wikipediaapi\n",
        "except:\n",
        "  !pip install Wikipedia-API==0.6.0\n",
        "  import wikipediaapi"
      ],
      "metadata": {
        "id": "1hJjyOH5wk5F"
      },
      "execution_count": 8,
      "outputs": []
    },
    {
      "cell_type": "markdown",
      "source": [
        "## Functions"
      ],
      "metadata": {
        "id": "ww1rD8PyKbID"
      }
    },
    {
      "cell_type": "code",
      "source": [
        "import nltk\n",
        "from nltk.tokenize import word_tokenize\n",
        "\n",
        "# Ensure you have the necessary NLTK resource downloaded\n",
        "nltk.download('punkt')\n",
        "\n",
        "def nb_tokens(text):\n",
        "    # More sophisticated tokenization which includes punctuation\n",
        "    tokens = word_tokenize(text)\n",
        "    return len(tokens)"
      ],
      "metadata": {
        "colab": {
          "base_uri": "https://localhost:8080/"
        },
        "id": "HykBJUwHKjB4",
        "outputId": "3a2eba7e-b6d5-4f3c-a8d1-d1b3a1aa9e7b"
      },
      "execution_count": 9,
      "outputs": [
        {
          "output_type": "stream",
          "name": "stderr",
          "text": [
            "[nltk_data] Downloading package punkt to /root/nltk_data...\n",
            "[nltk_data]   Package punkt is already up-to-date!\n"
          ]
        }
      ]
    },
    {
      "cell_type": "markdown",
      "source": [
        "# Retrieving Wikipedia Data and Metadata"
      ],
      "metadata": {
        "id": "j0esGhE32dah"
      }
    },
    {
      "cell_type": "markdown",
      "source": [
        "## Creating an instance"
      ],
      "metadata": {
        "id": "6jJrABGr-z4c"
      }
    },
    {
      "cell_type": "code",
      "source": [
        "# Create an instance of the Wikipedia API with a detailed user agent\n",
        "wiki = wikipediaapi.Wikipedia(\n",
        "    language='en',\n",
        "    user_agent='Knowledge/1.0 (Denis.Rothman76@gmail.com)'\n",
        ")"
      ],
      "metadata": {
        "id": "FjWrcjUd48wj"
      },
      "execution_count": 10,
      "outputs": []
    },
    {
      "cell_type": "markdown",
      "source": [
        "## Defining root page"
      ],
      "metadata": {
        "id": "J3vhm24x1-jQ"
      }
    },
    {
      "cell_type": "code",
      "source": [
        "topic=\"Alan Turing\"     #topic\n",
        "filename=\"AlanTuring\"   #filename for saving the outputs\n",
        "maxl=25                 #maximum number of links to retrieve. This value was set to 100 for the Alan Turing URL dataset"
      ],
      "metadata": {
        "id": "X3bX7DUwQBqo"
      },
      "execution_count": 11,
      "outputs": []
    },
    {
      "cell_type": "markdown",
      "source": [
        "## Root page summary"
      ],
      "metadata": {
        "id": "7r5WPI-3-xyb"
      }
    },
    {
      "cell_type": "code",
      "source": [
        "import textwrap # to wrap the text and display in paragraphs\n",
        "page=wiki.page(topic)\n",
        "\n",
        "if page.exists()==True:\n",
        "  print(\"Page - Exists: %s\" % page.exists())\n",
        "  summary=page.summary\n",
        "  # number of tokens)\n",
        "  nbt=nb_tokens(summary)\n",
        "  print(\"Number of tokens: \",nbt)\n",
        "  # Use textwrap to wrap the summary text to a specified width, e.g., 70 characters\n",
        "  wrapped_text = textwrap.fill(summary, width=60)\n",
        "  # Print the wrapped summary text\n",
        "  print(wrapped_text)\n",
        "else:\n",
        "  print(\"Page does not exist\")"
      ],
      "metadata": {
        "id": "qiXFmpw98Rkj",
        "colab": {
          "base_uri": "https://localhost:8080/"
        },
        "outputId": "885696f2-c253-4828-d31a-cbadbc93b368"
      },
      "execution_count": 12,
      "outputs": [
        {
          "output_type": "stream",
          "name": "stdout",
          "text": [
            "Page - Exists: True\n",
            "Number of tokens:  531\n",
            "Alan Mathison Turing  (; 23 June 1912 – 7 June 1954) was an\n",
            "English mathematician, computer scientist, logician,\n",
            "cryptanalyst, philosopher and theoretical biologist. He was\n",
            "highly influential in the development of theoretical\n",
            "computer science, providing a formalisation of the concepts\n",
            "of algorithm and computation with the Turing machine, which\n",
            "can be considered a model of a general-purpose computer.\n",
            "Turing is widely considered to be the father of theoretical\n",
            "computer science. Born in London, Turing was raised in\n",
            "southern England. He graduated in maths from King's College,\n",
            "Cambridge, and in 1938, earned a maths PhD from Princeton\n",
            "University. During the Second World War, Turing worked for\n",
            "the Government Code and Cypher School at Bletchley Park,\n",
            "Britain's codebreaking centre that produced Ultra\n",
            "intelligence. He led Hut 8, the section responsible for\n",
            "German naval cryptanalysis. Turing devised techniques for\n",
            "speeding the breaking of German ciphers, including\n",
            "improvements to the pre-war Polish bomba method, an\n",
            "electromechanical machine that could find settings for the\n",
            "Enigma machine. He played a crucial role in cracking\n",
            "intercepted messages that enabled the Allies to defeat the\n",
            "Axis powers in many crucial engagements, including the\n",
            "Battle of the Atlantic. After the war, Turing worked at the\n",
            "National Physical Laboratory, where he designed the\n",
            "Automatic Computing Engine, one of the first designs for a\n",
            "stored-program computer. In 1948, Turing joined Max Newman's\n",
            "Computing Machine Laboratory at the Victoria University of\n",
            "Manchester, where he helped develop the Manchester computers\n",
            "and became interested in mathematical biology. Turing wrote\n",
            "on the chemical basis of morphogenesis and predicted\n",
            "oscillating chemical reactions such as the\n",
            "Belousov–Zhabotinsky reaction, first observed in the 1960s.\n",
            "Despite these accomplishments, he was never fully recognised\n",
            "during his lifetime because much of his work was covered by\n",
            "the Official Secrets Act. In 1952, Turing was prosecuted for\n",
            "homosexual acts. He accepted hormone treatment, a procedure\n",
            "commonly referred to as chemical castration, as an\n",
            "alternative to prison. Turing died on 7 June 1954, aged 41,\n",
            "from cyanide poisoning. An inquest determined his death as\n",
            "suicide, but the evidence is also consistent with accidental\n",
            "poisoning.  Following a campaign in 2009, British prime\n",
            "minister Gordon Brown made an official public apology for\n",
            "\"the appalling way [Turing] was treated\". Queen Elizabeth II\n",
            "granted a pardon in 2013. The term \"Alan Turing law\" is used\n",
            "informally to refer to a 2017 law in the UK that\n",
            "retroactively pardoned men cautioned or convicted under\n",
            "historical legislation that outlawed homosexual acts. Turing\n",
            "has an extensive legacy with statues and many things named\n",
            "after him, including an annual award for computer science\n",
            "innovations. He appears on the current Bank of England £50\n",
            "note, which was released on 23 June 2021 to coincide with\n",
            "his birthday. A 2019 BBC series, as voted by the audience,\n",
            "named Turing the greatest person of the 20th century.\n"
          ]
        }
      ]
    },
    {
      "cell_type": "markdown",
      "source": [
        "## URLs and Citations"
      ],
      "metadata": {
        "id": "PhsVk6k1omnQ"
      }
    },
    {
      "cell_type": "code",
      "source": [
        "print(page.fullurl)"
      ],
      "metadata": {
        "colab": {
          "base_uri": "https://localhost:8080/"
        },
        "id": "OQ9QXHleoLJ7",
        "outputId": "40de3bfa-8dbc-44e5-b018-fa265ef14817"
      },
      "execution_count": 13,
      "outputs": [
        {
          "output_type": "stream",
          "name": "stdout",
          "text": [
            "https://en.wikipedia.org/wiki/Alan_Turing\n"
          ]
        }
      ]
    },
    {
      "cell_type": "markdown",
      "source": [
        "## Links in the page"
      ],
      "metadata": {
        "id": "9jIllSQhG4Gn"
      }
    },
    {
      "cell_type": "code",
      "source": [
        "# prompt: read the program up to this cell. Then retrieve all the links for this page: print the link and a summary of each link\n",
        "\n",
        "# Get all the links on the page\n",
        "links = page.links\n",
        "\n",
        "# Print the link and a summary of each link\n",
        "urls = []\n",
        "counter=0\n",
        "for link in links:\n",
        "  try:\n",
        "    counter+=1\n",
        "    print(f\"Link {counter}: {link}\")\n",
        "    summary = wiki.page(link).summary\n",
        "    print(f\"Link: {link}\")\n",
        "    print(wiki.page(link).fullurl)\n",
        "    urls.append(wiki.page(link).fullurl)\n",
        "    print(f\"Summary: {summary}\")\n",
        "    if counter>=maxl:\n",
        "      break\n",
        "  except page.exists()==False:\n",
        "    # Ignore pages that don't exist\n",
        "    pass\n",
        "\n",
        "print(counter)\n",
        "print(urls)"
      ],
      "metadata": {
        "colab": {
          "base_uri": "https://localhost:8080/"
        },
        "id": "DFSQ5s5wzhLf",
        "outputId": "da028bbe-90ce-4096-d626-9a03ea4b8a23"
      },
      "execution_count": 14,
      "outputs": [
        {
          "output_type": "stream",
          "name": "stdout",
          "text": [
            "Link 1: 1926 United Kingdom general strike\n",
            "Link: 1926 United Kingdom general strike\n",
            "https://en.wikipedia.org/wiki/1926_United_Kingdom_general_strike\n",
            "Summary: The 1926 General Strike in the United Kingdom was a general strike that lasted nine days, from 4 to 12 May 1926. It was called by the General Council of the Trades Union Congress (TUC) in an unsuccessful attempt to force the British government to act to prevent wage reductions and worsening conditions for 1.2 million locked-out coal miners. Some 1.7 million workers went out, especially in transport and heavy industry. \n",
            "It was a sympathy strike, with many of those who were not miners and not directly affected striking to support the locked-out miners. The government was well prepared, and enlisted middle class volunteers to maintain essential services. There was little violence and the TUC gave up in defeat.\n",
            "Link 2: ACE (computer)\n",
            "Link: ACE (computer)\n",
            "https://en.wikipedia.org/wiki/Automatic_Computing_Engine\n",
            "Summary: The Automatic Computing Engine (ACE) was a British early electronic serial stored-program computer design by Alan Turing. Turing completed the ambitious design in late 1945, having had experience in the years prior with the secret Colossus computer at Bletchley Park. \n",
            "The ACE was not built, but a smaller version, the Pilot ACE, was constructed at the National Physical Laboratory and became operational in 1950. A larger implementation of the ACE design was the MOSAIC computer which became operational in 1955. ACE also led to the Bendix G-15 and other computers.\n",
            "Link 3: Abraham Wald\n",
            "Link: Abraham Wald\n",
            "https://en.wikipedia.org/wiki/Abraham_Wald\n",
            "Summary: Abraham Wald (; Hungarian: Wald Ábrahám, Yiddish: אברהם וואַלד; (1902-10-31)31 October 1902 – (1950-12-13)13 December 1950) was a Jewish Hungarian mathematician who contributed to decision theory, geometry and econometrics, and founded the field of sequential analysis. One of his well-known statistical works was written during World War II on how to minimize the damage to bomber aircraft and took into account the survivorship bias in his calculations. He spent his research career at Columbia University. He was the grandson of Rabbi Moshe Shmuel Glasner.\n",
            "Link 4: Abram Besicovitch\n",
            "Link: Abram Besicovitch\n",
            "https://en.wikipedia.org/wiki/Abram_Besicovitch\n",
            "Summary: Abram Samoilovitch Besicovitch (or Besikovitch; Russian: Абра́м Само́йлович Безико́вич; 23 January 1891 – 2 November 1970) was a Russian mathematician, who worked mainly in England. He was born in Berdyansk on the Sea of Azov (now in Ukraine) to a Karaite Jewish family.\n",
            "Link 5: Action This Day (memo)\n",
            "Link: Action This Day (memo)\n",
            "https://en.wikipedia.org/wiki/Action_This_Day_(memo)\n",
            "Summary: Action This Day was a 1941 memorandum sent to Winston Churchill personally, to advise Churchill that the Bletchley Park (BP) codebreaking establishment was short of staff in some critical areas. Their requirements were small, but as a small (and secret) organisation their management did not have priority. Four senior heads of sections (\"Huts\") and their deputies wrote to Churchill, who had visited \"BP\" on 6 September 1941, where he made a speech saying he appreciated their work.\n",
            "The memo was signed by Alan Turing and Hugh Alexander (head and deputy head of Hut 8); and  Gordon Welchman and Stuart Milner-Barry (head and deputy head of Hut 6).  The four were known as the \"Wicked Uncles\".\n",
            "Link 6: Ada Lovelace\n",
            "Link: Ada Lovelace\n",
            "https://en.wikipedia.org/wiki/Ada_Lovelace\n",
            "Summary: Augusta Ada King, Countess of Lovelace (née Byron; 10 December 1815 – 27 November 1852) was an English mathematician and writer, chiefly known for her work on Charles Babbage's proposed mechanical general-purpose computer, the Analytical Engine. She was the first to recognise that the machine had applications beyond pure calculation.\n",
            "Ada Byron was the only legitimate child of poet Lord Byron and reformer Anne Isabella Milbanke. All Lovelace's half-siblings, Lord Byron's other children, were born out of wedlock to other women. Byron separated from his wife a month after Ada was born and left England forever.  He died in Greece when Ada was eight. Her mother was anxious about her upbringing and promoted Ada's interest in mathematics and logic in an effort to prevent her from developing her father's perceived insanity. Despite this, Ada remained interested in him, naming her two sons Byron and Gordon. Upon her death, she was buried next to him at her request. Although often ill in her childhood, Ada pursued her studies assiduously. She married William King in 1835. King was made Earl of Lovelace in 1838, Ada thereby becoming Countess of Lovelace.\n",
            "Her educational and social exploits brought her into contact with scientists such as Andrew Crosse, Charles Babbage, Sir David Brewster, Charles Wheatstone and Michael Faraday, and the author Charles Dickens, contacts which she used to further her education. Ada described her approach as \"poetical science\" and herself as an \"Analyst (& Metaphysician)\".\n",
            "When she was eighteen, her mathematical talents led her to a long working relationship and friendship with fellow British mathematician Charles Babbage, who is known as \"the father of computers\". She was in particular interested in Babbage's work on the Analytical Engine. Lovelace first met him on 5 June 1833, when she and her mother attended one of Charles Babbage's Saturday night soirées with their mutual friend, and Ada's private tutor, Mary Somerville.\n",
            "Between 1842 and 1843, Ada translated an article by the military engineer Luigi Menabrea (later Prime Minister of Italy) about the Analytical Engine, supplementing it with an elaborate set of seven notes, simply called \"Notes\".\n",
            "Lovelace's notes are important in the early history of computers, especially since the seventh one contained what many consider to be the first computer program—that is, an algorithm designed to be carried out by a machine. Other historians reject this perspective and point out that Babbage's personal notes from 1837 to 1840 contain the first programs for the engine. She also developed a vision of the capability of computers to go beyond mere calculating or number-crunching, while many others, including Babbage himself, focused only on those capabilities. Her mindset of \"poetical science\" led her to ask questions about the Analytical Engine (as shown in her notes), examining how individuals and society relate to technology as a collaborative tool. The coding language Ada is named for her.\n",
            "Link 7: Adele Goldstine\n",
            "Link: Adele Goldstine\n",
            "https://en.wikipedia.org/wiki/Adele_Goldstine\n",
            "Summary: Adele Goldstine (née Katz; December 21, 1920 – November 1964) was an American mathematician and computer programmer. She wrote the manual for the first electronic digital computer, ENIAC. Through her work programming the computer, she was also an instrumental player in converting the ENIAC from a computer that needed to be reprogrammed each time it was used to one that was able to perform a set of fifty stored instructions.\n",
            "Link 8: Adolf Hitler\n",
            "Link: Adolf Hitler\n",
            "https://en.wikipedia.org/wiki/Adolf_Hitler\n",
            "Summary: Adolf Hitler (20 April 1889 – 30 April 1945) was an Austrian-born German politician who was the dictator of Nazi Germany from 1933 until his suicide in 1945. He rose to power as the leader of the Nazi Party, becoming the chancellor in 1933 and then taking the title of Führer und Reichskanzler in 1934. His invasion of Poland on 1 September 1939 marks the start of the Second World War. He was closely involved in military operations throughout the war and was central to the perpetration of the Holocaust: the genocide of about six million Jews and millions of other victims.\n",
            "Hitler was born in Braunau am Inn in Austria-Hungary and was raised near Linz. He lived in Vienna later in the first decade of the 1900s before moving to Germany in 1913. He was decorated during his service in the German Army in World War I. In 1919, he joined the German Workers' Party (DAP), the precursor of the Nazi Party, and in 1921 was appointed leader of the Nazi Party. In 1923, he attempted to seize governmental power in a failed coup in Munich and was sentenced to five years in prison, serving just over a year of his sentence. While there, he dictated the first volume of his autobiography and political manifesto Mein Kampf (\"My Struggle\"). After his early release in 1924, Hitler gained popular support by attacking the Treaty of Versailles and promoting pan-Germanism, antisemitism and anti-communism with charismatic oratory and Nazi propaganda. He frequently denounced communism as being part of an international Jewish conspiracy.\n",
            "By November 1932, the Nazi Party held the most seats in the Reichstag but did not have a majority. No political parties were able to form a majority coalition in support of a candidate for chancellor. Former chancellor Franz von Papen and other conservative leaders convinced President Paul von Hindenburg to appoint Hitler as chancellor on 30 January 1933. Shortly thereafter, the Reichstag passed the Enabling Act of 1933 which began the process of transforming the Weimar Republic into Nazi Germany, a one-party dictatorship based on the totalitarian and autocratic ideology of Nazism. Upon Hindenburg's death on 2 August 1934, Hitler succeeded him, becoming simultaneously the head of state and government with absolute power. Domestically, Hitler implemented numerous racist policies and sought to deport or kill German Jews. His first six years in power resulted in rapid economic recovery from the Great Depression, the abrogation of restrictions imposed on Germany after World War I, and the annexation of territories inhabited by millions of ethnic Germans, which initially gave him significant popular support.\n",
            "One of Hitler's key goals was Lebensraum (lit. 'living space') for the German people in Eastern Europe, and his aggressive, expansionist foreign policy is considered the primary cause of World War II in Europe. He directed large-scale rearmament and, on 1 September 1939, invaded Poland, resulting in Britain and France declaring war on Germany. In June 1941, Hitler ordered an invasion of the Soviet Union. In December 1941, he declared war on the United States. By the end of 1941, German forces and the European Axis powers occupied most of Europe and North Africa. These gains were gradually reversed after 1941, and in 1945 the Allied armies defeated the German army. On 29 April 1945, he married his long-term partner, Eva Braun, in the Führerbunker in Berlin. The couple committed suicide the following day to avoid capture by the Soviet Red Army. In accordance with Hitler's wishes, their corpses were burned.\n",
            "The historian and biographer Ian Kershaw describes Hitler as \"the embodiment of modern political evil\". Under Hitler's leadership and racist ideology, the Nazi regime was responsible for the genocide of an estimated six million Jews and millions of other victims, whom he and his followers deemed Untermenschen (subhumans) or socially undesirable. Hitler and the Nazi regime were also responsible for the deliberate killing of an estimated 19.3 million civilians and prisoners of war. In addition, 28.7 million soldiers and civilians died as a result of military action in the European theatre. The number of civilians killed during World War II was unprecedented in warfare, and the casualties constitute the deadliest conflict in history.\n",
            "Link 9: Akio Morita\n",
            "Link: Akio Morita\n",
            "https://en.wikipedia.org/wiki/Akio_Morita\n",
            "Summary: Akio Morita (盛田 昭夫, Morita Akio, January 26, 1921 – October 3, 1999) was a Japanese entrepreneur and co-founder of Sony along with Masaru Ibuka.\n",
            "Link 10: Alan Turing: The Enigma\n",
            "Link: Alan Turing: The Enigma\n",
            "https://en.wikipedia.org/wiki/Alan_Turing:_The_Enigma\n",
            "Summary: Alan Turing: The Enigma (1983) is a biography of the British mathematician, codebreaker, and early computer scientist, Alan Turing (1912–1954) by Andrew Hodges. The book covers Alan Turing's life and work. The 2014 film The Imitation Game is loosely based on the book, with dramatization.\n",
            "Link 11: Alan Turing law\n",
            "Link: Alan Turing law\n",
            "https://en.wikipedia.org/wiki/Alan_Turing_law\n",
            "Summary: The \"Alan Turing law\" is an informal term for the law in the United Kingdom, contained in the Policing and Crime Act 2017, which serves as an amnesty law to pardon men who were cautioned or convicted under historical legislation that outlawed homosexual acts. The provision is named after Alan Turing, the World War II codebreaker and computing pioneer, who was convicted of gross indecency in 1952. Turing received a royal pardon posthumously in 2013. The law applies in England and Wales.\n",
            "Several proposals had been put forward for an Alan Turing law, and introducing such a law has been government policy since 2015. To implement the pardon, the British Government announced on 20 October 2016 that it would support an amendment to the Policing and Crime Act that would provide a posthumous pardon, also providing an automatic formal pardon for living people who had had such offences removed from their record. A rival bill to implement the Alan Turing law, in second reading at the time of the government announcement, was filibustered. The bill received royal assent on 31 January 2017, and the pardon was implemented that same day. The law provides pardons only for men convicted of acts that are no longer offences; those convicted under the same laws of offences that were still crimes on the date the law went into effect, such as cottaging, underage sex, or rape, were not pardoned.\n",
            "Manchester Withington MP John Leech, often described as 'the architect' of the Alan Turing Law, led a high-profile campaign to pardon Turing and submitted several bills to parliament, leading to the eventual posthumous pardon.\n",
            "Link 12: Albert Einstein\n",
            "Link: Albert Einstein\n",
            "https://en.wikipedia.org/wiki/Albert_Einstein\n",
            "Summary: Albert Einstein ( EYEN-styne; German: [ˈalbɛɐt ˈʔaɪnʃtaɪn] ; 14 March 1879 – 18 April 1955) was a German-born theoretical physicist who is widely held to be one of the greatest and most influential scientists of all time. Best known for developing the theory of relativity, Einstein also made important contributions to quantum mechanics, and was thus a central figure in the revolutionary reshaping of the scientific understanding of nature that modern physics accomplished in the first decades of the twentieth century. His mass–energy equivalence formula E = mc2, which arises from relativity theory, has been called \"the world's most famous equation\". He received the 1921 Nobel Prize in Physics \"for his services to theoretical physics, and especially for his discovery of the law of the photoelectric effect\", a pivotal step in the development of quantum theory. His work is also known for its influence on the philosophy of science.\n",
            "Born in the German Empire, Einstein moved to Switzerland in 1895, forsaking his German citizenship (as a subject of the Kingdom of Württemberg) the following year. In 1897, at the age of seventeen, he enrolled in the mathematics and physics teaching diploma program at the Swiss federal polytechnic school in Zürich, graduating in 1900. In 1901, he acquired Swiss citizenship, which he kept for the rest of his life. In 1903, he secured a permanent position at the Swiss Patent Office in Bern. In 1905, he submitted a successful PhD dissertation to the University of Zurich. In 1914, he moved to Berlin in order to join the Prussian Academy of Sciences and the Humboldt University of Berlin. In 1917, he became director of the Kaiser Wilhelm Institute for Physics; he also became a German citizen again, this time as a subject of the Kingdom of Prussia.\n",
            "In 1933, while he was visiting the United States, Adolf Hitler came to power in Germany. Horrified by the Nazi \"war of extermination\" against his fellow Jews, Einstein decided to remain in the US, and was granted American citizenship in 1940. On the eve of World War II, he endorsed a letter to President Franklin D. Roosevelt alerting him to the potential German nuclear weapons program and recommending that the US begin similar research. Einstein supported the Allies but generally viewed the idea of nuclear weapons with great dismay.\n",
            "In 1905, sometimes described as his annus mirabilis (miracle year), Einstein published four groundbreaking papers. These outlined a theory of the photoelectric effect, explained Brownian motion, introduced his special theory of relativity—a theory which addressed the inability of classical mechanics to account satisfactorily for the behavior of the electromagnetic field—and demonstrated that if the special theory is correct, mass and energy are equivalent to each other. In 1915, he proposed a general theory of relativity that extended his system of mechanics to incorporate gravitation. A cosmological paper that he published the following year laid out the implications of general relativity for the modeling of the structure and evolution of the universe as a whole. The middle part of his career also saw him making important contributions to statistical mechanics and quantum theory. Especially notable was his work on the quantum physics of radiation, in which light consists of particles, subsequently called photons. With the Indian physicist Satyendra Nath Bose, he laid the groundwork for Bose-Einstein statistics. For much of the last phase of his academic life, Einstein worked on two endeavors that proved ultimately unsuccessful. First, he advocated against quantum theory's introduction of fundamental randomness into science's picture of the world, objecting that \"God does not play dice\". Second, he attempted to devise a unified field theory by generalizing his geometric theory of gravitation to include electromagnetism too. As a result, he became increasingly isolated from the mainstream of modern physics. \n",
            "In a 1999 poll of 130 leading physicists worldwide by the British journal Physics World, Einstein was ranked the greatest physicist of all time. His intellectual achievements and originality have made the word Einstein broadly synonymous with genius.\n",
            "Link 13: Albert Neuberger\n",
            "Link: Albert Neuberger\n",
            "https://en.wikipedia.org/wiki/Albert_Neuberger\n",
            "Summary: Albert Neuberger  (15 April 1908 – 14 August 1996) was a British Professor of Chemical Pathology, St Mary's Hospital, 1955–1973, and later emeritus professor.\n",
            "Link 14: Alexander Fleming\n",
            "Link: Alexander Fleming\n",
            "https://en.wikipedia.org/wiki/Alexander_Fleming\n",
            "Summary: Sir Alexander Fleming  (6 August 1881 – 11 March 1955) was a Scottish physician and microbiologist, best known for discovering the world's first broadly effective antibiotic substance, which he named penicillin. His discovery in 1928 of what was later named benzylpenicillin (or penicillin G) from the mould Penicillium rubens has been described as the \"single greatest victory ever achieved over disease\". For this discovery, he shared the Nobel Prize in Physiology or Medicine in 1945 with Howard Florey and Ernst Boris Chain.\n",
            "He also discovered the enzyme lysozyme from his nasal discharge in 1922, and along with it a bacterium he named Micrococcus lysodeikticus, later renamed Micrococcus luteus.\n",
            "Fleming was knighted for his scientific achievements in 1944. In 1999, he was named in Time magazine's list of the 100 Most Important People of the 20th century. In 2002, he was chosen in the BBC's television poll for determining the 100 Greatest Britons, and in 2009, he was also voted third \"greatest Scot\" in an opinion poll conducted by STV, behind only Robert Burns and William Wallace.\n",
            "Link 15: Alfred D. Chandler Jr.\n",
            "Link: Alfred D. Chandler Jr.\n",
            "https://en.wikipedia.org/wiki/Alfred_D._Chandler_Jr.\n",
            "Summary: Alfred DuPont Chandler Jr. (September 15, 1918 – May 9, 2007) was a professor of business history at Harvard Business School and Johns Hopkins University, who wrote extensively about the scale and the management structures of modern corporations. His works redefined business and economic history of industrialization. He received the Pulitzer Prize for History for his work, The Visible Hand: The Managerial Revolution in American Business (1977). He was a member of both the American Academy of Arts and Sciences and the American Philosophical Society. He has been called \"the doyen of American business historians\".\n",
            "Link 16: Alfred Ubbelohde\n",
            "Link: Alfred Ubbelohde\n",
            "https://en.wikipedia.org/wiki/Alfred_Ubbelohde\n",
            "Summary: Alfred René Jean Paul Ubbelohde  FRS (1907–1988) was a Belgian-born English physical chemist.\n",
            "Link 17: Algorithm\n",
            "Link: Algorithm\n",
            "https://en.wikipedia.org/wiki/Algorithm\n",
            "Summary: In mathematics and computer science, an algorithm ( ) is a finite sequence of mathematically rigorous instructions, typically used to solve a class of specific problems or to perform a computation. Algorithms are used as specifications for performing calculations and data processing. More advanced algorithms can use conditionals to divert the code execution through various routes (referred to as automated decision-making) and deduce valid inferences (referred to as automated reasoning), achieving automation eventually. Using human characteristics as descriptors of machines in metaphorical ways was already practiced by Alan Turing with terms such as \"memory\", \"search\" and \"stimulus\".\n",
            "In contrast, a heuristic is an approach to problem-solving that may not be fully specified or may not guarantee correct or optimal results, especially in problem domains where there is no well-defined correct or optimal result.  For example, social media recommender systems rely on heuristics in such a way that, although widely characterized as \"algorithms\" in 21st-century popular media, cannot deliver correct results due to the nature of the problem.\n",
            "As an effective method, an algorithm can be expressed within a finite amount of space and time and in a well-defined formal language for calculating a function. Starting from an initial state and initial input (perhaps empty), the instructions describe a computation that, when executed, proceeds through a finite number of well-defined successive states, eventually producing \"output\" and terminating at a final ending state. The transition from one state to the next is not necessarily deterministic; some algorithms, known as randomized algorithms, incorporate random input.\n",
            "Link 18: Alick Glennie\n",
            "Link: Alick Glennie\n",
            "https://en.wikipedia.org/wiki/Alick_Glennie\n",
            "Summary: Alick Edwards Glennie (1925–2003) was a British computer scientist, most famous for having developed Autocode, which influential computer scientist Donald Knuth regarded as the first ever computer compiler.\n",
            "Glennie worked with Alan Turing on several projects, including the Manchester Mark 1.\n",
            "Glennie subsequently worked at Atomic Weapons Research Establishment (AWRE) where he was responsible in the early 1960s in developing FORTRAN compilers for several large computers inc. IBM 709, IBM 7090, IBM 7030 (\"Stretch\") and also ICT Atlas.  He pioneered a method of developing the compiler for the Atlas on the IBM 7030 in advance of delivery of the Atlas, using an interpretive technique.\n",
            "Link 19: Alonzo Church\n",
            "Link: Alonzo Church\n",
            "https://en.wikipedia.org/wiki/Alonzo_Church\n",
            "Summary: Alonzo Church (June 14, 1903 – August 11, 1995) was an American mathematician, computer scientist, logician, and philosopher who made major contributions to mathematical logic and the foundations of theoretical computer science. He is best known for the lambda calculus, the Church–Turing thesis, proving the unsolvability of the Entscheidungsproblem (\"decision problem\"), the Frege–Church ontology, and the Church–Rosser theorem. Alongside his doctoral student Alan Turing, Church is considered one of the founders of computer science.\n",
            "Link 20: Amadeo Giannini\n",
            "Link: Amadeo Giannini\n",
            "https://en.wikipedia.org/wiki/Amadeo_Giannini\n",
            "Summary: Amadeo Pietro Giannini (Italian pronunciation: [amaˈdɛːo ˈpjɛːtro dʒanˈniːni]), also known as Amadeo Peter Giannini or A. P. Giannini (May 6, 1870 – June 3, 1949) was an American banker who founded the Bank of Italy, which eventually became Bank of America. Giannini is credited as the inventor of many modern banking practices. Most notably, Giannini was one of the first bankers to offer banking services to middle-class Americans, mainly Italian immigrants, rather than only the upper class. He also pioneered the holding company structure and established one of the first modern trans-national institutions.\n",
            "Link 21: American Journal of Mathematics\n",
            "Link: American Journal of Mathematics\n",
            "https://en.wikipedia.org/wiki/American_Journal_of_Mathematics\n",
            "Summary: The American Journal of Mathematics is a bimonthly mathematics journal published by the Johns Hopkins University Press.\n",
            "Link 22: American Physical Society\n",
            "Link: American Physical Society\n",
            "https://en.wikipedia.org/wiki/American_Physical_Society\n",
            "Summary: The American Physical Society (APS) is a not-for-profit membership organization of professionals in physics and related disciplines, comprising nearly fifty divisions, sections, and other units. Its mission is the advancement and diffusion of knowledge of physics. It publishes more than a dozen scientific journals, including the prestigious Physical Review and Physical Review Letters, and organizes more than twenty science meetings each year. It is a member society of the American Institute of Physics. Since January 2021, it is led by chief executive officer Jonathan Bagger.\n",
            "Link 23: Amnesty law\n",
            "Link: Amnesty law\n",
            "https://en.wikipedia.org/wiki/Amnesty_law\n",
            "Summary: An amnesty law is any legislative, constitutional or executive arrangement that retroactively exempts a select group of people, usually military leaders and government leaders, from criminal liability for the crimes that they committed. More specifically, in the 'age of accountability', amnesty laws have come to be considered as granting impunity for the violation of human rights, including institutional measures that preclude the prosecution for such crimes and reprieve those crimes already convicted, avoiding any form of accountability.\n",
            "Link 24: Andrei Sakharov\n",
            "Link: Andrei Sakharov\n",
            "https://en.wikipedia.org/wiki/Andrei_Sakharov\n",
            "Summary: Andrei Dmitrievich Sakharov (Russian: Андрей Дмитриевич Сахаров; 21 May 1921 – 14 December 1989) was a Soviet physicist and a Nobel Peace Prize laureate, which he was awarded in 1975 for emphasizing human rights around the world.\n",
            "Although he spent his career in physics in the Soviet program of nuclear weapons, overseeing the development of thermonuclear weapons, Sakharov also did fundamental work in understanding particle physics, magnetism, and physical cosmology. Sakharov is mostly known for his political activism for individual freedom, human rights, civil liberties and reforms in the Soviet Union, for which he was deemed a dissident and faced persecution from the Soviet establishment.\n",
            "In his memory, the Sakharov Prize was established and is awarded annually by the European Parliament for people and organizations dedicated to human rights and freedoms.\n",
            "Link 25: Andrew Hodges\n",
            "Link: Andrew Hodges\n",
            "https://en.wikipedia.org/wiki/Andrew_Hodges\n",
            "Summary: Andrew Philip Hodges ( HOJ-iz; born 1949) is a British mathematician, author and emeritus senior research fellow at Wadham College, Oxford.\n",
            "25\n",
            "['https://en.wikipedia.org/wiki/1926_United_Kingdom_general_strike', 'https://en.wikipedia.org/wiki/Automatic_Computing_Engine', 'https://en.wikipedia.org/wiki/Abraham_Wald', 'https://en.wikipedia.org/wiki/Abram_Besicovitch', 'https://en.wikipedia.org/wiki/Action_This_Day_(memo)', 'https://en.wikipedia.org/wiki/Ada_Lovelace', 'https://en.wikipedia.org/wiki/Adele_Goldstine', 'https://en.wikipedia.org/wiki/Adolf_Hitler', 'https://en.wikipedia.org/wiki/Akio_Morita', 'https://en.wikipedia.org/wiki/Alan_Turing:_The_Enigma', 'https://en.wikipedia.org/wiki/Alan_Turing_law', 'https://en.wikipedia.org/wiki/Albert_Einstein', 'https://en.wikipedia.org/wiki/Albert_Neuberger', 'https://en.wikipedia.org/wiki/Alexander_Fleming', 'https://en.wikipedia.org/wiki/Alfred_D._Chandler_Jr.', 'https://en.wikipedia.org/wiki/Alfred_Ubbelohde', 'https://en.wikipedia.org/wiki/Algorithm', 'https://en.wikipedia.org/wiki/Alick_Glennie', 'https://en.wikipedia.org/wiki/Alonzo_Church', 'https://en.wikipedia.org/wiki/Amadeo_Giannini', 'https://en.wikipedia.org/wiki/American_Journal_of_Mathematics', 'https://en.wikipedia.org/wiki/American_Physical_Society', 'https://en.wikipedia.org/wiki/Amnesty_law', 'https://en.wikipedia.org/wiki/Andrei_Sakharov', 'https://en.wikipedia.org/wiki/Andrew_Hodges']\n"
          ]
        }
      ]
    },
    {
      "cell_type": "markdown",
      "source": [
        "## Writing the citations page"
      ],
      "metadata": {
        "id": "JG3-B7NPG8Td"
      }
    },
    {
      "cell_type": "code",
      "source": [
        "from datetime import datetime\n",
        "\n",
        "# Get all the links on the page\n",
        "links = page.links\n",
        "\n",
        "# Prepare a file to store the outputs\n",
        "fname = filename+\"_citations.txt\"\n",
        "with open(fname, \"w\") as file:\n",
        "    # Write the citation header\n",
        "    file.write(f\"Citation. In Wikipedia, The Free Encyclopedia. Pages retrieved from the following Wikipedia contributors on {datetime.now()}\\n\")\n",
        "\n",
        "    # Initialize a counter\n",
        "    counter = 0\n",
        "    urls = []\n",
        "\n",
        "    # Loop through the links and collect summaries\n",
        "    for link in links:\n",
        "        try:\n",
        "            counter += 1\n",
        "            page_detail = wiki.page(link)\n",
        "            summary = page_detail.summary\n",
        "\n",
        "            # Print details to the file\n",
        "            file.write(f\"Link {counter}: {link}\\n\")\n",
        "            file.write(f\"Link: {link}\\n\")\n",
        "            file.write(f\"{page_detail.fullurl}\\n\")\n",
        "            urls.append(page_detail.fullurl)\n",
        "            file.write(f\"Summary: {summary}\\n\")\n",
        "\n",
        "            # Limit to 20 pages to avoid excessive scraping\n",
        "            if counter >= maxl:\n",
        "                break\n",
        "        except wiki.exceptions.PageError:\n",
        "            # Ignore pages that don't exist\n",
        "            continue\n",
        "\n",
        "    # Write the total counts and URLs at the end\n",
        "    file.write(f\"Total links processed: {counter}\\n\")\n",
        "    file.write(\"URLs:\\n\")\n",
        "    file.write(\"\\n\".join(urls))\n",
        "\n",
        "# Note: Ensure the topic you specify corresponds to a valid Wikipedia article.\n"
      ],
      "metadata": {
        "id": "hNZEJjHdGWlN"
      },
      "execution_count": 15,
      "outputs": []
    },
    {
      "cell_type": "code",
      "source": [
        "urls"
      ],
      "metadata": {
        "colab": {
          "base_uri": "https://localhost:8080/"
        },
        "id": "Fq5H3nJNBwfW",
        "outputId": "c21fa14f-6125-41da-88c4-58a9e305afb0"
      },
      "execution_count": 16,
      "outputs": [
        {
          "output_type": "execute_result",
          "data": {
            "text/plain": [
              "['https://en.wikipedia.org/wiki/1926_United_Kingdom_general_strike',\n",
              " 'https://en.wikipedia.org/wiki/Automatic_Computing_Engine',\n",
              " 'https://en.wikipedia.org/wiki/Abraham_Wald',\n",
              " 'https://en.wikipedia.org/wiki/Abram_Besicovitch',\n",
              " 'https://en.wikipedia.org/wiki/Action_This_Day_(memo)',\n",
              " 'https://en.wikipedia.org/wiki/Ada_Lovelace',\n",
              " 'https://en.wikipedia.org/wiki/Adele_Goldstine',\n",
              " 'https://en.wikipedia.org/wiki/Adolf_Hitler',\n",
              " 'https://en.wikipedia.org/wiki/Akio_Morita',\n",
              " 'https://en.wikipedia.org/wiki/Alan_Turing:_The_Enigma',\n",
              " 'https://en.wikipedia.org/wiki/Alan_Turing_law',\n",
              " 'https://en.wikipedia.org/wiki/Albert_Einstein',\n",
              " 'https://en.wikipedia.org/wiki/Albert_Neuberger',\n",
              " 'https://en.wikipedia.org/wiki/Alexander_Fleming',\n",
              " 'https://en.wikipedia.org/wiki/Alfred_D._Chandler_Jr.',\n",
              " 'https://en.wikipedia.org/wiki/Alfred_Ubbelohde',\n",
              " 'https://en.wikipedia.org/wiki/Algorithm',\n",
              " 'https://en.wikipedia.org/wiki/Alick_Glennie',\n",
              " 'https://en.wikipedia.org/wiki/Alonzo_Church',\n",
              " 'https://en.wikipedia.org/wiki/Amadeo_Giannini',\n",
              " 'https://en.wikipedia.org/wiki/American_Journal_of_Mathematics',\n",
              " 'https://en.wikipedia.org/wiki/American_Physical_Society',\n",
              " 'https://en.wikipedia.org/wiki/Amnesty_law',\n",
              " 'https://en.wikipedia.org/wiki/Andrei_Sakharov',\n",
              " 'https://en.wikipedia.org/wiki/Andrew_Hodges']"
            ]
          },
          "metadata": {},
          "execution_count": 16
        }
      ]
    },
    {
      "cell_type": "code",
      "source": [
        "# Write URLs to a file\n",
        "ufname = filename+\"_urls.txt\"\n",
        "with open(ufname, 'w') as file:\n",
        "    for url in urls:\n",
        "        file.write(url + '\\n')\n",
        "\n",
        "print(\"URLs have been written to urls.txt\")"
      ],
      "metadata": {
        "colab": {
          "base_uri": "https://localhost:8080/"
        },
        "id": "1DiYrEf7JA__",
        "outputId": "8df05443-13d9-4035-9a1d-6dcd4210681f"
      },
      "execution_count": 17,
      "outputs": [
        {
          "output_type": "stream",
          "name": "stdout",
          "text": [
            "URLs have been written to urls.txt\n"
          ]
        }
      ]
    },
    {
      "cell_type": "code",
      "source": [
        "# Read URLs from the file\n",
        "with open(ufname, 'r') as file:\n",
        "    urls = [line.strip() for line in file]\n",
        "\n",
        "# Display the URLs\n",
        "print(\"Read URLs:\")\n",
        "for url in urls:\n",
        "    print(url)"
      ],
      "metadata": {
        "id": "oxxO5wLzJGCY",
        "outputId": "17d82a07-c416-4866-a2b9-7ae0b657cf95",
        "colab": {
          "base_uri": "https://localhost:8080/"
        }
      },
      "execution_count": 18,
      "outputs": [
        {
          "output_type": "stream",
          "name": "stdout",
          "text": [
            "Read URLs:\n",
            "https://en.wikipedia.org/wiki/1926_United_Kingdom_general_strike\n",
            "https://en.wikipedia.org/wiki/Automatic_Computing_Engine\n",
            "https://en.wikipedia.org/wiki/Abraham_Wald\n",
            "https://en.wikipedia.org/wiki/Abram_Besicovitch\n",
            "https://en.wikipedia.org/wiki/Action_This_Day_(memo)\n",
            "https://en.wikipedia.org/wiki/Ada_Lovelace\n",
            "https://en.wikipedia.org/wiki/Adele_Goldstine\n",
            "https://en.wikipedia.org/wiki/Adolf_Hitler\n",
            "https://en.wikipedia.org/wiki/Akio_Morita\n",
            "https://en.wikipedia.org/wiki/Alan_Turing:_The_Enigma\n",
            "https://en.wikipedia.org/wiki/Alan_Turing_law\n",
            "https://en.wikipedia.org/wiki/Albert_Einstein\n",
            "https://en.wikipedia.org/wiki/Albert_Neuberger\n",
            "https://en.wikipedia.org/wiki/Alexander_Fleming\n",
            "https://en.wikipedia.org/wiki/Alfred_D._Chandler_Jr.\n",
            "https://en.wikipedia.org/wiki/Alfred_Ubbelohde\n",
            "https://en.wikipedia.org/wiki/Algorithm\n",
            "https://en.wikipedia.org/wiki/Alick_Glennie\n",
            "https://en.wikipedia.org/wiki/Alonzo_Church\n",
            "https://en.wikipedia.org/wiki/Amadeo_Giannini\n",
            "https://en.wikipedia.org/wiki/American_Journal_of_Mathematics\n",
            "https://en.wikipedia.org/wiki/American_Physical_Society\n",
            "https://en.wikipedia.org/wiki/Amnesty_law\n",
            "https://en.wikipedia.org/wiki/Andrei_Sakharov\n",
            "https://en.wikipedia.org/wiki/Andrew_Hodges\n"
          ]
        }
      ]
    }
  ]
}