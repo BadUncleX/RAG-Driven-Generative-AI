{
  "cells": [
    {
      "cell_type": "markdown",
      "metadata": {
        "id": "LBX9kCJ4wDPb"
      },
      "source": [
        "# Constructing an Index-Based Deep Lake Vector Store for Semantic Search with LlamaIndex and OpenAI\n",
        "\n",
        "copyright 2024, Denis Rothman\n",
        "\n",
        "A Practical Guide to Building a Semantic Search Engine with Deep Lake, LlamaIndex, and OpenAI:\n",
        "\n",
        "*   Installing the Environment\n",
        "*   Creating and populating the Vector Store &   dataset\n",
        "*   Getting started with  index-based semantic search\n",
        "\n",
        "\n"
      ]
    },
    {
      "cell_type": "markdown",
      "source": [
        "# Installing the environment"
      ],
      "metadata": {
        "id": "UJ-fctVvf3wA"
      }
    },
    {
      "cell_type": "code",
      "source": [
        "#Google Drive option to store API Keys\n",
        "#Store you key in a file and read it(you can type it directly in the notebook but it will be visible for somebody next to you)\n",
        "from google.colab import drive\n",
        "drive.mount('/content/drive')"
      ],
      "metadata": {
        "colab": {
          "base_uri": "https://localhost:8080/"
        },
        "id": "pu-obY57BKtV",
        "outputId": "9b907069-6ac2-4b4d-bdea-77dae655b87c"
      },
      "execution_count": 1,
      "outputs": [
        {
          "output_type": "stream",
          "name": "stdout",
          "text": [
            "Mounted at /content/drive\n"
          ]
        }
      ]
    },
    {
      "cell_type": "code",
      "source": [
        "import PIL\n",
        "import subprocess\n",
        "\n",
        "# Check current version of Pillow\n",
        "current_version = PIL.__version__\n",
        "\n",
        "# Define the required version\n",
        "required_version = \"10.2.0\"\n",
        "\n",
        "# Function to parse version strings\n",
        "def version_tuple(version):\n",
        "    return tuple(map(int, (version.split(\".\"))))\n",
        "\n",
        "# Compare current and required version\n",
        "if version_tuple(current_version) < version_tuple(required_version):\n",
        "    print(f\"Current Pillow version {current_version} is less than {required_version}. Updating...\")\n",
        "    # Uninstall current version of Pillow\n",
        "    subprocess.run(['pip', 'uninstall', 'pillow', '-y'])\n",
        "    # Install the required version of Pillow\n",
        "    subprocess.run(['pip', 'install', f'pillow=={required_version}'])\n",
        "else:\n",
        "    print(f\"Current Pillow version {current_version} meets the requirement.\")"
      ],
      "metadata": {
        "colab": {
          "base_uri": "https://localhost:8080/"
        },
        "id": "gIOJiqruRDsX",
        "outputId": "bca9690d-da93-4fbf-9037-8d0b1e03b965"
      },
      "execution_count": 2,
      "outputs": [
        {
          "output_type": "stream",
          "name": "stdout",
          "text": [
            "Current Pillow version 10.2.0 meets the requirement.\n"
          ]
        }
      ]
    },
    {
      "cell_type": "markdown",
      "source": [
        "Restart session before continuing to meet the Pillow version requirement:   \n",
        "Go to Runtime->Restart Session  \n",
        "You can then select Run all or run the program cell by cell."
      ],
      "metadata": {
        "id": "3EtKelOLcbeN"
      }
    },
    {
      "cell_type": "code",
      "execution_count": 3,
      "metadata": {
        "id": "N9nUXvMFwDPb",
        "colab": {
          "base_uri": "https://localhost:8080/"
        },
        "outputId": "2c517fab-76ed-419f-d0f8-a48718b894a4",
        "collapsed": true
      },
      "outputs": [
        {
          "output_type": "stream",
          "name": "stdout",
          "text": [
            "Collecting llama-index-vector-stores-deeplake==0.1.2\n",
            "  Downloading llama_index_vector_stores_deeplake-0.1.2-py3-none-any.whl (4.3 kB)\n",
            "Collecting llama-index-core<0.11.0,>=0.10.1 (from llama-index-vector-stores-deeplake==0.1.2)\n",
            "  Downloading llama_index_core-0.10.39.post1-py3-none-any.whl (15.4 MB)\n",
            "\u001b[2K     \u001b[90m━━━━━━━━━━━━━━━━━━━━━━━━━━━━━━━━━━━━━━━━\u001b[0m \u001b[32m15.4/15.4 MB\u001b[0m \u001b[31m48.1 MB/s\u001b[0m eta \u001b[36m0:00:00\u001b[0m\n",
            "\u001b[?25hRequirement already satisfied: PyYAML>=6.0.1 in /usr/local/lib/python3.10/dist-packages (from llama-index-core<0.11.0,>=0.10.1->llama-index-vector-stores-deeplake==0.1.2) (6.0.1)\n",
            "Requirement already satisfied: SQLAlchemy[asyncio]>=1.4.49 in /usr/local/lib/python3.10/dist-packages (from llama-index-core<0.11.0,>=0.10.1->llama-index-vector-stores-deeplake==0.1.2) (2.0.30)\n",
            "Requirement already satisfied: aiohttp<4.0.0,>=3.8.6 in /usr/local/lib/python3.10/dist-packages (from llama-index-core<0.11.0,>=0.10.1->llama-index-vector-stores-deeplake==0.1.2) (3.9.5)\n",
            "Collecting dataclasses-json (from llama-index-core<0.11.0,>=0.10.1->llama-index-vector-stores-deeplake==0.1.2)\n",
            "  Downloading dataclasses_json-0.6.6-py3-none-any.whl (28 kB)\n",
            "Collecting deprecated>=1.2.9.3 (from llama-index-core<0.11.0,>=0.10.1->llama-index-vector-stores-deeplake==0.1.2)\n",
            "  Downloading Deprecated-1.2.14-py2.py3-none-any.whl (9.6 kB)\n",
            "Collecting dirtyjson<2.0.0,>=1.0.8 (from llama-index-core<0.11.0,>=0.10.1->llama-index-vector-stores-deeplake==0.1.2)\n",
            "  Downloading dirtyjson-1.0.8-py3-none-any.whl (25 kB)\n",
            "Requirement already satisfied: fsspec>=2023.5.0 in /usr/local/lib/python3.10/dist-packages (from llama-index-core<0.11.0,>=0.10.1->llama-index-vector-stores-deeplake==0.1.2) (2023.6.0)\n",
            "Collecting httpx (from llama-index-core<0.11.0,>=0.10.1->llama-index-vector-stores-deeplake==0.1.2)\n",
            "  Downloading httpx-0.27.0-py3-none-any.whl (75 kB)\n",
            "\u001b[2K     \u001b[90m━━━━━━━━━━━━━━━━━━━━━━━━━━━━━━━━━━━━━━━━\u001b[0m \u001b[32m75.6/75.6 kB\u001b[0m \u001b[31m8.3 MB/s\u001b[0m eta \u001b[36m0:00:00\u001b[0m\n",
            "\u001b[?25hCollecting llamaindex-py-client<0.2.0,>=0.1.18 (from llama-index-core<0.11.0,>=0.10.1->llama-index-vector-stores-deeplake==0.1.2)\n",
            "  Downloading llamaindex_py_client-0.1.19-py3-none-any.whl (141 kB)\n",
            "\u001b[2K     \u001b[90m━━━━━━━━━━━━━━━━━━━━━━━━━━━━━━━━━━━━━━━━\u001b[0m \u001b[32m141.9/141.9 kB\u001b[0m \u001b[31m19.1 MB/s\u001b[0m eta \u001b[36m0:00:00\u001b[0m\n",
            "\u001b[?25hRequirement already satisfied: nest-asyncio<2.0.0,>=1.5.8 in /usr/local/lib/python3.10/dist-packages (from llama-index-core<0.11.0,>=0.10.1->llama-index-vector-stores-deeplake==0.1.2) (1.6.0)\n",
            "Requirement already satisfied: networkx>=3.0 in /usr/local/lib/python3.10/dist-packages (from llama-index-core<0.11.0,>=0.10.1->llama-index-vector-stores-deeplake==0.1.2) (3.3)\n",
            "Requirement already satisfied: nltk<4.0.0,>=3.8.1 in /usr/local/lib/python3.10/dist-packages (from llama-index-core<0.11.0,>=0.10.1->llama-index-vector-stores-deeplake==0.1.2) (3.8.1)\n",
            "Requirement already satisfied: numpy in /usr/local/lib/python3.10/dist-packages (from llama-index-core<0.11.0,>=0.10.1->llama-index-vector-stores-deeplake==0.1.2) (1.25.2)\n",
            "Collecting openai>=1.1.0 (from llama-index-core<0.11.0,>=0.10.1->llama-index-vector-stores-deeplake==0.1.2)\n",
            "  Downloading openai-1.30.3-py3-none-any.whl (320 kB)\n",
            "\u001b[2K     \u001b[90m━━━━━━━━━━━━━━━━━━━━━━━━━━━━━━━━━━━━━━━━\u001b[0m \u001b[32m320.6/320.6 kB\u001b[0m \u001b[31m35.1 MB/s\u001b[0m eta \u001b[36m0:00:00\u001b[0m\n",
            "\u001b[?25hRequirement already satisfied: pandas in /usr/local/lib/python3.10/dist-packages (from llama-index-core<0.11.0,>=0.10.1->llama-index-vector-stores-deeplake==0.1.2) (2.0.3)\n",
            "Requirement already satisfied: pillow>=9.0.0 in /usr/local/lib/python3.10/dist-packages (from llama-index-core<0.11.0,>=0.10.1->llama-index-vector-stores-deeplake==0.1.2) (10.2.0)\n",
            "Requirement already satisfied: requests>=2.31.0 in /usr/local/lib/python3.10/dist-packages (from llama-index-core<0.11.0,>=0.10.1->llama-index-vector-stores-deeplake==0.1.2) (2.31.0)\n",
            "Requirement already satisfied: tenacity<9.0.0,>=8.2.0 in /usr/local/lib/python3.10/dist-packages (from llama-index-core<0.11.0,>=0.10.1->llama-index-vector-stores-deeplake==0.1.2) (8.3.0)\n",
            "Collecting tiktoken>=0.3.3 (from llama-index-core<0.11.0,>=0.10.1->llama-index-vector-stores-deeplake==0.1.2)\n",
            "  Downloading tiktoken-0.7.0-cp310-cp310-manylinux_2_17_x86_64.manylinux2014_x86_64.whl (1.1 MB)\n",
            "\u001b[2K     \u001b[90m━━━━━━━━━━━━━━━━━━━━━━━━━━━━━━━━━━━━━━━━\u001b[0m \u001b[32m1.1/1.1 MB\u001b[0m \u001b[31m64.0 MB/s\u001b[0m eta \u001b[36m0:00:00\u001b[0m\n",
            "\u001b[?25hRequirement already satisfied: tqdm<5.0.0,>=4.66.1 in /usr/local/lib/python3.10/dist-packages (from llama-index-core<0.11.0,>=0.10.1->llama-index-vector-stores-deeplake==0.1.2) (4.66.4)\n",
            "Requirement already satisfied: typing-extensions>=4.5.0 in /usr/local/lib/python3.10/dist-packages (from llama-index-core<0.11.0,>=0.10.1->llama-index-vector-stores-deeplake==0.1.2) (4.11.0)\n",
            "Collecting typing-inspect>=0.8.0 (from llama-index-core<0.11.0,>=0.10.1->llama-index-vector-stores-deeplake==0.1.2)\n",
            "  Downloading typing_inspect-0.9.0-py3-none-any.whl (8.8 kB)\n",
            "Requirement already satisfied: wrapt in /usr/local/lib/python3.10/dist-packages (from llama-index-core<0.11.0,>=0.10.1->llama-index-vector-stores-deeplake==0.1.2) (1.14.1)\n",
            "Requirement already satisfied: aiosignal>=1.1.2 in /usr/local/lib/python3.10/dist-packages (from aiohttp<4.0.0,>=3.8.6->llama-index-core<0.11.0,>=0.10.1->llama-index-vector-stores-deeplake==0.1.2) (1.3.1)\n",
            "Requirement already satisfied: attrs>=17.3.0 in /usr/local/lib/python3.10/dist-packages (from aiohttp<4.0.0,>=3.8.6->llama-index-core<0.11.0,>=0.10.1->llama-index-vector-stores-deeplake==0.1.2) (23.2.0)\n",
            "Requirement already satisfied: frozenlist>=1.1.1 in /usr/local/lib/python3.10/dist-packages (from aiohttp<4.0.0,>=3.8.6->llama-index-core<0.11.0,>=0.10.1->llama-index-vector-stores-deeplake==0.1.2) (1.4.1)\n",
            "Requirement already satisfied: multidict<7.0,>=4.5 in /usr/local/lib/python3.10/dist-packages (from aiohttp<4.0.0,>=3.8.6->llama-index-core<0.11.0,>=0.10.1->llama-index-vector-stores-deeplake==0.1.2) (6.0.5)\n",
            "Requirement already satisfied: yarl<2.0,>=1.0 in /usr/local/lib/python3.10/dist-packages (from aiohttp<4.0.0,>=3.8.6->llama-index-core<0.11.0,>=0.10.1->llama-index-vector-stores-deeplake==0.1.2) (1.9.4)\n",
            "Requirement already satisfied: async-timeout<5.0,>=4.0 in /usr/local/lib/python3.10/dist-packages (from aiohttp<4.0.0,>=3.8.6->llama-index-core<0.11.0,>=0.10.1->llama-index-vector-stores-deeplake==0.1.2) (4.0.3)\n",
            "Requirement already satisfied: pydantic>=1.10 in /usr/local/lib/python3.10/dist-packages (from llamaindex-py-client<0.2.0,>=0.1.18->llama-index-core<0.11.0,>=0.10.1->llama-index-vector-stores-deeplake==0.1.2) (2.7.1)\n",
            "Requirement already satisfied: anyio in /usr/local/lib/python3.10/dist-packages (from httpx->llama-index-core<0.11.0,>=0.10.1->llama-index-vector-stores-deeplake==0.1.2) (3.7.1)\n",
            "Requirement already satisfied: certifi in /usr/local/lib/python3.10/dist-packages (from httpx->llama-index-core<0.11.0,>=0.10.1->llama-index-vector-stores-deeplake==0.1.2) (2024.2.2)\n",
            "Collecting httpcore==1.* (from httpx->llama-index-core<0.11.0,>=0.10.1->llama-index-vector-stores-deeplake==0.1.2)\n",
            "  Downloading httpcore-1.0.5-py3-none-any.whl (77 kB)\n",
            "\u001b[2K     \u001b[90m━━━━━━━━━━━━━━━━━━━━━━━━━━━━━━━━━━━━━━━━\u001b[0m \u001b[32m77.9/77.9 kB\u001b[0m \u001b[31m10.9 MB/s\u001b[0m eta \u001b[36m0:00:00\u001b[0m\n",
            "\u001b[?25hRequirement already satisfied: idna in /usr/local/lib/python3.10/dist-packages (from httpx->llama-index-core<0.11.0,>=0.10.1->llama-index-vector-stores-deeplake==0.1.2) (3.7)\n",
            "Requirement already satisfied: sniffio in /usr/local/lib/python3.10/dist-packages (from httpx->llama-index-core<0.11.0,>=0.10.1->llama-index-vector-stores-deeplake==0.1.2) (1.3.1)\n",
            "Collecting h11<0.15,>=0.13 (from httpcore==1.*->httpx->llama-index-core<0.11.0,>=0.10.1->llama-index-vector-stores-deeplake==0.1.2)\n",
            "  Downloading h11-0.14.0-py3-none-any.whl (58 kB)\n",
            "\u001b[2K     \u001b[90m━━━━━━━━━━━━━━━━━━━━━━━━━━━━━━━━━━━━━━━━\u001b[0m \u001b[32m58.3/58.3 kB\u001b[0m \u001b[31m7.0 MB/s\u001b[0m eta \u001b[36m0:00:00\u001b[0m\n",
            "\u001b[?25hRequirement already satisfied: click in /usr/local/lib/python3.10/dist-packages (from nltk<4.0.0,>=3.8.1->llama-index-core<0.11.0,>=0.10.1->llama-index-vector-stores-deeplake==0.1.2) (8.1.7)\n",
            "Requirement already satisfied: joblib in /usr/local/lib/python3.10/dist-packages (from nltk<4.0.0,>=3.8.1->llama-index-core<0.11.0,>=0.10.1->llama-index-vector-stores-deeplake==0.1.2) (1.4.2)\n",
            "Requirement already satisfied: regex>=2021.8.3 in /usr/local/lib/python3.10/dist-packages (from nltk<4.0.0,>=3.8.1->llama-index-core<0.11.0,>=0.10.1->llama-index-vector-stores-deeplake==0.1.2) (2023.12.25)\n",
            "Requirement already satisfied: distro<2,>=1.7.0 in /usr/lib/python3/dist-packages (from openai>=1.1.0->llama-index-core<0.11.0,>=0.10.1->llama-index-vector-stores-deeplake==0.1.2) (1.7.0)\n",
            "Requirement already satisfied: charset-normalizer<4,>=2 in /usr/local/lib/python3.10/dist-packages (from requests>=2.31.0->llama-index-core<0.11.0,>=0.10.1->llama-index-vector-stores-deeplake==0.1.2) (3.3.2)\n",
            "Requirement already satisfied: urllib3<3,>=1.21.1 in /usr/local/lib/python3.10/dist-packages (from requests>=2.31.0->llama-index-core<0.11.0,>=0.10.1->llama-index-vector-stores-deeplake==0.1.2) (2.0.7)\n",
            "Requirement already satisfied: greenlet!=0.4.17 in /usr/local/lib/python3.10/dist-packages (from SQLAlchemy[asyncio]>=1.4.49->llama-index-core<0.11.0,>=0.10.1->llama-index-vector-stores-deeplake==0.1.2) (3.0.3)\n",
            "Collecting mypy-extensions>=0.3.0 (from typing-inspect>=0.8.0->llama-index-core<0.11.0,>=0.10.1->llama-index-vector-stores-deeplake==0.1.2)\n",
            "  Downloading mypy_extensions-1.0.0-py3-none-any.whl (4.7 kB)\n",
            "Collecting marshmallow<4.0.0,>=3.18.0 (from dataclasses-json->llama-index-core<0.11.0,>=0.10.1->llama-index-vector-stores-deeplake==0.1.2)\n",
            "  Downloading marshmallow-3.21.2-py3-none-any.whl (49 kB)\n",
            "\u001b[2K     \u001b[90m━━━━━━━━━━━━━━━━━━━━━━━━━━━━━━━━━━━━━━━━\u001b[0m \u001b[32m49.3/49.3 kB\u001b[0m \u001b[31m6.4 MB/s\u001b[0m eta \u001b[36m0:00:00\u001b[0m\n",
            "\u001b[?25hRequirement already satisfied: python-dateutil>=2.8.2 in /usr/local/lib/python3.10/dist-packages (from pandas->llama-index-core<0.11.0,>=0.10.1->llama-index-vector-stores-deeplake==0.1.2) (2.8.2)\n",
            "Requirement already satisfied: pytz>=2020.1 in /usr/local/lib/python3.10/dist-packages (from pandas->llama-index-core<0.11.0,>=0.10.1->llama-index-vector-stores-deeplake==0.1.2) (2023.4)\n",
            "Requirement already satisfied: tzdata>=2022.1 in /usr/local/lib/python3.10/dist-packages (from pandas->llama-index-core<0.11.0,>=0.10.1->llama-index-vector-stores-deeplake==0.1.2) (2024.1)\n",
            "Requirement already satisfied: exceptiongroup in /usr/local/lib/python3.10/dist-packages (from anyio->httpx->llama-index-core<0.11.0,>=0.10.1->llama-index-vector-stores-deeplake==0.1.2) (1.2.1)\n",
            "Requirement already satisfied: packaging>=17.0 in /usr/local/lib/python3.10/dist-packages (from marshmallow<4.0.0,>=3.18.0->dataclasses-json->llama-index-core<0.11.0,>=0.10.1->llama-index-vector-stores-deeplake==0.1.2) (24.0)\n",
            "Requirement already satisfied: annotated-types>=0.4.0 in /usr/local/lib/python3.10/dist-packages (from pydantic>=1.10->llamaindex-py-client<0.2.0,>=0.1.18->llama-index-core<0.11.0,>=0.10.1->llama-index-vector-stores-deeplake==0.1.2) (0.7.0)\n",
            "Requirement already satisfied: pydantic-core==2.18.2 in /usr/local/lib/python3.10/dist-packages (from pydantic>=1.10->llamaindex-py-client<0.2.0,>=0.1.18->llama-index-core<0.11.0,>=0.10.1->llama-index-vector-stores-deeplake==0.1.2) (2.18.2)\n",
            "Requirement already satisfied: six>=1.5 in /usr/local/lib/python3.10/dist-packages (from python-dateutil>=2.8.2->pandas->llama-index-core<0.11.0,>=0.10.1->llama-index-vector-stores-deeplake==0.1.2) (1.16.0)\n",
            "Installing collected packages: dirtyjson, mypy-extensions, marshmallow, h11, deprecated, typing-inspect, tiktoken, httpcore, httpx, dataclasses-json, openai, llamaindex-py-client, llama-index-core, llama-index-vector-stores-deeplake\n",
            "Successfully installed dataclasses-json-0.6.6 deprecated-1.2.14 dirtyjson-1.0.8 h11-0.14.0 httpcore-1.0.5 httpx-0.27.0 llama-index-core-0.10.39.post1 llama-index-vector-stores-deeplake-0.1.2 llamaindex-py-client-0.1.19 marshmallow-3.21.2 mypy-extensions-1.0.0 openai-1.30.3 tiktoken-0.7.0 typing-inspect-0.9.0\n"
          ]
        }
      ],
      "source": [
        "!pip install llama-index-vector-stores-deeplake==0.1.2"
      ]
    },
    {
      "cell_type": "markdown",
      "source": [
        "LlamaIndex supports Deep Lake vector stores through the DeepLakeVectorStore class."
      ],
      "metadata": {
        "id": "QdKOPZwODhMF"
      }
    },
    {
      "cell_type": "code",
      "source": [
        "!pip install deeplake==3.9.8"
      ],
      "metadata": {
        "colab": {
          "base_uri": "https://localhost:8080/"
        },
        "id": "8M5z1Bw9Dnmb",
        "outputId": "d24e9004-ac84-4914-ec2d-59a1bd0fe6cc",
        "collapsed": true
      },
      "execution_count": 4,
      "outputs": [
        {
          "output_type": "stream",
          "name": "stdout",
          "text": [
            "Collecting deeplake==3.9.8\n",
            "  Downloading deeplake-3.9.8.tar.gz (593 kB)\n",
            "\u001b[2K     \u001b[90m━━━━━━━━━━━━━━━━━━━━━━━━━━━━━━━━━━━━━━━━\u001b[0m \u001b[32m593.5/593.5 kB\u001b[0m \u001b[31m5.7 MB/s\u001b[0m eta \u001b[36m0:00:00\u001b[0m\n",
            "\u001b[?25h  Installing build dependencies ... \u001b[?25l\u001b[?25hdone\n",
            "  Getting requirements to build wheel ... \u001b[?25l\u001b[?25hdone\n",
            "  Preparing metadata (pyproject.toml) ... \u001b[?25l\u001b[?25hdone\n",
            "Requirement already satisfied: numpy in /usr/local/lib/python3.10/dist-packages (from deeplake==3.9.8) (1.25.2)\n",
            "Requirement already satisfied: pillow~=10.2.0 in /usr/local/lib/python3.10/dist-packages (from deeplake==3.9.8) (10.2.0)\n",
            "Collecting boto3 (from deeplake==3.9.8)\n",
            "  Downloading boto3-1.34.113-py3-none-any.whl (139 kB)\n",
            "\u001b[2K     \u001b[90m━━━━━━━━━━━━━━━━━━━━━━━━━━━━━━━━━━━━━━━━\u001b[0m \u001b[32m139.3/139.3 kB\u001b[0m \u001b[31m6.5 MB/s\u001b[0m eta \u001b[36m0:00:00\u001b[0m\n",
            "\u001b[?25hRequirement already satisfied: click in /usr/local/lib/python3.10/dist-packages (from deeplake==3.9.8) (8.1.7)\n",
            "Collecting pathos (from deeplake==3.9.8)\n",
            "  Downloading pathos-0.3.2-py3-none-any.whl (82 kB)\n",
            "\u001b[2K     \u001b[90m━━━━━━━━━━━━━━━━━━━━━━━━━━━━━━━━━━━━━━━━\u001b[0m \u001b[32m82.1/82.1 kB\u001b[0m \u001b[31m8.1 MB/s\u001b[0m eta \u001b[36m0:00:00\u001b[0m\n",
            "\u001b[?25hCollecting humbug>=0.3.1 (from deeplake==3.9.8)\n",
            "  Downloading humbug-0.3.2-py3-none-any.whl (15 kB)\n",
            "Requirement already satisfied: tqdm in /usr/local/lib/python3.10/dist-packages (from deeplake==3.9.8) (4.66.4)\n",
            "Collecting lz4 (from deeplake==3.9.8)\n",
            "  Downloading lz4-4.3.3-cp310-cp310-manylinux_2_17_x86_64.manylinux2014_x86_64.whl (1.3 MB)\n",
            "\u001b[2K     \u001b[90m━━━━━━━━━━━━━━━━━━━━━━━━━━━━━━━━━━━━━━━━\u001b[0m \u001b[32m1.3/1.3 MB\u001b[0m \u001b[31m11.4 MB/s\u001b[0m eta \u001b[36m0:00:00\u001b[0m\n",
            "\u001b[?25hRequirement already satisfied: pyjwt in /usr/lib/python3/dist-packages (from deeplake==3.9.8) (2.3.0)\n",
            "Requirement already satisfied: pydantic in /usr/local/lib/python3.10/dist-packages (from deeplake==3.9.8) (2.7.1)\n",
            "Collecting libdeeplake==0.0.129 (from deeplake==3.9.8)\n",
            "  Downloading libdeeplake-0.0.129-cp310-cp310-manylinux_2_28_x86_64.whl (16.3 MB)\n",
            "\u001b[2K     \u001b[90m━━━━━━━━━━━━━━━━━━━━━━━━━━━━━━━━━━━━━━━━\u001b[0m \u001b[32m16.3/16.3 MB\u001b[0m \u001b[31m36.9 MB/s\u001b[0m eta \u001b[36m0:00:00\u001b[0m\n",
            "\u001b[?25hCollecting aioboto3>=10.4.0 (from deeplake==3.9.8)\n",
            "  Downloading aioboto3-13.0.0-py3-none-any.whl (34 kB)\n",
            "Requirement already satisfied: nest-asyncio in /usr/local/lib/python3.10/dist-packages (from deeplake==3.9.8) (1.6.0)\n",
            "Collecting dill (from libdeeplake==0.0.129->deeplake==3.9.8)\n",
            "  Downloading dill-0.3.8-py3-none-any.whl (116 kB)\n",
            "\u001b[2K     \u001b[90m━━━━━━━━━━━━━━━━━━━━━━━━━━━━━━━━━━━━━━━━\u001b[0m \u001b[32m116.3/116.3 kB\u001b[0m \u001b[31m14.7 MB/s\u001b[0m eta \u001b[36m0:00:00\u001b[0m\n",
            "\u001b[?25hCollecting aiobotocore[boto3]==2.13.0 (from aioboto3>=10.4.0->deeplake==3.9.8)\n",
            "  Downloading aiobotocore-2.13.0-py3-none-any.whl (76 kB)\n",
            "\u001b[2K     \u001b[90m━━━━━━━━━━━━━━━━━━━━━━━━━━━━━━━━━━━━━━━━\u001b[0m \u001b[32m76.6/76.6 kB\u001b[0m \u001b[31m10.0 MB/s\u001b[0m eta \u001b[36m0:00:00\u001b[0m\n",
            "\u001b[?25hCollecting aiofiles>=23.2.1 (from aioboto3>=10.4.0->deeplake==3.9.8)\n",
            "  Downloading aiofiles-23.2.1-py3-none-any.whl (15 kB)\n",
            "Collecting botocore<1.34.107,>=1.34.70 (from aiobotocore[boto3]==2.13.0->aioboto3>=10.4.0->deeplake==3.9.8)\n",
            "  Downloading botocore-1.34.106-py3-none-any.whl (12.2 MB)\n",
            "\u001b[2K     \u001b[90m━━━━━━━━━━━━━━━━━━━━━━━━━━━━━━━━━━━━━━━━\u001b[0m \u001b[32m12.2/12.2 MB\u001b[0m \u001b[31m61.8 MB/s\u001b[0m eta \u001b[36m0:00:00\u001b[0m\n",
            "\u001b[?25hRequirement already satisfied: aiohttp<4.0.0,>=3.9.2 in /usr/local/lib/python3.10/dist-packages (from aiobotocore[boto3]==2.13.0->aioboto3>=10.4.0->deeplake==3.9.8) (3.9.5)\n",
            "Requirement already satisfied: wrapt<2.0.0,>=1.10.10 in /usr/local/lib/python3.10/dist-packages (from aiobotocore[boto3]==2.13.0->aioboto3>=10.4.0->deeplake==3.9.8) (1.14.1)\n",
            "Collecting aioitertools<1.0.0,>=0.5.1 (from aiobotocore[boto3]==2.13.0->aioboto3>=10.4.0->deeplake==3.9.8)\n",
            "  Downloading aioitertools-0.11.0-py3-none-any.whl (23 kB)\n",
            "Collecting boto3 (from deeplake==3.9.8)\n",
            "  Downloading boto3-1.34.106-py3-none-any.whl (139 kB)\n",
            "\u001b[2K     \u001b[90m━━━━━━━━━━━━━━━━━━━━━━━━━━━━━━━━━━━━━━━━\u001b[0m \u001b[32m139.3/139.3 kB\u001b[0m \u001b[31m16.4 MB/s\u001b[0m eta \u001b[36m0:00:00\u001b[0m\n",
            "\u001b[?25hCollecting jmespath<2.0.0,>=0.7.1 (from boto3->deeplake==3.9.8)\n",
            "  Downloading jmespath-1.0.1-py3-none-any.whl (20 kB)\n",
            "Collecting s3transfer<0.11.0,>=0.10.0 (from boto3->deeplake==3.9.8)\n",
            "  Downloading s3transfer-0.10.1-py3-none-any.whl (82 kB)\n",
            "\u001b[2K     \u001b[90m━━━━━━━━━━━━━━━━━━━━━━━━━━━━━━━━━━━━━━━━\u001b[0m \u001b[32m82.2/82.2 kB\u001b[0m \u001b[31m10.3 MB/s\u001b[0m eta \u001b[36m0:00:00\u001b[0m\n",
            "\u001b[?25hRequirement already satisfied: requests in /usr/local/lib/python3.10/dist-packages (from humbug>=0.3.1->deeplake==3.9.8) (2.31.0)\n",
            "Collecting ppft>=1.7.6.8 (from pathos->deeplake==3.9.8)\n",
            "  Downloading ppft-1.7.6.8-py3-none-any.whl (56 kB)\n",
            "\u001b[2K     \u001b[90m━━━━━━━━━━━━━━━━━━━━━━━━━━━━━━━━━━━━━━━━\u001b[0m \u001b[32m56.8/56.8 kB\u001b[0m \u001b[31m7.8 MB/s\u001b[0m eta \u001b[36m0:00:00\u001b[0m\n",
            "\u001b[?25hCollecting pox>=0.3.4 (from pathos->deeplake==3.9.8)\n",
            "  Downloading pox-0.3.4-py3-none-any.whl (29 kB)\n",
            "Collecting multiprocess>=0.70.16 (from pathos->deeplake==3.9.8)\n",
            "  Downloading multiprocess-0.70.16-py310-none-any.whl (134 kB)\n",
            "\u001b[2K     \u001b[90m━━━━━━━━━━━━━━━━━━━━━━━━━━━━━━━━━━━━━━━━\u001b[0m \u001b[32m134.8/134.8 kB\u001b[0m \u001b[31m12.5 MB/s\u001b[0m eta \u001b[36m0:00:00\u001b[0m\n",
            "\u001b[?25hRequirement already satisfied: annotated-types>=0.4.0 in /usr/local/lib/python3.10/dist-packages (from pydantic->deeplake==3.9.8) (0.7.0)\n",
            "Requirement already satisfied: pydantic-core==2.18.2 in /usr/local/lib/python3.10/dist-packages (from pydantic->deeplake==3.9.8) (2.18.2)\n",
            "Requirement already satisfied: typing-extensions>=4.6.1 in /usr/local/lib/python3.10/dist-packages (from pydantic->deeplake==3.9.8) (4.11.0)\n",
            "Requirement already satisfied: python-dateutil<3.0.0,>=2.1 in /usr/local/lib/python3.10/dist-packages (from botocore<1.34.107,>=1.34.70->aiobotocore[boto3]==2.13.0->aioboto3>=10.4.0->deeplake==3.9.8) (2.8.2)\n",
            "Requirement already satisfied: urllib3!=2.2.0,<3,>=1.25.4 in /usr/local/lib/python3.10/dist-packages (from botocore<1.34.107,>=1.34.70->aiobotocore[boto3]==2.13.0->aioboto3>=10.4.0->deeplake==3.9.8) (2.0.7)\n",
            "Requirement already satisfied: charset-normalizer<4,>=2 in /usr/local/lib/python3.10/dist-packages (from requests->humbug>=0.3.1->deeplake==3.9.8) (3.3.2)\n",
            "Requirement already satisfied: idna<4,>=2.5 in /usr/local/lib/python3.10/dist-packages (from requests->humbug>=0.3.1->deeplake==3.9.8) (3.7)\n",
            "Requirement already satisfied: certifi>=2017.4.17 in /usr/local/lib/python3.10/dist-packages (from requests->humbug>=0.3.1->deeplake==3.9.8) (2024.2.2)\n",
            "Requirement already satisfied: aiosignal>=1.1.2 in /usr/local/lib/python3.10/dist-packages (from aiohttp<4.0.0,>=3.9.2->aiobotocore[boto3]==2.13.0->aioboto3>=10.4.0->deeplake==3.9.8) (1.3.1)\n",
            "Requirement already satisfied: attrs>=17.3.0 in /usr/local/lib/python3.10/dist-packages (from aiohttp<4.0.0,>=3.9.2->aiobotocore[boto3]==2.13.0->aioboto3>=10.4.0->deeplake==3.9.8) (23.2.0)\n",
            "Requirement already satisfied: frozenlist>=1.1.1 in /usr/local/lib/python3.10/dist-packages (from aiohttp<4.0.0,>=3.9.2->aiobotocore[boto3]==2.13.0->aioboto3>=10.4.0->deeplake==3.9.8) (1.4.1)\n",
            "Requirement already satisfied: multidict<7.0,>=4.5 in /usr/local/lib/python3.10/dist-packages (from aiohttp<4.0.0,>=3.9.2->aiobotocore[boto3]==2.13.0->aioboto3>=10.4.0->deeplake==3.9.8) (6.0.5)\n",
            "Requirement already satisfied: yarl<2.0,>=1.0 in /usr/local/lib/python3.10/dist-packages (from aiohttp<4.0.0,>=3.9.2->aiobotocore[boto3]==2.13.0->aioboto3>=10.4.0->deeplake==3.9.8) (1.9.4)\n",
            "Requirement already satisfied: async-timeout<5.0,>=4.0 in /usr/local/lib/python3.10/dist-packages (from aiohttp<4.0.0,>=3.9.2->aiobotocore[boto3]==2.13.0->aioboto3>=10.4.0->deeplake==3.9.8) (4.0.3)\n",
            "Requirement already satisfied: six>=1.5 in /usr/local/lib/python3.10/dist-packages (from python-dateutil<3.0.0,>=2.1->botocore<1.34.107,>=1.34.70->aiobotocore[boto3]==2.13.0->aioboto3>=10.4.0->deeplake==3.9.8) (1.16.0)\n",
            "Building wheels for collected packages: deeplake\n",
            "  Building wheel for deeplake (pyproject.toml) ... \u001b[?25l\u001b[?25hdone\n",
            "  Created wheel for deeplake: filename=deeplake-3.9.8-py3-none-any.whl size=715257 sha256=078bf2fb5a2bb6f5b2a239adab30f110c37e0122e39efde646920319b9508dac\n",
            "  Stored in directory: /root/.cache/pip/wheels/43/87/e1/27bc3f0fc9147ac3e8a916a0c30c63e38a7a59d5ec1424d78d\n",
            "Successfully built deeplake\n",
            "Installing collected packages: ppft, pox, lz4, jmespath, dill, aioitertools, aiofiles, multiprocess, libdeeplake, humbug, botocore, s3transfer, pathos, aiobotocore, boto3, aioboto3, deeplake\n",
            "Successfully installed aioboto3-13.0.0 aiobotocore-2.13.0 aiofiles-23.2.1 aioitertools-0.11.0 boto3-1.34.106 botocore-1.34.106 deeplake-3.9.8 dill-0.3.8 humbug-0.3.2 jmespath-1.0.1 libdeeplake-0.0.129 lz4-4.3.3 multiprocess-0.70.16 pathos-0.3.2 pox-0.3.4 ppft-1.7.6.8 s3transfer-0.10.1\n"
          ]
        }
      ]
    },
    {
      "cell_type": "code",
      "execution_count": 5,
      "metadata": {
        "collapsed": true,
        "id": "mu_Oaz-iwDPc",
        "colab": {
          "base_uri": "https://localhost:8080/"
        },
        "outputId": "26939e8c-f90d-40a6-8922-5e162b7f7aed"
      },
      "outputs": [
        {
          "output_type": "stream",
          "name": "stdout",
          "text": [
            "Collecting llama-index==0.10.37\n",
            "  Downloading llama_index-0.10.37-py3-none-any.whl (6.8 kB)\n",
            "Collecting llama-index-agent-openai<0.3.0,>=0.1.4 (from llama-index==0.10.37)\n",
            "  Downloading llama_index_agent_openai-0.2.5-py3-none-any.whl (13 kB)\n",
            "Collecting llama-index-cli<0.2.0,>=0.1.2 (from llama-index==0.10.37)\n",
            "  Downloading llama_index_cli-0.1.12-py3-none-any.whl (26 kB)\n",
            "Requirement already satisfied: llama-index-core<0.11.0,>=0.10.35 in /usr/local/lib/python3.10/dist-packages (from llama-index==0.10.37) (0.10.39.post1)\n",
            "Collecting llama-index-embeddings-openai<0.2.0,>=0.1.5 (from llama-index==0.10.37)\n",
            "  Downloading llama_index_embeddings_openai-0.1.10-py3-none-any.whl (6.2 kB)\n",
            "Collecting llama-index-indices-managed-llama-cloud<0.2.0,>=0.1.2 (from llama-index==0.10.37)\n",
            "  Downloading llama_index_indices_managed_llama_cloud-0.1.6-py3-none-any.whl (6.7 kB)\n",
            "Collecting llama-index-legacy<0.10.0,>=0.9.48 (from llama-index==0.10.37)\n",
            "  Downloading llama_index_legacy-0.9.48-py3-none-any.whl (2.0 MB)\n",
            "\u001b[2K     \u001b[90m━━━━━━━━━━━━━━━━━━━━━━━━━━━━━━━━━━━━━━━━\u001b[0m \u001b[32m2.0/2.0 MB\u001b[0m \u001b[31m26.8 MB/s\u001b[0m eta \u001b[36m0:00:00\u001b[0m\n",
            "\u001b[?25hCollecting llama-index-llms-openai<0.2.0,>=0.1.13 (from llama-index==0.10.37)\n",
            "  Downloading llama_index_llms_openai-0.1.21-py3-none-any.whl (11 kB)\n",
            "Collecting llama-index-multi-modal-llms-openai<0.2.0,>=0.1.3 (from llama-index==0.10.37)\n",
            "  Downloading llama_index_multi_modal_llms_openai-0.1.6-py3-none-any.whl (5.8 kB)\n",
            "Collecting llama-index-program-openai<0.2.0,>=0.1.3 (from llama-index==0.10.37)\n",
            "  Downloading llama_index_program_openai-0.1.6-py3-none-any.whl (5.2 kB)\n",
            "Collecting llama-index-question-gen-openai<0.2.0,>=0.1.2 (from llama-index==0.10.37)\n",
            "  Downloading llama_index_question_gen_openai-0.1.3-py3-none-any.whl (2.9 kB)\n",
            "Collecting llama-index-readers-file<0.2.0,>=0.1.4 (from llama-index==0.10.37)\n",
            "  Downloading llama_index_readers_file-0.1.23-py3-none-any.whl (36 kB)\n",
            "Collecting llama-index-readers-llama-parse<0.2.0,>=0.1.2 (from llama-index==0.10.37)\n",
            "  Downloading llama_index_readers_llama_parse-0.1.4-py3-none-any.whl (2.5 kB)\n",
            "Requirement already satisfied: openai>=1.14.0 in /usr/local/lib/python3.10/dist-packages (from llama-index-agent-openai<0.3.0,>=0.1.4->llama-index==0.10.37) (1.30.3)\n",
            "Requirement already satisfied: PyYAML>=6.0.1 in /usr/local/lib/python3.10/dist-packages (from llama-index-core<0.11.0,>=0.10.35->llama-index==0.10.37) (6.0.1)\n",
            "Requirement already satisfied: SQLAlchemy[asyncio]>=1.4.49 in /usr/local/lib/python3.10/dist-packages (from llama-index-core<0.11.0,>=0.10.35->llama-index==0.10.37) (2.0.30)\n",
            "Requirement already satisfied: aiohttp<4.0.0,>=3.8.6 in /usr/local/lib/python3.10/dist-packages (from llama-index-core<0.11.0,>=0.10.35->llama-index==0.10.37) (3.9.5)\n",
            "Requirement already satisfied: dataclasses-json in /usr/local/lib/python3.10/dist-packages (from llama-index-core<0.11.0,>=0.10.35->llama-index==0.10.37) (0.6.6)\n",
            "Requirement already satisfied: deprecated>=1.2.9.3 in /usr/local/lib/python3.10/dist-packages (from llama-index-core<0.11.0,>=0.10.35->llama-index==0.10.37) (1.2.14)\n",
            "Requirement already satisfied: dirtyjson<2.0.0,>=1.0.8 in /usr/local/lib/python3.10/dist-packages (from llama-index-core<0.11.0,>=0.10.35->llama-index==0.10.37) (1.0.8)\n",
            "Requirement already satisfied: fsspec>=2023.5.0 in /usr/local/lib/python3.10/dist-packages (from llama-index-core<0.11.0,>=0.10.35->llama-index==0.10.37) (2023.6.0)\n",
            "Requirement already satisfied: httpx in /usr/local/lib/python3.10/dist-packages (from llama-index-core<0.11.0,>=0.10.35->llama-index==0.10.37) (0.27.0)\n",
            "Requirement already satisfied: llamaindex-py-client<0.2.0,>=0.1.18 in /usr/local/lib/python3.10/dist-packages (from llama-index-core<0.11.0,>=0.10.35->llama-index==0.10.37) (0.1.19)\n",
            "Requirement already satisfied: nest-asyncio<2.0.0,>=1.5.8 in /usr/local/lib/python3.10/dist-packages (from llama-index-core<0.11.0,>=0.10.35->llama-index==0.10.37) (1.6.0)\n",
            "Requirement already satisfied: networkx>=3.0 in /usr/local/lib/python3.10/dist-packages (from llama-index-core<0.11.0,>=0.10.35->llama-index==0.10.37) (3.3)\n",
            "Requirement already satisfied: nltk<4.0.0,>=3.8.1 in /usr/local/lib/python3.10/dist-packages (from llama-index-core<0.11.0,>=0.10.35->llama-index==0.10.37) (3.8.1)\n",
            "Requirement already satisfied: numpy in /usr/local/lib/python3.10/dist-packages (from llama-index-core<0.11.0,>=0.10.35->llama-index==0.10.37) (1.25.2)\n",
            "Requirement already satisfied: pandas in /usr/local/lib/python3.10/dist-packages (from llama-index-core<0.11.0,>=0.10.35->llama-index==0.10.37) (2.0.3)\n",
            "Requirement already satisfied: pillow>=9.0.0 in /usr/local/lib/python3.10/dist-packages (from llama-index-core<0.11.0,>=0.10.35->llama-index==0.10.37) (10.2.0)\n",
            "Requirement already satisfied: requests>=2.31.0 in /usr/local/lib/python3.10/dist-packages (from llama-index-core<0.11.0,>=0.10.35->llama-index==0.10.37) (2.31.0)\n",
            "Requirement already satisfied: tenacity<9.0.0,>=8.2.0 in /usr/local/lib/python3.10/dist-packages (from llama-index-core<0.11.0,>=0.10.35->llama-index==0.10.37) (8.3.0)\n",
            "Requirement already satisfied: tiktoken>=0.3.3 in /usr/local/lib/python3.10/dist-packages (from llama-index-core<0.11.0,>=0.10.35->llama-index==0.10.37) (0.7.0)\n",
            "Requirement already satisfied: tqdm<5.0.0,>=4.66.1 in /usr/local/lib/python3.10/dist-packages (from llama-index-core<0.11.0,>=0.10.35->llama-index==0.10.37) (4.66.4)\n",
            "Requirement already satisfied: typing-extensions>=4.5.0 in /usr/local/lib/python3.10/dist-packages (from llama-index-core<0.11.0,>=0.10.35->llama-index==0.10.37) (4.11.0)\n",
            "Requirement already satisfied: typing-inspect>=0.8.0 in /usr/local/lib/python3.10/dist-packages (from llama-index-core<0.11.0,>=0.10.35->llama-index==0.10.37) (0.9.0)\n",
            "Requirement already satisfied: wrapt in /usr/local/lib/python3.10/dist-packages (from llama-index-core<0.11.0,>=0.10.35->llama-index==0.10.37) (1.14.1)\n",
            "Requirement already satisfied: beautifulsoup4<5.0.0,>=4.12.3 in /usr/local/lib/python3.10/dist-packages (from llama-index-readers-file<0.2.0,>=0.1.4->llama-index==0.10.37) (4.12.3)\n",
            "Collecting pypdf<5.0.0,>=4.0.1 (from llama-index-readers-file<0.2.0,>=0.1.4->llama-index==0.10.37)\n",
            "  Downloading pypdf-4.2.0-py3-none-any.whl (290 kB)\n",
            "\u001b[2K     \u001b[90m━━━━━━━━━━━━━━━━━━━━━━━━━━━━━━━━━━━━━━━━\u001b[0m \u001b[32m290.4/290.4 kB\u001b[0m \u001b[31m25.4 MB/s\u001b[0m eta \u001b[36m0:00:00\u001b[0m\n",
            "\u001b[?25hCollecting striprtf<0.0.27,>=0.0.26 (from llama-index-readers-file<0.2.0,>=0.1.4->llama-index==0.10.37)\n",
            "  Downloading striprtf-0.0.26-py3-none-any.whl (6.9 kB)\n",
            "Collecting llama-parse<0.5.0,>=0.4.0 (from llama-index-readers-llama-parse<0.2.0,>=0.1.2->llama-index==0.10.37)\n",
            "  Downloading llama_parse-0.4.3-py3-none-any.whl (7.7 kB)\n",
            "Requirement already satisfied: aiosignal>=1.1.2 in /usr/local/lib/python3.10/dist-packages (from aiohttp<4.0.0,>=3.8.6->llama-index-core<0.11.0,>=0.10.35->llama-index==0.10.37) (1.3.1)\n",
            "Requirement already satisfied: attrs>=17.3.0 in /usr/local/lib/python3.10/dist-packages (from aiohttp<4.0.0,>=3.8.6->llama-index-core<0.11.0,>=0.10.35->llama-index==0.10.37) (23.2.0)\n",
            "Requirement already satisfied: frozenlist>=1.1.1 in /usr/local/lib/python3.10/dist-packages (from aiohttp<4.0.0,>=3.8.6->llama-index-core<0.11.0,>=0.10.35->llama-index==0.10.37) (1.4.1)\n",
            "Requirement already satisfied: multidict<7.0,>=4.5 in /usr/local/lib/python3.10/dist-packages (from aiohttp<4.0.0,>=3.8.6->llama-index-core<0.11.0,>=0.10.35->llama-index==0.10.37) (6.0.5)\n",
            "Requirement already satisfied: yarl<2.0,>=1.0 in /usr/local/lib/python3.10/dist-packages (from aiohttp<4.0.0,>=3.8.6->llama-index-core<0.11.0,>=0.10.35->llama-index==0.10.37) (1.9.4)\n",
            "Requirement already satisfied: async-timeout<5.0,>=4.0 in /usr/local/lib/python3.10/dist-packages (from aiohttp<4.0.0,>=3.8.6->llama-index-core<0.11.0,>=0.10.35->llama-index==0.10.37) (4.0.3)\n",
            "Requirement already satisfied: soupsieve>1.2 in /usr/local/lib/python3.10/dist-packages (from beautifulsoup4<5.0.0,>=4.12.3->llama-index-readers-file<0.2.0,>=0.1.4->llama-index==0.10.37) (2.5)\n",
            "Requirement already satisfied: pydantic>=1.10 in /usr/local/lib/python3.10/dist-packages (from llamaindex-py-client<0.2.0,>=0.1.18->llama-index-core<0.11.0,>=0.10.35->llama-index==0.10.37) (2.7.1)\n",
            "Requirement already satisfied: anyio in /usr/local/lib/python3.10/dist-packages (from httpx->llama-index-core<0.11.0,>=0.10.35->llama-index==0.10.37) (3.7.1)\n",
            "Requirement already satisfied: certifi in /usr/local/lib/python3.10/dist-packages (from httpx->llama-index-core<0.11.0,>=0.10.35->llama-index==0.10.37) (2024.2.2)\n",
            "Requirement already satisfied: httpcore==1.* in /usr/local/lib/python3.10/dist-packages (from httpx->llama-index-core<0.11.0,>=0.10.35->llama-index==0.10.37) (1.0.5)\n",
            "Requirement already satisfied: idna in /usr/local/lib/python3.10/dist-packages (from httpx->llama-index-core<0.11.0,>=0.10.35->llama-index==0.10.37) (3.7)\n",
            "Requirement already satisfied: sniffio in /usr/local/lib/python3.10/dist-packages (from httpx->llama-index-core<0.11.0,>=0.10.35->llama-index==0.10.37) (1.3.1)\n",
            "Requirement already satisfied: h11<0.15,>=0.13 in /usr/local/lib/python3.10/dist-packages (from httpcore==1.*->httpx->llama-index-core<0.11.0,>=0.10.35->llama-index==0.10.37) (0.14.0)\n",
            "Requirement already satisfied: click in /usr/local/lib/python3.10/dist-packages (from nltk<4.0.0,>=3.8.1->llama-index-core<0.11.0,>=0.10.35->llama-index==0.10.37) (8.1.7)\n",
            "Requirement already satisfied: joblib in /usr/local/lib/python3.10/dist-packages (from nltk<4.0.0,>=3.8.1->llama-index-core<0.11.0,>=0.10.35->llama-index==0.10.37) (1.4.2)\n",
            "Requirement already satisfied: regex>=2021.8.3 in /usr/local/lib/python3.10/dist-packages (from nltk<4.0.0,>=3.8.1->llama-index-core<0.11.0,>=0.10.35->llama-index==0.10.37) (2023.12.25)\n",
            "Requirement already satisfied: distro<2,>=1.7.0 in /usr/lib/python3/dist-packages (from openai>=1.14.0->llama-index-agent-openai<0.3.0,>=0.1.4->llama-index==0.10.37) (1.7.0)\n",
            "Requirement already satisfied: charset-normalizer<4,>=2 in /usr/local/lib/python3.10/dist-packages (from requests>=2.31.0->llama-index-core<0.11.0,>=0.10.35->llama-index==0.10.37) (3.3.2)\n",
            "Requirement already satisfied: urllib3<3,>=1.21.1 in /usr/local/lib/python3.10/dist-packages (from requests>=2.31.0->llama-index-core<0.11.0,>=0.10.35->llama-index==0.10.37) (2.0.7)\n",
            "Requirement already satisfied: greenlet!=0.4.17 in /usr/local/lib/python3.10/dist-packages (from SQLAlchemy[asyncio]>=1.4.49->llama-index-core<0.11.0,>=0.10.35->llama-index==0.10.37) (3.0.3)\n",
            "Requirement already satisfied: mypy-extensions>=0.3.0 in /usr/local/lib/python3.10/dist-packages (from typing-inspect>=0.8.0->llama-index-core<0.11.0,>=0.10.35->llama-index==0.10.37) (1.0.0)\n",
            "Requirement already satisfied: marshmallow<4.0.0,>=3.18.0 in /usr/local/lib/python3.10/dist-packages (from dataclasses-json->llama-index-core<0.11.0,>=0.10.35->llama-index==0.10.37) (3.21.2)\n",
            "Requirement already satisfied: python-dateutil>=2.8.2 in /usr/local/lib/python3.10/dist-packages (from pandas->llama-index-core<0.11.0,>=0.10.35->llama-index==0.10.37) (2.8.2)\n",
            "Requirement already satisfied: pytz>=2020.1 in /usr/local/lib/python3.10/dist-packages (from pandas->llama-index-core<0.11.0,>=0.10.35->llama-index==0.10.37) (2023.4)\n",
            "Requirement already satisfied: tzdata>=2022.1 in /usr/local/lib/python3.10/dist-packages (from pandas->llama-index-core<0.11.0,>=0.10.35->llama-index==0.10.37) (2024.1)\n",
            "Requirement already satisfied: exceptiongroup in /usr/local/lib/python3.10/dist-packages (from anyio->httpx->llama-index-core<0.11.0,>=0.10.35->llama-index==0.10.37) (1.2.1)\n",
            "Requirement already satisfied: packaging>=17.0 in /usr/local/lib/python3.10/dist-packages (from marshmallow<4.0.0,>=3.18.0->dataclasses-json->llama-index-core<0.11.0,>=0.10.35->llama-index==0.10.37) (24.0)\n",
            "Requirement already satisfied: annotated-types>=0.4.0 in /usr/local/lib/python3.10/dist-packages (from pydantic>=1.10->llamaindex-py-client<0.2.0,>=0.1.18->llama-index-core<0.11.0,>=0.10.35->llama-index==0.10.37) (0.7.0)\n",
            "Requirement already satisfied: pydantic-core==2.18.2 in /usr/local/lib/python3.10/dist-packages (from pydantic>=1.10->llamaindex-py-client<0.2.0,>=0.1.18->llama-index-core<0.11.0,>=0.10.35->llama-index==0.10.37) (2.18.2)\n",
            "Requirement already satisfied: six>=1.5 in /usr/local/lib/python3.10/dist-packages (from python-dateutil>=2.8.2->pandas->llama-index-core<0.11.0,>=0.10.35->llama-index==0.10.37) (1.16.0)\n",
            "Installing collected packages: striprtf, pypdf, llama-index-legacy, llama-parse, llama-index-readers-file, llama-index-llms-openai, llama-index-indices-managed-llama-cloud, llama-index-embeddings-openai, llama-index-readers-llama-parse, llama-index-multi-modal-llms-openai, llama-index-cli, llama-index-agent-openai, llama-index-program-openai, llama-index-question-gen-openai, llama-index\n",
            "Successfully installed llama-index-0.10.37 llama-index-agent-openai-0.2.5 llama-index-cli-0.1.12 llama-index-embeddings-openai-0.1.10 llama-index-indices-managed-llama-cloud-0.1.6 llama-index-legacy-0.9.48 llama-index-llms-openai-0.1.21 llama-index-multi-modal-llms-openai-0.1.6 llama-index-program-openai-0.1.6 llama-index-question-gen-openai-0.1.3 llama-index-readers-file-0.1.23 llama-index-readers-llama-parse-0.1.4 llama-parse-0.4.3 pypdf-4.2.0 striprtf-0.0.26\n"
          ]
        }
      ],
      "source": [
        "!pip install llama-index==0.10.37"
      ]
    },
    {
      "cell_type": "markdown",
      "metadata": {
        "id": "v5FzFmqlwDPc"
      },
      "source": [
        "Next, let's import the required modules and set the needed environmental variables:"
      ]
    },
    {
      "cell_type": "code",
      "execution_count": 6,
      "metadata": {
        "id": "hhrXavfywDPc"
      },
      "outputs": [],
      "source": [
        "from llama_index.core import VectorStoreIndex, SimpleDirectoryReader, Document\n",
        "from llama_index.vector_stores.deeplake import DeepLakeVectorStore"
      ]
    },
    {
      "cell_type": "code",
      "execution_count": 7,
      "metadata": {
        "id": "MVEkwfwKQd31",
        "colab": {
          "base_uri": "https://localhost:8080/"
        },
        "outputId": "22d9a07c-cdb1-4d6d-c010-9b79f94c11cc"
      },
      "outputs": [
        {
          "output_type": "stream",
          "name": "stdout",
          "text": [
            "Collecting sentence-transformers==2.7.0\n",
            "  Downloading sentence_transformers-2.7.0-py3-none-any.whl (171 kB)\n",
            "\u001b[?25l     \u001b[90m━━━━━━━━━━━━━━━━━━━━━━━━━━━━━━━━━━━━━━━━\u001b[0m \u001b[32m0.0/171.5 kB\u001b[0m \u001b[31m?\u001b[0m eta \u001b[36m-:--:--\u001b[0m\r\u001b[2K     \u001b[91m━━━━━━━━━━━━━━━━━━━━━━━━━━━━━━━━━\u001b[0m\u001b[90m╺\u001b[0m\u001b[90m━━━━━━\u001b[0m \u001b[32m143.4/171.5 kB\u001b[0m \u001b[31m4.0 MB/s\u001b[0m eta \u001b[36m0:00:01\u001b[0m\r\u001b[2K     \u001b[90m━━━━━━━━━━━━━━━━━━━━━━━━━━━━━━━━━━━━━━━━\u001b[0m \u001b[32m171.5/171.5 kB\u001b[0m \u001b[31m3.7 MB/s\u001b[0m eta \u001b[36m0:00:00\u001b[0m\n",
            "\u001b[?25hRequirement already satisfied: transformers<5.0.0,>=4.34.0 in /usr/local/lib/python3.10/dist-packages (from sentence-transformers==2.7.0) (4.41.0)\n",
            "Requirement already satisfied: tqdm in /usr/local/lib/python3.10/dist-packages (from sentence-transformers==2.7.0) (4.66.4)\n",
            "Requirement already satisfied: torch>=1.11.0 in /usr/local/lib/python3.10/dist-packages (from sentence-transformers==2.7.0) (2.3.0+cu121)\n",
            "Requirement already satisfied: numpy in /usr/local/lib/python3.10/dist-packages (from sentence-transformers==2.7.0) (1.25.2)\n",
            "Requirement already satisfied: scikit-learn in /usr/local/lib/python3.10/dist-packages (from sentence-transformers==2.7.0) (1.2.2)\n",
            "Requirement already satisfied: scipy in /usr/local/lib/python3.10/dist-packages (from sentence-transformers==2.7.0) (1.11.4)\n",
            "Requirement already satisfied: huggingface-hub>=0.15.1 in /usr/local/lib/python3.10/dist-packages (from sentence-transformers==2.7.0) (0.23.1)\n",
            "Requirement already satisfied: Pillow in /usr/local/lib/python3.10/dist-packages (from sentence-transformers==2.7.0) (10.2.0)\n",
            "Requirement already satisfied: filelock in /usr/local/lib/python3.10/dist-packages (from huggingface-hub>=0.15.1->sentence-transformers==2.7.0) (3.14.0)\n",
            "Requirement already satisfied: fsspec>=2023.5.0 in /usr/local/lib/python3.10/dist-packages (from huggingface-hub>=0.15.1->sentence-transformers==2.7.0) (2023.6.0)\n",
            "Requirement already satisfied: packaging>=20.9 in /usr/local/lib/python3.10/dist-packages (from huggingface-hub>=0.15.1->sentence-transformers==2.7.0) (24.0)\n",
            "Requirement already satisfied: pyyaml>=5.1 in /usr/local/lib/python3.10/dist-packages (from huggingface-hub>=0.15.1->sentence-transformers==2.7.0) (6.0.1)\n",
            "Requirement already satisfied: requests in /usr/local/lib/python3.10/dist-packages (from huggingface-hub>=0.15.1->sentence-transformers==2.7.0) (2.31.0)\n",
            "Requirement already satisfied: typing-extensions>=3.7.4.3 in /usr/local/lib/python3.10/dist-packages (from huggingface-hub>=0.15.1->sentence-transformers==2.7.0) (4.11.0)\n",
            "Requirement already satisfied: sympy in /usr/local/lib/python3.10/dist-packages (from torch>=1.11.0->sentence-transformers==2.7.0) (1.12)\n",
            "Requirement already satisfied: networkx in /usr/local/lib/python3.10/dist-packages (from torch>=1.11.0->sentence-transformers==2.7.0) (3.3)\n",
            "Requirement already satisfied: jinja2 in /usr/local/lib/python3.10/dist-packages (from torch>=1.11.0->sentence-transformers==2.7.0) (3.1.4)\n",
            "Collecting nvidia-cuda-nvrtc-cu12==12.1.105 (from torch>=1.11.0->sentence-transformers==2.7.0)\n",
            "  Using cached nvidia_cuda_nvrtc_cu12-12.1.105-py3-none-manylinux1_x86_64.whl (23.7 MB)\n",
            "Collecting nvidia-cuda-runtime-cu12==12.1.105 (from torch>=1.11.0->sentence-transformers==2.7.0)\n",
            "  Using cached nvidia_cuda_runtime_cu12-12.1.105-py3-none-manylinux1_x86_64.whl (823 kB)\n",
            "Collecting nvidia-cuda-cupti-cu12==12.1.105 (from torch>=1.11.0->sentence-transformers==2.7.0)\n",
            "  Using cached nvidia_cuda_cupti_cu12-12.1.105-py3-none-manylinux1_x86_64.whl (14.1 MB)\n",
            "Collecting nvidia-cudnn-cu12==8.9.2.26 (from torch>=1.11.0->sentence-transformers==2.7.0)\n",
            "  Using cached nvidia_cudnn_cu12-8.9.2.26-py3-none-manylinux1_x86_64.whl (731.7 MB)\n",
            "Collecting nvidia-cublas-cu12==12.1.3.1 (from torch>=1.11.0->sentence-transformers==2.7.0)\n",
            "  Using cached nvidia_cublas_cu12-12.1.3.1-py3-none-manylinux1_x86_64.whl (410.6 MB)\n",
            "Collecting nvidia-cufft-cu12==11.0.2.54 (from torch>=1.11.0->sentence-transformers==2.7.0)\n",
            "  Using cached nvidia_cufft_cu12-11.0.2.54-py3-none-manylinux1_x86_64.whl (121.6 MB)\n",
            "Collecting nvidia-curand-cu12==10.3.2.106 (from torch>=1.11.0->sentence-transformers==2.7.0)\n",
            "  Using cached nvidia_curand_cu12-10.3.2.106-py3-none-manylinux1_x86_64.whl (56.5 MB)\n",
            "Collecting nvidia-cusolver-cu12==11.4.5.107 (from torch>=1.11.0->sentence-transformers==2.7.0)\n",
            "  Using cached nvidia_cusolver_cu12-11.4.5.107-py3-none-manylinux1_x86_64.whl (124.2 MB)\n",
            "Collecting nvidia-cusparse-cu12==12.1.0.106 (from torch>=1.11.0->sentence-transformers==2.7.0)\n",
            "  Using cached nvidia_cusparse_cu12-12.1.0.106-py3-none-manylinux1_x86_64.whl (196.0 MB)\n",
            "Collecting nvidia-nccl-cu12==2.20.5 (from torch>=1.11.0->sentence-transformers==2.7.0)\n",
            "  Using cached nvidia_nccl_cu12-2.20.5-py3-none-manylinux2014_x86_64.whl (176.2 MB)\n",
            "Collecting nvidia-nvtx-cu12==12.1.105 (from torch>=1.11.0->sentence-transformers==2.7.0)\n",
            "  Using cached nvidia_nvtx_cu12-12.1.105-py3-none-manylinux1_x86_64.whl (99 kB)\n",
            "Requirement already satisfied: triton==2.3.0 in /usr/local/lib/python3.10/dist-packages (from torch>=1.11.0->sentence-transformers==2.7.0) (2.3.0)\n",
            "Collecting nvidia-nvjitlink-cu12 (from nvidia-cusolver-cu12==11.4.5.107->torch>=1.11.0->sentence-transformers==2.7.0)\n",
            "  Downloading nvidia_nvjitlink_cu12-12.5.40-py3-none-manylinux2014_x86_64.whl (21.3 MB)\n",
            "\u001b[2K     \u001b[90m━━━━━━━━━━━━━━━━━━━━━━━━━━━━━━━━━━━━━━━━\u001b[0m \u001b[32m21.3/21.3 MB\u001b[0m \u001b[31m58.2 MB/s\u001b[0m eta \u001b[36m0:00:00\u001b[0m\n",
            "\u001b[?25hRequirement already satisfied: regex!=2019.12.17 in /usr/local/lib/python3.10/dist-packages (from transformers<5.0.0,>=4.34.0->sentence-transformers==2.7.0) (2023.12.25)\n",
            "Requirement already satisfied: tokenizers<0.20,>=0.19 in /usr/local/lib/python3.10/dist-packages (from transformers<5.0.0,>=4.34.0->sentence-transformers==2.7.0) (0.19.1)\n",
            "Requirement already satisfied: safetensors>=0.4.1 in /usr/local/lib/python3.10/dist-packages (from transformers<5.0.0,>=4.34.0->sentence-transformers==2.7.0) (0.4.3)\n",
            "Requirement already satisfied: joblib>=1.1.1 in /usr/local/lib/python3.10/dist-packages (from scikit-learn->sentence-transformers==2.7.0) (1.4.2)\n",
            "Requirement already satisfied: threadpoolctl>=2.0.0 in /usr/local/lib/python3.10/dist-packages (from scikit-learn->sentence-transformers==2.7.0) (3.5.0)\n",
            "Requirement already satisfied: MarkupSafe>=2.0 in /usr/local/lib/python3.10/dist-packages (from jinja2->torch>=1.11.0->sentence-transformers==2.7.0) (2.1.5)\n",
            "Requirement already satisfied: charset-normalizer<4,>=2 in /usr/local/lib/python3.10/dist-packages (from requests->huggingface-hub>=0.15.1->sentence-transformers==2.7.0) (3.3.2)\n",
            "Requirement already satisfied: idna<4,>=2.5 in /usr/local/lib/python3.10/dist-packages (from requests->huggingface-hub>=0.15.1->sentence-transformers==2.7.0) (3.7)\n",
            "Requirement already satisfied: urllib3<3,>=1.21.1 in /usr/local/lib/python3.10/dist-packages (from requests->huggingface-hub>=0.15.1->sentence-transformers==2.7.0) (2.0.7)\n",
            "Requirement already satisfied: certifi>=2017.4.17 in /usr/local/lib/python3.10/dist-packages (from requests->huggingface-hub>=0.15.1->sentence-transformers==2.7.0) (2024.2.2)\n",
            "Requirement already satisfied: mpmath>=0.19 in /usr/local/lib/python3.10/dist-packages (from sympy->torch>=1.11.0->sentence-transformers==2.7.0) (1.3.0)\n",
            "Installing collected packages: nvidia-nvtx-cu12, nvidia-nvjitlink-cu12, nvidia-nccl-cu12, nvidia-curand-cu12, nvidia-cufft-cu12, nvidia-cuda-runtime-cu12, nvidia-cuda-nvrtc-cu12, nvidia-cuda-cupti-cu12, nvidia-cublas-cu12, nvidia-cusparse-cu12, nvidia-cudnn-cu12, nvidia-cusolver-cu12, sentence-transformers\n",
            "Successfully installed nvidia-cublas-cu12-12.1.3.1 nvidia-cuda-cupti-cu12-12.1.105 nvidia-cuda-nvrtc-cu12-12.1.105 nvidia-cuda-runtime-cu12-12.1.105 nvidia-cudnn-cu12-8.9.2.26 nvidia-cufft-cu12-11.0.2.54 nvidia-curand-cu12-10.3.2.106 nvidia-cusolver-cu12-11.4.5.107 nvidia-cusparse-cu12-12.1.0.106 nvidia-nccl-cu12-2.20.5 nvidia-nvjitlink-cu12-12.5.40 nvidia-nvtx-cu12-12.1.105 sentence-transformers-2.7.0\n"
          ]
        }
      ],
      "source": [
        "!pip install sentence-transformers==2.7.0"
      ]
    },
    {
      "cell_type": "code",
      "source": [
        "#Retrieving and setting the OpenAI API key\n",
        "f = open(\"drive/MyDrive/files/api_key.txt\", \"r\")\n",
        "API_KEY=f.readline()\n",
        "f.close()\n",
        "\n",
        "#The OpenAI KeyActiveloop and OpenAI API keys\n",
        "import os\n",
        "import openai\n",
        "os.environ['OPENAI_API_KEY'] =API_KEY\n",
        "openai.api_key = os.getenv(\"OPENAI_API_KEY\")"
      ],
      "metadata": {
        "id": "Oefvqp21Ba07"
      },
      "execution_count": 8,
      "outputs": []
    },
    {
      "cell_type": "code",
      "source": [
        "#Retrieving and setting the Activeloop API token\n",
        "f = open(\"drive/MyDrive/files/activeloop.txt\", \"r\")\n",
        "API_token=f.readline()\n",
        "f.close()\n",
        "ACTIVELOOP_TOKEN=API_token\n",
        "os.environ['ACTIVELOOP_TOKEN'] =ACTIVELOOP_TOKEN"
      ],
      "metadata": {
        "id": "Iba6wGaaBgPQ"
      },
      "execution_count": 9,
      "outputs": []
    },
    {
      "cell_type": "code",
      "source": [
        "# For Google Colab and Activeloop while waiting for Activeloop (April 2024) pending new version\n",
        "#This line writes the string \"nameserver 8.8.8.8\" to the file. This is specifying that the DNS server the system\n",
        "#should use is at the IP address 8.8.8.8, which is one of Google's Public DNS servers.\n",
        "with open('/etc/resolv.conf', 'w') as file:\n",
        "   file.write(\"nameserver 8.8.8.8\")"
      ],
      "metadata": {
        "id": "vv0TB4Q8fCfT"
      },
      "execution_count": 10,
      "outputs": []
    },
    {
      "cell_type": "markdown",
      "metadata": {
        "id": "uv6D57cwwDPd"
      },
      "source": [
        "We are going to embed and store one of Paul Graham's essays in a Deep Lake Vector Store stored locally. First, we download the data to a directory called `data/paul_graham`"
      ]
    },
    {
      "cell_type": "markdown",
      "metadata": {
        "id": "KttJwsU-wDPd"
      },
      "source": [
        "# Pipeline 1 : Collecting and preparing the documents"
      ]
    },
    {
      "cell_type": "code",
      "source": [
        "!mkdir data"
      ],
      "metadata": {
        "id": "TW5upfyvxelp"
      },
      "execution_count": 11,
      "outputs": []
    },
    {
      "cell_type": "code",
      "source": [
        "import requests\n",
        "from bs4 import BeautifulSoup\n",
        "import re\n",
        "import os\n",
        "\n",
        "urls = [\n",
        "    \"https://github.com/VisDrone/VisDrone-Dataset\",\n",
        "    \"https://paperswithcode.com/dataset/visdrone\",\n",
        "    \"https://openaccess.thecvf.com/content_ECCVW_2018/papers/11133/Zhu_VisDrone-DET2018_The_Vision_Meets_Drone_Object_Detection_in_Image_Challenge_ECCVW_2018_paper.pdf\",\n",
        "    \"https://github.com/VisDrone/VisDrone2018-MOT-toolkit\",\n",
        "    \"https://en.wikipedia.org/wiki/Object_detection\",\n",
        "    \"https://en.wikipedia.org/wiki/Computer_vision\",\n",
        "    \"https://en.wikipedia.org/wiki/Convolutional_neural_network\",\n",
        "    \"https://en.wikipedia.org/wiki/Unmanned_aerial_vehicle\",\n",
        "    \"https://www.faa.gov/uas/\",\n",
        "    \"https://www.tensorflow.org/\",\n",
        "    \"https://pytorch.org/\",\n",
        "    \"https://keras.io/\",\n",
        "    \"https://arxiv.org/abs/1804.06985\",\n",
        "    \"https://arxiv.org/abs/2202.11983\",\n",
        "    \"https://motchallenge.net/\",\n",
        "    \"http://www.cvlibs.net/datasets/kitti/\",\n",
        "    \"https://www.dronedeploy.com/\",\n",
        "    \"https://www.dji.com/\",\n",
        "    \"https://arxiv.org/\",\n",
        "    \"https://openaccess.thecvf.com/\",\n",
        "    \"https://roboflow.com/\",\n",
        "    \"https://www.kaggle.com/\",\n",
        "    \"https://paperswithcode.com/\",\n",
        "    \"https://github.com/\"\n",
        "]"
      ],
      "metadata": {
        "id": "ES8Q6jvjEmW6"
      },
      "execution_count": 12,
      "outputs": []
    },
    {
      "cell_type": "code",
      "source": [
        "import requests\n",
        "import re\n",
        "import os\n",
        "from bs4 import BeautifulSoup\n",
        "\n",
        "def clean_text(content):\n",
        "    # Remove references and unwanted characters\n",
        "    content = re.sub(r'\\[\\d+\\]', '', content)   # Remove references\n",
        "    content = re.sub(r'[^\\w\\s\\.]', '', content)  # Remove punctuation (except periods)\n",
        "    return content\n",
        "\n",
        "def fetch_and_clean(url):\n",
        "    try:\n",
        "        response = requests.get(url)\n",
        "        response.raise_for_status()  # Raise exception for bad responses (e.g., 404)\n",
        "        soup = BeautifulSoup(response.content, 'html.parser')\n",
        "\n",
        "        # Prioritize \"mw-parser-output\" but fall back to \"content\" class if not found\n",
        "        content = soup.find('div', {'class': 'mw-parser-output'}) or soup.find('div', {'id': 'content'})\n",
        "        if content is None:\n",
        "            return None\n",
        "\n",
        "        # Remove specific sections, including nested ones\n",
        "        for section_title in ['References', 'Bibliography', 'External links', 'See also', 'Notes']:\n",
        "            section = content.find('span', id=section_title)\n",
        "            while section:\n",
        "                for sib in section.parent.find_next_siblings():\n",
        "                    sib.decompose()\n",
        "                section.parent.decompose()\n",
        "                section = content.find('span', id=section_title)\n",
        "\n",
        "        # Extract and clean text\n",
        "        text = content.get_text(separator=' ', strip=True)\n",
        "        text = clean_text(text)\n",
        "        return text\n",
        "    except requests.exceptions.RequestException as e:\n",
        "        print(f\"Error fetching content from {url}: {e}\")\n",
        "        return None  # Return None on error\n",
        "\n",
        "# Directory to store the output files\n",
        "output_dir = './data/'  # More descriptive name\n",
        "os.makedirs(output_dir, exist_ok=True)\n",
        "\n",
        "# Processing each URL (and skipping invalid ones)\n",
        "for url in urls:\n",
        "    article_name = url.split('/')[-1].replace('.html', '')  # Handle .html extension\n",
        "    filename = os.path.join(output_dir, f\"{article_name}.txt\")\n",
        "\n",
        "    clean_article_text = fetch_and_clean(url)\n",
        "    if clean_article_text:  # Only write to file if content exists\n",
        "        with open(filename, 'w', encoding='utf-8') as file:\n",
        "            file.write(clean_article_text)\n",
        "\n",
        "print(f\"Content(ones that were possible) written to files in the '{output_dir}' directory.\")"
      ],
      "metadata": {
        "colab": {
          "base_uri": "https://localhost:8080/"
        },
        "id": "bfIuA3FAD7Tv",
        "outputId": "2ea36b45-b322-406b-95e3-6af342151743"
      },
      "execution_count": 13,
      "outputs": [
        {
          "output_type": "stream",
          "name": "stderr",
          "text": [
            "WARNING:bs4.dammit:Some characters could not be decoded, and were replaced with REPLACEMENT CHARACTER.\n"
          ]
        },
        {
          "output_type": "stream",
          "name": "stdout",
          "text": [
            "Content(ones that were possible) written to files in the './data/' directory.\n"
          ]
        }
      ]
    },
    {
      "cell_type": "code",
      "execution_count": 14,
      "metadata": {
        "id": "dRNMEPiAwDPd"
      },
      "outputs": [],
      "source": [
        "# load documents\n",
        "documents = SimpleDirectoryReader(\"./data/\").load_data()"
      ]
    },
    {
      "cell_type": "code",
      "source": [
        "documents[0]"
      ],
      "metadata": {
        "colab": {
          "base_uri": "https://localhost:8080/"
        },
        "id": "SXntxjTMMt3L",
        "outputId": "5029b82c-aa1d-4d83-8de7-52372a9b4a9f",
        "collapsed": true
      },
      "execution_count": 15,
      "outputs": [
        {
          "output_type": "execute_result",
          "data": {
            "text/plain": [
              "Document(id_='80ec3f8e-c637-4f72-96f3-58ed6de553d9', embedding=None, metadata={'file_path': '/content/data/1804.06985.txt', 'file_name': '1804.06985.txt', 'file_type': 'text/plain', 'file_size': 3698, 'creation_date': '2024-05-28', 'last_modified_date': '2024-05-28'}, excluded_embed_metadata_keys=['file_name', 'file_type', 'file_size', 'creation_date', 'last_modified_date', 'last_accessed_date'], excluded_llm_metadata_keys=['file_name', 'file_type', 'file_size', 'creation_date', 'last_modified_date', 'last_accessed_date'], relationships={}, text='High Energy Physics  Theory arXiv1804.06985 hepth Submitted on 19 Apr 2018 Title A Near Horizon Extreme Binary Black Hole Geometry Authors Jacob Ciafre  Maria J. Rodriguez View a PDF of the paper titled A Near Horizon Extreme Binary Black Hole Geometry by Jacob Ciafre and Maria J. Rodriguez View PDF Abstract A new solution of fourdimensional vacuum General Relativity is presented. It describes the near horizon region of the extreme maximally spinning binary black hole system with two identical extreme Kerr black holes held in equilibrium by a massless strut. This is the first example of a nonsupersymmetric asymptotically flat near horizon extreme binary black hole geometry of two uncharged black holes. The black holes are corotating and the solution is uniquely specified by the mass. The binary extreme system has finite entropy. The distance between the black holes is fixed but there is a zerodistance limit where the objects collapse into one. This limiting geometry corresponds to the near horizon extreme Kerr NHEK black hole. Comments 1 figure Subjects High Energy Physics  Theory hepth  High Energy Astrophysical Phenomena astroph.HE General Relativity and Quantum Cosmology grqc Cite as arXiv1804.06985 hepth or arXiv1804.06985v1 hepth for this version httpsdoi.org10.48550arXiv.1804.06985 Focus to learn more arXivissued DOI via DataCite Related DOI  httpsdoi.org10.1140epjcs1005201971883 Focus to learn more DOIs linking to related resources Submission history From Maria J. Rodriguez  view email  v1 Thu 19 Apr 2018 031545 UTC 173 KB Fulltext links Access Paper View a PDF of the paper titled A Near Horizon Extreme Binary Black Hole Geometry by Jacob Ciafre and Maria J. Rodriguez View PDF TeX Source Other Formats view license Current browse context hepth \\xa0prev  next\\xa0 new  recent  1804 Change to browse by astroph astroph.HE grqc References  Citations INSPIRE HEP NASA ADS Google Scholar Semantic Scholar a export BibTeX citation Loading... BibTeX formatted citation  loading... Data provided by Bookmark Bibliographic Tools Bibliographic and Citation Tools Bibliographic Explorer Toggle Bibliographic Explorer  What is the Explorer  Litmaps Toggle Litmaps  What is Litmaps  scite.ai Toggle scite Smart Citations  What are Smart Citations  Code Data Media Code Data and Media Associated with this Article Links to Code Toggle CatalyzeX Code Finder for Papers  What is CatalyzeX  DagsHub Toggle DagsHub  What is DagsHub  GotitPub Toggle Gotit.pub  What is GotitPub  Links to Code Toggle Papers with Code  What is Papers with Code  ScienceCast Toggle ScienceCast  What is ScienceCast  Demos Demos Replicate Toggle Replicate  What is Replicate  Spaces Toggle Hugging Face Spaces  What is Spaces  Spaces Toggle TXYZ.AI  What is TXYZ.AI  Related Papers Recommenders and Search Tools Link to Influence Flower Influence Flower  What are Influence Flowers  Connected Papers Toggle Connected Papers  What is Connected Papers  Core recommender toggle CORE Recommender  What is CORE  IArxiv recommender toggle IArxiv Recommender  What is IArxiv  Author Venue Institution Topic About arXivLabs arXivLabs experimental projects with community collaborators arXivLabs is a framework that allows collaborators to develop and share new arXiv features directly on our website. Both individuals and organizations that work with arXivLabs have embraced and accepted our values of openness community excellence and user data privacy. arXiv is committed to these values and only works with partners that adhere to them. Have an idea for a project that will add value for arXivs community Learn more about arXivLabs . Which authors of this paper are endorsers  Disable MathJax  What is MathJax ', start_char_idx=None, end_char_idx=None, text_template='{metadata_str}\\n\\n{content}', metadata_template='{key}: {value}', metadata_seperator='\\n')"
            ]
          },
          "metadata": {},
          "execution_count": 15
        }
      ]
    },
    {
      "cell_type": "markdown",
      "source": [
        "# Pipeline 2 : Creating and populating a Deep Lake Vector Store"
      ],
      "metadata": {
        "id": "rvtrIvyygGte"
      }
    },
    {
      "cell_type": "code",
      "execution_count": 16,
      "metadata": {
        "outputId": "cdcc363c-7eff-4745-f0ec-15d7fa04e985",
        "colab": {
          "base_uri": "https://localhost:8080/"
        },
        "id": "6hoayqOE1kvj",
        "collapsed": true
      },
      "outputs": [
        {
          "output_type": "stream",
          "name": "stdout",
          "text": [
            "Your Deep Lake dataset has been successfully created!\n"
          ]
        },
        {
          "output_type": "stream",
          "name": "stderr",
          "text": []
        },
        {
          "output_type": "stream",
          "name": "stdout",
          "text": [
            "Uploading data to deeplake dataset.\n"
          ]
        },
        {
          "output_type": "stream",
          "name": "stderr",
          "text": [
            "100%|██████████| 41/41 [00:02<00:00, 16.81it/s]\n",
            "-"
          ]
        },
        {
          "output_type": "stream",
          "name": "stdout",
          "text": [
            "Dataset(path='hub://denis76/drone_v1', tensors=['text', 'metadata', 'embedding', 'id'])\n",
            "\n",
            "  tensor      htype      shape      dtype  compression\n",
            "  -------    -------    -------    -------  ------- \n",
            "   text       text      (41, 1)      str     None   \n",
            " metadata     json      (41, 1)      str     None   \n",
            " embedding  embedding  (41, 1536)  float32   None   \n",
            "    id        text      (41, 1)      str     None   \n"
          ]
        },
        {
          "output_type": "stream",
          "name": "stderr",
          "text": [
            "\r \r"
          ]
        }
      ],
      "source": [
        "from llama_index.core import StorageContext\n",
        "\n",
        "vector_store_path = \"hub://denis76/drone_v1\"\n",
        "dataset_path = \"hub://denis76/drone_v1\"\n",
        "\n",
        "# overwrite=True will overwrite dataset, False will append it\n",
        "vector_store = DeepLakeVectorStore(dataset_path=dataset_path, overwrite=True)\n",
        "storage_context = StorageContext.from_defaults(vector_store=vector_store)\n",
        "# Create an index over the documents\n",
        "index = VectorStoreIndex.from_documents(documents, storage_context=storage_context)"
      ]
    },
    {
      "cell_type": "code",
      "source": [
        "import deeplake\n",
        "ds = deeplake.load(dataset_path)  # Load the dataset"
      ],
      "metadata": {
        "colab": {
          "base_uri": "https://localhost:8080/"
        },
        "id": "BLOzm5hfQfq3",
        "outputId": "30a86306-645a-422d-91bd-f2bf8de39213"
      },
      "execution_count": 17,
      "outputs": [
        {
          "output_type": "stream",
          "name": "stderr",
          "text": [
            "\\"
          ]
        },
        {
          "output_type": "stream",
          "name": "stdout",
          "text": [
            "This dataset can be visualized in Jupyter Notebook by ds.visualize() or at https://app.activeloop.ai/denis76/drone_v1\n",
            "\n"
          ]
        },
        {
          "output_type": "stream",
          "name": "stderr",
          "text": [
            "\\"
          ]
        },
        {
          "output_type": "stream",
          "name": "stdout",
          "text": [
            "hub://denis76/drone_v1 loaded successfully.\n",
            "\n"
          ]
        },
        {
          "output_type": "stream",
          "name": "stderr",
          "text": [
            "\r \r\r\r"
          ]
        }
      ]
    },
    {
      "cell_type": "code",
      "source": [
        "import json\n",
        "import pandas as pd\n",
        "import numpy as np\n",
        "\n",
        "# Assuming 'ds' is your loaded Deep Lake dataset\n",
        "\n",
        "# Create a dictionary to hold the data\n",
        "data = {}\n",
        "\n",
        "# Iterate through the tensors in the dataset\n",
        "for tensor_name in ds.tensors:\n",
        "    tensor_data = ds[tensor_name].numpy()\n",
        "\n",
        "    # Check if the tensor is multi-dimensional\n",
        "    if tensor_data.ndim > 1:\n",
        "        # Flatten multi-dimensional tensors\n",
        "        data[tensor_name] = [np.array(e).flatten().tolist() for e in tensor_data]\n",
        "    else:\n",
        "        # Convert 1D tensors directly to lists and decode text\n",
        "        if tensor_name == \"text\":\n",
        "            data[tensor_name] = [t.tobytes().decode('utf-8') if t else \"\" for t in tensor_data]\n",
        "        else:\n",
        "            data[tensor_name] = tensor_data.tolist()\n",
        "\n",
        "# Create a Pandas DataFrame from the dictionary\n",
        "df = pd.DataFrame(data)"
      ],
      "metadata": {
        "id": "LfBNR2xUP8EO"
      },
      "execution_count": 18,
      "outputs": []
    },
    {
      "cell_type": "code",
      "source": [
        "# Function to display a selected record\n",
        "def display_record(record_number):\n",
        "    record = df.iloc[record_number]\n",
        "    display_data = {\n",
        "        \"ID\": record.get(\"id\", \"N/A\"),\n",
        "        \"Metadata\": record.get(\"metadata\", \"N/A\"),\n",
        "        \"Text\": record.get(\"text\", \"N/A\"),\n",
        "        \"Embedding\": record.get(\"embedding\", \"N/A\")\n",
        "    }\n",
        "\n",
        "    # Print the ID\n",
        "    print(\"ID:\")\n",
        "    print(display_data[\"ID\"])\n",
        "    print()\n",
        "\n",
        "    # Print the metadata in a structured format\n",
        "    print(\"Metadata:\")\n",
        "    metadata = display_data[\"Metadata\"]\n",
        "    if isinstance(metadata, list):\n",
        "        for item in metadata:\n",
        "            for key, value in item.items():\n",
        "                print(f\"{key}: {value}\")\n",
        "            print()\n",
        "    else:\n",
        "        print(metadata)\n",
        "    print()\n",
        "\n",
        "    # Print the text\n",
        "    print(\"Text:\")\n",
        "    print(display_data[\"Text\"])\n",
        "    print()\n",
        "\n",
        "    # Print the embedding\n",
        "    print(\"Embedding:\")\n",
        "    print(display_data[\"Embedding\"])\n",
        "    print()\n",
        "\n",
        "# Example usage\n",
        "rec = 0  # Replace with the desired record number\n",
        "display_record(rec)\n"
      ],
      "metadata": {
        "colab": {
          "base_uri": "https://localhost:8080/"
        },
        "id": "irBoyv_tfXjN",
        "outputId": "b864f671-4ba4-4ad2-b226-a0af52dcb9bc"
      },
      "execution_count": 19,
      "outputs": [
        {
          "output_type": "stream",
          "name": "stdout",
          "text": [
            "ID:\n",
            "['d4ba66ad-7983-48c9-9b0f-b25818b52f62']\n",
            "\n",
            "Metadata:\n",
            "file_path: /content/data/1804.06985.txt\n",
            "file_name: 1804.06985.txt\n",
            "file_type: text/plain\n",
            "file_size: 3698\n",
            "creation_date: 2024-05-28\n",
            "last_modified_date: 2024-05-28\n",
            "_node_content: {\"id_\": \"d4ba66ad-7983-48c9-9b0f-b25818b52f62\", \"embedding\": null, \"metadata\": {\"file_path\": \"/content/data/1804.06985.txt\", \"file_name\": \"1804.06985.txt\", \"file_type\": \"text/plain\", \"file_size\": 3698, \"creation_date\": \"2024-05-28\", \"last_modified_date\": \"2024-05-28\"}, \"excluded_embed_metadata_keys\": [\"file_name\", \"file_type\", \"file_size\", \"creation_date\", \"last_modified_date\", \"last_accessed_date\"], \"excluded_llm_metadata_keys\": [\"file_name\", \"file_type\", \"file_size\", \"creation_date\", \"last_modified_date\", \"last_accessed_date\"], \"relationships\": {\"1\": {\"node_id\": \"80ec3f8e-c637-4f72-96f3-58ed6de553d9\", \"node_type\": \"4\", \"metadata\": {\"file_path\": \"/content/data/1804.06985.txt\", \"file_name\": \"1804.06985.txt\", \"file_type\": \"text/plain\", \"file_size\": 3698, \"creation_date\": \"2024-05-28\", \"last_modified_date\": \"2024-05-28\"}, \"hash\": \"570b14927637685dbeba95dfcadef94c814c146cfa17e1e40c879697a7b4aa1c\", \"class_name\": \"RelatedNodeInfo\"}}, \"text\": \"High Energy Physics  Theory arXiv1804.06985 hepth Submitted on 19 Apr 2018 Title A Near Horizon Extreme Binary Black Hole Geometry Authors Jacob Ciafre  Maria J. Rodriguez View a PDF of the paper titled A Near Horizon Extreme Binary Black Hole Geometry by Jacob Ciafre and Maria J. Rodriguez View PDF Abstract A new solution of fourdimensional vacuum General Relativity is presented. It describes the near horizon region of the extreme maximally spinning binary black hole system with two identical extreme Kerr black holes held in equilibrium by a massless strut. This is the first example of a nonsupersymmetric asymptotically flat near horizon extreme binary black hole geometry of two uncharged black holes. The black holes are corotating and the solution is uniquely specified by the mass. The binary extreme system has finite entropy. The distance between the black holes is fixed but there is a zerodistance limit where the objects collapse into one. This limiting geometry corresponds to the near horizon extreme Kerr NHEK black hole. Comments 1 figure Subjects High Energy Physics  Theory hepth  High Energy Astrophysical Phenomena astroph.HE General Relativity and Quantum Cosmology grqc Cite as arXiv1804.06985 hepth or arXiv1804.06985v1 hepth for this version httpsdoi.org10.48550arXiv.1804.06985 Focus to learn more arXivissued DOI via DataCite Related DOI  httpsdoi.org10.1140epjcs1005201971883 Focus to learn more DOIs linking to related resources Submission history From Maria J. Rodriguez  view email  v1 Thu 19 Apr 2018 031545 UTC 173 KB Fulltext links Access Paper View a PDF of the paper titled A Near Horizon Extreme Binary Black Hole Geometry by Jacob Ciafre and Maria J. Rodriguez View PDF TeX Source Other Formats view license Current browse context hepth \\u00a0prev  next\\u00a0 new  recent  1804 Change to browse by astroph astroph.HE grqc References  Citations INSPIRE HEP NASA ADS Google Scholar Semantic Scholar a export BibTeX citation Loading... BibTeX formatted citation  loading... Data provided by Bookmark Bibliographic Tools Bibliographic and Citation Tools Bibliographic Explorer Toggle Bibliographic Explorer  What is the Explorer  Litmaps Toggle Litmaps  What is Litmaps  scite.ai Toggle scite Smart Citations  What are Smart Citations  Code Data Media Code Data and Media Associated with this Article Links to Code Toggle CatalyzeX Code Finder for Papers  What is CatalyzeX  DagsHub Toggle DagsHub  What is DagsHub  GotitPub Toggle Gotit.pub  What is GotitPub  Links to Code Toggle Papers with Code  What is Papers with Code  ScienceCast Toggle ScienceCast  What is ScienceCast  Demos Demos Replicate Toggle Replicate  What is Replicate  Spaces Toggle Hugging Face Spaces  What is Spaces  Spaces Toggle TXYZ.AI  What is TXYZ.AI  Related Papers Recommenders and Search Tools Link to Influence Flower Influence Flower  What are Influence Flowers  Connected Papers Toggle Connected Papers  What is Connected Papers  Core recommender toggle CORE Recommender  What is CORE  IArxiv recommender toggle IArxiv Recommender  What is IArxiv  Author Venue Institution Topic About arXivLabs arXivLabs experimental projects with community collaborators arXivLabs is a framework that allows collaborators to develop and share new arXiv features directly on our website. Both individuals and organizations that work with arXivLabs have embraced and accepted our values of openness community excellence and user data privacy. arXiv is committed to these values and only works with partners that adhere to them. Have an idea for a project that will add value for arXivs community Learn more about arXivLabs . Which authors of this paper are endorsers  Disable MathJax  What is MathJax\", \"start_char_idx\": 0, \"end_char_idx\": 3695, \"text_template\": \"{metadata_str}\\n\\n{content}\", \"metadata_template\": \"{key}: {value}\", \"metadata_seperator\": \"\\n\", \"class_name\": \"TextNode\"}\n",
            "_node_type: TextNode\n",
            "document_id: 80ec3f8e-c637-4f72-96f3-58ed6de553d9\n",
            "doc_id: 80ec3f8e-c637-4f72-96f3-58ed6de553d9\n",
            "ref_doc_id: 80ec3f8e-c637-4f72-96f3-58ed6de553d9\n",
            "\n",
            "\n",
            "Text:\n",
            "['High Energy Physics  Theory arXiv1804.06985 hepth Submitted on 19 Apr 2018 Title A Near Horizon Extreme Binary Black Hole Geometry Authors Jacob Ciafre  Maria J. Rodriguez View a PDF of the paper titled A Near Horizon Extreme Binary Black Hole Geometry by Jacob Ciafre and Maria J. Rodriguez View PDF Abstract A new solution of fourdimensional vacuum General Relativity is presented. It describes the near horizon region of the extreme maximally spinning binary black hole system with two identical extreme Kerr black holes held in equilibrium by a massless strut. This is the first example of a nonsupersymmetric asymptotically flat near horizon extreme binary black hole geometry of two uncharged black holes. The black holes are corotating and the solution is uniquely specified by the mass. The binary extreme system has finite entropy. The distance between the black holes is fixed but there is a zerodistance limit where the objects collapse into one. This limiting geometry corresponds to the near horizon extreme Kerr NHEK black hole. Comments 1 figure Subjects High Energy Physics  Theory hepth  High Energy Astrophysical Phenomena astroph.HE General Relativity and Quantum Cosmology grqc Cite as arXiv1804.06985 hepth or arXiv1804.06985v1 hepth for this version httpsdoi.org10.48550arXiv.1804.06985 Focus to learn more arXivissued DOI via DataCite Related DOI  httpsdoi.org10.1140epjcs1005201971883 Focus to learn more DOIs linking to related resources Submission history From Maria J. Rodriguez  view email  v1 Thu 19 Apr 2018 031545 UTC 173 KB Fulltext links Access Paper View a PDF of the paper titled A Near Horizon Extreme Binary Black Hole Geometry by Jacob Ciafre and Maria J. Rodriguez View PDF TeX Source Other Formats view license Current browse context hepth \\xa0prev  next\\xa0 new  recent  1804 Change to browse by astroph astroph.HE grqc References  Citations INSPIRE HEP NASA ADS Google Scholar Semantic Scholar a export BibTeX citation Loading... BibTeX formatted citation  loading... Data provided by Bookmark Bibliographic Tools Bibliographic and Citation Tools Bibliographic Explorer Toggle Bibliographic Explorer  What is the Explorer  Litmaps Toggle Litmaps  What is Litmaps  scite.ai Toggle scite Smart Citations  What are Smart Citations  Code Data Media Code Data and Media Associated with this Article Links to Code Toggle CatalyzeX Code Finder for Papers  What is CatalyzeX  DagsHub Toggle DagsHub  What is DagsHub  GotitPub Toggle Gotit.pub  What is GotitPub  Links to Code Toggle Papers with Code  What is Papers with Code  ScienceCast Toggle ScienceCast  What is ScienceCast  Demos Demos Replicate Toggle Replicate  What is Replicate  Spaces Toggle Hugging Face Spaces  What is Spaces  Spaces Toggle TXYZ.AI  What is TXYZ.AI  Related Papers Recommenders and Search Tools Link to Influence Flower Influence Flower  What are Influence Flowers  Connected Papers Toggle Connected Papers  What is Connected Papers  Core recommender toggle CORE Recommender  What is CORE  IArxiv recommender toggle IArxiv Recommender  What is IArxiv  Author Venue Institution Topic About arXivLabs arXivLabs experimental projects with community collaborators arXivLabs is a framework that allows collaborators to develop and share new arXiv features directly on our website. Both individuals and organizations that work with arXivLabs have embraced and accepted our values of openness community excellence and user data privacy. arXiv is committed to these values and only works with partners that adhere to them. Have an idea for a project that will add value for arXivs community Learn more about arXivLabs . Which authors of this paper are endorsers  Disable MathJax  What is MathJax']\n",
            "\n",
            "Embedding:\n",
            "[-0.0009122484480030835, 0.010197382420301437, -0.011060128919780254, -0.0029276811983436346, -0.008889119140803814, 0.021441373974084854, -0.014192888513207436, -0.02677343226969242, -0.008627465926110744, -0.033576399087905884, 0.011526860296726227, 0.01562844216823578, -0.013881734572350979, 0.008408243767917156, -0.008288024924695492, 0.016321469098329544, 0.022530416026711464, 0.01705692522227764, 0.023152723908424377, -0.007658644113689661, -0.011562218889594078, 0.013308927416801453, -0.006930259522050619, -0.007326274644583464, -0.008408243767917156, 0.01079140417277813, 0.01835811696946621, -0.004515276290476322, -0.008577964268624783, -0.021950537338852882, 0.012212814763188362, -0.001893445965833962, -0.021950537338852882, 0.013061418198049068, -0.008966906927525997, 0.030719436705112457, 0.023039577528834343, 0.004554170649498701, 0.0323883555829525, 0.013195780105888844, 0.015515295788645744, 0.018004531040787697, -0.010395389050245285, -0.012234029360115528, 0.010430747643113136, -0.01038831751793623, 0.023605313152074814, -0.020479625090956688, -0.0018351044273003936, 0.0010112521704286337, 0.027183590456843376, 0.02866864576935768, -0.025005508214235306, 0.004688532557338476, 0.017905527725815773, -0.02212025783956051, -0.0008627466158941388, 0.019008712843060493, -0.0026377416215837, -0.010614612139761448, 0.008853760547935963, -0.023364875465631485, -0.008521391078829765, -0.0035588296595960855, -0.01625075191259384, -0.0067393239587545395, -0.022091969847679138, -0.0036277787294238806, -0.012325962074100971, -0.013308927416801453, 0.023676030337810516, 0.016632623970508575, -0.01616589166224003, -0.032246921211481094, 0.023690173402428627, -0.02757960371673107, -0.014369681477546692, -0.0023071400355547667, -0.011053057387471199, -0.001707813935354352, 0.007319202646613121, 0.004681461025029421, -0.0017281450564041734, 0.017693378031253815, 0.0028746433090418577, -0.005293162539601326, -0.0035411505959928036, 0.027155302464962006, -0.006838327739387751, -0.010176166892051697, 0.02001289278268814, -0.018259111791849136, 0.02777761220932007, 0.0026059190277010202, -0.0016088102711364627, -0.0009758936939761043, 0.007609141990542412, 0.026561280712485313, -0.016802344471216202, -0.015586012043058872, -0.013266497291624546, 0.002568792551755905, -0.0159254539757967, -0.020635202527046204, -0.01759437285363674, 0.006795897614210844, -0.011031841859221458, -0.0027880151756107807, 0.006732252426445484, 0.0031822621822357178, 0.005063332617282867, -0.012205743230879307, -0.003157511120662093, -0.039035748690366745, 0.02725430764257908, 0.017212502658367157, 0.015430435538291931, -0.015826450660824776, -0.008486032485961914, -0.013662511482834816, 0.01651947572827339, 0.02675928734242916, -0.0003080606402363628, -0.004352627322077751, 0.019065285101532936, 0.030210275202989578, -0.0021055967081338167, -0.021413087844848633, 0.004320804495364428, -0.01859855465590954, 0.0005878345109522343, 0.01619417779147625, -0.0002784479293040931, 0.02374674752354622, -0.007538425270467997, 0.02456706389784813, -0.04723891243338585, -0.027975618839263916, -0.018216682597994804, -0.03516045957803726, 0.008570892736315727, 0.03134174644947052, -0.013867590576410294, 0.00878304336220026, -0.014482827857136726, 0.0264764204621315, -0.004066223744302988, 0.0022222797852009535, 0.00045391431194730103, -0.016123460605740547, 0.004967864602804184, 0.0027968548238277435, 0.013938307762145996, 0.018570266664028168, 0.010946981608867645, 0.0031009376980364323, -0.01700035110116005, 0.027466457337141037, -0.024708496406674385, -0.04986958205699921, -0.024255909025669098, 0.0022134401369839907, 0.01971588097512722, -0.013987809419631958, 0.034990739077329636, 0.025839967653155327, 0.006113478913903236, 0.005827075336128473, 0.010770189575850964, -0.02217683009803295, -0.014822269789874554, 0.024369055405259132, -0.031511466950178146, -0.017636803910136223, -0.005392166320234537, 0.01787724159657955, 0.02291228622198105, 0.0077505758963525295, -0.03504731133580208, -0.0034403789322823286, -0.0021515628322958946, -0.0032565149012953043, 0.015430435538291931, 0.02913537807762623, -0.0006470599328167737, 0.012729048728942871, 0.036093924194574356, -0.031172024086117744, 0.015798162668943405, -0.020168470218777657, 0.007340417709201574, 0.024199334904551506, -0.0313134603202343, 0.014419183135032654, -0.6313607692718506, -0.015458721667528152, 0.0067145731300115585, -0.025288375094532967, -0.024482203647494316, -0.006993904709815979, 0.005572494585067034, 0.020592771470546722, -0.010338815860450268, 0.018273256719112396, -0.028513068333268166, -0.0002293880534125492, 0.001630909275263548, -0.02026747353374958, -0.0202957596629858, -0.01134299673140049, -0.005194158758968115, -0.0032423713710159063, -0.00781422108411789, -0.002809230238199234, -0.012050165794789791, 0.0026890113949775696, -0.013733228668570518, 0.007248485926538706, 0.021936392411589622, 0.008754756301641464, 0.03459472581744194, -0.015388005413115025, -0.011703652329742908, 0.007188376504927874, -0.009610431268811226, -0.001730796997435391, -0.003645458025857806, -0.009617502801120281, 0.04729548469185829, -0.05218909680843353, 0.018301542848348618, 0.016929633915424347, 0.011130845174193382, 0.03411385044455528, -0.017353935167193413, -0.005045653320848942, 0.021427230909466743, 0.0058624339289963245, -0.00034562902874313295, -0.0033961806911975145, 0.00865575298666954, -0.024142760783433914, -0.009638718329370022, -0.020847352221608162, -0.016660910099744797, 0.012248173356056213, 0.009157842956483364, 0.011986520141363144, 0.005883648991584778, -0.015840593725442886, 0.03651822358369827, -0.01513342373073101, -0.011781441047787666, -0.005042117554694414, -0.009674076922237873, -0.005491170100867748, -0.008577964268624783, -0.019631020724773407, -0.009964016266167164, -0.008167806081473827, -0.015515295788645744, 0.013803945854306221, 0.007354561239480972, 0.018160108476877213, 0.014511114917695522, 0.02752303145825863, -0.023930611088871956, 0.003709103213623166, 0.02641984634101391, 0.024934791028499603, 0.0356130488216877, -0.004621351603418589, -0.006421097554266453, 0.007899081334471703, 0.008210236206650734, 0.01351400651037693, -0.018457120284438133, -0.0102468840777874, 0.0212999414652586, 0.009815510362386703, -0.007099980488419533, 0.010748974047601223, 0.0011190954828634858, -0.007793006021529436, 0.012106738984584808, 0.008372885175049305, -0.0014770999550819397, -0.030040554702281952, -0.00809001736342907, 0.021752528846263885, 0.008146590553224087, 0.01725493185222149, 0.017608515918254852, -0.010084235109388828, -0.0021374193020164967, -0.02885250933468342, 0.006357452366501093, -0.020606914535164833, 0.005218909587711096, 0.009270990267395973, -0.00768693070858717, -0.031794335693120956, 0.03595248982310295, -0.05207595229148865, -0.008988122455775738, -0.0004932506126351655, -0.024383198469877243, 0.02213440090417862, -0.0009175522136501968, -0.03134174644947052, 0.007538425270467997, 0.007354561239480972, -0.010565110482275486, -0.014291892759501934, 0.044947683811187744, 0.01947544328868389, 0.006000332068651915, 0.0011031841859221458, 0.010211525484919548, 0.008054658770561218, 0.025854110717773438, -0.02455291897058487, -0.0583273284137249, -0.014468684792518616, 0.008740613237023354, 0.01750951260328293, 0.035217031836509705, -0.009214417077600956, 0.04571142792701721, 0.00043026835191994905, 0.020974643528461456, 0.015784019604325294, 0.0032812657300382853, -0.0227142795920372, -0.019277436658740044, -0.013994881883263588, 0.01269369013607502, 9.56474195845658e-06, -0.00852846261113882, -0.01970173791050911, -0.006032154429703951, 0.008959835395216942, 0.016788199543952942, -0.0046602459624409676, -0.012439108453691006, 0.013195780105888844, -0.002932984847575426, 0.010770189575850964, -0.002135651418939233, -0.024227621033787727, -0.004395057447254658, -0.052019376307725906, -0.003656065557152033, -0.0019429477397352457, 0.0218373890966177, 0.01970173791050911, -0.020847352221608162, 0.009263918735086918, 0.007396991364657879, 0.0015319056110456586, 0.001675991341471672, 0.017679233103990555, -0.010727759450674057, -0.027353310957551003, -0.010543894954025745, -0.010876264423131943, -0.02755131758749485, -0.00023911164316814393, -0.024425629526376724, 0.005957901943475008, -0.016802344471216202, -0.009674076922237873, -0.006406954489648342, 0.005332056898623705, 0.008450673893094063, 0.006615569349378347, -0.04407079517841339, -0.000830923963803798, 0.013966594822704792, 0.018230825662612915, 0.004741570446640253, -0.0024715568870306015, 0.002450341824442148, 0.008973979391157627, -0.006870150100439787, 0.034736160188913345, -0.012665403075516224, 0.02593897096812725, -0.01750951260328293, -0.017382223159074783, 0.0009405352175235748, 0.01677405647933483, -0.012149169109761715, 0.028272630646824837, 0.02623598277568817, -0.0011571059003472328, 0.02001289278268814, -0.007241413928568363, 0.004897147882729769, -0.015600156038999557, 0.008351669646799564, -0.014108028262853622, 2.9032617021584883e-05, -0.007110587786883116, 0.008966906927525997, -0.028711074963212013, -0.005091619212180376, -0.022784996777772903, 0.007785934489220381, 0.01700035110116005, -0.001310915220528841, 0.033915843814611435, -0.00411572540178895, 0.013740300200879574, -0.0019358760910108685, 0.011406641453504562, 0.013436217792332172, 0.013287711888551712, -0.014539401978254318, -0.00696561811491847, 0.023916468024253845, 0.024453915655612946, 0.01187337376177311, -0.020720062777400017, 0.006513029802590609, 0.00046673178439959884, 0.00821730773895979, -0.0035199355334043503, 0.024793356657028198, 0.029814260080456734, 0.0053992378525435925, -0.008408243767917156, 0.026151122525334358, 0.001925268559716642, -0.008174877613782883, 0.0010766653576865792, 0.006343308836221695, -0.0028746433090418577, -0.0029612716753035784, -0.006028618663549423, 0.016957921907305717, 0.005936686880886555, 0.0021073645912110806, -0.02214854396879673, -0.015189997851848602, 0.0205644853413105, -0.01596788316965103, 0.033915843814611435, 0.04209072142839432, 0.008585035800933838, -0.006894900929182768, 0.011095487512648106, 0.006431705318391323, 0.020621057599782944, 0.010041804984211922, -0.000830040022265166, -0.004925434477627277, -0.031426604837179184, 0.019263293594121933, -0.023364875465631485, -0.018259111791849136, -0.0034050203394144773, -0.009419496171176434, 0.010635826736688614, -0.020394764840602875, -0.015996171161532402, 0.00920027308166027, -0.00620894692838192, 0.01473740953952074, -0.0021215081214904785, -0.006509494036436081, -0.005264875944703817, 0.02807462401688099, 0.011583433486521244, -0.03731025382876396, -0.032303497195243835, 0.02564196102321148, 0.02350630983710289, 0.0003120384644716978, -0.009348778985440731, 0.006488278973847628, 0.018499549478292465, 0.00812537595629692, 0.03702738881111145, 0.00809001736342907, -0.015755733475089073, 0.0034951844718307257, -0.013160421513020992, -0.029078803956508636, -0.019277436658740044, 0.021441373974084854, -0.018032819032669067, 0.01214209757745266, -0.0058765774592757225, -0.00019911237177439034, -0.001226054853759706, -0.02128579653799534, 0.004504668526351452, 0.03538675606250763, -0.017467083409428596, 0.0006271708407439291, -0.015586012043058872, -0.012191599234938622, -0.02616526558995247, 0.010784332640469074, -0.01298362948000431, -0.00614530174061656, -0.0037197107449173927, -0.0062266262248158455, -0.024114474654197693, -0.017155928537249565, 0.017976244911551476, 0.021823246031999588, -0.0009935729904100299, -0.012368392199277878, -0.004405665211379528, -0.018188396468758583, -0.005597245413810015, 0.0651727244257927, 0.019121859222650528, -0.02213440090417862, 0.01784895360469818, -0.0063998824916779995, -0.009596288204193115, 0.005597245413810015, 0.0024945398326963186, 0.007573783863335848, 0.0004866209055762738, 0.026900721713900566, -0.01513342373073101, -0.010946981608867645, 0.012587614357471466, 0.03286923095583916, -0.011838015168905258, 0.010586325079202652, -0.02651885151863098, 0.002133883535861969, 0.021469661965966225, -0.016095174476504326, 0.005664426367729902, 0.0007049594423733652, 0.013061418198049068, 0.013231138698756695, -0.014850555919110775, 0.024793356657028198, 0.003786891931667924, 0.00023623876040801406, -0.0243266262114048, 0.0113571397960186, -0.005204766523092985, -0.0028516603633761406, -0.005459347274154425, -0.005155264399945736, -0.006969153881072998, 0.03026684746146202, -0.006187731865793467, 0.022077826783061028, -0.02163938246667385, 0.00086142064537853, 0.002103828825056553, 0.009341707453131676, 0.001241082209162414, 0.0016706875758245587, 0.0013842839980497956, -0.0005294930306263268, 0.028555497527122498, -0.028583785519003868, 0.007481851615011692, 0.01647704653441906, -0.001241966150701046, -0.016858916729688644, -0.02371845953166485, -0.015303145162761211, 0.01268661767244339, -0.003415627870708704, -0.01919257640838623, -0.005063332617282867, -0.01838640309870243, -0.005908399820327759, -0.026250125840306282, 0.0180752482265234, 0.012297675013542175, -0.012891697697341442, -0.02484993077814579, -0.02893736958503723, -0.01082676276564598, -0.01725493185222149, 0.006286735646426678, -0.007326274644583464, -0.024156905710697174, -0.03241664171218872, 0.021455518901348114, 0.011604649014770985, -0.0044869896955788136, -0.0029559677932411432, -0.008804257959127426, -0.01269369013607502, -0.017636803910136223, -0.027678608894348145, 0.0002932542993221432, 0.011533931829035282, -0.022247547283768654, 0.0009493748657405376, 0.0038752879481762648, -0.0026112229097634554, 0.0006620872882194817, -0.007531353738158941, 0.027975618839263916, -0.0019429477397352457, 0.0025016115978360176, 0.014765695668756962, -0.007206055801361799, 0.008514318615198135, -0.0028198377694934607, 0.013853447511792183, -0.002692547393962741, -0.0048476457595825195, -0.008457745425403118, -0.021427230909466743, -0.005689177196472883, 0.0032158526591956615, -0.010063019581139088, 0.012630044482648373, 0.016010314226150513, 0.00459306500852108, 0.023902323096990585, -0.0013789802324026823, -0.01619417779147625, -0.0025387380737811327, -0.00425362354144454, 0.0062018753960728645, 0.0024803965352475643, 0.010699472390115261, 0.00985794048756361, 0.033123813569545746, 0.01524657104164362, -0.01944715715944767, -0.010565110482275486, 0.004083903040736914, -0.011654150672256947, 0.020338190719485283, 0.006923187989741564, 0.0013056114548817277, 0.0226435624063015, -0.012608829885721207, -0.022077826783061028, -0.036291930824518204, 0.00560431694611907, -0.011767297983169556, -0.005501777399331331, 0.0017802988877519965, -0.022007109597325325, -0.030578002333641052, -0.017170071601867676, -0.005109298508614302, -0.015713302418589592, 0.016123460605740547, -0.016957921907305717, 0.016038600355386734, -0.008669896051287651, -0.004547099117189646, -0.01134299673140049, -0.020196756348013878, -0.030634576454758644, -0.025330806151032448, 0.026080405339598656, -0.007722289301455021, -0.005144657101482153, -0.0021073645912110806, -0.01404438354074955, 0.005964973475784063, -0.024736784398555756, -0.020126039162278175, -0.03340667858719826, 0.004561242181807756, 0.003578276839107275, 0.03156803920865059, 0.016660910099744797, 0.032275207340717316, -0.004787536337971687, 0.009935729205608368, 0.04401421919465065, 0.01217745617032051, 0.006555459927767515, 0.007209591567516327, 0.008019300177693367, -0.01311091985553503, 0.01374737173318863, 0.021455518901348114, -0.008719397708773613, -0.0065625314600765705, -0.03165290132164955, 0.012743191793560982, 0.024171048775315285, 0.015472865663468838, 0.000768604688346386, -0.0022434948477894068, -0.05530064180493355, -0.008860832080245018, -0.013231138698756695, 0.0032459073700010777, -0.005639675538986921, -0.04296761006116867, -0.02507622539997101, 0.010968196205794811, 0.00689136516302824, 0.01052268035709858, -0.004992615431547165, 0.019489586353302002, -0.009426567703485489, 0.019376439973711967, 0.0019995213951915503, 0.035782769322395325, -0.03128517046570778, -0.0067640747874975204, -0.0010969964787364006, 0.013068489730358124, 0.02189396321773529, 0.0018651591381058097, 0.023379018530249596, 0.012587614357471466, -0.023181011900305748, 0.017085211351513863, -0.0021303477697074413, 0.01067825686186552, 0.004677925258874893, -0.014249462634325027, -0.018697557970881462, -0.0017546640010550618, -0.03411385044455528, -0.001886374200694263, -0.016335612162947655, -0.0202957596629858, 0.014581832103431225, -0.0004289424105081707, 0.03026684746146202, -0.02128579653799534, -0.008662824518978596, 0.0010572181781753898, 0.011788513511419296, 0.03801742568612099, 0.015784019604325294, 0.0286262147128582, 0.04407079517841339, 0.010869192890822887, -0.01526071410626173, 0.012453252449631691, -0.011364211328327656, 0.013535221107304096, 0.02510451152920723, 0.01308970432728529, -0.03646165132522583, -0.026957295835018158, 0.02888079546391964, 0.004342020023614168, -0.0251327995210886, -0.03779112920165062, 0.02104536071419716, -0.022827425971627235, 0.01915014535188675, -0.00018839433323591948, -0.0003264028637204319, -0.020903926342725754, -0.010239812545478344, -0.007644500583410263, 0.012311818078160286, -0.018782418221235275, -0.005950829945504665, -0.003422699635848403, 0.0202957596629858, -0.0015089225489646196, 0.039290327578783035, 0.014306035824120045, -0.020606914535164833, 0.009355850517749786, -0.013966594822704792, -0.004568314179778099, 0.007927368395030499, -0.021002929657697678, 0.0377628430724144, -0.02138480171561241, 0.0005683873896487057, 0.01728321798145771, -0.0016167659778147936, -0.005473490804433823, -0.028696931898593903, -0.002041951520368457, 0.02757960371673107, 0.0011765529634431005, -0.007870795205235481, -0.008669896051287651, -0.027056299149990082, 0.007991014048457146, 0.0048759328201413155, 0.0009449550416320562, 0.0016777592245489359, 0.011951161548495293, 0.011555147357285023, 0.011427856981754303, 0.023138580843806267, 0.005282555241137743, -0.015458721667528152, 0.004716819617897272, -0.0056785698980093, -0.026561280712485313, 0.005530064459890127, -0.015076850540935993, -0.038158856332302094, -0.03482101857662201, -0.008245594799518585, -0.0014001952949911356, 0.012757334858179092, 0.0008494872017763555, -0.007117659319192171, -0.010572182014584541, 0.02593897096812725, -0.0227142795920372, 0.011180347763001919, 0.02678757533431053, 0.020196756348013878, -0.027933189645409584, -0.004129868932068348, -4.729194915853441e-05, 0.02650470659136772, 0.015274858102202415, -0.007453565020114183, -0.0036207069642841816, -0.029333384707570076, -0.0027685679960995913, 0.020677631720900536, 0.014263605698943138, 0.004370306618511677, -0.0049996874295175076, 0.0058730412274599075, 0.010169095359742641, -0.016151748597621918, -0.000767720746807754, 0.03516045957803726, -0.0094407107681036, -0.004059152211993933, -0.008726470172405243, -0.01618003472685814, 0.006300878711044788, -0.006032154429703951, -0.007906152866780758, -0.006360988132655621, -0.020974643528461456, 0.006898437160998583, -0.0018209611298516393, 0.0037444618064910173, -0.021215081214904785, -0.02030990459024906, -0.021116076037287712, -0.0211019329726696, -0.027947332710027695, -0.0010722455335780978, 0.016123460605740547, 0.012226957827806473, 0.009751865640282631, 0.026660284027457237, -0.0098437974229455, -0.003847001353278756, -0.00561492471024394, -0.00743234995752573, 0.01698620803654194, 0.015515295788645744, -0.05566837266087532, -0.0026890113949775696, 0.0032688903156667948, 0.0313134603202343, 0.00812537595629692, -0.031002303585410118, 0.0090376241132617, -0.029842546209692955, -0.012297675013542175, 0.02105950377881527, -0.015529438853263855, 0.01920671947300434, 0.019348153844475746, -8.740171324461699e-05, 0.025740964338183403, 0.037140533328056335, 0.021002929657697678, 0.030691150575876236, 0.010911623015999794, 0.005533600226044655, -0.0026271340902894735, 0.009829654358327389, 0.01700035110116005, -0.021271653473377228, -0.04590943455696106, -0.0011376587208360434, 0.03708396106958389, 0.011053057387471199, 0.017368080094456673, 0.04245844855904579, 0.009221488609910011, 0.0032635864336043596, 0.03264293819665909, -0.011689509265124798, -0.003203477244824171, 0.017679233103990555, 0.0063751316629350185, -0.06573846191167831, -0.0227142795920372, 0.005056260619312525, -0.0040096500888466835, -0.025500526651740074, 0.00018894681124947965, 0.012007735669612885, 0.0018527837237343192, 0.011795585043728352, -0.008514318615198135, -0.020154327154159546, 0.01750951260328293, -0.041157256811857224, 0.030379995703697205, 0.01620832085609436, 0.0070398710668087006, 0.028442351147532463, 0.03054971620440483, -0.010176166892051697, 0.002227583434432745, 0.006452920380979776, -0.01647704653441906, 0.0023460343945771456, 0.006240769289433956, -0.01704278215765953, 0.019913889467716217, -0.016802344471216202, 0.010239812545478344, -0.01052268035709858, 0.013082632794976234, -0.03213377669453621, -0.022884000092744827, -0.02002703584730625, 0.022035397589206696, 0.01499199029058218, -0.028201913461089134, -0.019772455096244812, 0.010529751889407635, -0.009709435515105724, 0.01618003472685814, 0.009348778985440731, -0.014624262228608131, -0.006127622444182634, 0.01190165989100933, -0.0008428574656136334, -0.017976244911551476, -0.00999230332672596, 0.020691774785518646, 0.008047587238252163, 0.002008361043408513, 0.014921273104846478, 0.18635326623916626, -0.021695954725146294, 0.017891384661197662, 0.014779839664697647, -0.03139831870794296, -0.00837995670735836, 0.013103848323225975, 0.006350380834192038, -0.0029612716753035784, 0.021794959902763367, 0.007248485926538706, 0.009631646797060966, -0.00960335973650217, -0.00170692999381572, 0.02646227739751339, -0.028498925268650055, -0.031228598207235336, -0.022756708785891533, -0.002298300387337804, -0.007446493022143841, -0.006788825616240501, 0.021738385781645775, -0.008012228645384312, -0.009518499486148357, 0.02810291014611721, -0.023591170087456703, -0.013634225353598595, -0.022106114774942398, -0.0021073645912110806, -0.006597890052944422, -0.01562844216823578, -0.024765070527791977, 0.026660284027457237, -0.005063332617282867, -0.004621351603418589, 0.014093885198235512, 0.025062082335352898, 0.014405040070414543, 0.010734830982983112, 0.02350630983710289, -0.008401172235608101, 0.0019358760910108685, 0.0069019729271531105, -0.014511114917695522, 0.015826450660824776, 0.011109630577266216, -0.006265520583838224, 0.00768693070858717, -0.008436529897153378, 0.003033756511285901, -0.022615276277065277, -0.0015716839116066694, 0.036829378455877304, 0.03153975307941437, -0.013004844076931477, -0.014949560165405273, -0.002648349152877927, 0.010586325079202652, 0.001405499060638249, 0.022544559091329575, -0.022049540653824806, 0.012538112699985504, -0.006686286069452763, 0.041213829070329666, -0.007517210207879543, 0.015090993605554104, -0.0105509664863348, -0.0164629016071558, 0.010558038018643856, -0.020720062777400017, 0.01567087322473526, -0.015543581917881966, -0.014072669669985771, -0.018428834155201912, -0.014242391102015972, -0.02001289278268814, 0.007453565020114183, -0.008273880928754807, 0.01732564903795719, 0.0256702471524477, 0.014390896074473858, -0.011781441047787666, 0.020960498601198196, -0.01997046172618866, -0.01994217559695244, -0.04409908130764961, 0.0025352020747959614, 0.005986188538372517, -0.01780652441084385, -0.00956800114363432, 0.00029148635803721845, 0.019687594845891, -0.008995193988084793, -0.011173275299370289, 0.00540277361869812, -0.0050102947279810905, -0.020380619913339615, -0.006470599677413702, -0.04463652893900871, 0.01254518423229456, -0.014666692353785038, 0.0448911115527153, -0.0023159796837717295, -0.010713615454733372, 0.0035747410729527473, -0.013400859199464321, 0.0022700135596096516, 0.008988122455775738, 0.026363274082541466, -0.012941199354827404, 0.020182613283395767, -0.021186793223023415, -0.007460636552423239, -0.004918362945318222, 0.00526134017854929, 0.02326587215065956, 0.018046962097287178, -0.015472865663468838, -0.011456143110990524, -0.023379018530249596, -0.008330455049872398, -0.023124437779188156, 0.002384928520768881, 0.001109371893107891, -0.00743234995752573, -0.031454890966415405, -0.011717796325683594, -0.01106720045208931, -0.01782066747546196, -0.014454541727900505, 0.009433639235794544, -0.016844773665070534, 0.04028036445379257, -0.004681461025029421, 0.008627465926110744, 0.0017219573492184281, 0.013103848323225975, -0.027664465829730034, -0.019885601475834846, 0.010296385735273361, -0.01200066413730383, -0.00505979685112834, 0.005618460476398468, 0.004504668526351452, 0.022502128034830093, -0.039318617433309555, 0.024453915655612946, -0.017608515918254852, -0.006583746522665024, -0.021398944780230522, -0.014277748763561249, -0.005919007584452629, -0.006092263851314783, 0.002872875425964594, 0.01309677679091692, -0.016547761857509613, -0.025557100772857666, -0.05165164917707443, -0.000962634279858321, 0.003562365658581257, -0.029389958828687668, 0.01028224267065525, 0.009836725890636444, -0.02185153216123581, -0.005264875944703817, -0.0031946375966072083, -0.18273256719112396, 0.0035747410729527473, 0.018046962097287178, -0.0082314508035779, 0.016038600355386734, 0.024623636156320572, 0.009638718329370022, 0.008259737864136696, -0.009419496171176434, -0.0017484761774539948, 0.013605938293039799, -0.001195116201415658, -0.015175853855907917, -0.01999874971807003, 0.02219097502529621, -0.002911769784986973, -0.0011906963773071766, 0.0018059337744489312, 0.01500613335520029, 0.004868860822170973, 0.014595975168049335, -0.031172024086117744, 0.04573971405625343, 0.00398843502625823, 0.006852470804005861, 0.008401172235608101, -0.007181304972618818, 0.0357544831931591, 0.0018156572477892041, 0.002738513285294175, 0.010218597017228603, -0.007955655455589294, 0.03753655031323433, 0.0037303182762116194, 0.010635826736688614, 0.006909044459462166, -0.014567689038813114, 0.020847352221608162, -0.019263293594121933, 0.008988122455775738, 0.04030865430831909, -0.012255244888365269, -0.0069267237558960915, -0.007312131114304066, -0.021823246031999588, 0.016052743420004845, 0.001854551606811583, -0.00012596453598234802, 0.006000332068651915, -0.034679584205150604, 0.004250087775290012, -0.034990739077329636, 0.019631020724773407, 0.010890408419072628, 0.018145965412259102, -0.0051729436963796616, -0.02347802184522152, 0.025472240522503853, 0.006106407381594181, -0.007149482145905495, -0.02892322652041912, -0.013315998949110508, -0.0025334341917186975, -0.012135026045143604, 0.01294827088713646, -0.02861207164824009, 0.01786309853196144, -0.007573783863335848, -0.024453915655612946, -0.010904551483690739, -0.016957921907305717, -0.011993592604994774, 0.001973002450540662, 0.0007358980947174132, 0.012757334858179092, 0.020338190719485283, -0.02620769664645195, 0.008139519020915031, 0.010098378174006939, -0.006205411162227392, -0.00532498536631465, 0.011187419295310974, -0.012149169109761715, -0.00920027308166027, 0.006795897614210844, -0.008606251329183578, -0.026914864778518677, -0.009702363051474094, -0.003786891931667924, -0.005611388944089413, 0.010932838544249535, -0.02916366420686245, 0.016873059794306755, -0.020734205842018127, 0.010374174453318119, -0.002970111323520541, -0.007863722741603851, -0.008302167989313602, 0.017933813855051994, -0.007043406832963228, 0.041722990572452545, 0.01497784722596407, -0.006594354286789894, -0.00783543661236763, 0.029785972088575363, 0.008917405270040035, -0.026617854833602905, 0.02030990459024906, 0.04429708793759346, -0.009907442145049572, -0.012106738984584808, -0.00406268797814846, 0.020932212471961975, 0.01028224267065525, 0.003953076433390379, 0.021766671910881996, 0.006958546582609415, -0.02378917671740055, 0.012587614357471466, -0.010225668549537659, 0.0416664183139801, -0.001980074215680361, -0.04619230329990387, 0.010402461513876915, -0.012516897171735764, -0.02135651372373104, -0.10087063908576965, -0.017962101846933365, -0.0012676010373979807, 0.012743191793560982, 0.0015937829157337546, 0.006530709099024534, -0.009525571018457413, -0.009405352175235748, -0.009511427953839302, 0.030719436705112457, -0.0278200414031744, -0.017396366223692894, -0.003578276839107275, 0.009942800737917423, -0.00020728902018163353, -0.011753154918551445, 0.0062372335232794285, -0.021483805030584335, -0.003871752182021737, 0.015501151792705059, 0.0038929672446101904, -0.004815823398530483, -0.013846375979483128, 0.006502422038465738, 0.017212502658367157, 0.0014965471345931292, -0.025316663086414337, 0.028739362955093384, 0.013195780105888844, -0.006315022241324186, -0.015600156038999557, 6.560653105225356e-07, -0.013139206916093826, -0.024779213592410088, -0.018160108476877213, -0.015840593725442886, 0.002848124597221613, -0.001140310545451939, 0.012594685889780521, -0.03968634456396103, 0.0023071400355547667, 0.025047939270734787, 0.02346387878060341, 0.00540277361869812, -0.008712326176464558, -0.01499199029058218, -0.023181011900305748, 0.021172650158405304, -0.0037303182762116194, -0.006778218317776918, -0.023647742345929146, -0.012071380391716957, -0.02834334783256054, 0.0034368429332971573, 0.03134174644947052, -0.018315685912966728, 0.012318889610469341, 0.021271653473377228, -0.012106738984584808, -0.0029453602619469166, -0.015897167846560478, 0.022997146472334862, -0.0014081510016694665, 0.02591068483889103, 0.0189521387219429, 0.016533618792891502, -0.02350630983710289, -0.02804633602499962, -0.0031875658314675093, -0.02128579653799534, -0.012941199354827404, 0.03250150382518768, 0.0035022562369704247, 0.0012401982676237822, -0.01889556460082531, -0.012785621918737888, -0.024213477969169617, -0.02050791122019291, 0.004098046571016312, -0.02001289278268814, -0.019602734595537186, -0.025726821273565292, 0.0004724775208160281, -0.009921586140990257, -0.0008181065204553306, 0.01147028710693121, 0.005646747071295977, -0.002156866481527686, 0.03626364469528198, -0.03264293819665909, 0.014878842979669571, 0.0388377420604229, 0.0219081062823534, -0.03971463069319725, 0.008224379271268845, 0.0032688903156667948, 0.016873059794306755, -0.010558038018643856, 0.014376753009855747, -0.00811123289167881, -0.04678632318973541, 0.0151192806661129, -0.06296636164188385, 0.045768000185489655, 0.02322344109416008, -0.02030990459024906, -0.028513068333268166, -0.037677984684705734, 0.015557725913822651, 0.004377378150820732, -0.01473740953952074, 0.01808939129114151, -0.01147028710693121, 0.004868860822170973, -0.010996483266353607, -0.03207720071077347, -0.021497948095202446, -0.033915843814611435, -0.0019058213802054524, 0.0004119261575397104, 0.00809001736342907, 0.0062018753960728645, 0.006958546582609415, 0.01840054616332054, 0.021738385781645775, 0.025500526651740074, -0.014136315323412418, 0.01868341490626335, -0.03419870883226395, 0.02371845953166485, -0.0016176499193534255, -0.01568501628935337, 0.02596725896000862, -0.025726821273565292, 0.010897479951381683, 0.04786122217774391, 0.0018722309032455087, -0.007517210207879543, 0.0031080092303454876, 0.0045364913530647755, 0.021695954725146294, 0.047097478061914444, -0.03108716383576393, -0.03411385044455528, -0.011109630577266216, 0.006124086678028107, 0.024736784398555756, 0.034679584205150604, 0.009652861393988132, 0.011816799640655518, 0.016929633915424347, 0.0003524797211866826, 0.0272825937718153, 0.022544559091329575, -0.0045258840546011925, -0.039573196321725845, -0.0006722528487443924, 0.0031009376980364323, -0.03448157757520676, -0.0003677280619740486, 0.008832545019686222, -0.005286091007292271, 0.04511740431189537, 0.01011959370225668, 0.018188396468758583, -0.012750263325870037, 0.030606290325522423, 0.002003057161346078, -0.011307638138532639, -0.013853447511792183, 0.004557706415653229, -0.034453291445970535, -0.01444747019559145, 0.006120550911873579, 0.004225336946547031, 0.03725368157029152, -0.005964973475784063, -0.026037976145744324, -0.017622660845518112, 0.017452940344810486, -0.005395702086389065, -0.0018987497314810753, 0.007269700989127159, -0.01122984942048788, -0.017749950289726257, -0.01269369013607502, 0.02702801302075386, 0.006300878711044788, -0.0070646218955516815, 0.010239812545478344, -0.0012861642753705382, 0.0189521387219429, 0.0052754832431674, 0.022049540653824806, 0.010982340201735497, 0.014108028262853622, 0.0037197107449173927, 0.006863078568130732, -0.005809396039694548, -0.026037976145744324, 0.031737759709358215, 0.011717796325683594, 0.01618003472685814, 0.007991014048457146, 0.0013648368185386062, -0.02671685814857483, -0.010784332640469074, 0.01973002403974533, -0.02753717452287674, -0.03286923095583916, 0.007206055801361799, 0.009935729205608368, 0.012389606796205044, -0.001613230095244944, 0.01270783320069313, 0.01940472610294819, -0.03190748021006584, 0.025330806151032448, -0.012318889610469341, -0.024241765961050987, 0.0014576527755707502, 0.03137003257870674, 0.004288982134312391, 0.005406309850513935, 0.018160108476877213, 0.005957901943475008, 0.020875638350844383, 0.023379018530249596, 0.041722990572452545, -0.01229060348123312, 0.01595374010503292, -0.03648993745446205, 0.016321469098329544, -0.005791716743260622, -0.006010939367115498, 0.0025405059568583965, -0.040082357823848724, -0.005084547679871321, 0.008316311985254288, -0.00862039439380169, 0.028795935213565826, 0.09413838386535645, 0.019008712843060493, -0.0007027495303191245, 0.030097126960754395, -0.02534494921565056, 0.02163938246667385, 0.018556123599410057, -0.0034722015261650085, -0.008309239521622658, -0.06981176137924194, -0.014680835418403149, -0.01201480720192194, 0.012594685889780521, -0.042797889560461044, 0.0010828530648723245, 0.014249462634325027, -0.014638405293226242, 0.011795585043728352, -0.030917443335056305, -0.01782066747546196, 0.006459991913288832, -0.013704941608011723, 0.03264293819665909, 0.009999374859035015, -0.0286262147128582, 0.02021089941263199, 0.01226938795298338, 0.021200936287641525, 0.011258136481046677, -0.003670208854600787, -0.005915471818298101, 0.006930259522050619, -0.03190748021006584, -0.030860871076583862, -0.001133238896727562, -0.017650946974754333, -0.018471263349056244, -0.0013365501072257757, 0.04132697731256485, 0.011159132234752178, 0.007708145771175623, 0.029389958828687668, -0.009751865640282631, -0.015755733475089073, -0.009398280642926693, -0.0073899198323488235, -0.007078764960169792, 0.007538425270467997, -0.03914889693260193]\n",
            "\n"
          ]
        }
      ]
    },
    {
      "cell_type": "markdown",
      "source": [
        "# Original documents"
      ],
      "metadata": {
        "id": "MAdhB_6Ap-6C"
      }
    },
    {
      "cell_type": "code",
      "source": [
        "# Ensure 'text' column is of type string\n",
        "df['text'] = df['text'].astype(str)\n",
        "# Create documents with IDs\n",
        "documents = [Document(text=row['text'], doc_id=str(row['id'])) for _, row in df.iterrows()]"
      ],
      "metadata": {
        "id": "7T5fIdlDp-6C"
      },
      "execution_count": 20,
      "outputs": []
    },
    {
      "cell_type": "markdown",
      "source": [
        "# Pipeline 3:Index-based RAG"
      ],
      "metadata": {
        "id": "LUkP-cuv9blu"
      }
    },
    {
      "cell_type": "markdown",
      "source": [
        "## User input and RAG parameters"
      ],
      "metadata": {
        "id": "KXtVtTxPZCkC"
      }
    },
    {
      "cell_type": "code",
      "source": [
        "user_input=\"How do drones identify vehicles?\"\n",
        "\n",
        "#similarity_top_k\n",
        "k=3\n",
        "#temperature\n",
        "temp=0.1\n",
        "#num_output\n",
        "mt=1024"
      ],
      "metadata": {
        "id": "qwOHg08CZENh"
      },
      "execution_count": 21,
      "outputs": []
    },
    {
      "cell_type": "markdown",
      "source": [
        "## Cosine similarity metric"
      ],
      "metadata": {
        "id": "IieaLOBFSkgy"
      }
    },
    {
      "cell_type": "code",
      "source": [
        "from sklearn.feature_extraction.text import TfidfVectorizer\n",
        "from sklearn.metrics.pairwise import cosine_similarity"
      ],
      "metadata": {
        "id": "Zbn2Ci2PazeO"
      },
      "execution_count": 22,
      "outputs": []
    },
    {
      "cell_type": "code",
      "execution_count": 23,
      "metadata": {
        "colab": {
          "base_uri": "https://localhost:8080/",
          "height": 528,
          "referenced_widgets": [
            "1bf4690a5d9d4aacb2e1f9785cf5cf27",
            "b76d632dd40347fb86d00915da745776",
            "e8d4cf94217445dca20ae838acd19375",
            "e56bf44684634ef9ab43534759ed4544",
            "7c02571bd4f448f3ac0714ec6718adf3",
            "cf3e91e2ed8743c0a5ed9ee173d986ca",
            "29d92e417cf64dd49e20a458d5629f24",
            "4c5c862ec9a1434a8a11e9d3e30dd393",
            "2c345597b700419a807de9c3149d47bf",
            "d7861d23298c4ac3a3628470a32bdcce",
            "b14f294cfd22417ab3898edd3a2cf487",
            "6bf0c15f3e4e4945bf31d0b346aafd01",
            "95d69c7e63ab4c97b64f786eb9e075b9",
            "b605a7af3ac3453a93e082fcd011e862",
            "a18e92b333744aa7b1002a55d13ad533",
            "c0ceb8abeb2346fbb4104c37242bfd2b",
            "9d9c5c303ec645b09f849c87e0400b1c",
            "f1f7b0f8bbd04cd9a345301685a3060f",
            "4d513c3043a54de78804265d765158c9",
            "4cdaf38c4b6c483aa698ededf0d8275c",
            "ef2ecbb6742b4044a7ee08f246d1c934",
            "f710262f4dc8404897d6d1ab4f99b9cb",
            "ca19c28ed5064b95a407263222f25a7e",
            "b4811ca428f0404caf06150bc2e858cf",
            "ffc3849623b9424d8baf5285558ba665",
            "c7b51480a70d49299e3de15a06cc5039",
            "988b49b2d0634fe9a7d9791e84cc266a",
            "9afec0b6e5a9469dbb567033f61e2730",
            "0116629c6c7445e098a96b76bc732f4c",
            "4dc6783ebe744802aaaae1bd4abdb30d",
            "1f220d285c984b208cbc7de6d4fd75a3",
            "4ce15a84842a4d1abc95ae904b1545e2",
            "0ff50506ca104b0889819b30a3e12986",
            "4cbe4d4a5e27468ca542d3289eaff7c4",
            "9206f8fb54b04af6855135703da7604c",
            "ee9786a96f8646eca06172d63f6640bd",
            "17f62b6572e24fb8a6990a2cb262090d",
            "33c776609bab4b5ba89aecd2afadb81b",
            "cf97477032cd416d9ea4b9b575309d4c",
            "1e3fc0ea11ef4b099ea7b7239760ba97",
            "f75b38d3869743b3b47f4f3bbb71efa3",
            "e8b120a6e4394e40b1354f9af4b8adab",
            "6fa99e8f8b1d4957a5ca216ea728b015",
            "0442acfd3b374480b5bb0ac8191b0d5c",
            "d98a45ef6539485190ebe12e26eb4475",
            "2823f466dac74cd29cd1fe49b5af2af7",
            "520fd5754f91403383a159ed83ba3af0",
            "e711ea78616244359dbd160a7c4d80a7",
            "6adeffa05b5e4b05a277ac719084ef58",
            "dc65187f62a14dfd82cfde3db5522d94",
            "38c88126d6a14f6b9b9f66407af69f62",
            "42b67381ad4c44e0ac2c94791991b252",
            "a392a1938e424424971f86e55714760b",
            "9b4622b4ddd34daf8fb59393fb619077",
            "cb8899d0c2f34673aa4fcfa6d4306909",
            "7bedc0ed8f754014927fe8e4b7b8ed12",
            "71587147693040d2967dd50f021042bf",
            "5eed51f19787469fa06238b84a5b60c1",
            "6945e90197a147ca87ac01e7d208b2ff",
            "410305eca11f424080077f4b51d37123",
            "6d3a0901e21f4c6b92833125d6078623",
            "82a247238ba74e6e96ff11193199fe42",
            "7dc3e2ced3f74c628cff224f62c7cee0",
            "325faca65a2e4b5180d7c5a5bdf0187c",
            "65674843de7640fd93437b5bca50f5c5",
            "5f3660c14b524ed880bc34a07f2c367d",
            "b5a7a91f77434b53b3932529fc3ff17a",
            "4549a1c8752e401ba72f61716bc629ce",
            "f7ffb441182944539de219122bf7bb21",
            "cdeffc110d8145be8b8e9063fc992c61",
            "fb5217fa7c64429db231b93aa1ee33a5",
            "f1810f84b40349f6ade4421949e5fddd",
            "7dbd60362fb947658118a246b2fddd03",
            "edd5ff4b39214eb5b4f7e9bf32cb52b8",
            "a009ad0002544fa38663b0ddd81a9cfe",
            "6d7bf7b9de1b474f9ac66b8e1713752f",
            "9c0ac72d33a34967a5b8a3940db68b95",
            "ed9b80715d50473d828d82406b2150a7",
            "f5bd805061da45e295ef70ea308f6286",
            "68348eded17f454f88be94da33a562cd",
            "5b7603bc191d4622a54df400abbcdf34",
            "898cc3b311424406acc39df91c102794",
            "dac9601d66f6460787344dd87527724a",
            "e53c6305f30a4a78bf5b48e18a75d6ba",
            "0ef3a89a5da34d40bb8045fb40ec0be1",
            "deafec8bbd364145a56435d2c55715f5",
            "0e0193706a0c4c2ab6d2d9b3b1a5cf4b",
            "d314c12cc1014e3b94af9c8b18ba57c4",
            "4936fac3476d429b9e9c4794dc5bb705",
            "84ff2e66d6184651b41ec65f4e970cf2",
            "7fdbdbf97fe94599b28a9b162433a96f",
            "dd2f52bad15b49f18c1f1b440f9df6e3",
            "f31e35f95c5b41ce996539a3c1c09c74",
            "cd9f2040f4044cffafa45444e268e977",
            "5c9c28fd4b434bf0b414d7a7a77079b1",
            "4429b4fced93482f956a211e2611b7df",
            "b4373492689e49e5a4d646f1c7768d2c",
            "fdf1d3b62c18401189864776731b8863",
            "0d3727cc3c124b4aa2a2009fcbffc31f",
            "248940c9390a4796848a17c6822e1b18",
            "0f7dd01a65e646ba8199ee8f316fe5ed",
            "becad205a0b048f7ade6c94e25fa194b",
            "a9482881e60749039cdf62aebc89e79e",
            "9141bedf24554a8a9a9826647844f0d0",
            "bae00a486c8e4130a29b5a3f15c79d87",
            "6610a4a6805943f189d7e12f6d1e81bc",
            "7e3dd7d154db49a2a939dcb828500009",
            "d68b3fc864d7434d99b3099d0596d489",
            "a5cdadeb2b6c41808a24b1b3cea23643",
            "47131df04c2a4d81adf8606510a1c05e",
            "664930ea6db0441b9efe812bd51e4acf",
            "05ced564d52444a98ffeeafa7da45bc6",
            "603167eb93c541729806160526c6ddf5",
            "5fd78ba9de4d4908a92d069e3d493823",
            "3eb7855a0a154e6db18f8e429b8d8ab7",
            "44a6c8aeda144144a3ec56f2a01dbd9c",
            "a513cd48467a44f2bbf874b44b715cf4",
            "eb29723a33c34dec81b4dbc230ea3f9d",
            "c844cf2df0e04cc1b1b0999d10e3d2dc",
            "b1a0bdd78dbf4d438e7cfeb69538b712",
            "a29d49e846a144efad4e3b006d4455c0"
          ]
        },
        "id": "TorTwpZiSqGX",
        "outputId": "f2654ac0-cda2-4eaa-d61b-b0c997847a6d"
      },
      "outputs": [
        {
          "output_type": "stream",
          "name": "stderr",
          "text": [
            "/usr/local/lib/python3.10/dist-packages/huggingface_hub/utils/_token.py:89: UserWarning: \n",
            "The secret `HF_TOKEN` does not exist in your Colab secrets.\n",
            "To authenticate with the Hugging Face Hub, create a token in your settings tab (https://huggingface.co/settings/tokens), set it as secret in your Google Colab and restart your session.\n",
            "You will be able to reuse this secret in all of your notebooks.\n",
            "Please note that authentication is recommended but still optional to access public models or datasets.\n",
            "  warnings.warn(\n"
          ]
        },
        {
          "output_type": "display_data",
          "data": {
            "text/plain": [
              "modules.json:   0%|          | 0.00/349 [00:00<?, ?B/s]"
            ],
            "application/vnd.jupyter.widget-view+json": {
              "version_major": 2,
              "version_minor": 0,
              "model_id": "1bf4690a5d9d4aacb2e1f9785cf5cf27"
            }
          },
          "metadata": {}
        },
        {
          "output_type": "display_data",
          "data": {
            "text/plain": [
              "config_sentence_transformers.json:   0%|          | 0.00/116 [00:00<?, ?B/s]"
            ],
            "application/vnd.jupyter.widget-view+json": {
              "version_major": 2,
              "version_minor": 0,
              "model_id": "6bf0c15f3e4e4945bf31d0b346aafd01"
            }
          },
          "metadata": {}
        },
        {
          "output_type": "display_data",
          "data": {
            "text/plain": [
              "README.md:   0%|          | 0.00/10.7k [00:00<?, ?B/s]"
            ],
            "application/vnd.jupyter.widget-view+json": {
              "version_major": 2,
              "version_minor": 0,
              "model_id": "ca19c28ed5064b95a407263222f25a7e"
            }
          },
          "metadata": {}
        },
        {
          "output_type": "display_data",
          "data": {
            "text/plain": [
              "sentence_bert_config.json:   0%|          | 0.00/53.0 [00:00<?, ?B/s]"
            ],
            "application/vnd.jupyter.widget-view+json": {
              "version_major": 2,
              "version_minor": 0,
              "model_id": "4cbe4d4a5e27468ca542d3289eaff7c4"
            }
          },
          "metadata": {}
        },
        {
          "output_type": "stream",
          "name": "stderr",
          "text": [
            "/usr/local/lib/python3.10/dist-packages/huggingface_hub/file_download.py:1132: FutureWarning: `resume_download` is deprecated and will be removed in version 1.0.0. Downloads always resume when possible. If you want to force a new download, use `force_download=True`.\n",
            "  warnings.warn(\n"
          ]
        },
        {
          "output_type": "display_data",
          "data": {
            "text/plain": [
              "config.json:   0%|          | 0.00/612 [00:00<?, ?B/s]"
            ],
            "application/vnd.jupyter.widget-view+json": {
              "version_major": 2,
              "version_minor": 0,
              "model_id": "d98a45ef6539485190ebe12e26eb4475"
            }
          },
          "metadata": {}
        },
        {
          "output_type": "display_data",
          "data": {
            "text/plain": [
              "model.safetensors:   0%|          | 0.00/90.9M [00:00<?, ?B/s]"
            ],
            "application/vnd.jupyter.widget-view+json": {
              "version_major": 2,
              "version_minor": 0,
              "model_id": "7bedc0ed8f754014927fe8e4b7b8ed12"
            }
          },
          "metadata": {}
        },
        {
          "output_type": "display_data",
          "data": {
            "text/plain": [
              "tokenizer_config.json:   0%|          | 0.00/350 [00:00<?, ?B/s]"
            ],
            "application/vnd.jupyter.widget-view+json": {
              "version_major": 2,
              "version_minor": 0,
              "model_id": "b5a7a91f77434b53b3932529fc3ff17a"
            }
          },
          "metadata": {}
        },
        {
          "output_type": "display_data",
          "data": {
            "text/plain": [
              "vocab.txt:   0%|          | 0.00/232k [00:00<?, ?B/s]"
            ],
            "application/vnd.jupyter.widget-view+json": {
              "version_major": 2,
              "version_minor": 0,
              "model_id": "ed9b80715d50473d828d82406b2150a7"
            }
          },
          "metadata": {}
        },
        {
          "output_type": "display_data",
          "data": {
            "text/plain": [
              "tokenizer.json:   0%|          | 0.00/466k [00:00<?, ?B/s]"
            ],
            "application/vnd.jupyter.widget-view+json": {
              "version_major": 2,
              "version_minor": 0,
              "model_id": "4936fac3476d429b9e9c4794dc5bb705"
            }
          },
          "metadata": {}
        },
        {
          "output_type": "display_data",
          "data": {
            "text/plain": [
              "special_tokens_map.json:   0%|          | 0.00/112 [00:00<?, ?B/s]"
            ],
            "application/vnd.jupyter.widget-view+json": {
              "version_major": 2,
              "version_minor": 0,
              "model_id": "248940c9390a4796848a17c6822e1b18"
            }
          },
          "metadata": {}
        },
        {
          "output_type": "display_data",
          "data": {
            "text/plain": [
              "1_Pooling/config.json:   0%|          | 0.00/190 [00:00<?, ?B/s]"
            ],
            "application/vnd.jupyter.widget-view+json": {
              "version_major": 2,
              "version_minor": 0,
              "model_id": "664930ea6db0441b9efe812bd51e4acf"
            }
          },
          "metadata": {}
        }
      ],
      "source": [
        "from sentence_transformers import SentenceTransformer\n",
        "model = SentenceTransformer('all-MiniLM-L6-v2')\n",
        "\n",
        "def calculate_cosine_similarity_with_embeddings(text1, text2):\n",
        "    embeddings1 = model.encode(text1)\n",
        "    embeddings2 = model.encode(text2)\n",
        "    similarity = cosine_similarity([embeddings1], [embeddings2])\n",
        "    return similarity[0][0]"
      ]
    },
    {
      "cell_type": "markdown",
      "source": [
        "# Vector store index query engine"
      ],
      "metadata": {
        "id": "IJFVccYkmQkc"
      }
    },
    {
      "cell_type": "code",
      "source": [
        "from llama_index.core import GPTVectorStoreIndex\n",
        "vector_store_index = GPTVectorStoreIndex.from_documents(documents)"
      ],
      "metadata": {
        "id": "PrBA5RZ3emV1"
      },
      "execution_count": 24,
      "outputs": []
    },
    {
      "cell_type": "code",
      "source": [
        "print(type(vector_store_index))"
      ],
      "metadata": {
        "colab": {
          "base_uri": "https://localhost:8080/"
        },
        "id": "uk_hTSdcbntf",
        "outputId": "cae5393b-2b1a-46dd-c741-0ccb07d95913"
      },
      "execution_count": 25,
      "outputs": [
        {
          "output_type": "stream",
          "name": "stdout",
          "text": [
            "<class 'llama_index.core.indices.vector_store.base.VectorStoreIndex'>\n"
          ]
        }
      ]
    },
    {
      "cell_type": "code",
      "source": [
        "vector_query_engine = vector_store_index.as_query_engine(similarity_top_k=k, temperature=temp, num_output=mt)"
      ],
      "metadata": {
        "id": "w6g6JTOtemV9"
      },
      "execution_count": 26,
      "outputs": []
    },
    {
      "cell_type": "code",
      "source": [
        "print(type(vector_query_engine))"
      ],
      "metadata": {
        "colab": {
          "base_uri": "https://localhost:8080/"
        },
        "id": "-Eq-AVSicTrg",
        "outputId": "1696af69-2ccb-41f3-8c29-a186e64c5dd5"
      },
      "execution_count": 27,
      "outputs": [
        {
          "output_type": "stream",
          "name": "stdout",
          "text": [
            "<class 'llama_index.core.query_engine.retriever_query_engine.RetrieverQueryEngine'>\n"
          ]
        }
      ]
    },
    {
      "cell_type": "markdown",
      "source": [
        "## Query response and source"
      ],
      "metadata": {
        "id": "RSAMGVyTmU9_"
      }
    },
    {
      "cell_type": "code",
      "source": [
        "import pandas as pd\n",
        "import textwrap\n",
        "\n",
        "def index_query(input_query):\n",
        "    response = vector_query_engine.query(input_query)\n",
        "\n",
        "    # Optional: Print a formatted view of the response (remove if you don't need it in the output)\n",
        "    print(textwrap.fill(str(response), 100))\n",
        "\n",
        "    node_data = []\n",
        "    for node_with_score in response.source_nodes:\n",
        "        node = node_with_score.node\n",
        "        node_info = {\n",
        "            'Node ID': node.id_,\n",
        "            'Score': node_with_score.score,\n",
        "            'Text': node.text\n",
        "        }\n",
        "        node_data.append(node_info)\n",
        "\n",
        "    df = pd.DataFrame(node_data)\n",
        "\n",
        "    # Instead of printing, return the DataFrame and the response object\n",
        "    return df, response\n"
      ],
      "metadata": {
        "id": "_4a9dRIdEeZa"
      },
      "execution_count": 28,
      "outputs": []
    },
    {
      "cell_type": "code",
      "source": [
        "import time\n",
        "#start the timer\n",
        "start_time = time.time()\n",
        "df, response = index_query(user_input)\n",
        "# Stop the timer\n",
        "end_time = time.time()\n",
        "# Calculate and print the execution time\n",
        "elapsed_time = end_time - start_time\n",
        "print(f\"Query execution time: {elapsed_time:.4f} seconds\")\n",
        "\n",
        "print(df.to_markdown(index=False, numalign=\"left\", stralign=\"left\"))  # Display the DataFrame using markdown"
      ],
      "metadata": {
        "colab": {
          "base_uri": "https://localhost:8080/"
        },
        "id": "QzZGn0aEEhza",
        "outputId": "602bbcfd-d504-4672-b70e-b00be7346391"
      },
      "execution_count": 29,
      "outputs": [
        {
          "output_type": "stream",
          "name": "stdout",
          "text": [
            "Drones can automatically identify vehicles across different cameras with different viewpoints and\n",
            "hardware specifications using reidentification methods.\n",
            "Query execution time: 0.9688 seconds\n",
            "| Node ID                              | Score    | Text                                                                                                                                                                                                                                                                                                                                                                                                                                                                                                                                                                                                                                                                                                                                                                                                                                                                                                                                                                                                                                                                                                                                                                                                                                                                                                                                                                                                                                                                                                                                                                                                                                                                                                                                                                                                                                                                                                                                                                                                                                                                                                                                                                                                                                                                                                                                                                                                                                                                                                                                                                                                                                                                                                                                                                                                                                                                                                                                                                                                                                                                                                                                                                                                                                                                                                                                                                                                                                                                                                                                                                                                                                                                                                                                                                                                                                                                                                                                                                                                                                                                                                                                                                                                                                                                                                                                                                                                                                                                                                                                                                                                                                                                                                                                                                                                                                                                                                                                                                                                                                                                                                                                                                                                                                                                                                                                                                                                                                                                      |\n",
            "|:-------------------------------------|:---------|:--------------------------------------------------------------------------------------------------------------------------------------------------------------------------------------------------------------------------------------------------------------------------------------------------------------------------------------------------------------------------------------------------------------------------------------------------------------------------------------------------------------------------------------------------------------------------------------------------------------------------------------------------------------------------------------------------------------------------------------------------------------------------------------------------------------------------------------------------------------------------------------------------------------------------------------------------------------------------------------------------------------------------------------------------------------------------------------------------------------------------------------------------------------------------------------------------------------------------------------------------------------------------------------------------------------------------------------------------------------------------------------------------------------------------------------------------------------------------------------------------------------------------------------------------------------------------------------------------------------------------------------------------------------------------------------------------------------------------------------------------------------------------------------------------------------------------------------------------------------------------------------------------------------------------------------------------------------------------------------------------------------------------------------------------------------------------------------------------------------------------------------------------------------------------------------------------------------------------------------------------------------------------------------------------------------------------------------------------------------------------------------------------------------------------------------------------------------------------------------------------------------------------------------------------------------------------------------------------------------------------------------------------------------------------------------------------------------------------------------------------------------------------------------------------------------------------------------------------------------------------------------------------------------------------------------------------------------------------------------------------------------------------------------------------------------------------------------------------------------------------------------------------------------------------------------------------------------------------------------------------------------------------------------------------------------------------------------------------------------------------------------------------------------------------------------------------------------------------------------------------------------------------------------------------------------------------------------------------------------------------------------------------------------------------------------------------------------------------------------------------------------------------------------------------------------------------------------------------------------------------------------------------------------------------------------------------------------------------------------------------------------------------------------------------------------------------------------------------------------------------------------------------------------------------------------------------------------------------------------------------------------------------------------------------------------------------------------------------------------------------------------------------------------------------------------------------------------------------------------------------------------------------------------------------------------------------------------------------------------------------------------------------------------------------------------------------------------------------------------------------------------------------------------------------------------------------------------------------------------------------------------------------------------------------------------------------------------------------------------------------------------------------------------------------------------------------------------------------------------------------------------------------------------------------------------------------------------------------------------------------------------------------------------------------------------------------------------------------------------------------------------------------------------------------------------------------------------------------|\n",
            "| a705c247-65f2-40e8-8122-8b6c782d9b53 | 0.833255 | ['These activities can be carried out with different approaches that include photogrammetry SfM thermography multispectral images 3D field scanning NDVI maps etc. Agriculture forestry and environmental studies  edit  Main article Agricultural drone As global demand for food production grows exponentially resources are depleted farmland is reduced and agricultural labor is increasingly in short supply there is an urgent need for more convenient and smarter agricultural solutions than traditional methods and the agricultural drone and robotics industry is expected to make progress.  Agricultural drones have been used to help build sustainable agriculture all over the world leading to a new generation of agriculture.  In this context there is a proliferation of innovations in both tools and methodologies which allow precise description of vegetation state and also may help to precisely distribute nutrients pesticides or seeds over a field.  The use of UAVs is also being investigated to help detect and fight wildfires whether through observation or launching pyrotechnic devices to start backfires .  UAVs are also now widely used to survey wildlife such as nesting seabirds seals and even wombat burrows.  Law enforcement  edit  Main article Use of UAVs in law enforcement Police can use drones for applications such as search and rescue and traffic monitoring .  Humanitarian Aid  edit  Drones are increasingly finding their application in humanitarian aid and disaster relief where they are used for a wide range of applications such as delivering food medicine and essential items to remote areas or image mapping before and following disasters  Safety and security  edit  See also List of UAVrelated incidents US Department of Agriculture poster warning about the risks of flying UAVs near wildfires Threats  edit  Nuisance  edit  UAVs can threaten airspace security in numerous ways including unintentional collisions or other interference with other aircraft deliberate attacks or by distracting pilots or flight controllers. The first incident of a droneairplane collision occurred in midOctober 2017 in Quebec City Canada.  The first recorded instance of a drone collision with a hot air balloon occurred on 10 August 2018 in Driggs Idaho  United States although there was no significant damage to the balloon nor any injuries to its 3 occupants the balloon pilot reported the incident to the National Transportation Safety Board  stating that I hope this incident helps create a conversation of respect for nature the airspace and rules and regulations.  Unauthorized UAV flights into or near major airports have prompted extended shutdowns of commercial flights.  Drones caused significant disruption at Gatwick Airport during December 2018  needing the deployment of the British Army.   In the United States flying close to a wildfire is punishable by a maximum 25000 fine. Nonetheless in 2014 and 2015 firefighting air support in California was hindered on several occasions including at the Lake Fire  and the North Fire .   In response California legislators introduced a bill that would allow firefighters to disable UAVs which invaded restricted airspace.  The FAA later required registration of most UAVs. Security vulnerabilities  edit  By 2017 drones were being used to drop contraband into prisons.  The interest in UAVs cyber security has been raised greatly after the Predator UAV video stream hijacking incident in 2009  where Islamic militants used cheap offtheshelf equipment to stream video feeds from a UAV. Another risk is the possibility of hijacking or jamming a UAV in flight. Several security researchers have made public some vulnerabilities in commercial UAVs in some cases even providing full source code or tools to reproduce their attacks.  At a workshop on UAVs and privacy in October 2016 researchers from the Federal Trade Commission showed they were able to hack into three different consumer quadcopters and noted that UAV manufacturers can make their UAVs more secure by the basic security measures of encrypting the WiFi signal and adding password protection.  Aggression  edit  UAVs could be loaded with dangerous payloads and crashed into vulnerable targets. Payloads could include explosives chemical radiological or biological hazards. UAVs with generally nonlethal payloads could possibly be hacked and put to malicious purposes. AntiUAV systems are being developed by states to counter this threat. This is however proving difficult. As J. Rogers stated in an interview to AT There is a big debate out there at the moment about what the best way is to counter these small UAVs whether they are used by hobbyists causing a bit of a nuisance or in a more sinister manner by a terrorist actor.  Countermeasures  edit  Counter unmanned air system  edit  Italian Army soldiers of the 17th Antiaircraft Artillery Regiment Sforzesca with a portable drone jammer in Rome Cannon antidrone system Further information Electronic warfare The malicious use of UAVs has led to the development of counter unmanned air system CUAS technologies. Automatic tracking and detection of UAVs from commercial cameras have become accurate thanks to the development of deep learning based machine learning algorithms.'] |\n",
            "| 64bc7aae-e6a1-4ce8-bcc1-14456118d3c5 | 0.828414 | ['Degree of autonomy  edit  Drones could also be classified based on the degree of autonomy in their flight operations. ICAO classifies uncrewed aircraft as either remotely piloted aircraft or fully autonomous.  Some UAVs offer intermediate degrees of autonomy. For example a vehicle may be remotely piloted in most contexts but have an autonomous returntobase operation. Some aircraft types may optionally fly manned or as UAVs which may include manned aircraft transformed into uncrewed or Optionally Piloted UAVs OPVs. The flight of UAVs may operate under remote control by a human operator as remotely piloted aircraft  RPA  or with various degrees of autonomy  such as autopilot assistance up to fully autonomous aircraft that have no provision for human intervention.   Altitude  edit  Based on the altitude the following UAV classifications have been used at industry events such as ParcAberporth Unmanned Systems forum Handheld 2000\\xa0ft 600\\xa0m altitude about 2\\xa0km range Close 5000\\xa0ft 1500\\xa0m altitude up to 10\\xa0km range NATO type 10000\\xa0ft 3000\\xa0m altitude up to 50\\xa0km range Tactical 18000\\xa0ft 5500\\xa0m altitude about 160\\xa0km range MALE medium altitude long endurance up to 30000\\xa0ft 9000\\xa0m and range over 200\\xa0km HALE high altitude long endurance over 30000\\xa0ft 9100\\xa0m and indefinite range Hypersonic highspeed supersonic Mach 15 or hypersonic Mach 5 50000\\xa0ft 15200\\xa0m or suborbital altitude range over 200\\xa0km Orbital low Earth orbit Mach 25 CIS Lunar EarthMoon transfer Computer Assisted Carrier Guidance System CACGS for UAVs Composite criteria  edit  An example of classification based on the composite criteria is U.S. Militarys unmanned aerial systems UAS classification of UAVs based on weight maximum altitude and speed of the UAV component. History  edit  Main article History of unmanned aerial vehicles Winston Churchill and others waiting to watch the launch of a de Havilland Queen Bee target drone  6 June 1941 A Ryan Firebee  one of a series of target dronesunpiloted aerial vehicles that first flew in 1951. Israeli Air Force Museum  Hatzerim airbase Israel 2006 Last preparations before the first tactical UAV mission across the Suez canal 1969. Standing Major Shabtai Brill from the Israeli intelligence corps the innovator of the tactical UAV. The Israeli Tadiran Mastiff  which first flew in 1975 is seen by many as the first modern battlefield UAV due to its datalink system enduranceloitering and live videostreaming.  Early drones  edit  The earliest recorded use of an unmanned aerial vehicle for warfighting occurred in July 1849  with a balloon carrier the precursor to the aircraft carrier   in the first offensive use of air power in naval aviation .    Austrian forces besieging Venice attempted to launch some 200 incendiary balloons at the besieged city. The balloons were launched mainly from land however some were also launched from the Austrian ship SMS Vulcano . At least one bomb fell in the city however due to the wind changing after launch most of the balloons missed their target and some drifted back over Austrian lines and the launching ship Vulcano .    The Spanish engineer Leonardo Torres Quevedo introduced a radiobased controlsystem called the Telekino  at the Paris Academy of Science in 1903 as a way of testing an airship of his own design without risking human lives.   Significant development of drones started in the 1900s and originally focused on providing practice targets for training military personnel . The earliest attempt at a powered UAV was A. M. Low s Aerial Target in 1916.  Low confirmed that Geoffrey de Havillands monoplane was the one that flew under control on 21 March 1917 using his radio system.  Following this successful demonstration in the spring of 1917 Low was transferred to develop aircraft controlled fast motor launches D.C.B.s with the Royal Navy in 1918 intended to attack shipping and port installations and he also assisted Wing Commander Brock in preparations for the Zeebrugge Raid . Other British unmanned developments followed leading to the fleet of over 400 de Havilland 82 Queen Bee aerial targets that went into service in 1935. Nikola Tesla described a fleet of uncrewed aerial combat vehicles in 1915.  These developments also inspired the construction of the Kettering Bug by Charles Kettering from Dayton Ohio and the HewittSperry Automatic Airplane  initially meant as an uncrewed plane that would carry an explosive payload to a predetermined target.']                                                                                                                                                                                                                                                                                                                                                                                                                                                                                                                                                                                                                                                                                                                                                                            |\n",
            "| 0ae2eb16-a5bd-4128-93ff-e2ae12f897b1 | 0.826624 | ['UAVs with generally nonlethal payloads could possibly be hacked and put to malicious purposes. AntiUAV systems are being developed by states to counter this threat. This is however proving difficult. As J. Rogers stated in an interview to AT There is a big debate out there at the moment about what the best way is to counter these small UAVs whether they are used by hobbyists causing a bit of a nuisance or in a more sinister manner by a terrorist actor.  Countermeasures  edit  Counter unmanned air system  edit  Italian Army soldiers of the 17th Antiaircraft Artillery Regiment Sforzesca with a portable drone jammer in Rome Cannon antidrone system Further information Electronic warfare The malicious use of UAVs has led to the development of counter unmanned air system CUAS technologies. Automatic tracking and detection of UAVs from commercial cameras have become accurate thanks to the development of deep learning based machine learning algorithms.  It is also possible to automatically identify UAVs across different cameras with different view points and hardware specification with reidentification methods.  Commercial systems such as the Aaronia AARTOS have been installed on major international airports.   Once a UAV is detected it can be countered with kinetic force missiles projectiles or another UAV or by nonkinetic force laser microwaves communications jamming.  Antiaircraft missile systems such as the Iron Dome are also being enhanced with CUAS technologies. Utilising a smart UAV swarm to counter one or more hostile UAVs is also proposed.  Regulation  edit  Main article Regulation of unmanned aerial vehicles Regulatory bodies around the world are developing unmanned aircraft system traffic management solutions to better integrate UAVs into airspace.  The use of unmanned aerial vehicles is becoming increasingly regulated by the civil aviation authorities of individual countries. Regulatory regimes can differ significantly according to drone size and use. The International Civil Aviation Organization ICAO began exploring the use of drone technology as far back as 2005 which resulted in a 2011 report.  France was among the first countries to set a national framework based on this report and larger aviation bodies such as the FAA and the EASA quickly followed suit.  In 2021 the FAA published a rule requiring all commercially used UAVs and all UAVs regardless of intent weighing 250g or more to participate in Remote ID  which makes drone locations controller locations and other information public from takeoff to shutdown this rule has since been challenged in the pending federal lawsuit RaceDayQuads v. FAA .   EU Drone Certification  Class Identification Label  edit  The implementation of the Class Identification Label serves a crucial purpose in the regulation and operation of drones.  The label is a verification mechanism designed to confirm that drones within a specific class meet the rigorous standards set by administrations for design and manufacturing.  These standards are necessary to ensure the safety and reliability of drones in various industries and applications. By providing this assurance to customers the Class Identification Label helps to increase confidence in drone technology and encourages wider adoption across industries. This in turn contributes to the growth and development of the drone industry and supports the integration of drones into society. Export controls  edit  The export of UAVs or technology capable of carrying a 500\\xa0kg payload at least 300\\xa0km is restricted in many countries by the Missile Technology Control Regime . See also  edit  List of unmanned aerial vehicles Delivery drone Drone in a Box International Aerial Robotics Competition List of films featuring drones MARSS Interceptor Micromechanical Flying Insect ParcAberporth Quadcopter Radiocontrolled aircraft Autonomous aircraft Optionally piloted vehicle Sypaq Corvo Precision Payload Delivery System Satellite Sentinel Project Tactical Control System UAV ground control station Unmanned underwater vehicle Portals  Aviation Systems science Engineering Telecommunication']                                                                                                                                                                                                                                                                                                                                                                                                                                                                                                                                                                                                                                                                                                                                                                                                                                                                                                                                                                                                                                                                                                                                                                     |\n"
          ]
        }
      ]
    },
    {
      "cell_type": "markdown",
      "source": [
        "Node information and relationships"
      ],
      "metadata": {
        "id": "l1fnBnGFcejp"
      }
    },
    {
      "cell_type": "code",
      "source": [
        "nodeid=response.source_nodes[0].node_id\n",
        "nodeid"
      ],
      "metadata": {
        "colab": {
          "base_uri": "https://localhost:8080/",
          "height": 35
        },
        "id": "uqhXA3Fxd11A",
        "outputId": "46498575-76df-4f5f-d3ba-12f90d5c7bd8"
      },
      "execution_count": 30,
      "outputs": [
        {
          "output_type": "execute_result",
          "data": {
            "text/plain": [
              "'a705c247-65f2-40e8-8122-8b6c782d9b53'"
            ],
            "application/vnd.google.colaboratory.intrinsic+json": {
              "type": "string"
            }
          },
          "metadata": {},
          "execution_count": 30
        }
      ]
    },
    {
      "cell_type": "code",
      "source": [
        "response.source_nodes[0].get_text()"
      ],
      "metadata": {
        "colab": {
          "base_uri": "https://localhost:8080/",
          "height": 191
        },
        "id": "iuRhyM8NfyGn",
        "outputId": "cd1da83a-28a0-4ddc-f13d-a69c36c08cff",
        "collapsed": true
      },
      "execution_count": 31,
      "outputs": [
        {
          "output_type": "execute_result",
          "data": {
            "text/plain": [
              "\"['These activities can be carried out with different approaches that include photogrammetry SfM thermography multispectral images 3D field scanning NDVI maps etc. Agriculture forestry and environmental studies  edit  Main article Agricultural drone As global demand for food production grows exponentially resources are depleted farmland is reduced and agricultural labor is increasingly in short supply there is an urgent need for more convenient and smarter agricultural solutions than traditional methods and the agricultural drone and robotics industry is expected to make progress.  Agricultural drones have been used to help build sustainable agriculture all over the world leading to a new generation of agriculture.  In this context there is a proliferation of innovations in both tools and methodologies which allow precise description of vegetation state and also may help to precisely distribute nutrients pesticides or seeds over a field.  The use of UAVs is also being investigated to help detect and fight wildfires whether through observation or launching pyrotechnic devices to start backfires .  UAVs are also now widely used to survey wildlife such as nesting seabirds seals and even wombat burrows.  Law enforcement  edit  Main article Use of UAVs in law enforcement Police can use drones for applications such as search and rescue and traffic monitoring .  Humanitarian Aid  edit  Drones are increasingly finding their application in humanitarian aid and disaster relief where they are used for a wide range of applications such as delivering food medicine and essential items to remote areas or image mapping before and following disasters  Safety and security  edit  See also List of UAVrelated incidents US Department of Agriculture poster warning about the risks of flying UAVs near wildfires Threats  edit  Nuisance  edit  UAVs can threaten airspace security in numerous ways including unintentional collisions or other interference with other aircraft deliberate attacks or by distracting pilots or flight controllers. The first incident of a droneairplane collision occurred in midOctober 2017 in Quebec City Canada.  The first recorded instance of a drone collision with a hot air balloon occurred on 10 August 2018 in Driggs Idaho  United States although there was no significant damage to the balloon nor any injuries to its 3 occupants the balloon pilot reported the incident to the National Transportation Safety Board  stating that I hope this incident helps create a conversation of respect for nature the airspace and rules and regulations.  Unauthorized UAV flights into or near major airports have prompted extended shutdowns of commercial flights.  Drones caused significant disruption at Gatwick Airport during December 2018  needing the deployment of the British Army.   In the United States flying close to a wildfire is punishable by a maximum 25000 fine. Nonetheless in 2014 and 2015 firefighting air support in California was hindered on several occasions including at the Lake Fire  and the North Fire .   In response California legislators introduced a bill that would allow firefighters to disable UAVs which invaded restricted airspace.  The FAA later required registration of most UAVs. Security vulnerabilities  edit  By 2017 drones were being used to drop contraband into prisons.  The interest in UAVs cyber security has been raised greatly after the Predator UAV video stream hijacking incident in 2009  where Islamic militants used cheap offtheshelf equipment to stream video feeds from a UAV. Another risk is the possibility of hijacking or jamming a UAV in flight. Several security researchers have made public some vulnerabilities in commercial UAVs in some cases even providing full source code or tools to reproduce their attacks.  At a workshop on UAVs and privacy in October 2016 researchers from the Federal Trade Commission showed they were able to hack into three different consumer quadcopters and noted that UAV manufacturers can make their UAVs more secure by the basic security measures of encrypting the WiFi signal and adding password protection.  Aggression  edit  UAVs could be loaded with dangerous payloads and crashed into vulnerable targets. Payloads could include explosives chemical radiological or biological hazards. UAVs with generally nonlethal payloads could possibly be hacked and put to malicious purposes. AntiUAV systems are being developed by states to counter this threat. This is however proving difficult. As J. Rogers stated in an interview to AT There is a big debate out there at the moment about what the best way is to counter these small UAVs whether they are used by hobbyists causing a bit of a nuisance or in a more sinister manner by a terrorist actor.  Countermeasures  edit  Counter unmanned air system  edit  Italian Army soldiers of the 17th Antiaircraft Artillery Regiment Sforzesca with a portable drone jammer in Rome Cannon antidrone system Further information Electronic warfare The malicious use of UAVs has led to the development of counter unmanned air system CUAS technologies. Automatic tracking and detection of UAVs from commercial cameras have become accurate thanks to the development of deep learning based machine learning algorithms.']\""
            ],
            "application/vnd.google.colaboratory.intrinsic+json": {
              "type": "string"
            }
          },
          "metadata": {},
          "execution_count": 31
        }
      ]
    },
    {
      "cell_type": "markdown",
      "source": [
        "## Optimized chunking"
      ],
      "metadata": {
        "id": "lDDyAsa-oswp"
      }
    },
    {
      "cell_type": "code",
      "source": [
        "# Assuming you have the 'response' object from query_engine.query()\n",
        "\n",
        "for node_with_score in response.source_nodes:\n",
        "    node = node_with_score.node  # Extract the Node object from NodeWithScore\n",
        "    chunk_size = len(node.text)\n",
        "    print(f\"Node ID: {node.id_}, Chunk Size: {chunk_size} characters\")"
      ],
      "metadata": {
        "colab": {
          "base_uri": "https://localhost:8080/"
        },
        "id": "MmW4MFSdopQE",
        "outputId": "e8b00611-8950-460f-c6e0-e5ab04d3bcb1"
      },
      "execution_count": 32,
      "outputs": [
        {
          "output_type": "stream",
          "name": "stdout",
          "text": [
            "Node ID: a705c247-65f2-40e8-8122-8b6c782d9b53, Chunk Size: 5257 characters\n",
            "Node ID: 64bc7aae-e6a1-4ce8-bcc1-14456118d3c5, Chunk Size: 4510 characters\n",
            "Node ID: 0ae2eb16-a5bd-4128-93ff-e2ae12f897b1, Chunk Size: 4133 characters\n"
          ]
        }
      ]
    },
    {
      "cell_type": "markdown",
      "source": [
        "## Performance metric"
      ],
      "metadata": {
        "id": "_XQiH9ImiHW8"
      }
    },
    {
      "cell_type": "code",
      "source": [
        "import numpy as np\n",
        "\n",
        "def info_metrics(response):\n",
        "  # Calculate the performance (handling None scores)\n",
        "  scores = [node.score for node in response.source_nodes if node.score is not None]\n",
        "  if scores:  # Check if there are any valid scores\n",
        "      weights = np.exp(scores) / np.sum(np.exp(scores))\n",
        "      perf = np.average(scores, weights=weights) / elapsed_time\n",
        "  else:\n",
        "      perf = 0  # Or some other default value if all scores are None\n",
        "\n",
        "  average_score=np.average(scores, weights=weights)\n",
        "  print(f\"Average score: {average_score:.4f}\")\n",
        "  print(f\"Query execution time: {elapsed_time:.4f} seconds\")\n",
        "  print(f\"Performance metric: {perf:.4f}\")"
      ],
      "metadata": {
        "id": "4g_H0caBiHW9"
      },
      "execution_count": 33,
      "outputs": []
    },
    {
      "cell_type": "code",
      "source": [
        "info_metrics(response)"
      ],
      "metadata": {
        "colab": {
          "base_uri": "https://localhost:8080/"
        },
        "outputId": "0adca226-6186-4d02-97e9-1b106672aaa7",
        "id": "-3K48RuAiHW9"
      },
      "execution_count": 34,
      "outputs": [
        {
          "output_type": "stream",
          "name": "stdout",
          "text": [
            "Average score: 0.8294\n",
            "Query execution time: 0.9688 seconds\n",
            "Performance metric: 0.8561\n"
          ]
        }
      ]
    },
    {
      "cell_type": "markdown",
      "source": [
        "# Tree index query engine"
      ],
      "metadata": {
        "id": "_dqduDJ6rn7M"
      }
    },
    {
      "cell_type": "code",
      "source": [
        "from llama_index.core import GPTTreeIndex\n",
        "tree_index = GPTTreeIndex.from_documents(documents)"
      ],
      "metadata": {
        "id": "l-YeiE-PrpjV"
      },
      "execution_count": 35,
      "outputs": []
    },
    {
      "cell_type": "code",
      "source": [
        "print(type(tree_index))"
      ],
      "metadata": {
        "colab": {
          "base_uri": "https://localhost:8080/"
        },
        "id": "Hb5pji6Sr5rc",
        "outputId": "0d291b09-780a-493a-8439-09a505e8b7e3"
      },
      "execution_count": 36,
      "outputs": [
        {
          "output_type": "stream",
          "name": "stdout",
          "text": [
            "<class 'llama_index.core.indices.tree.base.TreeIndex'>\n"
          ]
        }
      ]
    },
    {
      "cell_type": "code",
      "source": [
        "tree_query_engine = tree_index.as_query_engine(similarity_top_k=k, temperature=temp, num_output=mt)"
      ],
      "metadata": {
        "id": "vXx5PyzVsId_"
      },
      "execution_count": 37,
      "outputs": []
    },
    {
      "cell_type": "code",
      "source": [
        "import time\n",
        "import textwrap\n",
        "# Start the timer\n",
        "start_time = time.time()\n",
        "response = tree_query_engine.query(user_input)\n",
        "# Stop the timer\n",
        "end_time = time.time()\n",
        "# Calculate and print the execution time\n",
        "elapsed_time = end_time - start_time\n",
        "print(f\"Query execution time: {elapsed_time:.4f} seconds\")\n",
        "\n",
        "print(textwrap.fill(str(response), 100))"
      ],
      "metadata": {
        "colab": {
          "base_uri": "https://localhost:8080/"
        },
        "id": "b8E9RQz3sPM6",
        "outputId": "ca7fa82f-8c40-42f3-bf4d-eb17ffb91142"
      },
      "execution_count": 38,
      "outputs": [
        {
          "output_type": "stream",
          "name": "stdout",
          "text": [
            "Query execution time: 4.0991 seconds\n",
            "Drones identify vehicles using computer vision technology related to object detection. This involves\n",
            "detecting instances of semantic objects of a certain class, such as cars, in digital images and\n",
            "videos. The process may include using deep neural networks and models like YOLOv3 trained on\n",
            "datasets like COCO to detect vehicles based on their visual features and characteristics.\n"
          ]
        }
      ]
    },
    {
      "cell_type": "markdown",
      "source": [
        "## Performance metric"
      ],
      "metadata": {
        "id": "vQxSpKTOSSHr"
      }
    },
    {
      "cell_type": "code",
      "source": [
        "similarity_score = calculate_cosine_similarity_with_embeddings(user_input, str(response))\n",
        "print(f\"Cosine Similarity Score: {similarity_score:.3f}\")\n",
        "print(f\"Query execution time: {elapsed_time:.4f} seconds\")\n",
        "performance=similarity_score/elapsed_time\n",
        "print(f\"Performance metric: {performance:.4f}\")"
      ],
      "metadata": {
        "colab": {
          "base_uri": "https://localhost:8080/"
        },
        "id": "F8Cqhr1sSYRC",
        "outputId": "bbd0a21c-5ded-4bfe-f066-9cfe42057b39"
      },
      "execution_count": 39,
      "outputs": [
        {
          "output_type": "stream",
          "name": "stdout",
          "text": [
            "Cosine Similarity Score: 0.758\n",
            "Query execution time: 4.0991 seconds\n",
            "Performance metric: 0.1848\n"
          ]
        }
      ]
    },
    {
      "cell_type": "markdown",
      "source": [
        "# List index query engine"
      ],
      "metadata": {
        "id": "3fOB37e6sWaJ"
      }
    },
    {
      "cell_type": "code",
      "source": [
        "from llama_index.core import GPTListIndex\n",
        "list_index = GPTListIndex.from_documents(documents)"
      ],
      "metadata": {
        "id": "pleYlYs3tInK"
      },
      "execution_count": 40,
      "outputs": []
    },
    {
      "cell_type": "code",
      "source": [
        "print(type(list_index))"
      ],
      "metadata": {
        "colab": {
          "base_uri": "https://localhost:8080/"
        },
        "id": "2vo8re-wtHpR",
        "outputId": "b21f589e-8900-45f6-b00b-bb9fcf86879d"
      },
      "execution_count": 41,
      "outputs": [
        {
          "output_type": "stream",
          "name": "stdout",
          "text": [
            "<class 'llama_index.core.indices.list.base.SummaryIndex'>\n"
          ]
        }
      ]
    },
    {
      "cell_type": "code",
      "source": [
        "list_query_engine = list_index.as_query_engine(similarity_top_k=k, temperature=temp, num_output=mt)"
      ],
      "metadata": {
        "id": "gtFOCgNutZd3"
      },
      "execution_count": 42,
      "outputs": []
    },
    {
      "cell_type": "code",
      "source": [
        "#start the timer\n",
        "start_time = time.time()\n",
        "response = list_query_engine.query(user_input)\n",
        "# Stop the timer\n",
        "end_time = time.time()\n",
        "# Calculate and print the execution time\n",
        "elapsed_time = end_time - start_time\n",
        "print(f\"Query execution time: {elapsed_time:.4f} seconds\")\n",
        "\n",
        "print(textwrap.fill(str(response), 100))"
      ],
      "metadata": {
        "colab": {
          "base_uri": "https://localhost:8080/"
        },
        "id": "Bf3KTyc2tnzA",
        "outputId": "0c4217e0-4e04-4629-ed35-5ad4af6f8139"
      },
      "execution_count": 43,
      "outputs": [
        {
          "output_type": "stream",
          "name": "stdout",
          "text": [
            "Query execution time: 7.4390 seconds\n",
            "Drones can identify vehicles through the use of computer vision algorithms, specifically\n",
            "convolutional neural networks (CNNs). These CNNs are trained to recognize specific features of\n",
            "vehicles in images or video frames captured by the drone's cameras. By processing the visual data\n",
            "through these networks, drones can classify and identify vehicles based on their unique\n",
            "characteristics. This process allows drones to detect vehicles accurately and efficiently in various\n",
            "scenarios.\n"
          ]
        }
      ]
    },
    {
      "cell_type": "markdown",
      "source": [
        "## Performance metric"
      ],
      "metadata": {
        "id": "0gSORzLPbGRS"
      }
    },
    {
      "cell_type": "code",
      "source": [
        "similarity_score = calculate_cosine_similarity_with_embeddings(user_input, str(response))\n",
        "print(f\"Cosine Similarity Score: {similarity_score:.3f}\")\n",
        "print(f\"Query execution time: {elapsed_time:.4f} seconds\")\n",
        "performance=similarity_score/elapsed_time\n",
        "print(f\"Performance metric: {performance:.4f}\")"
      ],
      "metadata": {
        "colab": {
          "base_uri": "https://localhost:8080/"
        },
        "outputId": "f8531103-6c2f-43ce-85ae-b74a4582d638",
        "id": "tfTWqYP3bBeY"
      },
      "execution_count": 44,
      "outputs": [
        {
          "output_type": "stream",
          "name": "stdout",
          "text": [
            "Cosine Similarity Score: 0.773\n",
            "Query execution time: 7.4390 seconds\n",
            "Performance metric: 0.1039\n"
          ]
        }
      ]
    },
    {
      "cell_type": "markdown",
      "source": [
        "# Keyword index query index"
      ],
      "metadata": {
        "id": "B55WzTYgtw_0"
      }
    },
    {
      "cell_type": "code",
      "source": [
        "from llama_index.core import GPTKeywordTableIndex\n",
        "keyword_index = GPTKeywordTableIndex.from_documents(documents)"
      ],
      "metadata": {
        "id": "MGVAYCqxtE7L"
      },
      "execution_count": 45,
      "outputs": []
    },
    {
      "cell_type": "code",
      "source": [
        "# Extract data for DataFrame\n",
        "data = []\n",
        "for keyword, doc_ids in keyword_index.index_struct.table.items():\n",
        "    for doc_id in doc_ids:\n",
        "        data.append({\"Keyword\": keyword, \"Document ID\": doc_id})\n",
        "\n",
        "# Create the DataFrame\n",
        "df = pd.DataFrame(data)\n",
        "df"
      ],
      "metadata": {
        "colab": {
          "base_uri": "https://localhost:8080/",
          "height": 423
        },
        "id": "tp9vEYoCuEBl",
        "outputId": "bd97d60b-1e65-4f8f-eab4-8de4203be482"
      },
      "execution_count": 46,
      "outputs": [
        {
          "output_type": "execute_result",
          "data": {
            "text/plain": [
              "                      Keyword                           Document ID\n",
              "0     astrophysical phenomena  7d94bede-5af4-4558-a9ae-c9792ee685a7\n",
              "1                     quantum  5860444d-d288-456d-92f0-13ccf90966c2\n",
              "2                     quantum  7d94bede-5af4-4558-a9ae-c9792ee685a7\n",
              "3                       black  7d94bede-5af4-4558-a9ae-c9792ee685a7\n",
              "4             nhek black hole  7d94bede-5af4-4558-a9ae-c9792ee685a7\n",
              "...                       ...                                   ...\n",
              "2062          antiuav systems  f7bd4e8f-86e6-4837-b3f8-8fa81190d0c1\n",
              "2063       electronic warfare  f7bd4e8f-86e6-4837-b3f8-8fa81190d0c1\n",
              "2064          countermeasures  f7bd4e8f-86e6-4837-b3f8-8fa81190d0c1\n",
              "2065             drone jammer  f7bd4e8f-86e6-4837-b3f8-8fa81190d0c1\n",
              "2066               electronic  f7bd4e8f-86e6-4837-b3f8-8fa81190d0c1\n",
              "\n",
              "[2067 rows x 2 columns]"
            ],
            "text/html": [
              "\n",
              "  <div id=\"df-5d0a16e1-0565-4754-9204-78958a40dacd\" class=\"colab-df-container\">\n",
              "    <div>\n",
              "<style scoped>\n",
              "    .dataframe tbody tr th:only-of-type {\n",
              "        vertical-align: middle;\n",
              "    }\n",
              "\n",
              "    .dataframe tbody tr th {\n",
              "        vertical-align: top;\n",
              "    }\n",
              "\n",
              "    .dataframe thead th {\n",
              "        text-align: right;\n",
              "    }\n",
              "</style>\n",
              "<table border=\"1\" class=\"dataframe\">\n",
              "  <thead>\n",
              "    <tr style=\"text-align: right;\">\n",
              "      <th></th>\n",
              "      <th>Keyword</th>\n",
              "      <th>Document ID</th>\n",
              "    </tr>\n",
              "  </thead>\n",
              "  <tbody>\n",
              "    <tr>\n",
              "      <th>0</th>\n",
              "      <td>astrophysical phenomena</td>\n",
              "      <td>7d94bede-5af4-4558-a9ae-c9792ee685a7</td>\n",
              "    </tr>\n",
              "    <tr>\n",
              "      <th>1</th>\n",
              "      <td>quantum</td>\n",
              "      <td>5860444d-d288-456d-92f0-13ccf90966c2</td>\n",
              "    </tr>\n",
              "    <tr>\n",
              "      <th>2</th>\n",
              "      <td>quantum</td>\n",
              "      <td>7d94bede-5af4-4558-a9ae-c9792ee685a7</td>\n",
              "    </tr>\n",
              "    <tr>\n",
              "      <th>3</th>\n",
              "      <td>black</td>\n",
              "      <td>7d94bede-5af4-4558-a9ae-c9792ee685a7</td>\n",
              "    </tr>\n",
              "    <tr>\n",
              "      <th>4</th>\n",
              "      <td>nhek black hole</td>\n",
              "      <td>7d94bede-5af4-4558-a9ae-c9792ee685a7</td>\n",
              "    </tr>\n",
              "    <tr>\n",
              "      <th>...</th>\n",
              "      <td>...</td>\n",
              "      <td>...</td>\n",
              "    </tr>\n",
              "    <tr>\n",
              "      <th>2062</th>\n",
              "      <td>antiuav systems</td>\n",
              "      <td>f7bd4e8f-86e6-4837-b3f8-8fa81190d0c1</td>\n",
              "    </tr>\n",
              "    <tr>\n",
              "      <th>2063</th>\n",
              "      <td>electronic warfare</td>\n",
              "      <td>f7bd4e8f-86e6-4837-b3f8-8fa81190d0c1</td>\n",
              "    </tr>\n",
              "    <tr>\n",
              "      <th>2064</th>\n",
              "      <td>countermeasures</td>\n",
              "      <td>f7bd4e8f-86e6-4837-b3f8-8fa81190d0c1</td>\n",
              "    </tr>\n",
              "    <tr>\n",
              "      <th>2065</th>\n",
              "      <td>drone jammer</td>\n",
              "      <td>f7bd4e8f-86e6-4837-b3f8-8fa81190d0c1</td>\n",
              "    </tr>\n",
              "    <tr>\n",
              "      <th>2066</th>\n",
              "      <td>electronic</td>\n",
              "      <td>f7bd4e8f-86e6-4837-b3f8-8fa81190d0c1</td>\n",
              "    </tr>\n",
              "  </tbody>\n",
              "</table>\n",
              "<p>2067 rows × 2 columns</p>\n",
              "</div>\n",
              "    <div class=\"colab-df-buttons\">\n",
              "\n",
              "  <div class=\"colab-df-container\">\n",
              "    <button class=\"colab-df-convert\" onclick=\"convertToInteractive('df-5d0a16e1-0565-4754-9204-78958a40dacd')\"\n",
              "            title=\"Convert this dataframe to an interactive table.\"\n",
              "            style=\"display:none;\">\n",
              "\n",
              "  <svg xmlns=\"http://www.w3.org/2000/svg\" height=\"24px\" viewBox=\"0 -960 960 960\">\n",
              "    <path d=\"M120-120v-720h720v720H120Zm60-500h600v-160H180v160Zm220 220h160v-160H400v160Zm0 220h160v-160H400v160ZM180-400h160v-160H180v160Zm440 0h160v-160H620v160ZM180-180h160v-160H180v160Zm440 0h160v-160H620v160Z\"/>\n",
              "  </svg>\n",
              "    </button>\n",
              "\n",
              "  <style>\n",
              "    .colab-df-container {\n",
              "      display:flex;\n",
              "      gap: 12px;\n",
              "    }\n",
              "\n",
              "    .colab-df-convert {\n",
              "      background-color: #E8F0FE;\n",
              "      border: none;\n",
              "      border-radius: 50%;\n",
              "      cursor: pointer;\n",
              "      display: none;\n",
              "      fill: #1967D2;\n",
              "      height: 32px;\n",
              "      padding: 0 0 0 0;\n",
              "      width: 32px;\n",
              "    }\n",
              "\n",
              "    .colab-df-convert:hover {\n",
              "      background-color: #E2EBFA;\n",
              "      box-shadow: 0px 1px 2px rgba(60, 64, 67, 0.3), 0px 1px 3px 1px rgba(60, 64, 67, 0.15);\n",
              "      fill: #174EA6;\n",
              "    }\n",
              "\n",
              "    .colab-df-buttons div {\n",
              "      margin-bottom: 4px;\n",
              "    }\n",
              "\n",
              "    [theme=dark] .colab-df-convert {\n",
              "      background-color: #3B4455;\n",
              "      fill: #D2E3FC;\n",
              "    }\n",
              "\n",
              "    [theme=dark] .colab-df-convert:hover {\n",
              "      background-color: #434B5C;\n",
              "      box-shadow: 0px 1px 3px 1px rgba(0, 0, 0, 0.15);\n",
              "      filter: drop-shadow(0px 1px 2px rgba(0, 0, 0, 0.3));\n",
              "      fill: #FFFFFF;\n",
              "    }\n",
              "  </style>\n",
              "\n",
              "    <script>\n",
              "      const buttonEl =\n",
              "        document.querySelector('#df-5d0a16e1-0565-4754-9204-78958a40dacd button.colab-df-convert');\n",
              "      buttonEl.style.display =\n",
              "        google.colab.kernel.accessAllowed ? 'block' : 'none';\n",
              "\n",
              "      async function convertToInteractive(key) {\n",
              "        const element = document.querySelector('#df-5d0a16e1-0565-4754-9204-78958a40dacd');\n",
              "        const dataTable =\n",
              "          await google.colab.kernel.invokeFunction('convertToInteractive',\n",
              "                                                    [key], {});\n",
              "        if (!dataTable) return;\n",
              "\n",
              "        const docLinkHtml = 'Like what you see? Visit the ' +\n",
              "          '<a target=\"_blank\" href=https://colab.research.google.com/notebooks/data_table.ipynb>data table notebook</a>'\n",
              "          + ' to learn more about interactive tables.';\n",
              "        element.innerHTML = '';\n",
              "        dataTable['output_type'] = 'display_data';\n",
              "        await google.colab.output.renderOutput(dataTable, element);\n",
              "        const docLink = document.createElement('div');\n",
              "        docLink.innerHTML = docLinkHtml;\n",
              "        element.appendChild(docLink);\n",
              "      }\n",
              "    </script>\n",
              "  </div>\n",
              "\n",
              "\n",
              "<div id=\"df-4ac0a972-0587-4989-8161-287b876760ad\">\n",
              "  <button class=\"colab-df-quickchart\" onclick=\"quickchart('df-4ac0a972-0587-4989-8161-287b876760ad')\"\n",
              "            title=\"Suggest charts\"\n",
              "            style=\"display:none;\">\n",
              "\n",
              "<svg xmlns=\"http://www.w3.org/2000/svg\" height=\"24px\"viewBox=\"0 0 24 24\"\n",
              "     width=\"24px\">\n",
              "    <g>\n",
              "        <path d=\"M19 3H5c-1.1 0-2 .9-2 2v14c0 1.1.9 2 2 2h14c1.1 0 2-.9 2-2V5c0-1.1-.9-2-2-2zM9 17H7v-7h2v7zm4 0h-2V7h2v10zm4 0h-2v-4h2v4z\"/>\n",
              "    </g>\n",
              "</svg>\n",
              "  </button>\n",
              "\n",
              "<style>\n",
              "  .colab-df-quickchart {\n",
              "      --bg-color: #E8F0FE;\n",
              "      --fill-color: #1967D2;\n",
              "      --hover-bg-color: #E2EBFA;\n",
              "      --hover-fill-color: #174EA6;\n",
              "      --disabled-fill-color: #AAA;\n",
              "      --disabled-bg-color: #DDD;\n",
              "  }\n",
              "\n",
              "  [theme=dark] .colab-df-quickchart {\n",
              "      --bg-color: #3B4455;\n",
              "      --fill-color: #D2E3FC;\n",
              "      --hover-bg-color: #434B5C;\n",
              "      --hover-fill-color: #FFFFFF;\n",
              "      --disabled-bg-color: #3B4455;\n",
              "      --disabled-fill-color: #666;\n",
              "  }\n",
              "\n",
              "  .colab-df-quickchart {\n",
              "    background-color: var(--bg-color);\n",
              "    border: none;\n",
              "    border-radius: 50%;\n",
              "    cursor: pointer;\n",
              "    display: none;\n",
              "    fill: var(--fill-color);\n",
              "    height: 32px;\n",
              "    padding: 0;\n",
              "    width: 32px;\n",
              "  }\n",
              "\n",
              "  .colab-df-quickchart:hover {\n",
              "    background-color: var(--hover-bg-color);\n",
              "    box-shadow: 0 1px 2px rgba(60, 64, 67, 0.3), 0 1px 3px 1px rgba(60, 64, 67, 0.15);\n",
              "    fill: var(--button-hover-fill-color);\n",
              "  }\n",
              "\n",
              "  .colab-df-quickchart-complete:disabled,\n",
              "  .colab-df-quickchart-complete:disabled:hover {\n",
              "    background-color: var(--disabled-bg-color);\n",
              "    fill: var(--disabled-fill-color);\n",
              "    box-shadow: none;\n",
              "  }\n",
              "\n",
              "  .colab-df-spinner {\n",
              "    border: 2px solid var(--fill-color);\n",
              "    border-color: transparent;\n",
              "    border-bottom-color: var(--fill-color);\n",
              "    animation:\n",
              "      spin 1s steps(1) infinite;\n",
              "  }\n",
              "\n",
              "  @keyframes spin {\n",
              "    0% {\n",
              "      border-color: transparent;\n",
              "      border-bottom-color: var(--fill-color);\n",
              "      border-left-color: var(--fill-color);\n",
              "    }\n",
              "    20% {\n",
              "      border-color: transparent;\n",
              "      border-left-color: var(--fill-color);\n",
              "      border-top-color: var(--fill-color);\n",
              "    }\n",
              "    30% {\n",
              "      border-color: transparent;\n",
              "      border-left-color: var(--fill-color);\n",
              "      border-top-color: var(--fill-color);\n",
              "      border-right-color: var(--fill-color);\n",
              "    }\n",
              "    40% {\n",
              "      border-color: transparent;\n",
              "      border-right-color: var(--fill-color);\n",
              "      border-top-color: var(--fill-color);\n",
              "    }\n",
              "    60% {\n",
              "      border-color: transparent;\n",
              "      border-right-color: var(--fill-color);\n",
              "    }\n",
              "    80% {\n",
              "      border-color: transparent;\n",
              "      border-right-color: var(--fill-color);\n",
              "      border-bottom-color: var(--fill-color);\n",
              "    }\n",
              "    90% {\n",
              "      border-color: transparent;\n",
              "      border-bottom-color: var(--fill-color);\n",
              "    }\n",
              "  }\n",
              "</style>\n",
              "\n",
              "  <script>\n",
              "    async function quickchart(key) {\n",
              "      const quickchartButtonEl =\n",
              "        document.querySelector('#' + key + ' button');\n",
              "      quickchartButtonEl.disabled = true;  // To prevent multiple clicks.\n",
              "      quickchartButtonEl.classList.add('colab-df-spinner');\n",
              "      try {\n",
              "        const charts = await google.colab.kernel.invokeFunction(\n",
              "            'suggestCharts', [key], {});\n",
              "      } catch (error) {\n",
              "        console.error('Error during call to suggestCharts:', error);\n",
              "      }\n",
              "      quickchartButtonEl.classList.remove('colab-df-spinner');\n",
              "      quickchartButtonEl.classList.add('colab-df-quickchart-complete');\n",
              "    }\n",
              "    (() => {\n",
              "      let quickchartButtonEl =\n",
              "        document.querySelector('#df-4ac0a972-0587-4989-8161-287b876760ad button');\n",
              "      quickchartButtonEl.style.display =\n",
              "        google.colab.kernel.accessAllowed ? 'block' : 'none';\n",
              "    })();\n",
              "  </script>\n",
              "</div>\n",
              "    </div>\n",
              "  </div>\n"
            ],
            "application/vnd.google.colaboratory.intrinsic+json": {
              "type": "dataframe",
              "variable_name": "df",
              "summary": "{\n  \"name\": \"df\",\n  \"rows\": 2067,\n  \"fields\": [\n    {\n      \"column\": \"Keyword\",\n      \"properties\": {\n        \"dtype\": \"string\",\n        \"num_unique_values\": 1377,\n        \"samples\": [\n          \"downsampling method\",\n          \"input\",\n          \"apache\"\n        ],\n        \"semantic_type\": \"\",\n        \"description\": \"\"\n      }\n    },\n    {\n      \"column\": \"Document ID\",\n      \"properties\": {\n        \"dtype\": \"category\",\n        \"num_unique_values\": 41,\n        \"samples\": [\n          \"fa44f8c4-1b12-46eb-a60d-f00e2122217f\",\n          \"0ca65ac9-80ba-4507-8593-8c7bc48ffc7e\",\n          \"656d55b1-d0f6-426e-a8df-55ab05c6ad55\"\n        ],\n        \"semantic_type\": \"\",\n        \"description\": \"\"\n      }\n    }\n  ]\n}"
            }
          },
          "metadata": {},
          "execution_count": 46
        }
      ]
    },
    {
      "cell_type": "code",
      "source": [
        "keyword_query_engine = keyword_index.as_query_engine(similarity_top_k=k, temperature=temp, num_output=mt)"
      ],
      "metadata": {
        "id": "ix5glq4iuUk5"
      },
      "execution_count": 47,
      "outputs": []
    },
    {
      "cell_type": "code",
      "source": [
        "import time\n",
        "\n",
        "# Start the timer\n",
        "start_time = time.time()\n",
        "\n",
        "# Execute the query (using .query() method)\n",
        "response = keyword_query_engine.query(user_input)\n",
        "\n",
        "# Stop the timer\n",
        "end_time = time.time()\n",
        "\n",
        "# Calculate and print the execution time\n",
        "elapsed_time = end_time - start_time\n",
        "print(f\"Query execution time: {elapsed_time:.4f} seconds\")\n",
        "\n",
        "print(textwrap.fill(str(response), 100))"
      ],
      "metadata": {
        "colab": {
          "base_uri": "https://localhost:8080/"
        },
        "id": "tC8YzxoxuZSH",
        "outputId": "b9c4fc2a-0a57-4882-93e2-67659cb54bcd"
      },
      "execution_count": 48,
      "outputs": [
        {
          "output_type": "stream",
          "name": "stdout",
          "text": [
            "Query execution time: 2.0607 seconds\n",
            "Drones can identify vehicles through various methods such as computer vision, image recognition, and\n",
            "sensor data. These technologies allow drones to detect and classify vehicles based on visual\n",
            "information captured during flight operations.\n"
          ]
        }
      ]
    },
    {
      "cell_type": "markdown",
      "source": [
        "## Performance metric"
      ],
      "metadata": {
        "id": "Ay1I5OY2bWcM"
      }
    },
    {
      "cell_type": "code",
      "source": [
        "similarity_score = calculate_cosine_similarity_with_embeddings(user_input, str(response))\n",
        "print(f\"Cosine Similarity Score: {similarity_score:.3f}\")\n",
        "print(f\"Query execution time: {elapsed_time:.4f} seconds\")\n",
        "performance=similarity_score/elapsed_time\n",
        "print(f\"Performance metric: {performance:.4f}\")"
      ],
      "metadata": {
        "colab": {
          "base_uri": "https://localhost:8080/"
        },
        "outputId": "b06e1624-2bab-48c3-b76b-4802d580f489",
        "id": "DfdJI586bWcN"
      },
      "execution_count": 49,
      "outputs": [
        {
          "output_type": "stream",
          "name": "stdout",
          "text": [
            "Cosine Similarity Score: 0.832\n",
            "Query execution time: 2.0607 seconds\n",
            "Performance metric: 0.4039\n"
          ]
        }
      ]
    }
  ],
  "metadata": {
    "kernelspec": {
      "display_name": "Python 3 (ipykernel)",
      "language": "python",
      "name": "python3"
    },
    "language_info": {
      "codemirror_mode": {
        "name": "ipython",
        "version": 3
      },
      "file_extension": ".py",
      "mimetype": "text/x-python",
      "name": "python",
      "nbconvert_exporter": "python",
      "pygments_lexer": "ipython3"
    },
    "vscode": {
      "interpreter": {
        "hash": "6e44765f40d39e4c6e3d7a9b35e5b42b8711c1c0fb3c237b84fa62e4b3e35e04"
      }
    },
    "colab": {
      "provenance": [],
      "toc_visible": true
    },
    "widgets": {
      "application/vnd.jupyter.widget-state+json": {
        "1bf4690a5d9d4aacb2e1f9785cf5cf27": {
          "model_module": "@jupyter-widgets/controls",
          "model_name": "HBoxModel",
          "model_module_version": "1.5.0",
          "state": {
            "_dom_classes": [],
            "_model_module": "@jupyter-widgets/controls",
            "_model_module_version": "1.5.0",
            "_model_name": "HBoxModel",
            "_view_count": null,
            "_view_module": "@jupyter-widgets/controls",
            "_view_module_version": "1.5.0",
            "_view_name": "HBoxView",
            "box_style": "",
            "children": [
              "IPY_MODEL_b76d632dd40347fb86d00915da745776",
              "IPY_MODEL_e8d4cf94217445dca20ae838acd19375",
              "IPY_MODEL_e56bf44684634ef9ab43534759ed4544"
            ],
            "layout": "IPY_MODEL_7c02571bd4f448f3ac0714ec6718adf3"
          }
        },
        "b76d632dd40347fb86d00915da745776": {
          "model_module": "@jupyter-widgets/controls",
          "model_name": "HTMLModel",
          "model_module_version": "1.5.0",
          "state": {
            "_dom_classes": [],
            "_model_module": "@jupyter-widgets/controls",
            "_model_module_version": "1.5.0",
            "_model_name": "HTMLModel",
            "_view_count": null,
            "_view_module": "@jupyter-widgets/controls",
            "_view_module_version": "1.5.0",
            "_view_name": "HTMLView",
            "description": "",
            "description_tooltip": null,
            "layout": "IPY_MODEL_cf3e91e2ed8743c0a5ed9ee173d986ca",
            "placeholder": "​",
            "style": "IPY_MODEL_29d92e417cf64dd49e20a458d5629f24",
            "value": "modules.json: 100%"
          }
        },
        "e8d4cf94217445dca20ae838acd19375": {
          "model_module": "@jupyter-widgets/controls",
          "model_name": "FloatProgressModel",
          "model_module_version": "1.5.0",
          "state": {
            "_dom_classes": [],
            "_model_module": "@jupyter-widgets/controls",
            "_model_module_version": "1.5.0",
            "_model_name": "FloatProgressModel",
            "_view_count": null,
            "_view_module": "@jupyter-widgets/controls",
            "_view_module_version": "1.5.0",
            "_view_name": "ProgressView",
            "bar_style": "success",
            "description": "",
            "description_tooltip": null,
            "layout": "IPY_MODEL_4c5c862ec9a1434a8a11e9d3e30dd393",
            "max": 349,
            "min": 0,
            "orientation": "horizontal",
            "style": "IPY_MODEL_2c345597b700419a807de9c3149d47bf",
            "value": 349
          }
        },
        "e56bf44684634ef9ab43534759ed4544": {
          "model_module": "@jupyter-widgets/controls",
          "model_name": "HTMLModel",
          "model_module_version": "1.5.0",
          "state": {
            "_dom_classes": [],
            "_model_module": "@jupyter-widgets/controls",
            "_model_module_version": "1.5.0",
            "_model_name": "HTMLModel",
            "_view_count": null,
            "_view_module": "@jupyter-widgets/controls",
            "_view_module_version": "1.5.0",
            "_view_name": "HTMLView",
            "description": "",
            "description_tooltip": null,
            "layout": "IPY_MODEL_d7861d23298c4ac3a3628470a32bdcce",
            "placeholder": "​",
            "style": "IPY_MODEL_b14f294cfd22417ab3898edd3a2cf487",
            "value": " 349/349 [00:00&lt;00:00, 13.5kB/s]"
          }
        },
        "7c02571bd4f448f3ac0714ec6718adf3": {
          "model_module": "@jupyter-widgets/base",
          "model_name": "LayoutModel",
          "model_module_version": "1.2.0",
          "state": {
            "_model_module": "@jupyter-widgets/base",
            "_model_module_version": "1.2.0",
            "_model_name": "LayoutModel",
            "_view_count": null,
            "_view_module": "@jupyter-widgets/base",
            "_view_module_version": "1.2.0",
            "_view_name": "LayoutView",
            "align_content": null,
            "align_items": null,
            "align_self": null,
            "border": null,
            "bottom": null,
            "display": null,
            "flex": null,
            "flex_flow": null,
            "grid_area": null,
            "grid_auto_columns": null,
            "grid_auto_flow": null,
            "grid_auto_rows": null,
            "grid_column": null,
            "grid_gap": null,
            "grid_row": null,
            "grid_template_areas": null,
            "grid_template_columns": null,
            "grid_template_rows": null,
            "height": null,
            "justify_content": null,
            "justify_items": null,
            "left": null,
            "margin": null,
            "max_height": null,
            "max_width": null,
            "min_height": null,
            "min_width": null,
            "object_fit": null,
            "object_position": null,
            "order": null,
            "overflow": null,
            "overflow_x": null,
            "overflow_y": null,
            "padding": null,
            "right": null,
            "top": null,
            "visibility": null,
            "width": null
          }
        },
        "cf3e91e2ed8743c0a5ed9ee173d986ca": {
          "model_module": "@jupyter-widgets/base",
          "model_name": "LayoutModel",
          "model_module_version": "1.2.0",
          "state": {
            "_model_module": "@jupyter-widgets/base",
            "_model_module_version": "1.2.0",
            "_model_name": "LayoutModel",
            "_view_count": null,
            "_view_module": "@jupyter-widgets/base",
            "_view_module_version": "1.2.0",
            "_view_name": "LayoutView",
            "align_content": null,
            "align_items": null,
            "align_self": null,
            "border": null,
            "bottom": null,
            "display": null,
            "flex": null,
            "flex_flow": null,
            "grid_area": null,
            "grid_auto_columns": null,
            "grid_auto_flow": null,
            "grid_auto_rows": null,
            "grid_column": null,
            "grid_gap": null,
            "grid_row": null,
            "grid_template_areas": null,
            "grid_template_columns": null,
            "grid_template_rows": null,
            "height": null,
            "justify_content": null,
            "justify_items": null,
            "left": null,
            "margin": null,
            "max_height": null,
            "max_width": null,
            "min_height": null,
            "min_width": null,
            "object_fit": null,
            "object_position": null,
            "order": null,
            "overflow": null,
            "overflow_x": null,
            "overflow_y": null,
            "padding": null,
            "right": null,
            "top": null,
            "visibility": null,
            "width": null
          }
        },
        "29d92e417cf64dd49e20a458d5629f24": {
          "model_module": "@jupyter-widgets/controls",
          "model_name": "DescriptionStyleModel",
          "model_module_version": "1.5.0",
          "state": {
            "_model_module": "@jupyter-widgets/controls",
            "_model_module_version": "1.5.0",
            "_model_name": "DescriptionStyleModel",
            "_view_count": null,
            "_view_module": "@jupyter-widgets/base",
            "_view_module_version": "1.2.0",
            "_view_name": "StyleView",
            "description_width": ""
          }
        },
        "4c5c862ec9a1434a8a11e9d3e30dd393": {
          "model_module": "@jupyter-widgets/base",
          "model_name": "LayoutModel",
          "model_module_version": "1.2.0",
          "state": {
            "_model_module": "@jupyter-widgets/base",
            "_model_module_version": "1.2.0",
            "_model_name": "LayoutModel",
            "_view_count": null,
            "_view_module": "@jupyter-widgets/base",
            "_view_module_version": "1.2.0",
            "_view_name": "LayoutView",
            "align_content": null,
            "align_items": null,
            "align_self": null,
            "border": null,
            "bottom": null,
            "display": null,
            "flex": null,
            "flex_flow": null,
            "grid_area": null,
            "grid_auto_columns": null,
            "grid_auto_flow": null,
            "grid_auto_rows": null,
            "grid_column": null,
            "grid_gap": null,
            "grid_row": null,
            "grid_template_areas": null,
            "grid_template_columns": null,
            "grid_template_rows": null,
            "height": null,
            "justify_content": null,
            "justify_items": null,
            "left": null,
            "margin": null,
            "max_height": null,
            "max_width": null,
            "min_height": null,
            "min_width": null,
            "object_fit": null,
            "object_position": null,
            "order": null,
            "overflow": null,
            "overflow_x": null,
            "overflow_y": null,
            "padding": null,
            "right": null,
            "top": null,
            "visibility": null,
            "width": null
          }
        },
        "2c345597b700419a807de9c3149d47bf": {
          "model_module": "@jupyter-widgets/controls",
          "model_name": "ProgressStyleModel",
          "model_module_version": "1.5.0",
          "state": {
            "_model_module": "@jupyter-widgets/controls",
            "_model_module_version": "1.5.0",
            "_model_name": "ProgressStyleModel",
            "_view_count": null,
            "_view_module": "@jupyter-widgets/base",
            "_view_module_version": "1.2.0",
            "_view_name": "StyleView",
            "bar_color": null,
            "description_width": ""
          }
        },
        "d7861d23298c4ac3a3628470a32bdcce": {
          "model_module": "@jupyter-widgets/base",
          "model_name": "LayoutModel",
          "model_module_version": "1.2.0",
          "state": {
            "_model_module": "@jupyter-widgets/base",
            "_model_module_version": "1.2.0",
            "_model_name": "LayoutModel",
            "_view_count": null,
            "_view_module": "@jupyter-widgets/base",
            "_view_module_version": "1.2.0",
            "_view_name": "LayoutView",
            "align_content": null,
            "align_items": null,
            "align_self": null,
            "border": null,
            "bottom": null,
            "display": null,
            "flex": null,
            "flex_flow": null,
            "grid_area": null,
            "grid_auto_columns": null,
            "grid_auto_flow": null,
            "grid_auto_rows": null,
            "grid_column": null,
            "grid_gap": null,
            "grid_row": null,
            "grid_template_areas": null,
            "grid_template_columns": null,
            "grid_template_rows": null,
            "height": null,
            "justify_content": null,
            "justify_items": null,
            "left": null,
            "margin": null,
            "max_height": null,
            "max_width": null,
            "min_height": null,
            "min_width": null,
            "object_fit": null,
            "object_position": null,
            "order": null,
            "overflow": null,
            "overflow_x": null,
            "overflow_y": null,
            "padding": null,
            "right": null,
            "top": null,
            "visibility": null,
            "width": null
          }
        },
        "b14f294cfd22417ab3898edd3a2cf487": {
          "model_module": "@jupyter-widgets/controls",
          "model_name": "DescriptionStyleModel",
          "model_module_version": "1.5.0",
          "state": {
            "_model_module": "@jupyter-widgets/controls",
            "_model_module_version": "1.5.0",
            "_model_name": "DescriptionStyleModel",
            "_view_count": null,
            "_view_module": "@jupyter-widgets/base",
            "_view_module_version": "1.2.0",
            "_view_name": "StyleView",
            "description_width": ""
          }
        },
        "6bf0c15f3e4e4945bf31d0b346aafd01": {
          "model_module": "@jupyter-widgets/controls",
          "model_name": "HBoxModel",
          "model_module_version": "1.5.0",
          "state": {
            "_dom_classes": [],
            "_model_module": "@jupyter-widgets/controls",
            "_model_module_version": "1.5.0",
            "_model_name": "HBoxModel",
            "_view_count": null,
            "_view_module": "@jupyter-widgets/controls",
            "_view_module_version": "1.5.0",
            "_view_name": "HBoxView",
            "box_style": "",
            "children": [
              "IPY_MODEL_95d69c7e63ab4c97b64f786eb9e075b9",
              "IPY_MODEL_b605a7af3ac3453a93e082fcd011e862",
              "IPY_MODEL_a18e92b333744aa7b1002a55d13ad533"
            ],
            "layout": "IPY_MODEL_c0ceb8abeb2346fbb4104c37242bfd2b"
          }
        },
        "95d69c7e63ab4c97b64f786eb9e075b9": {
          "model_module": "@jupyter-widgets/controls",
          "model_name": "HTMLModel",
          "model_module_version": "1.5.0",
          "state": {
            "_dom_classes": [],
            "_model_module": "@jupyter-widgets/controls",
            "_model_module_version": "1.5.0",
            "_model_name": "HTMLModel",
            "_view_count": null,
            "_view_module": "@jupyter-widgets/controls",
            "_view_module_version": "1.5.0",
            "_view_name": "HTMLView",
            "description": "",
            "description_tooltip": null,
            "layout": "IPY_MODEL_9d9c5c303ec645b09f849c87e0400b1c",
            "placeholder": "​",
            "style": "IPY_MODEL_f1f7b0f8bbd04cd9a345301685a3060f",
            "value": "config_sentence_transformers.json: 100%"
          }
        },
        "b605a7af3ac3453a93e082fcd011e862": {
          "model_module": "@jupyter-widgets/controls",
          "model_name": "FloatProgressModel",
          "model_module_version": "1.5.0",
          "state": {
            "_dom_classes": [],
            "_model_module": "@jupyter-widgets/controls",
            "_model_module_version": "1.5.0",
            "_model_name": "FloatProgressModel",
            "_view_count": null,
            "_view_module": "@jupyter-widgets/controls",
            "_view_module_version": "1.5.0",
            "_view_name": "ProgressView",
            "bar_style": "success",
            "description": "",
            "description_tooltip": null,
            "layout": "IPY_MODEL_4d513c3043a54de78804265d765158c9",
            "max": 116,
            "min": 0,
            "orientation": "horizontal",
            "style": "IPY_MODEL_4cdaf38c4b6c483aa698ededf0d8275c",
            "value": 116
          }
        },
        "a18e92b333744aa7b1002a55d13ad533": {
          "model_module": "@jupyter-widgets/controls",
          "model_name": "HTMLModel",
          "model_module_version": "1.5.0",
          "state": {
            "_dom_classes": [],
            "_model_module": "@jupyter-widgets/controls",
            "_model_module_version": "1.5.0",
            "_model_name": "HTMLModel",
            "_view_count": null,
            "_view_module": "@jupyter-widgets/controls",
            "_view_module_version": "1.5.0",
            "_view_name": "HTMLView",
            "description": "",
            "description_tooltip": null,
            "layout": "IPY_MODEL_ef2ecbb6742b4044a7ee08f246d1c934",
            "placeholder": "​",
            "style": "IPY_MODEL_f710262f4dc8404897d6d1ab4f99b9cb",
            "value": " 116/116 [00:00&lt;00:00, 3.89kB/s]"
          }
        },
        "c0ceb8abeb2346fbb4104c37242bfd2b": {
          "model_module": "@jupyter-widgets/base",
          "model_name": "LayoutModel",
          "model_module_version": "1.2.0",
          "state": {
            "_model_module": "@jupyter-widgets/base",
            "_model_module_version": "1.2.0",
            "_model_name": "LayoutModel",
            "_view_count": null,
            "_view_module": "@jupyter-widgets/base",
            "_view_module_version": "1.2.0",
            "_view_name": "LayoutView",
            "align_content": null,
            "align_items": null,
            "align_self": null,
            "border": null,
            "bottom": null,
            "display": null,
            "flex": null,
            "flex_flow": null,
            "grid_area": null,
            "grid_auto_columns": null,
            "grid_auto_flow": null,
            "grid_auto_rows": null,
            "grid_column": null,
            "grid_gap": null,
            "grid_row": null,
            "grid_template_areas": null,
            "grid_template_columns": null,
            "grid_template_rows": null,
            "height": null,
            "justify_content": null,
            "justify_items": null,
            "left": null,
            "margin": null,
            "max_height": null,
            "max_width": null,
            "min_height": null,
            "min_width": null,
            "object_fit": null,
            "object_position": null,
            "order": null,
            "overflow": null,
            "overflow_x": null,
            "overflow_y": null,
            "padding": null,
            "right": null,
            "top": null,
            "visibility": null,
            "width": null
          }
        },
        "9d9c5c303ec645b09f849c87e0400b1c": {
          "model_module": "@jupyter-widgets/base",
          "model_name": "LayoutModel",
          "model_module_version": "1.2.0",
          "state": {
            "_model_module": "@jupyter-widgets/base",
            "_model_module_version": "1.2.0",
            "_model_name": "LayoutModel",
            "_view_count": null,
            "_view_module": "@jupyter-widgets/base",
            "_view_module_version": "1.2.0",
            "_view_name": "LayoutView",
            "align_content": null,
            "align_items": null,
            "align_self": null,
            "border": null,
            "bottom": null,
            "display": null,
            "flex": null,
            "flex_flow": null,
            "grid_area": null,
            "grid_auto_columns": null,
            "grid_auto_flow": null,
            "grid_auto_rows": null,
            "grid_column": null,
            "grid_gap": null,
            "grid_row": null,
            "grid_template_areas": null,
            "grid_template_columns": null,
            "grid_template_rows": null,
            "height": null,
            "justify_content": null,
            "justify_items": null,
            "left": null,
            "margin": null,
            "max_height": null,
            "max_width": null,
            "min_height": null,
            "min_width": null,
            "object_fit": null,
            "object_position": null,
            "order": null,
            "overflow": null,
            "overflow_x": null,
            "overflow_y": null,
            "padding": null,
            "right": null,
            "top": null,
            "visibility": null,
            "width": null
          }
        },
        "f1f7b0f8bbd04cd9a345301685a3060f": {
          "model_module": "@jupyter-widgets/controls",
          "model_name": "DescriptionStyleModel",
          "model_module_version": "1.5.0",
          "state": {
            "_model_module": "@jupyter-widgets/controls",
            "_model_module_version": "1.5.0",
            "_model_name": "DescriptionStyleModel",
            "_view_count": null,
            "_view_module": "@jupyter-widgets/base",
            "_view_module_version": "1.2.0",
            "_view_name": "StyleView",
            "description_width": ""
          }
        },
        "4d513c3043a54de78804265d765158c9": {
          "model_module": "@jupyter-widgets/base",
          "model_name": "LayoutModel",
          "model_module_version": "1.2.0",
          "state": {
            "_model_module": "@jupyter-widgets/base",
            "_model_module_version": "1.2.0",
            "_model_name": "LayoutModel",
            "_view_count": null,
            "_view_module": "@jupyter-widgets/base",
            "_view_module_version": "1.2.0",
            "_view_name": "LayoutView",
            "align_content": null,
            "align_items": null,
            "align_self": null,
            "border": null,
            "bottom": null,
            "display": null,
            "flex": null,
            "flex_flow": null,
            "grid_area": null,
            "grid_auto_columns": null,
            "grid_auto_flow": null,
            "grid_auto_rows": null,
            "grid_column": null,
            "grid_gap": null,
            "grid_row": null,
            "grid_template_areas": null,
            "grid_template_columns": null,
            "grid_template_rows": null,
            "height": null,
            "justify_content": null,
            "justify_items": null,
            "left": null,
            "margin": null,
            "max_height": null,
            "max_width": null,
            "min_height": null,
            "min_width": null,
            "object_fit": null,
            "object_position": null,
            "order": null,
            "overflow": null,
            "overflow_x": null,
            "overflow_y": null,
            "padding": null,
            "right": null,
            "top": null,
            "visibility": null,
            "width": null
          }
        },
        "4cdaf38c4b6c483aa698ededf0d8275c": {
          "model_module": "@jupyter-widgets/controls",
          "model_name": "ProgressStyleModel",
          "model_module_version": "1.5.0",
          "state": {
            "_model_module": "@jupyter-widgets/controls",
            "_model_module_version": "1.5.0",
            "_model_name": "ProgressStyleModel",
            "_view_count": null,
            "_view_module": "@jupyter-widgets/base",
            "_view_module_version": "1.2.0",
            "_view_name": "StyleView",
            "bar_color": null,
            "description_width": ""
          }
        },
        "ef2ecbb6742b4044a7ee08f246d1c934": {
          "model_module": "@jupyter-widgets/base",
          "model_name": "LayoutModel",
          "model_module_version": "1.2.0",
          "state": {
            "_model_module": "@jupyter-widgets/base",
            "_model_module_version": "1.2.0",
            "_model_name": "LayoutModel",
            "_view_count": null,
            "_view_module": "@jupyter-widgets/base",
            "_view_module_version": "1.2.0",
            "_view_name": "LayoutView",
            "align_content": null,
            "align_items": null,
            "align_self": null,
            "border": null,
            "bottom": null,
            "display": null,
            "flex": null,
            "flex_flow": null,
            "grid_area": null,
            "grid_auto_columns": null,
            "grid_auto_flow": null,
            "grid_auto_rows": null,
            "grid_column": null,
            "grid_gap": null,
            "grid_row": null,
            "grid_template_areas": null,
            "grid_template_columns": null,
            "grid_template_rows": null,
            "height": null,
            "justify_content": null,
            "justify_items": null,
            "left": null,
            "margin": null,
            "max_height": null,
            "max_width": null,
            "min_height": null,
            "min_width": null,
            "object_fit": null,
            "object_position": null,
            "order": null,
            "overflow": null,
            "overflow_x": null,
            "overflow_y": null,
            "padding": null,
            "right": null,
            "top": null,
            "visibility": null,
            "width": null
          }
        },
        "f710262f4dc8404897d6d1ab4f99b9cb": {
          "model_module": "@jupyter-widgets/controls",
          "model_name": "DescriptionStyleModel",
          "model_module_version": "1.5.0",
          "state": {
            "_model_module": "@jupyter-widgets/controls",
            "_model_module_version": "1.5.0",
            "_model_name": "DescriptionStyleModel",
            "_view_count": null,
            "_view_module": "@jupyter-widgets/base",
            "_view_module_version": "1.2.0",
            "_view_name": "StyleView",
            "description_width": ""
          }
        },
        "ca19c28ed5064b95a407263222f25a7e": {
          "model_module": "@jupyter-widgets/controls",
          "model_name": "HBoxModel",
          "model_module_version": "1.5.0",
          "state": {
            "_dom_classes": [],
            "_model_module": "@jupyter-widgets/controls",
            "_model_module_version": "1.5.0",
            "_model_name": "HBoxModel",
            "_view_count": null,
            "_view_module": "@jupyter-widgets/controls",
            "_view_module_version": "1.5.0",
            "_view_name": "HBoxView",
            "box_style": "",
            "children": [
              "IPY_MODEL_b4811ca428f0404caf06150bc2e858cf",
              "IPY_MODEL_ffc3849623b9424d8baf5285558ba665",
              "IPY_MODEL_c7b51480a70d49299e3de15a06cc5039"
            ],
            "layout": "IPY_MODEL_988b49b2d0634fe9a7d9791e84cc266a"
          }
        },
        "b4811ca428f0404caf06150bc2e858cf": {
          "model_module": "@jupyter-widgets/controls",
          "model_name": "HTMLModel",
          "model_module_version": "1.5.0",
          "state": {
            "_dom_classes": [],
            "_model_module": "@jupyter-widgets/controls",
            "_model_module_version": "1.5.0",
            "_model_name": "HTMLModel",
            "_view_count": null,
            "_view_module": "@jupyter-widgets/controls",
            "_view_module_version": "1.5.0",
            "_view_name": "HTMLView",
            "description": "",
            "description_tooltip": null,
            "layout": "IPY_MODEL_9afec0b6e5a9469dbb567033f61e2730",
            "placeholder": "​",
            "style": "IPY_MODEL_0116629c6c7445e098a96b76bc732f4c",
            "value": "README.md: 100%"
          }
        },
        "ffc3849623b9424d8baf5285558ba665": {
          "model_module": "@jupyter-widgets/controls",
          "model_name": "FloatProgressModel",
          "model_module_version": "1.5.0",
          "state": {
            "_dom_classes": [],
            "_model_module": "@jupyter-widgets/controls",
            "_model_module_version": "1.5.0",
            "_model_name": "FloatProgressModel",
            "_view_count": null,
            "_view_module": "@jupyter-widgets/controls",
            "_view_module_version": "1.5.0",
            "_view_name": "ProgressView",
            "bar_style": "success",
            "description": "",
            "description_tooltip": null,
            "layout": "IPY_MODEL_4dc6783ebe744802aaaae1bd4abdb30d",
            "max": 10659,
            "min": 0,
            "orientation": "horizontal",
            "style": "IPY_MODEL_1f220d285c984b208cbc7de6d4fd75a3",
            "value": 10659
          }
        },
        "c7b51480a70d49299e3de15a06cc5039": {
          "model_module": "@jupyter-widgets/controls",
          "model_name": "HTMLModel",
          "model_module_version": "1.5.0",
          "state": {
            "_dom_classes": [],
            "_model_module": "@jupyter-widgets/controls",
            "_model_module_version": "1.5.0",
            "_model_name": "HTMLModel",
            "_view_count": null,
            "_view_module": "@jupyter-widgets/controls",
            "_view_module_version": "1.5.0",
            "_view_name": "HTMLView",
            "description": "",
            "description_tooltip": null,
            "layout": "IPY_MODEL_4ce15a84842a4d1abc95ae904b1545e2",
            "placeholder": "​",
            "style": "IPY_MODEL_0ff50506ca104b0889819b30a3e12986",
            "value": " 10.7k/10.7k [00:00&lt;00:00, 456kB/s]"
          }
        },
        "988b49b2d0634fe9a7d9791e84cc266a": {
          "model_module": "@jupyter-widgets/base",
          "model_name": "LayoutModel",
          "model_module_version": "1.2.0",
          "state": {
            "_model_module": "@jupyter-widgets/base",
            "_model_module_version": "1.2.0",
            "_model_name": "LayoutModel",
            "_view_count": null,
            "_view_module": "@jupyter-widgets/base",
            "_view_module_version": "1.2.0",
            "_view_name": "LayoutView",
            "align_content": null,
            "align_items": null,
            "align_self": null,
            "border": null,
            "bottom": null,
            "display": null,
            "flex": null,
            "flex_flow": null,
            "grid_area": null,
            "grid_auto_columns": null,
            "grid_auto_flow": null,
            "grid_auto_rows": null,
            "grid_column": null,
            "grid_gap": null,
            "grid_row": null,
            "grid_template_areas": null,
            "grid_template_columns": null,
            "grid_template_rows": null,
            "height": null,
            "justify_content": null,
            "justify_items": null,
            "left": null,
            "margin": null,
            "max_height": null,
            "max_width": null,
            "min_height": null,
            "min_width": null,
            "object_fit": null,
            "object_position": null,
            "order": null,
            "overflow": null,
            "overflow_x": null,
            "overflow_y": null,
            "padding": null,
            "right": null,
            "top": null,
            "visibility": null,
            "width": null
          }
        },
        "9afec0b6e5a9469dbb567033f61e2730": {
          "model_module": "@jupyter-widgets/base",
          "model_name": "LayoutModel",
          "model_module_version": "1.2.0",
          "state": {
            "_model_module": "@jupyter-widgets/base",
            "_model_module_version": "1.2.0",
            "_model_name": "LayoutModel",
            "_view_count": null,
            "_view_module": "@jupyter-widgets/base",
            "_view_module_version": "1.2.0",
            "_view_name": "LayoutView",
            "align_content": null,
            "align_items": null,
            "align_self": null,
            "border": null,
            "bottom": null,
            "display": null,
            "flex": null,
            "flex_flow": null,
            "grid_area": null,
            "grid_auto_columns": null,
            "grid_auto_flow": null,
            "grid_auto_rows": null,
            "grid_column": null,
            "grid_gap": null,
            "grid_row": null,
            "grid_template_areas": null,
            "grid_template_columns": null,
            "grid_template_rows": null,
            "height": null,
            "justify_content": null,
            "justify_items": null,
            "left": null,
            "margin": null,
            "max_height": null,
            "max_width": null,
            "min_height": null,
            "min_width": null,
            "object_fit": null,
            "object_position": null,
            "order": null,
            "overflow": null,
            "overflow_x": null,
            "overflow_y": null,
            "padding": null,
            "right": null,
            "top": null,
            "visibility": null,
            "width": null
          }
        },
        "0116629c6c7445e098a96b76bc732f4c": {
          "model_module": "@jupyter-widgets/controls",
          "model_name": "DescriptionStyleModel",
          "model_module_version": "1.5.0",
          "state": {
            "_model_module": "@jupyter-widgets/controls",
            "_model_module_version": "1.5.0",
            "_model_name": "DescriptionStyleModel",
            "_view_count": null,
            "_view_module": "@jupyter-widgets/base",
            "_view_module_version": "1.2.0",
            "_view_name": "StyleView",
            "description_width": ""
          }
        },
        "4dc6783ebe744802aaaae1bd4abdb30d": {
          "model_module": "@jupyter-widgets/base",
          "model_name": "LayoutModel",
          "model_module_version": "1.2.0",
          "state": {
            "_model_module": "@jupyter-widgets/base",
            "_model_module_version": "1.2.0",
            "_model_name": "LayoutModel",
            "_view_count": null,
            "_view_module": "@jupyter-widgets/base",
            "_view_module_version": "1.2.0",
            "_view_name": "LayoutView",
            "align_content": null,
            "align_items": null,
            "align_self": null,
            "border": null,
            "bottom": null,
            "display": null,
            "flex": null,
            "flex_flow": null,
            "grid_area": null,
            "grid_auto_columns": null,
            "grid_auto_flow": null,
            "grid_auto_rows": null,
            "grid_column": null,
            "grid_gap": null,
            "grid_row": null,
            "grid_template_areas": null,
            "grid_template_columns": null,
            "grid_template_rows": null,
            "height": null,
            "justify_content": null,
            "justify_items": null,
            "left": null,
            "margin": null,
            "max_height": null,
            "max_width": null,
            "min_height": null,
            "min_width": null,
            "object_fit": null,
            "object_position": null,
            "order": null,
            "overflow": null,
            "overflow_x": null,
            "overflow_y": null,
            "padding": null,
            "right": null,
            "top": null,
            "visibility": null,
            "width": null
          }
        },
        "1f220d285c984b208cbc7de6d4fd75a3": {
          "model_module": "@jupyter-widgets/controls",
          "model_name": "ProgressStyleModel",
          "model_module_version": "1.5.0",
          "state": {
            "_model_module": "@jupyter-widgets/controls",
            "_model_module_version": "1.5.0",
            "_model_name": "ProgressStyleModel",
            "_view_count": null,
            "_view_module": "@jupyter-widgets/base",
            "_view_module_version": "1.2.0",
            "_view_name": "StyleView",
            "bar_color": null,
            "description_width": ""
          }
        },
        "4ce15a84842a4d1abc95ae904b1545e2": {
          "model_module": "@jupyter-widgets/base",
          "model_name": "LayoutModel",
          "model_module_version": "1.2.0",
          "state": {
            "_model_module": "@jupyter-widgets/base",
            "_model_module_version": "1.2.0",
            "_model_name": "LayoutModel",
            "_view_count": null,
            "_view_module": "@jupyter-widgets/base",
            "_view_module_version": "1.2.0",
            "_view_name": "LayoutView",
            "align_content": null,
            "align_items": null,
            "align_self": null,
            "border": null,
            "bottom": null,
            "display": null,
            "flex": null,
            "flex_flow": null,
            "grid_area": null,
            "grid_auto_columns": null,
            "grid_auto_flow": null,
            "grid_auto_rows": null,
            "grid_column": null,
            "grid_gap": null,
            "grid_row": null,
            "grid_template_areas": null,
            "grid_template_columns": null,
            "grid_template_rows": null,
            "height": null,
            "justify_content": null,
            "justify_items": null,
            "left": null,
            "margin": null,
            "max_height": null,
            "max_width": null,
            "min_height": null,
            "min_width": null,
            "object_fit": null,
            "object_position": null,
            "order": null,
            "overflow": null,
            "overflow_x": null,
            "overflow_y": null,
            "padding": null,
            "right": null,
            "top": null,
            "visibility": null,
            "width": null
          }
        },
        "0ff50506ca104b0889819b30a3e12986": {
          "model_module": "@jupyter-widgets/controls",
          "model_name": "DescriptionStyleModel",
          "model_module_version": "1.5.0",
          "state": {
            "_model_module": "@jupyter-widgets/controls",
            "_model_module_version": "1.5.0",
            "_model_name": "DescriptionStyleModel",
            "_view_count": null,
            "_view_module": "@jupyter-widgets/base",
            "_view_module_version": "1.2.0",
            "_view_name": "StyleView",
            "description_width": ""
          }
        },
        "4cbe4d4a5e27468ca542d3289eaff7c4": {
          "model_module": "@jupyter-widgets/controls",
          "model_name": "HBoxModel",
          "model_module_version": "1.5.0",
          "state": {
            "_dom_classes": [],
            "_model_module": "@jupyter-widgets/controls",
            "_model_module_version": "1.5.0",
            "_model_name": "HBoxModel",
            "_view_count": null,
            "_view_module": "@jupyter-widgets/controls",
            "_view_module_version": "1.5.0",
            "_view_name": "HBoxView",
            "box_style": "",
            "children": [
              "IPY_MODEL_9206f8fb54b04af6855135703da7604c",
              "IPY_MODEL_ee9786a96f8646eca06172d63f6640bd",
              "IPY_MODEL_17f62b6572e24fb8a6990a2cb262090d"
            ],
            "layout": "IPY_MODEL_33c776609bab4b5ba89aecd2afadb81b"
          }
        },
        "9206f8fb54b04af6855135703da7604c": {
          "model_module": "@jupyter-widgets/controls",
          "model_name": "HTMLModel",
          "model_module_version": "1.5.0",
          "state": {
            "_dom_classes": [],
            "_model_module": "@jupyter-widgets/controls",
            "_model_module_version": "1.5.0",
            "_model_name": "HTMLModel",
            "_view_count": null,
            "_view_module": "@jupyter-widgets/controls",
            "_view_module_version": "1.5.0",
            "_view_name": "HTMLView",
            "description": "",
            "description_tooltip": null,
            "layout": "IPY_MODEL_cf97477032cd416d9ea4b9b575309d4c",
            "placeholder": "​",
            "style": "IPY_MODEL_1e3fc0ea11ef4b099ea7b7239760ba97",
            "value": "sentence_bert_config.json: 100%"
          }
        },
        "ee9786a96f8646eca06172d63f6640bd": {
          "model_module": "@jupyter-widgets/controls",
          "model_name": "FloatProgressModel",
          "model_module_version": "1.5.0",
          "state": {
            "_dom_classes": [],
            "_model_module": "@jupyter-widgets/controls",
            "_model_module_version": "1.5.0",
            "_model_name": "FloatProgressModel",
            "_view_count": null,
            "_view_module": "@jupyter-widgets/controls",
            "_view_module_version": "1.5.0",
            "_view_name": "ProgressView",
            "bar_style": "success",
            "description": "",
            "description_tooltip": null,
            "layout": "IPY_MODEL_f75b38d3869743b3b47f4f3bbb71efa3",
            "max": 53,
            "min": 0,
            "orientation": "horizontal",
            "style": "IPY_MODEL_e8b120a6e4394e40b1354f9af4b8adab",
            "value": 53
          }
        },
        "17f62b6572e24fb8a6990a2cb262090d": {
          "model_module": "@jupyter-widgets/controls",
          "model_name": "HTMLModel",
          "model_module_version": "1.5.0",
          "state": {
            "_dom_classes": [],
            "_model_module": "@jupyter-widgets/controls",
            "_model_module_version": "1.5.0",
            "_model_name": "HTMLModel",
            "_view_count": null,
            "_view_module": "@jupyter-widgets/controls",
            "_view_module_version": "1.5.0",
            "_view_name": "HTMLView",
            "description": "",
            "description_tooltip": null,
            "layout": "IPY_MODEL_6fa99e8f8b1d4957a5ca216ea728b015",
            "placeholder": "​",
            "style": "IPY_MODEL_0442acfd3b374480b5bb0ac8191b0d5c",
            "value": " 53.0/53.0 [00:00&lt;00:00, 2.44kB/s]"
          }
        },
        "33c776609bab4b5ba89aecd2afadb81b": {
          "model_module": "@jupyter-widgets/base",
          "model_name": "LayoutModel",
          "model_module_version": "1.2.0",
          "state": {
            "_model_module": "@jupyter-widgets/base",
            "_model_module_version": "1.2.0",
            "_model_name": "LayoutModel",
            "_view_count": null,
            "_view_module": "@jupyter-widgets/base",
            "_view_module_version": "1.2.0",
            "_view_name": "LayoutView",
            "align_content": null,
            "align_items": null,
            "align_self": null,
            "border": null,
            "bottom": null,
            "display": null,
            "flex": null,
            "flex_flow": null,
            "grid_area": null,
            "grid_auto_columns": null,
            "grid_auto_flow": null,
            "grid_auto_rows": null,
            "grid_column": null,
            "grid_gap": null,
            "grid_row": null,
            "grid_template_areas": null,
            "grid_template_columns": null,
            "grid_template_rows": null,
            "height": null,
            "justify_content": null,
            "justify_items": null,
            "left": null,
            "margin": null,
            "max_height": null,
            "max_width": null,
            "min_height": null,
            "min_width": null,
            "object_fit": null,
            "object_position": null,
            "order": null,
            "overflow": null,
            "overflow_x": null,
            "overflow_y": null,
            "padding": null,
            "right": null,
            "top": null,
            "visibility": null,
            "width": null
          }
        },
        "cf97477032cd416d9ea4b9b575309d4c": {
          "model_module": "@jupyter-widgets/base",
          "model_name": "LayoutModel",
          "model_module_version": "1.2.0",
          "state": {
            "_model_module": "@jupyter-widgets/base",
            "_model_module_version": "1.2.0",
            "_model_name": "LayoutModel",
            "_view_count": null,
            "_view_module": "@jupyter-widgets/base",
            "_view_module_version": "1.2.0",
            "_view_name": "LayoutView",
            "align_content": null,
            "align_items": null,
            "align_self": null,
            "border": null,
            "bottom": null,
            "display": null,
            "flex": null,
            "flex_flow": null,
            "grid_area": null,
            "grid_auto_columns": null,
            "grid_auto_flow": null,
            "grid_auto_rows": null,
            "grid_column": null,
            "grid_gap": null,
            "grid_row": null,
            "grid_template_areas": null,
            "grid_template_columns": null,
            "grid_template_rows": null,
            "height": null,
            "justify_content": null,
            "justify_items": null,
            "left": null,
            "margin": null,
            "max_height": null,
            "max_width": null,
            "min_height": null,
            "min_width": null,
            "object_fit": null,
            "object_position": null,
            "order": null,
            "overflow": null,
            "overflow_x": null,
            "overflow_y": null,
            "padding": null,
            "right": null,
            "top": null,
            "visibility": null,
            "width": null
          }
        },
        "1e3fc0ea11ef4b099ea7b7239760ba97": {
          "model_module": "@jupyter-widgets/controls",
          "model_name": "DescriptionStyleModel",
          "model_module_version": "1.5.0",
          "state": {
            "_model_module": "@jupyter-widgets/controls",
            "_model_module_version": "1.5.0",
            "_model_name": "DescriptionStyleModel",
            "_view_count": null,
            "_view_module": "@jupyter-widgets/base",
            "_view_module_version": "1.2.0",
            "_view_name": "StyleView",
            "description_width": ""
          }
        },
        "f75b38d3869743b3b47f4f3bbb71efa3": {
          "model_module": "@jupyter-widgets/base",
          "model_name": "LayoutModel",
          "model_module_version": "1.2.0",
          "state": {
            "_model_module": "@jupyter-widgets/base",
            "_model_module_version": "1.2.0",
            "_model_name": "LayoutModel",
            "_view_count": null,
            "_view_module": "@jupyter-widgets/base",
            "_view_module_version": "1.2.0",
            "_view_name": "LayoutView",
            "align_content": null,
            "align_items": null,
            "align_self": null,
            "border": null,
            "bottom": null,
            "display": null,
            "flex": null,
            "flex_flow": null,
            "grid_area": null,
            "grid_auto_columns": null,
            "grid_auto_flow": null,
            "grid_auto_rows": null,
            "grid_column": null,
            "grid_gap": null,
            "grid_row": null,
            "grid_template_areas": null,
            "grid_template_columns": null,
            "grid_template_rows": null,
            "height": null,
            "justify_content": null,
            "justify_items": null,
            "left": null,
            "margin": null,
            "max_height": null,
            "max_width": null,
            "min_height": null,
            "min_width": null,
            "object_fit": null,
            "object_position": null,
            "order": null,
            "overflow": null,
            "overflow_x": null,
            "overflow_y": null,
            "padding": null,
            "right": null,
            "top": null,
            "visibility": null,
            "width": null
          }
        },
        "e8b120a6e4394e40b1354f9af4b8adab": {
          "model_module": "@jupyter-widgets/controls",
          "model_name": "ProgressStyleModel",
          "model_module_version": "1.5.0",
          "state": {
            "_model_module": "@jupyter-widgets/controls",
            "_model_module_version": "1.5.0",
            "_model_name": "ProgressStyleModel",
            "_view_count": null,
            "_view_module": "@jupyter-widgets/base",
            "_view_module_version": "1.2.0",
            "_view_name": "StyleView",
            "bar_color": null,
            "description_width": ""
          }
        },
        "6fa99e8f8b1d4957a5ca216ea728b015": {
          "model_module": "@jupyter-widgets/base",
          "model_name": "LayoutModel",
          "model_module_version": "1.2.0",
          "state": {
            "_model_module": "@jupyter-widgets/base",
            "_model_module_version": "1.2.0",
            "_model_name": "LayoutModel",
            "_view_count": null,
            "_view_module": "@jupyter-widgets/base",
            "_view_module_version": "1.2.0",
            "_view_name": "LayoutView",
            "align_content": null,
            "align_items": null,
            "align_self": null,
            "border": null,
            "bottom": null,
            "display": null,
            "flex": null,
            "flex_flow": null,
            "grid_area": null,
            "grid_auto_columns": null,
            "grid_auto_flow": null,
            "grid_auto_rows": null,
            "grid_column": null,
            "grid_gap": null,
            "grid_row": null,
            "grid_template_areas": null,
            "grid_template_columns": null,
            "grid_template_rows": null,
            "height": null,
            "justify_content": null,
            "justify_items": null,
            "left": null,
            "margin": null,
            "max_height": null,
            "max_width": null,
            "min_height": null,
            "min_width": null,
            "object_fit": null,
            "object_position": null,
            "order": null,
            "overflow": null,
            "overflow_x": null,
            "overflow_y": null,
            "padding": null,
            "right": null,
            "top": null,
            "visibility": null,
            "width": null
          }
        },
        "0442acfd3b374480b5bb0ac8191b0d5c": {
          "model_module": "@jupyter-widgets/controls",
          "model_name": "DescriptionStyleModel",
          "model_module_version": "1.5.0",
          "state": {
            "_model_module": "@jupyter-widgets/controls",
            "_model_module_version": "1.5.0",
            "_model_name": "DescriptionStyleModel",
            "_view_count": null,
            "_view_module": "@jupyter-widgets/base",
            "_view_module_version": "1.2.0",
            "_view_name": "StyleView",
            "description_width": ""
          }
        },
        "d98a45ef6539485190ebe12e26eb4475": {
          "model_module": "@jupyter-widgets/controls",
          "model_name": "HBoxModel",
          "model_module_version": "1.5.0",
          "state": {
            "_dom_classes": [],
            "_model_module": "@jupyter-widgets/controls",
            "_model_module_version": "1.5.0",
            "_model_name": "HBoxModel",
            "_view_count": null,
            "_view_module": "@jupyter-widgets/controls",
            "_view_module_version": "1.5.0",
            "_view_name": "HBoxView",
            "box_style": "",
            "children": [
              "IPY_MODEL_2823f466dac74cd29cd1fe49b5af2af7",
              "IPY_MODEL_520fd5754f91403383a159ed83ba3af0",
              "IPY_MODEL_e711ea78616244359dbd160a7c4d80a7"
            ],
            "layout": "IPY_MODEL_6adeffa05b5e4b05a277ac719084ef58"
          }
        },
        "2823f466dac74cd29cd1fe49b5af2af7": {
          "model_module": "@jupyter-widgets/controls",
          "model_name": "HTMLModel",
          "model_module_version": "1.5.0",
          "state": {
            "_dom_classes": [],
            "_model_module": "@jupyter-widgets/controls",
            "_model_module_version": "1.5.0",
            "_model_name": "HTMLModel",
            "_view_count": null,
            "_view_module": "@jupyter-widgets/controls",
            "_view_module_version": "1.5.0",
            "_view_name": "HTMLView",
            "description": "",
            "description_tooltip": null,
            "layout": "IPY_MODEL_dc65187f62a14dfd82cfde3db5522d94",
            "placeholder": "​",
            "style": "IPY_MODEL_38c88126d6a14f6b9b9f66407af69f62",
            "value": "config.json: 100%"
          }
        },
        "520fd5754f91403383a159ed83ba3af0": {
          "model_module": "@jupyter-widgets/controls",
          "model_name": "FloatProgressModel",
          "model_module_version": "1.5.0",
          "state": {
            "_dom_classes": [],
            "_model_module": "@jupyter-widgets/controls",
            "_model_module_version": "1.5.0",
            "_model_name": "FloatProgressModel",
            "_view_count": null,
            "_view_module": "@jupyter-widgets/controls",
            "_view_module_version": "1.5.0",
            "_view_name": "ProgressView",
            "bar_style": "success",
            "description": "",
            "description_tooltip": null,
            "layout": "IPY_MODEL_42b67381ad4c44e0ac2c94791991b252",
            "max": 612,
            "min": 0,
            "orientation": "horizontal",
            "style": "IPY_MODEL_a392a1938e424424971f86e55714760b",
            "value": 612
          }
        },
        "e711ea78616244359dbd160a7c4d80a7": {
          "model_module": "@jupyter-widgets/controls",
          "model_name": "HTMLModel",
          "model_module_version": "1.5.0",
          "state": {
            "_dom_classes": [],
            "_model_module": "@jupyter-widgets/controls",
            "_model_module_version": "1.5.0",
            "_model_name": "HTMLModel",
            "_view_count": null,
            "_view_module": "@jupyter-widgets/controls",
            "_view_module_version": "1.5.0",
            "_view_name": "HTMLView",
            "description": "",
            "description_tooltip": null,
            "layout": "IPY_MODEL_9b4622b4ddd34daf8fb59393fb619077",
            "placeholder": "​",
            "style": "IPY_MODEL_cb8899d0c2f34673aa4fcfa6d4306909",
            "value": " 612/612 [00:00&lt;00:00, 34.9kB/s]"
          }
        },
        "6adeffa05b5e4b05a277ac719084ef58": {
          "model_module": "@jupyter-widgets/base",
          "model_name": "LayoutModel",
          "model_module_version": "1.2.0",
          "state": {
            "_model_module": "@jupyter-widgets/base",
            "_model_module_version": "1.2.0",
            "_model_name": "LayoutModel",
            "_view_count": null,
            "_view_module": "@jupyter-widgets/base",
            "_view_module_version": "1.2.0",
            "_view_name": "LayoutView",
            "align_content": null,
            "align_items": null,
            "align_self": null,
            "border": null,
            "bottom": null,
            "display": null,
            "flex": null,
            "flex_flow": null,
            "grid_area": null,
            "grid_auto_columns": null,
            "grid_auto_flow": null,
            "grid_auto_rows": null,
            "grid_column": null,
            "grid_gap": null,
            "grid_row": null,
            "grid_template_areas": null,
            "grid_template_columns": null,
            "grid_template_rows": null,
            "height": null,
            "justify_content": null,
            "justify_items": null,
            "left": null,
            "margin": null,
            "max_height": null,
            "max_width": null,
            "min_height": null,
            "min_width": null,
            "object_fit": null,
            "object_position": null,
            "order": null,
            "overflow": null,
            "overflow_x": null,
            "overflow_y": null,
            "padding": null,
            "right": null,
            "top": null,
            "visibility": null,
            "width": null
          }
        },
        "dc65187f62a14dfd82cfde3db5522d94": {
          "model_module": "@jupyter-widgets/base",
          "model_name": "LayoutModel",
          "model_module_version": "1.2.0",
          "state": {
            "_model_module": "@jupyter-widgets/base",
            "_model_module_version": "1.2.0",
            "_model_name": "LayoutModel",
            "_view_count": null,
            "_view_module": "@jupyter-widgets/base",
            "_view_module_version": "1.2.0",
            "_view_name": "LayoutView",
            "align_content": null,
            "align_items": null,
            "align_self": null,
            "border": null,
            "bottom": null,
            "display": null,
            "flex": null,
            "flex_flow": null,
            "grid_area": null,
            "grid_auto_columns": null,
            "grid_auto_flow": null,
            "grid_auto_rows": null,
            "grid_column": null,
            "grid_gap": null,
            "grid_row": null,
            "grid_template_areas": null,
            "grid_template_columns": null,
            "grid_template_rows": null,
            "height": null,
            "justify_content": null,
            "justify_items": null,
            "left": null,
            "margin": null,
            "max_height": null,
            "max_width": null,
            "min_height": null,
            "min_width": null,
            "object_fit": null,
            "object_position": null,
            "order": null,
            "overflow": null,
            "overflow_x": null,
            "overflow_y": null,
            "padding": null,
            "right": null,
            "top": null,
            "visibility": null,
            "width": null
          }
        },
        "38c88126d6a14f6b9b9f66407af69f62": {
          "model_module": "@jupyter-widgets/controls",
          "model_name": "DescriptionStyleModel",
          "model_module_version": "1.5.0",
          "state": {
            "_model_module": "@jupyter-widgets/controls",
            "_model_module_version": "1.5.0",
            "_model_name": "DescriptionStyleModel",
            "_view_count": null,
            "_view_module": "@jupyter-widgets/base",
            "_view_module_version": "1.2.0",
            "_view_name": "StyleView",
            "description_width": ""
          }
        },
        "42b67381ad4c44e0ac2c94791991b252": {
          "model_module": "@jupyter-widgets/base",
          "model_name": "LayoutModel",
          "model_module_version": "1.2.0",
          "state": {
            "_model_module": "@jupyter-widgets/base",
            "_model_module_version": "1.2.0",
            "_model_name": "LayoutModel",
            "_view_count": null,
            "_view_module": "@jupyter-widgets/base",
            "_view_module_version": "1.2.0",
            "_view_name": "LayoutView",
            "align_content": null,
            "align_items": null,
            "align_self": null,
            "border": null,
            "bottom": null,
            "display": null,
            "flex": null,
            "flex_flow": null,
            "grid_area": null,
            "grid_auto_columns": null,
            "grid_auto_flow": null,
            "grid_auto_rows": null,
            "grid_column": null,
            "grid_gap": null,
            "grid_row": null,
            "grid_template_areas": null,
            "grid_template_columns": null,
            "grid_template_rows": null,
            "height": null,
            "justify_content": null,
            "justify_items": null,
            "left": null,
            "margin": null,
            "max_height": null,
            "max_width": null,
            "min_height": null,
            "min_width": null,
            "object_fit": null,
            "object_position": null,
            "order": null,
            "overflow": null,
            "overflow_x": null,
            "overflow_y": null,
            "padding": null,
            "right": null,
            "top": null,
            "visibility": null,
            "width": null
          }
        },
        "a392a1938e424424971f86e55714760b": {
          "model_module": "@jupyter-widgets/controls",
          "model_name": "ProgressStyleModel",
          "model_module_version": "1.5.0",
          "state": {
            "_model_module": "@jupyter-widgets/controls",
            "_model_module_version": "1.5.0",
            "_model_name": "ProgressStyleModel",
            "_view_count": null,
            "_view_module": "@jupyter-widgets/base",
            "_view_module_version": "1.2.0",
            "_view_name": "StyleView",
            "bar_color": null,
            "description_width": ""
          }
        },
        "9b4622b4ddd34daf8fb59393fb619077": {
          "model_module": "@jupyter-widgets/base",
          "model_name": "LayoutModel",
          "model_module_version": "1.2.0",
          "state": {
            "_model_module": "@jupyter-widgets/base",
            "_model_module_version": "1.2.0",
            "_model_name": "LayoutModel",
            "_view_count": null,
            "_view_module": "@jupyter-widgets/base",
            "_view_module_version": "1.2.0",
            "_view_name": "LayoutView",
            "align_content": null,
            "align_items": null,
            "align_self": null,
            "border": null,
            "bottom": null,
            "display": null,
            "flex": null,
            "flex_flow": null,
            "grid_area": null,
            "grid_auto_columns": null,
            "grid_auto_flow": null,
            "grid_auto_rows": null,
            "grid_column": null,
            "grid_gap": null,
            "grid_row": null,
            "grid_template_areas": null,
            "grid_template_columns": null,
            "grid_template_rows": null,
            "height": null,
            "justify_content": null,
            "justify_items": null,
            "left": null,
            "margin": null,
            "max_height": null,
            "max_width": null,
            "min_height": null,
            "min_width": null,
            "object_fit": null,
            "object_position": null,
            "order": null,
            "overflow": null,
            "overflow_x": null,
            "overflow_y": null,
            "padding": null,
            "right": null,
            "top": null,
            "visibility": null,
            "width": null
          }
        },
        "cb8899d0c2f34673aa4fcfa6d4306909": {
          "model_module": "@jupyter-widgets/controls",
          "model_name": "DescriptionStyleModel",
          "model_module_version": "1.5.0",
          "state": {
            "_model_module": "@jupyter-widgets/controls",
            "_model_module_version": "1.5.0",
            "_model_name": "DescriptionStyleModel",
            "_view_count": null,
            "_view_module": "@jupyter-widgets/base",
            "_view_module_version": "1.2.0",
            "_view_name": "StyleView",
            "description_width": ""
          }
        },
        "7bedc0ed8f754014927fe8e4b7b8ed12": {
          "model_module": "@jupyter-widgets/controls",
          "model_name": "HBoxModel",
          "model_module_version": "1.5.0",
          "state": {
            "_dom_classes": [],
            "_model_module": "@jupyter-widgets/controls",
            "_model_module_version": "1.5.0",
            "_model_name": "HBoxModel",
            "_view_count": null,
            "_view_module": "@jupyter-widgets/controls",
            "_view_module_version": "1.5.0",
            "_view_name": "HBoxView",
            "box_style": "",
            "children": [
              "IPY_MODEL_71587147693040d2967dd50f021042bf",
              "IPY_MODEL_5eed51f19787469fa06238b84a5b60c1",
              "IPY_MODEL_6945e90197a147ca87ac01e7d208b2ff"
            ],
            "layout": "IPY_MODEL_410305eca11f424080077f4b51d37123"
          }
        },
        "71587147693040d2967dd50f021042bf": {
          "model_module": "@jupyter-widgets/controls",
          "model_name": "HTMLModel",
          "model_module_version": "1.5.0",
          "state": {
            "_dom_classes": [],
            "_model_module": "@jupyter-widgets/controls",
            "_model_module_version": "1.5.0",
            "_model_name": "HTMLModel",
            "_view_count": null,
            "_view_module": "@jupyter-widgets/controls",
            "_view_module_version": "1.5.0",
            "_view_name": "HTMLView",
            "description": "",
            "description_tooltip": null,
            "layout": "IPY_MODEL_6d3a0901e21f4c6b92833125d6078623",
            "placeholder": "​",
            "style": "IPY_MODEL_82a247238ba74e6e96ff11193199fe42",
            "value": "model.safetensors: 100%"
          }
        },
        "5eed51f19787469fa06238b84a5b60c1": {
          "model_module": "@jupyter-widgets/controls",
          "model_name": "FloatProgressModel",
          "model_module_version": "1.5.0",
          "state": {
            "_dom_classes": [],
            "_model_module": "@jupyter-widgets/controls",
            "_model_module_version": "1.5.0",
            "_model_name": "FloatProgressModel",
            "_view_count": null,
            "_view_module": "@jupyter-widgets/controls",
            "_view_module_version": "1.5.0",
            "_view_name": "ProgressView",
            "bar_style": "success",
            "description": "",
            "description_tooltip": null,
            "layout": "IPY_MODEL_7dc3e2ced3f74c628cff224f62c7cee0",
            "max": 90868376,
            "min": 0,
            "orientation": "horizontal",
            "style": "IPY_MODEL_325faca65a2e4b5180d7c5a5bdf0187c",
            "value": 90868376
          }
        },
        "6945e90197a147ca87ac01e7d208b2ff": {
          "model_module": "@jupyter-widgets/controls",
          "model_name": "HTMLModel",
          "model_module_version": "1.5.0",
          "state": {
            "_dom_classes": [],
            "_model_module": "@jupyter-widgets/controls",
            "_model_module_version": "1.5.0",
            "_model_name": "HTMLModel",
            "_view_count": null,
            "_view_module": "@jupyter-widgets/controls",
            "_view_module_version": "1.5.0",
            "_view_name": "HTMLView",
            "description": "",
            "description_tooltip": null,
            "layout": "IPY_MODEL_65674843de7640fd93437b5bca50f5c5",
            "placeholder": "​",
            "style": "IPY_MODEL_5f3660c14b524ed880bc34a07f2c367d",
            "value": " 90.9M/90.9M [00:01&lt;00:00, 122MB/s]"
          }
        },
        "410305eca11f424080077f4b51d37123": {
          "model_module": "@jupyter-widgets/base",
          "model_name": "LayoutModel",
          "model_module_version": "1.2.0",
          "state": {
            "_model_module": "@jupyter-widgets/base",
            "_model_module_version": "1.2.0",
            "_model_name": "LayoutModel",
            "_view_count": null,
            "_view_module": "@jupyter-widgets/base",
            "_view_module_version": "1.2.0",
            "_view_name": "LayoutView",
            "align_content": null,
            "align_items": null,
            "align_self": null,
            "border": null,
            "bottom": null,
            "display": null,
            "flex": null,
            "flex_flow": null,
            "grid_area": null,
            "grid_auto_columns": null,
            "grid_auto_flow": null,
            "grid_auto_rows": null,
            "grid_column": null,
            "grid_gap": null,
            "grid_row": null,
            "grid_template_areas": null,
            "grid_template_columns": null,
            "grid_template_rows": null,
            "height": null,
            "justify_content": null,
            "justify_items": null,
            "left": null,
            "margin": null,
            "max_height": null,
            "max_width": null,
            "min_height": null,
            "min_width": null,
            "object_fit": null,
            "object_position": null,
            "order": null,
            "overflow": null,
            "overflow_x": null,
            "overflow_y": null,
            "padding": null,
            "right": null,
            "top": null,
            "visibility": null,
            "width": null
          }
        },
        "6d3a0901e21f4c6b92833125d6078623": {
          "model_module": "@jupyter-widgets/base",
          "model_name": "LayoutModel",
          "model_module_version": "1.2.0",
          "state": {
            "_model_module": "@jupyter-widgets/base",
            "_model_module_version": "1.2.0",
            "_model_name": "LayoutModel",
            "_view_count": null,
            "_view_module": "@jupyter-widgets/base",
            "_view_module_version": "1.2.0",
            "_view_name": "LayoutView",
            "align_content": null,
            "align_items": null,
            "align_self": null,
            "border": null,
            "bottom": null,
            "display": null,
            "flex": null,
            "flex_flow": null,
            "grid_area": null,
            "grid_auto_columns": null,
            "grid_auto_flow": null,
            "grid_auto_rows": null,
            "grid_column": null,
            "grid_gap": null,
            "grid_row": null,
            "grid_template_areas": null,
            "grid_template_columns": null,
            "grid_template_rows": null,
            "height": null,
            "justify_content": null,
            "justify_items": null,
            "left": null,
            "margin": null,
            "max_height": null,
            "max_width": null,
            "min_height": null,
            "min_width": null,
            "object_fit": null,
            "object_position": null,
            "order": null,
            "overflow": null,
            "overflow_x": null,
            "overflow_y": null,
            "padding": null,
            "right": null,
            "top": null,
            "visibility": null,
            "width": null
          }
        },
        "82a247238ba74e6e96ff11193199fe42": {
          "model_module": "@jupyter-widgets/controls",
          "model_name": "DescriptionStyleModel",
          "model_module_version": "1.5.0",
          "state": {
            "_model_module": "@jupyter-widgets/controls",
            "_model_module_version": "1.5.0",
            "_model_name": "DescriptionStyleModel",
            "_view_count": null,
            "_view_module": "@jupyter-widgets/base",
            "_view_module_version": "1.2.0",
            "_view_name": "StyleView",
            "description_width": ""
          }
        },
        "7dc3e2ced3f74c628cff224f62c7cee0": {
          "model_module": "@jupyter-widgets/base",
          "model_name": "LayoutModel",
          "model_module_version": "1.2.0",
          "state": {
            "_model_module": "@jupyter-widgets/base",
            "_model_module_version": "1.2.0",
            "_model_name": "LayoutModel",
            "_view_count": null,
            "_view_module": "@jupyter-widgets/base",
            "_view_module_version": "1.2.0",
            "_view_name": "LayoutView",
            "align_content": null,
            "align_items": null,
            "align_self": null,
            "border": null,
            "bottom": null,
            "display": null,
            "flex": null,
            "flex_flow": null,
            "grid_area": null,
            "grid_auto_columns": null,
            "grid_auto_flow": null,
            "grid_auto_rows": null,
            "grid_column": null,
            "grid_gap": null,
            "grid_row": null,
            "grid_template_areas": null,
            "grid_template_columns": null,
            "grid_template_rows": null,
            "height": null,
            "justify_content": null,
            "justify_items": null,
            "left": null,
            "margin": null,
            "max_height": null,
            "max_width": null,
            "min_height": null,
            "min_width": null,
            "object_fit": null,
            "object_position": null,
            "order": null,
            "overflow": null,
            "overflow_x": null,
            "overflow_y": null,
            "padding": null,
            "right": null,
            "top": null,
            "visibility": null,
            "width": null
          }
        },
        "325faca65a2e4b5180d7c5a5bdf0187c": {
          "model_module": "@jupyter-widgets/controls",
          "model_name": "ProgressStyleModel",
          "model_module_version": "1.5.0",
          "state": {
            "_model_module": "@jupyter-widgets/controls",
            "_model_module_version": "1.5.0",
            "_model_name": "ProgressStyleModel",
            "_view_count": null,
            "_view_module": "@jupyter-widgets/base",
            "_view_module_version": "1.2.0",
            "_view_name": "StyleView",
            "bar_color": null,
            "description_width": ""
          }
        },
        "65674843de7640fd93437b5bca50f5c5": {
          "model_module": "@jupyter-widgets/base",
          "model_name": "LayoutModel",
          "model_module_version": "1.2.0",
          "state": {
            "_model_module": "@jupyter-widgets/base",
            "_model_module_version": "1.2.0",
            "_model_name": "LayoutModel",
            "_view_count": null,
            "_view_module": "@jupyter-widgets/base",
            "_view_module_version": "1.2.0",
            "_view_name": "LayoutView",
            "align_content": null,
            "align_items": null,
            "align_self": null,
            "border": null,
            "bottom": null,
            "display": null,
            "flex": null,
            "flex_flow": null,
            "grid_area": null,
            "grid_auto_columns": null,
            "grid_auto_flow": null,
            "grid_auto_rows": null,
            "grid_column": null,
            "grid_gap": null,
            "grid_row": null,
            "grid_template_areas": null,
            "grid_template_columns": null,
            "grid_template_rows": null,
            "height": null,
            "justify_content": null,
            "justify_items": null,
            "left": null,
            "margin": null,
            "max_height": null,
            "max_width": null,
            "min_height": null,
            "min_width": null,
            "object_fit": null,
            "object_position": null,
            "order": null,
            "overflow": null,
            "overflow_x": null,
            "overflow_y": null,
            "padding": null,
            "right": null,
            "top": null,
            "visibility": null,
            "width": null
          }
        },
        "5f3660c14b524ed880bc34a07f2c367d": {
          "model_module": "@jupyter-widgets/controls",
          "model_name": "DescriptionStyleModel",
          "model_module_version": "1.5.0",
          "state": {
            "_model_module": "@jupyter-widgets/controls",
            "_model_module_version": "1.5.0",
            "_model_name": "DescriptionStyleModel",
            "_view_count": null,
            "_view_module": "@jupyter-widgets/base",
            "_view_module_version": "1.2.0",
            "_view_name": "StyleView",
            "description_width": ""
          }
        },
        "b5a7a91f77434b53b3932529fc3ff17a": {
          "model_module": "@jupyter-widgets/controls",
          "model_name": "HBoxModel",
          "model_module_version": "1.5.0",
          "state": {
            "_dom_classes": [],
            "_model_module": "@jupyter-widgets/controls",
            "_model_module_version": "1.5.0",
            "_model_name": "HBoxModel",
            "_view_count": null,
            "_view_module": "@jupyter-widgets/controls",
            "_view_module_version": "1.5.0",
            "_view_name": "HBoxView",
            "box_style": "",
            "children": [
              "IPY_MODEL_4549a1c8752e401ba72f61716bc629ce",
              "IPY_MODEL_f7ffb441182944539de219122bf7bb21",
              "IPY_MODEL_cdeffc110d8145be8b8e9063fc992c61"
            ],
            "layout": "IPY_MODEL_fb5217fa7c64429db231b93aa1ee33a5"
          }
        },
        "4549a1c8752e401ba72f61716bc629ce": {
          "model_module": "@jupyter-widgets/controls",
          "model_name": "HTMLModel",
          "model_module_version": "1.5.0",
          "state": {
            "_dom_classes": [],
            "_model_module": "@jupyter-widgets/controls",
            "_model_module_version": "1.5.0",
            "_model_name": "HTMLModel",
            "_view_count": null,
            "_view_module": "@jupyter-widgets/controls",
            "_view_module_version": "1.5.0",
            "_view_name": "HTMLView",
            "description": "",
            "description_tooltip": null,
            "layout": "IPY_MODEL_f1810f84b40349f6ade4421949e5fddd",
            "placeholder": "​",
            "style": "IPY_MODEL_7dbd60362fb947658118a246b2fddd03",
            "value": "tokenizer_config.json: 100%"
          }
        },
        "f7ffb441182944539de219122bf7bb21": {
          "model_module": "@jupyter-widgets/controls",
          "model_name": "FloatProgressModel",
          "model_module_version": "1.5.0",
          "state": {
            "_dom_classes": [],
            "_model_module": "@jupyter-widgets/controls",
            "_model_module_version": "1.5.0",
            "_model_name": "FloatProgressModel",
            "_view_count": null,
            "_view_module": "@jupyter-widgets/controls",
            "_view_module_version": "1.5.0",
            "_view_name": "ProgressView",
            "bar_style": "success",
            "description": "",
            "description_tooltip": null,
            "layout": "IPY_MODEL_edd5ff4b39214eb5b4f7e9bf32cb52b8",
            "max": 350,
            "min": 0,
            "orientation": "horizontal",
            "style": "IPY_MODEL_a009ad0002544fa38663b0ddd81a9cfe",
            "value": 350
          }
        },
        "cdeffc110d8145be8b8e9063fc992c61": {
          "model_module": "@jupyter-widgets/controls",
          "model_name": "HTMLModel",
          "model_module_version": "1.5.0",
          "state": {
            "_dom_classes": [],
            "_model_module": "@jupyter-widgets/controls",
            "_model_module_version": "1.5.0",
            "_model_name": "HTMLModel",
            "_view_count": null,
            "_view_module": "@jupyter-widgets/controls",
            "_view_module_version": "1.5.0",
            "_view_name": "HTMLView",
            "description": "",
            "description_tooltip": null,
            "layout": "IPY_MODEL_6d7bf7b9de1b474f9ac66b8e1713752f",
            "placeholder": "​",
            "style": "IPY_MODEL_9c0ac72d33a34967a5b8a3940db68b95",
            "value": " 350/350 [00:00&lt;00:00, 8.80kB/s]"
          }
        },
        "fb5217fa7c64429db231b93aa1ee33a5": {
          "model_module": "@jupyter-widgets/base",
          "model_name": "LayoutModel",
          "model_module_version": "1.2.0",
          "state": {
            "_model_module": "@jupyter-widgets/base",
            "_model_module_version": "1.2.0",
            "_model_name": "LayoutModel",
            "_view_count": null,
            "_view_module": "@jupyter-widgets/base",
            "_view_module_version": "1.2.0",
            "_view_name": "LayoutView",
            "align_content": null,
            "align_items": null,
            "align_self": null,
            "border": null,
            "bottom": null,
            "display": null,
            "flex": null,
            "flex_flow": null,
            "grid_area": null,
            "grid_auto_columns": null,
            "grid_auto_flow": null,
            "grid_auto_rows": null,
            "grid_column": null,
            "grid_gap": null,
            "grid_row": null,
            "grid_template_areas": null,
            "grid_template_columns": null,
            "grid_template_rows": null,
            "height": null,
            "justify_content": null,
            "justify_items": null,
            "left": null,
            "margin": null,
            "max_height": null,
            "max_width": null,
            "min_height": null,
            "min_width": null,
            "object_fit": null,
            "object_position": null,
            "order": null,
            "overflow": null,
            "overflow_x": null,
            "overflow_y": null,
            "padding": null,
            "right": null,
            "top": null,
            "visibility": null,
            "width": null
          }
        },
        "f1810f84b40349f6ade4421949e5fddd": {
          "model_module": "@jupyter-widgets/base",
          "model_name": "LayoutModel",
          "model_module_version": "1.2.0",
          "state": {
            "_model_module": "@jupyter-widgets/base",
            "_model_module_version": "1.2.0",
            "_model_name": "LayoutModel",
            "_view_count": null,
            "_view_module": "@jupyter-widgets/base",
            "_view_module_version": "1.2.0",
            "_view_name": "LayoutView",
            "align_content": null,
            "align_items": null,
            "align_self": null,
            "border": null,
            "bottom": null,
            "display": null,
            "flex": null,
            "flex_flow": null,
            "grid_area": null,
            "grid_auto_columns": null,
            "grid_auto_flow": null,
            "grid_auto_rows": null,
            "grid_column": null,
            "grid_gap": null,
            "grid_row": null,
            "grid_template_areas": null,
            "grid_template_columns": null,
            "grid_template_rows": null,
            "height": null,
            "justify_content": null,
            "justify_items": null,
            "left": null,
            "margin": null,
            "max_height": null,
            "max_width": null,
            "min_height": null,
            "min_width": null,
            "object_fit": null,
            "object_position": null,
            "order": null,
            "overflow": null,
            "overflow_x": null,
            "overflow_y": null,
            "padding": null,
            "right": null,
            "top": null,
            "visibility": null,
            "width": null
          }
        },
        "7dbd60362fb947658118a246b2fddd03": {
          "model_module": "@jupyter-widgets/controls",
          "model_name": "DescriptionStyleModel",
          "model_module_version": "1.5.0",
          "state": {
            "_model_module": "@jupyter-widgets/controls",
            "_model_module_version": "1.5.0",
            "_model_name": "DescriptionStyleModel",
            "_view_count": null,
            "_view_module": "@jupyter-widgets/base",
            "_view_module_version": "1.2.0",
            "_view_name": "StyleView",
            "description_width": ""
          }
        },
        "edd5ff4b39214eb5b4f7e9bf32cb52b8": {
          "model_module": "@jupyter-widgets/base",
          "model_name": "LayoutModel",
          "model_module_version": "1.2.0",
          "state": {
            "_model_module": "@jupyter-widgets/base",
            "_model_module_version": "1.2.0",
            "_model_name": "LayoutModel",
            "_view_count": null,
            "_view_module": "@jupyter-widgets/base",
            "_view_module_version": "1.2.0",
            "_view_name": "LayoutView",
            "align_content": null,
            "align_items": null,
            "align_self": null,
            "border": null,
            "bottom": null,
            "display": null,
            "flex": null,
            "flex_flow": null,
            "grid_area": null,
            "grid_auto_columns": null,
            "grid_auto_flow": null,
            "grid_auto_rows": null,
            "grid_column": null,
            "grid_gap": null,
            "grid_row": null,
            "grid_template_areas": null,
            "grid_template_columns": null,
            "grid_template_rows": null,
            "height": null,
            "justify_content": null,
            "justify_items": null,
            "left": null,
            "margin": null,
            "max_height": null,
            "max_width": null,
            "min_height": null,
            "min_width": null,
            "object_fit": null,
            "object_position": null,
            "order": null,
            "overflow": null,
            "overflow_x": null,
            "overflow_y": null,
            "padding": null,
            "right": null,
            "top": null,
            "visibility": null,
            "width": null
          }
        },
        "a009ad0002544fa38663b0ddd81a9cfe": {
          "model_module": "@jupyter-widgets/controls",
          "model_name": "ProgressStyleModel",
          "model_module_version": "1.5.0",
          "state": {
            "_model_module": "@jupyter-widgets/controls",
            "_model_module_version": "1.5.0",
            "_model_name": "ProgressStyleModel",
            "_view_count": null,
            "_view_module": "@jupyter-widgets/base",
            "_view_module_version": "1.2.0",
            "_view_name": "StyleView",
            "bar_color": null,
            "description_width": ""
          }
        },
        "6d7bf7b9de1b474f9ac66b8e1713752f": {
          "model_module": "@jupyter-widgets/base",
          "model_name": "LayoutModel",
          "model_module_version": "1.2.0",
          "state": {
            "_model_module": "@jupyter-widgets/base",
            "_model_module_version": "1.2.0",
            "_model_name": "LayoutModel",
            "_view_count": null,
            "_view_module": "@jupyter-widgets/base",
            "_view_module_version": "1.2.0",
            "_view_name": "LayoutView",
            "align_content": null,
            "align_items": null,
            "align_self": null,
            "border": null,
            "bottom": null,
            "display": null,
            "flex": null,
            "flex_flow": null,
            "grid_area": null,
            "grid_auto_columns": null,
            "grid_auto_flow": null,
            "grid_auto_rows": null,
            "grid_column": null,
            "grid_gap": null,
            "grid_row": null,
            "grid_template_areas": null,
            "grid_template_columns": null,
            "grid_template_rows": null,
            "height": null,
            "justify_content": null,
            "justify_items": null,
            "left": null,
            "margin": null,
            "max_height": null,
            "max_width": null,
            "min_height": null,
            "min_width": null,
            "object_fit": null,
            "object_position": null,
            "order": null,
            "overflow": null,
            "overflow_x": null,
            "overflow_y": null,
            "padding": null,
            "right": null,
            "top": null,
            "visibility": null,
            "width": null
          }
        },
        "9c0ac72d33a34967a5b8a3940db68b95": {
          "model_module": "@jupyter-widgets/controls",
          "model_name": "DescriptionStyleModel",
          "model_module_version": "1.5.0",
          "state": {
            "_model_module": "@jupyter-widgets/controls",
            "_model_module_version": "1.5.0",
            "_model_name": "DescriptionStyleModel",
            "_view_count": null,
            "_view_module": "@jupyter-widgets/base",
            "_view_module_version": "1.2.0",
            "_view_name": "StyleView",
            "description_width": ""
          }
        },
        "ed9b80715d50473d828d82406b2150a7": {
          "model_module": "@jupyter-widgets/controls",
          "model_name": "HBoxModel",
          "model_module_version": "1.5.0",
          "state": {
            "_dom_classes": [],
            "_model_module": "@jupyter-widgets/controls",
            "_model_module_version": "1.5.0",
            "_model_name": "HBoxModel",
            "_view_count": null,
            "_view_module": "@jupyter-widgets/controls",
            "_view_module_version": "1.5.0",
            "_view_name": "HBoxView",
            "box_style": "",
            "children": [
              "IPY_MODEL_f5bd805061da45e295ef70ea308f6286",
              "IPY_MODEL_68348eded17f454f88be94da33a562cd",
              "IPY_MODEL_5b7603bc191d4622a54df400abbcdf34"
            ],
            "layout": "IPY_MODEL_898cc3b311424406acc39df91c102794"
          }
        },
        "f5bd805061da45e295ef70ea308f6286": {
          "model_module": "@jupyter-widgets/controls",
          "model_name": "HTMLModel",
          "model_module_version": "1.5.0",
          "state": {
            "_dom_classes": [],
            "_model_module": "@jupyter-widgets/controls",
            "_model_module_version": "1.5.0",
            "_model_name": "HTMLModel",
            "_view_count": null,
            "_view_module": "@jupyter-widgets/controls",
            "_view_module_version": "1.5.0",
            "_view_name": "HTMLView",
            "description": "",
            "description_tooltip": null,
            "layout": "IPY_MODEL_dac9601d66f6460787344dd87527724a",
            "placeholder": "​",
            "style": "IPY_MODEL_e53c6305f30a4a78bf5b48e18a75d6ba",
            "value": "vocab.txt: 100%"
          }
        },
        "68348eded17f454f88be94da33a562cd": {
          "model_module": "@jupyter-widgets/controls",
          "model_name": "FloatProgressModel",
          "model_module_version": "1.5.0",
          "state": {
            "_dom_classes": [],
            "_model_module": "@jupyter-widgets/controls",
            "_model_module_version": "1.5.0",
            "_model_name": "FloatProgressModel",
            "_view_count": null,
            "_view_module": "@jupyter-widgets/controls",
            "_view_module_version": "1.5.0",
            "_view_name": "ProgressView",
            "bar_style": "success",
            "description": "",
            "description_tooltip": null,
            "layout": "IPY_MODEL_0ef3a89a5da34d40bb8045fb40ec0be1",
            "max": 231508,
            "min": 0,
            "orientation": "horizontal",
            "style": "IPY_MODEL_deafec8bbd364145a56435d2c55715f5",
            "value": 231508
          }
        },
        "5b7603bc191d4622a54df400abbcdf34": {
          "model_module": "@jupyter-widgets/controls",
          "model_name": "HTMLModel",
          "model_module_version": "1.5.0",
          "state": {
            "_dom_classes": [],
            "_model_module": "@jupyter-widgets/controls",
            "_model_module_version": "1.5.0",
            "_model_name": "HTMLModel",
            "_view_count": null,
            "_view_module": "@jupyter-widgets/controls",
            "_view_module_version": "1.5.0",
            "_view_name": "HTMLView",
            "description": "",
            "description_tooltip": null,
            "layout": "IPY_MODEL_0e0193706a0c4c2ab6d2d9b3b1a5cf4b",
            "placeholder": "​",
            "style": "IPY_MODEL_d314c12cc1014e3b94af9c8b18ba57c4",
            "value": " 232k/232k [00:00&lt;00:00, 3.31MB/s]"
          }
        },
        "898cc3b311424406acc39df91c102794": {
          "model_module": "@jupyter-widgets/base",
          "model_name": "LayoutModel",
          "model_module_version": "1.2.0",
          "state": {
            "_model_module": "@jupyter-widgets/base",
            "_model_module_version": "1.2.0",
            "_model_name": "LayoutModel",
            "_view_count": null,
            "_view_module": "@jupyter-widgets/base",
            "_view_module_version": "1.2.0",
            "_view_name": "LayoutView",
            "align_content": null,
            "align_items": null,
            "align_self": null,
            "border": null,
            "bottom": null,
            "display": null,
            "flex": null,
            "flex_flow": null,
            "grid_area": null,
            "grid_auto_columns": null,
            "grid_auto_flow": null,
            "grid_auto_rows": null,
            "grid_column": null,
            "grid_gap": null,
            "grid_row": null,
            "grid_template_areas": null,
            "grid_template_columns": null,
            "grid_template_rows": null,
            "height": null,
            "justify_content": null,
            "justify_items": null,
            "left": null,
            "margin": null,
            "max_height": null,
            "max_width": null,
            "min_height": null,
            "min_width": null,
            "object_fit": null,
            "object_position": null,
            "order": null,
            "overflow": null,
            "overflow_x": null,
            "overflow_y": null,
            "padding": null,
            "right": null,
            "top": null,
            "visibility": null,
            "width": null
          }
        },
        "dac9601d66f6460787344dd87527724a": {
          "model_module": "@jupyter-widgets/base",
          "model_name": "LayoutModel",
          "model_module_version": "1.2.0",
          "state": {
            "_model_module": "@jupyter-widgets/base",
            "_model_module_version": "1.2.0",
            "_model_name": "LayoutModel",
            "_view_count": null,
            "_view_module": "@jupyter-widgets/base",
            "_view_module_version": "1.2.0",
            "_view_name": "LayoutView",
            "align_content": null,
            "align_items": null,
            "align_self": null,
            "border": null,
            "bottom": null,
            "display": null,
            "flex": null,
            "flex_flow": null,
            "grid_area": null,
            "grid_auto_columns": null,
            "grid_auto_flow": null,
            "grid_auto_rows": null,
            "grid_column": null,
            "grid_gap": null,
            "grid_row": null,
            "grid_template_areas": null,
            "grid_template_columns": null,
            "grid_template_rows": null,
            "height": null,
            "justify_content": null,
            "justify_items": null,
            "left": null,
            "margin": null,
            "max_height": null,
            "max_width": null,
            "min_height": null,
            "min_width": null,
            "object_fit": null,
            "object_position": null,
            "order": null,
            "overflow": null,
            "overflow_x": null,
            "overflow_y": null,
            "padding": null,
            "right": null,
            "top": null,
            "visibility": null,
            "width": null
          }
        },
        "e53c6305f30a4a78bf5b48e18a75d6ba": {
          "model_module": "@jupyter-widgets/controls",
          "model_name": "DescriptionStyleModel",
          "model_module_version": "1.5.0",
          "state": {
            "_model_module": "@jupyter-widgets/controls",
            "_model_module_version": "1.5.0",
            "_model_name": "DescriptionStyleModel",
            "_view_count": null,
            "_view_module": "@jupyter-widgets/base",
            "_view_module_version": "1.2.0",
            "_view_name": "StyleView",
            "description_width": ""
          }
        },
        "0ef3a89a5da34d40bb8045fb40ec0be1": {
          "model_module": "@jupyter-widgets/base",
          "model_name": "LayoutModel",
          "model_module_version": "1.2.0",
          "state": {
            "_model_module": "@jupyter-widgets/base",
            "_model_module_version": "1.2.0",
            "_model_name": "LayoutModel",
            "_view_count": null,
            "_view_module": "@jupyter-widgets/base",
            "_view_module_version": "1.2.0",
            "_view_name": "LayoutView",
            "align_content": null,
            "align_items": null,
            "align_self": null,
            "border": null,
            "bottom": null,
            "display": null,
            "flex": null,
            "flex_flow": null,
            "grid_area": null,
            "grid_auto_columns": null,
            "grid_auto_flow": null,
            "grid_auto_rows": null,
            "grid_column": null,
            "grid_gap": null,
            "grid_row": null,
            "grid_template_areas": null,
            "grid_template_columns": null,
            "grid_template_rows": null,
            "height": null,
            "justify_content": null,
            "justify_items": null,
            "left": null,
            "margin": null,
            "max_height": null,
            "max_width": null,
            "min_height": null,
            "min_width": null,
            "object_fit": null,
            "object_position": null,
            "order": null,
            "overflow": null,
            "overflow_x": null,
            "overflow_y": null,
            "padding": null,
            "right": null,
            "top": null,
            "visibility": null,
            "width": null
          }
        },
        "deafec8bbd364145a56435d2c55715f5": {
          "model_module": "@jupyter-widgets/controls",
          "model_name": "ProgressStyleModel",
          "model_module_version": "1.5.0",
          "state": {
            "_model_module": "@jupyter-widgets/controls",
            "_model_module_version": "1.5.0",
            "_model_name": "ProgressStyleModel",
            "_view_count": null,
            "_view_module": "@jupyter-widgets/base",
            "_view_module_version": "1.2.0",
            "_view_name": "StyleView",
            "bar_color": null,
            "description_width": ""
          }
        },
        "0e0193706a0c4c2ab6d2d9b3b1a5cf4b": {
          "model_module": "@jupyter-widgets/base",
          "model_name": "LayoutModel",
          "model_module_version": "1.2.0",
          "state": {
            "_model_module": "@jupyter-widgets/base",
            "_model_module_version": "1.2.0",
            "_model_name": "LayoutModel",
            "_view_count": null,
            "_view_module": "@jupyter-widgets/base",
            "_view_module_version": "1.2.0",
            "_view_name": "LayoutView",
            "align_content": null,
            "align_items": null,
            "align_self": null,
            "border": null,
            "bottom": null,
            "display": null,
            "flex": null,
            "flex_flow": null,
            "grid_area": null,
            "grid_auto_columns": null,
            "grid_auto_flow": null,
            "grid_auto_rows": null,
            "grid_column": null,
            "grid_gap": null,
            "grid_row": null,
            "grid_template_areas": null,
            "grid_template_columns": null,
            "grid_template_rows": null,
            "height": null,
            "justify_content": null,
            "justify_items": null,
            "left": null,
            "margin": null,
            "max_height": null,
            "max_width": null,
            "min_height": null,
            "min_width": null,
            "object_fit": null,
            "object_position": null,
            "order": null,
            "overflow": null,
            "overflow_x": null,
            "overflow_y": null,
            "padding": null,
            "right": null,
            "top": null,
            "visibility": null,
            "width": null
          }
        },
        "d314c12cc1014e3b94af9c8b18ba57c4": {
          "model_module": "@jupyter-widgets/controls",
          "model_name": "DescriptionStyleModel",
          "model_module_version": "1.5.0",
          "state": {
            "_model_module": "@jupyter-widgets/controls",
            "_model_module_version": "1.5.0",
            "_model_name": "DescriptionStyleModel",
            "_view_count": null,
            "_view_module": "@jupyter-widgets/base",
            "_view_module_version": "1.2.0",
            "_view_name": "StyleView",
            "description_width": ""
          }
        },
        "4936fac3476d429b9e9c4794dc5bb705": {
          "model_module": "@jupyter-widgets/controls",
          "model_name": "HBoxModel",
          "model_module_version": "1.5.0",
          "state": {
            "_dom_classes": [],
            "_model_module": "@jupyter-widgets/controls",
            "_model_module_version": "1.5.0",
            "_model_name": "HBoxModel",
            "_view_count": null,
            "_view_module": "@jupyter-widgets/controls",
            "_view_module_version": "1.5.0",
            "_view_name": "HBoxView",
            "box_style": "",
            "children": [
              "IPY_MODEL_84ff2e66d6184651b41ec65f4e970cf2",
              "IPY_MODEL_7fdbdbf97fe94599b28a9b162433a96f",
              "IPY_MODEL_dd2f52bad15b49f18c1f1b440f9df6e3"
            ],
            "layout": "IPY_MODEL_f31e35f95c5b41ce996539a3c1c09c74"
          }
        },
        "84ff2e66d6184651b41ec65f4e970cf2": {
          "model_module": "@jupyter-widgets/controls",
          "model_name": "HTMLModel",
          "model_module_version": "1.5.0",
          "state": {
            "_dom_classes": [],
            "_model_module": "@jupyter-widgets/controls",
            "_model_module_version": "1.5.0",
            "_model_name": "HTMLModel",
            "_view_count": null,
            "_view_module": "@jupyter-widgets/controls",
            "_view_module_version": "1.5.0",
            "_view_name": "HTMLView",
            "description": "",
            "description_tooltip": null,
            "layout": "IPY_MODEL_cd9f2040f4044cffafa45444e268e977",
            "placeholder": "​",
            "style": "IPY_MODEL_5c9c28fd4b434bf0b414d7a7a77079b1",
            "value": "tokenizer.json: 100%"
          }
        },
        "7fdbdbf97fe94599b28a9b162433a96f": {
          "model_module": "@jupyter-widgets/controls",
          "model_name": "FloatProgressModel",
          "model_module_version": "1.5.0",
          "state": {
            "_dom_classes": [],
            "_model_module": "@jupyter-widgets/controls",
            "_model_module_version": "1.5.0",
            "_model_name": "FloatProgressModel",
            "_view_count": null,
            "_view_module": "@jupyter-widgets/controls",
            "_view_module_version": "1.5.0",
            "_view_name": "ProgressView",
            "bar_style": "success",
            "description": "",
            "description_tooltip": null,
            "layout": "IPY_MODEL_4429b4fced93482f956a211e2611b7df",
            "max": 466247,
            "min": 0,
            "orientation": "horizontal",
            "style": "IPY_MODEL_b4373492689e49e5a4d646f1c7768d2c",
            "value": 466247
          }
        },
        "dd2f52bad15b49f18c1f1b440f9df6e3": {
          "model_module": "@jupyter-widgets/controls",
          "model_name": "HTMLModel",
          "model_module_version": "1.5.0",
          "state": {
            "_dom_classes": [],
            "_model_module": "@jupyter-widgets/controls",
            "_model_module_version": "1.5.0",
            "_model_name": "HTMLModel",
            "_view_count": null,
            "_view_module": "@jupyter-widgets/controls",
            "_view_module_version": "1.5.0",
            "_view_name": "HTMLView",
            "description": "",
            "description_tooltip": null,
            "layout": "IPY_MODEL_fdf1d3b62c18401189864776731b8863",
            "placeholder": "​",
            "style": "IPY_MODEL_0d3727cc3c124b4aa2a2009fcbffc31f",
            "value": " 466k/466k [00:00&lt;00:00, 9.22MB/s]"
          }
        },
        "f31e35f95c5b41ce996539a3c1c09c74": {
          "model_module": "@jupyter-widgets/base",
          "model_name": "LayoutModel",
          "model_module_version": "1.2.0",
          "state": {
            "_model_module": "@jupyter-widgets/base",
            "_model_module_version": "1.2.0",
            "_model_name": "LayoutModel",
            "_view_count": null,
            "_view_module": "@jupyter-widgets/base",
            "_view_module_version": "1.2.0",
            "_view_name": "LayoutView",
            "align_content": null,
            "align_items": null,
            "align_self": null,
            "border": null,
            "bottom": null,
            "display": null,
            "flex": null,
            "flex_flow": null,
            "grid_area": null,
            "grid_auto_columns": null,
            "grid_auto_flow": null,
            "grid_auto_rows": null,
            "grid_column": null,
            "grid_gap": null,
            "grid_row": null,
            "grid_template_areas": null,
            "grid_template_columns": null,
            "grid_template_rows": null,
            "height": null,
            "justify_content": null,
            "justify_items": null,
            "left": null,
            "margin": null,
            "max_height": null,
            "max_width": null,
            "min_height": null,
            "min_width": null,
            "object_fit": null,
            "object_position": null,
            "order": null,
            "overflow": null,
            "overflow_x": null,
            "overflow_y": null,
            "padding": null,
            "right": null,
            "top": null,
            "visibility": null,
            "width": null
          }
        },
        "cd9f2040f4044cffafa45444e268e977": {
          "model_module": "@jupyter-widgets/base",
          "model_name": "LayoutModel",
          "model_module_version": "1.2.0",
          "state": {
            "_model_module": "@jupyter-widgets/base",
            "_model_module_version": "1.2.0",
            "_model_name": "LayoutModel",
            "_view_count": null,
            "_view_module": "@jupyter-widgets/base",
            "_view_module_version": "1.2.0",
            "_view_name": "LayoutView",
            "align_content": null,
            "align_items": null,
            "align_self": null,
            "border": null,
            "bottom": null,
            "display": null,
            "flex": null,
            "flex_flow": null,
            "grid_area": null,
            "grid_auto_columns": null,
            "grid_auto_flow": null,
            "grid_auto_rows": null,
            "grid_column": null,
            "grid_gap": null,
            "grid_row": null,
            "grid_template_areas": null,
            "grid_template_columns": null,
            "grid_template_rows": null,
            "height": null,
            "justify_content": null,
            "justify_items": null,
            "left": null,
            "margin": null,
            "max_height": null,
            "max_width": null,
            "min_height": null,
            "min_width": null,
            "object_fit": null,
            "object_position": null,
            "order": null,
            "overflow": null,
            "overflow_x": null,
            "overflow_y": null,
            "padding": null,
            "right": null,
            "top": null,
            "visibility": null,
            "width": null
          }
        },
        "5c9c28fd4b434bf0b414d7a7a77079b1": {
          "model_module": "@jupyter-widgets/controls",
          "model_name": "DescriptionStyleModel",
          "model_module_version": "1.5.0",
          "state": {
            "_model_module": "@jupyter-widgets/controls",
            "_model_module_version": "1.5.0",
            "_model_name": "DescriptionStyleModel",
            "_view_count": null,
            "_view_module": "@jupyter-widgets/base",
            "_view_module_version": "1.2.0",
            "_view_name": "StyleView",
            "description_width": ""
          }
        },
        "4429b4fced93482f956a211e2611b7df": {
          "model_module": "@jupyter-widgets/base",
          "model_name": "LayoutModel",
          "model_module_version": "1.2.0",
          "state": {
            "_model_module": "@jupyter-widgets/base",
            "_model_module_version": "1.2.0",
            "_model_name": "LayoutModel",
            "_view_count": null,
            "_view_module": "@jupyter-widgets/base",
            "_view_module_version": "1.2.0",
            "_view_name": "LayoutView",
            "align_content": null,
            "align_items": null,
            "align_self": null,
            "border": null,
            "bottom": null,
            "display": null,
            "flex": null,
            "flex_flow": null,
            "grid_area": null,
            "grid_auto_columns": null,
            "grid_auto_flow": null,
            "grid_auto_rows": null,
            "grid_column": null,
            "grid_gap": null,
            "grid_row": null,
            "grid_template_areas": null,
            "grid_template_columns": null,
            "grid_template_rows": null,
            "height": null,
            "justify_content": null,
            "justify_items": null,
            "left": null,
            "margin": null,
            "max_height": null,
            "max_width": null,
            "min_height": null,
            "min_width": null,
            "object_fit": null,
            "object_position": null,
            "order": null,
            "overflow": null,
            "overflow_x": null,
            "overflow_y": null,
            "padding": null,
            "right": null,
            "top": null,
            "visibility": null,
            "width": null
          }
        },
        "b4373492689e49e5a4d646f1c7768d2c": {
          "model_module": "@jupyter-widgets/controls",
          "model_name": "ProgressStyleModel",
          "model_module_version": "1.5.0",
          "state": {
            "_model_module": "@jupyter-widgets/controls",
            "_model_module_version": "1.5.0",
            "_model_name": "ProgressStyleModel",
            "_view_count": null,
            "_view_module": "@jupyter-widgets/base",
            "_view_module_version": "1.2.0",
            "_view_name": "StyleView",
            "bar_color": null,
            "description_width": ""
          }
        },
        "fdf1d3b62c18401189864776731b8863": {
          "model_module": "@jupyter-widgets/base",
          "model_name": "LayoutModel",
          "model_module_version": "1.2.0",
          "state": {
            "_model_module": "@jupyter-widgets/base",
            "_model_module_version": "1.2.0",
            "_model_name": "LayoutModel",
            "_view_count": null,
            "_view_module": "@jupyter-widgets/base",
            "_view_module_version": "1.2.0",
            "_view_name": "LayoutView",
            "align_content": null,
            "align_items": null,
            "align_self": null,
            "border": null,
            "bottom": null,
            "display": null,
            "flex": null,
            "flex_flow": null,
            "grid_area": null,
            "grid_auto_columns": null,
            "grid_auto_flow": null,
            "grid_auto_rows": null,
            "grid_column": null,
            "grid_gap": null,
            "grid_row": null,
            "grid_template_areas": null,
            "grid_template_columns": null,
            "grid_template_rows": null,
            "height": null,
            "justify_content": null,
            "justify_items": null,
            "left": null,
            "margin": null,
            "max_height": null,
            "max_width": null,
            "min_height": null,
            "min_width": null,
            "object_fit": null,
            "object_position": null,
            "order": null,
            "overflow": null,
            "overflow_x": null,
            "overflow_y": null,
            "padding": null,
            "right": null,
            "top": null,
            "visibility": null,
            "width": null
          }
        },
        "0d3727cc3c124b4aa2a2009fcbffc31f": {
          "model_module": "@jupyter-widgets/controls",
          "model_name": "DescriptionStyleModel",
          "model_module_version": "1.5.0",
          "state": {
            "_model_module": "@jupyter-widgets/controls",
            "_model_module_version": "1.5.0",
            "_model_name": "DescriptionStyleModel",
            "_view_count": null,
            "_view_module": "@jupyter-widgets/base",
            "_view_module_version": "1.2.0",
            "_view_name": "StyleView",
            "description_width": ""
          }
        },
        "248940c9390a4796848a17c6822e1b18": {
          "model_module": "@jupyter-widgets/controls",
          "model_name": "HBoxModel",
          "model_module_version": "1.5.0",
          "state": {
            "_dom_classes": [],
            "_model_module": "@jupyter-widgets/controls",
            "_model_module_version": "1.5.0",
            "_model_name": "HBoxModel",
            "_view_count": null,
            "_view_module": "@jupyter-widgets/controls",
            "_view_module_version": "1.5.0",
            "_view_name": "HBoxView",
            "box_style": "",
            "children": [
              "IPY_MODEL_0f7dd01a65e646ba8199ee8f316fe5ed",
              "IPY_MODEL_becad205a0b048f7ade6c94e25fa194b",
              "IPY_MODEL_a9482881e60749039cdf62aebc89e79e"
            ],
            "layout": "IPY_MODEL_9141bedf24554a8a9a9826647844f0d0"
          }
        },
        "0f7dd01a65e646ba8199ee8f316fe5ed": {
          "model_module": "@jupyter-widgets/controls",
          "model_name": "HTMLModel",
          "model_module_version": "1.5.0",
          "state": {
            "_dom_classes": [],
            "_model_module": "@jupyter-widgets/controls",
            "_model_module_version": "1.5.0",
            "_model_name": "HTMLModel",
            "_view_count": null,
            "_view_module": "@jupyter-widgets/controls",
            "_view_module_version": "1.5.0",
            "_view_name": "HTMLView",
            "description": "",
            "description_tooltip": null,
            "layout": "IPY_MODEL_bae00a486c8e4130a29b5a3f15c79d87",
            "placeholder": "​",
            "style": "IPY_MODEL_6610a4a6805943f189d7e12f6d1e81bc",
            "value": "special_tokens_map.json: 100%"
          }
        },
        "becad205a0b048f7ade6c94e25fa194b": {
          "model_module": "@jupyter-widgets/controls",
          "model_name": "FloatProgressModel",
          "model_module_version": "1.5.0",
          "state": {
            "_dom_classes": [],
            "_model_module": "@jupyter-widgets/controls",
            "_model_module_version": "1.5.0",
            "_model_name": "FloatProgressModel",
            "_view_count": null,
            "_view_module": "@jupyter-widgets/controls",
            "_view_module_version": "1.5.0",
            "_view_name": "ProgressView",
            "bar_style": "success",
            "description": "",
            "description_tooltip": null,
            "layout": "IPY_MODEL_7e3dd7d154db49a2a939dcb828500009",
            "max": 112,
            "min": 0,
            "orientation": "horizontal",
            "style": "IPY_MODEL_d68b3fc864d7434d99b3099d0596d489",
            "value": 112
          }
        },
        "a9482881e60749039cdf62aebc89e79e": {
          "model_module": "@jupyter-widgets/controls",
          "model_name": "HTMLModel",
          "model_module_version": "1.5.0",
          "state": {
            "_dom_classes": [],
            "_model_module": "@jupyter-widgets/controls",
            "_model_module_version": "1.5.0",
            "_model_name": "HTMLModel",
            "_view_count": null,
            "_view_module": "@jupyter-widgets/controls",
            "_view_module_version": "1.5.0",
            "_view_name": "HTMLView",
            "description": "",
            "description_tooltip": null,
            "layout": "IPY_MODEL_a5cdadeb2b6c41808a24b1b3cea23643",
            "placeholder": "​",
            "style": "IPY_MODEL_47131df04c2a4d81adf8606510a1c05e",
            "value": " 112/112 [00:00&lt;00:00, 3.53kB/s]"
          }
        },
        "9141bedf24554a8a9a9826647844f0d0": {
          "model_module": "@jupyter-widgets/base",
          "model_name": "LayoutModel",
          "model_module_version": "1.2.0",
          "state": {
            "_model_module": "@jupyter-widgets/base",
            "_model_module_version": "1.2.0",
            "_model_name": "LayoutModel",
            "_view_count": null,
            "_view_module": "@jupyter-widgets/base",
            "_view_module_version": "1.2.0",
            "_view_name": "LayoutView",
            "align_content": null,
            "align_items": null,
            "align_self": null,
            "border": null,
            "bottom": null,
            "display": null,
            "flex": null,
            "flex_flow": null,
            "grid_area": null,
            "grid_auto_columns": null,
            "grid_auto_flow": null,
            "grid_auto_rows": null,
            "grid_column": null,
            "grid_gap": null,
            "grid_row": null,
            "grid_template_areas": null,
            "grid_template_columns": null,
            "grid_template_rows": null,
            "height": null,
            "justify_content": null,
            "justify_items": null,
            "left": null,
            "margin": null,
            "max_height": null,
            "max_width": null,
            "min_height": null,
            "min_width": null,
            "object_fit": null,
            "object_position": null,
            "order": null,
            "overflow": null,
            "overflow_x": null,
            "overflow_y": null,
            "padding": null,
            "right": null,
            "top": null,
            "visibility": null,
            "width": null
          }
        },
        "bae00a486c8e4130a29b5a3f15c79d87": {
          "model_module": "@jupyter-widgets/base",
          "model_name": "LayoutModel",
          "model_module_version": "1.2.0",
          "state": {
            "_model_module": "@jupyter-widgets/base",
            "_model_module_version": "1.2.0",
            "_model_name": "LayoutModel",
            "_view_count": null,
            "_view_module": "@jupyter-widgets/base",
            "_view_module_version": "1.2.0",
            "_view_name": "LayoutView",
            "align_content": null,
            "align_items": null,
            "align_self": null,
            "border": null,
            "bottom": null,
            "display": null,
            "flex": null,
            "flex_flow": null,
            "grid_area": null,
            "grid_auto_columns": null,
            "grid_auto_flow": null,
            "grid_auto_rows": null,
            "grid_column": null,
            "grid_gap": null,
            "grid_row": null,
            "grid_template_areas": null,
            "grid_template_columns": null,
            "grid_template_rows": null,
            "height": null,
            "justify_content": null,
            "justify_items": null,
            "left": null,
            "margin": null,
            "max_height": null,
            "max_width": null,
            "min_height": null,
            "min_width": null,
            "object_fit": null,
            "object_position": null,
            "order": null,
            "overflow": null,
            "overflow_x": null,
            "overflow_y": null,
            "padding": null,
            "right": null,
            "top": null,
            "visibility": null,
            "width": null
          }
        },
        "6610a4a6805943f189d7e12f6d1e81bc": {
          "model_module": "@jupyter-widgets/controls",
          "model_name": "DescriptionStyleModel",
          "model_module_version": "1.5.0",
          "state": {
            "_model_module": "@jupyter-widgets/controls",
            "_model_module_version": "1.5.0",
            "_model_name": "DescriptionStyleModel",
            "_view_count": null,
            "_view_module": "@jupyter-widgets/base",
            "_view_module_version": "1.2.0",
            "_view_name": "StyleView",
            "description_width": ""
          }
        },
        "7e3dd7d154db49a2a939dcb828500009": {
          "model_module": "@jupyter-widgets/base",
          "model_name": "LayoutModel",
          "model_module_version": "1.2.0",
          "state": {
            "_model_module": "@jupyter-widgets/base",
            "_model_module_version": "1.2.0",
            "_model_name": "LayoutModel",
            "_view_count": null,
            "_view_module": "@jupyter-widgets/base",
            "_view_module_version": "1.2.0",
            "_view_name": "LayoutView",
            "align_content": null,
            "align_items": null,
            "align_self": null,
            "border": null,
            "bottom": null,
            "display": null,
            "flex": null,
            "flex_flow": null,
            "grid_area": null,
            "grid_auto_columns": null,
            "grid_auto_flow": null,
            "grid_auto_rows": null,
            "grid_column": null,
            "grid_gap": null,
            "grid_row": null,
            "grid_template_areas": null,
            "grid_template_columns": null,
            "grid_template_rows": null,
            "height": null,
            "justify_content": null,
            "justify_items": null,
            "left": null,
            "margin": null,
            "max_height": null,
            "max_width": null,
            "min_height": null,
            "min_width": null,
            "object_fit": null,
            "object_position": null,
            "order": null,
            "overflow": null,
            "overflow_x": null,
            "overflow_y": null,
            "padding": null,
            "right": null,
            "top": null,
            "visibility": null,
            "width": null
          }
        },
        "d68b3fc864d7434d99b3099d0596d489": {
          "model_module": "@jupyter-widgets/controls",
          "model_name": "ProgressStyleModel",
          "model_module_version": "1.5.0",
          "state": {
            "_model_module": "@jupyter-widgets/controls",
            "_model_module_version": "1.5.0",
            "_model_name": "ProgressStyleModel",
            "_view_count": null,
            "_view_module": "@jupyter-widgets/base",
            "_view_module_version": "1.2.0",
            "_view_name": "StyleView",
            "bar_color": null,
            "description_width": ""
          }
        },
        "a5cdadeb2b6c41808a24b1b3cea23643": {
          "model_module": "@jupyter-widgets/base",
          "model_name": "LayoutModel",
          "model_module_version": "1.2.0",
          "state": {
            "_model_module": "@jupyter-widgets/base",
            "_model_module_version": "1.2.0",
            "_model_name": "LayoutModel",
            "_view_count": null,
            "_view_module": "@jupyter-widgets/base",
            "_view_module_version": "1.2.0",
            "_view_name": "LayoutView",
            "align_content": null,
            "align_items": null,
            "align_self": null,
            "border": null,
            "bottom": null,
            "display": null,
            "flex": null,
            "flex_flow": null,
            "grid_area": null,
            "grid_auto_columns": null,
            "grid_auto_flow": null,
            "grid_auto_rows": null,
            "grid_column": null,
            "grid_gap": null,
            "grid_row": null,
            "grid_template_areas": null,
            "grid_template_columns": null,
            "grid_template_rows": null,
            "height": null,
            "justify_content": null,
            "justify_items": null,
            "left": null,
            "margin": null,
            "max_height": null,
            "max_width": null,
            "min_height": null,
            "min_width": null,
            "object_fit": null,
            "object_position": null,
            "order": null,
            "overflow": null,
            "overflow_x": null,
            "overflow_y": null,
            "padding": null,
            "right": null,
            "top": null,
            "visibility": null,
            "width": null
          }
        },
        "47131df04c2a4d81adf8606510a1c05e": {
          "model_module": "@jupyter-widgets/controls",
          "model_name": "DescriptionStyleModel",
          "model_module_version": "1.5.0",
          "state": {
            "_model_module": "@jupyter-widgets/controls",
            "_model_module_version": "1.5.0",
            "_model_name": "DescriptionStyleModel",
            "_view_count": null,
            "_view_module": "@jupyter-widgets/base",
            "_view_module_version": "1.2.0",
            "_view_name": "StyleView",
            "description_width": ""
          }
        },
        "664930ea6db0441b9efe812bd51e4acf": {
          "model_module": "@jupyter-widgets/controls",
          "model_name": "HBoxModel",
          "model_module_version": "1.5.0",
          "state": {
            "_dom_classes": [],
            "_model_module": "@jupyter-widgets/controls",
            "_model_module_version": "1.5.0",
            "_model_name": "HBoxModel",
            "_view_count": null,
            "_view_module": "@jupyter-widgets/controls",
            "_view_module_version": "1.5.0",
            "_view_name": "HBoxView",
            "box_style": "",
            "children": [
              "IPY_MODEL_05ced564d52444a98ffeeafa7da45bc6",
              "IPY_MODEL_603167eb93c541729806160526c6ddf5",
              "IPY_MODEL_5fd78ba9de4d4908a92d069e3d493823"
            ],
            "layout": "IPY_MODEL_3eb7855a0a154e6db18f8e429b8d8ab7"
          }
        },
        "05ced564d52444a98ffeeafa7da45bc6": {
          "model_module": "@jupyter-widgets/controls",
          "model_name": "HTMLModel",
          "model_module_version": "1.5.0",
          "state": {
            "_dom_classes": [],
            "_model_module": "@jupyter-widgets/controls",
            "_model_module_version": "1.5.0",
            "_model_name": "HTMLModel",
            "_view_count": null,
            "_view_module": "@jupyter-widgets/controls",
            "_view_module_version": "1.5.0",
            "_view_name": "HTMLView",
            "description": "",
            "description_tooltip": null,
            "layout": "IPY_MODEL_44a6c8aeda144144a3ec56f2a01dbd9c",
            "placeholder": "​",
            "style": "IPY_MODEL_a513cd48467a44f2bbf874b44b715cf4",
            "value": "1_Pooling/config.json: 100%"
          }
        },
        "603167eb93c541729806160526c6ddf5": {
          "model_module": "@jupyter-widgets/controls",
          "model_name": "FloatProgressModel",
          "model_module_version": "1.5.0",
          "state": {
            "_dom_classes": [],
            "_model_module": "@jupyter-widgets/controls",
            "_model_module_version": "1.5.0",
            "_model_name": "FloatProgressModel",
            "_view_count": null,
            "_view_module": "@jupyter-widgets/controls",
            "_view_module_version": "1.5.0",
            "_view_name": "ProgressView",
            "bar_style": "success",
            "description": "",
            "description_tooltip": null,
            "layout": "IPY_MODEL_eb29723a33c34dec81b4dbc230ea3f9d",
            "max": 190,
            "min": 0,
            "orientation": "horizontal",
            "style": "IPY_MODEL_c844cf2df0e04cc1b1b0999d10e3d2dc",
            "value": 190
          }
        },
        "5fd78ba9de4d4908a92d069e3d493823": {
          "model_module": "@jupyter-widgets/controls",
          "model_name": "HTMLModel",
          "model_module_version": "1.5.0",
          "state": {
            "_dom_classes": [],
            "_model_module": "@jupyter-widgets/controls",
            "_model_module_version": "1.5.0",
            "_model_name": "HTMLModel",
            "_view_count": null,
            "_view_module": "@jupyter-widgets/controls",
            "_view_module_version": "1.5.0",
            "_view_name": "HTMLView",
            "description": "",
            "description_tooltip": null,
            "layout": "IPY_MODEL_b1a0bdd78dbf4d438e7cfeb69538b712",
            "placeholder": "​",
            "style": "IPY_MODEL_a29d49e846a144efad4e3b006d4455c0",
            "value": " 190/190 [00:00&lt;00:00, 5.76kB/s]"
          }
        },
        "3eb7855a0a154e6db18f8e429b8d8ab7": {
          "model_module": "@jupyter-widgets/base",
          "model_name": "LayoutModel",
          "model_module_version": "1.2.0",
          "state": {
            "_model_module": "@jupyter-widgets/base",
            "_model_module_version": "1.2.0",
            "_model_name": "LayoutModel",
            "_view_count": null,
            "_view_module": "@jupyter-widgets/base",
            "_view_module_version": "1.2.0",
            "_view_name": "LayoutView",
            "align_content": null,
            "align_items": null,
            "align_self": null,
            "border": null,
            "bottom": null,
            "display": null,
            "flex": null,
            "flex_flow": null,
            "grid_area": null,
            "grid_auto_columns": null,
            "grid_auto_flow": null,
            "grid_auto_rows": null,
            "grid_column": null,
            "grid_gap": null,
            "grid_row": null,
            "grid_template_areas": null,
            "grid_template_columns": null,
            "grid_template_rows": null,
            "height": null,
            "justify_content": null,
            "justify_items": null,
            "left": null,
            "margin": null,
            "max_height": null,
            "max_width": null,
            "min_height": null,
            "min_width": null,
            "object_fit": null,
            "object_position": null,
            "order": null,
            "overflow": null,
            "overflow_x": null,
            "overflow_y": null,
            "padding": null,
            "right": null,
            "top": null,
            "visibility": null,
            "width": null
          }
        },
        "44a6c8aeda144144a3ec56f2a01dbd9c": {
          "model_module": "@jupyter-widgets/base",
          "model_name": "LayoutModel",
          "model_module_version": "1.2.0",
          "state": {
            "_model_module": "@jupyter-widgets/base",
            "_model_module_version": "1.2.0",
            "_model_name": "LayoutModel",
            "_view_count": null,
            "_view_module": "@jupyter-widgets/base",
            "_view_module_version": "1.2.0",
            "_view_name": "LayoutView",
            "align_content": null,
            "align_items": null,
            "align_self": null,
            "border": null,
            "bottom": null,
            "display": null,
            "flex": null,
            "flex_flow": null,
            "grid_area": null,
            "grid_auto_columns": null,
            "grid_auto_flow": null,
            "grid_auto_rows": null,
            "grid_column": null,
            "grid_gap": null,
            "grid_row": null,
            "grid_template_areas": null,
            "grid_template_columns": null,
            "grid_template_rows": null,
            "height": null,
            "justify_content": null,
            "justify_items": null,
            "left": null,
            "margin": null,
            "max_height": null,
            "max_width": null,
            "min_height": null,
            "min_width": null,
            "object_fit": null,
            "object_position": null,
            "order": null,
            "overflow": null,
            "overflow_x": null,
            "overflow_y": null,
            "padding": null,
            "right": null,
            "top": null,
            "visibility": null,
            "width": null
          }
        },
        "a513cd48467a44f2bbf874b44b715cf4": {
          "model_module": "@jupyter-widgets/controls",
          "model_name": "DescriptionStyleModel",
          "model_module_version": "1.5.0",
          "state": {
            "_model_module": "@jupyter-widgets/controls",
            "_model_module_version": "1.5.0",
            "_model_name": "DescriptionStyleModel",
            "_view_count": null,
            "_view_module": "@jupyter-widgets/base",
            "_view_module_version": "1.2.0",
            "_view_name": "StyleView",
            "description_width": ""
          }
        },
        "eb29723a33c34dec81b4dbc230ea3f9d": {
          "model_module": "@jupyter-widgets/base",
          "model_name": "LayoutModel",
          "model_module_version": "1.2.0",
          "state": {
            "_model_module": "@jupyter-widgets/base",
            "_model_module_version": "1.2.0",
            "_model_name": "LayoutModel",
            "_view_count": null,
            "_view_module": "@jupyter-widgets/base",
            "_view_module_version": "1.2.0",
            "_view_name": "LayoutView",
            "align_content": null,
            "align_items": null,
            "align_self": null,
            "border": null,
            "bottom": null,
            "display": null,
            "flex": null,
            "flex_flow": null,
            "grid_area": null,
            "grid_auto_columns": null,
            "grid_auto_flow": null,
            "grid_auto_rows": null,
            "grid_column": null,
            "grid_gap": null,
            "grid_row": null,
            "grid_template_areas": null,
            "grid_template_columns": null,
            "grid_template_rows": null,
            "height": null,
            "justify_content": null,
            "justify_items": null,
            "left": null,
            "margin": null,
            "max_height": null,
            "max_width": null,
            "min_height": null,
            "min_width": null,
            "object_fit": null,
            "object_position": null,
            "order": null,
            "overflow": null,
            "overflow_x": null,
            "overflow_y": null,
            "padding": null,
            "right": null,
            "top": null,
            "visibility": null,
            "width": null
          }
        },
        "c844cf2df0e04cc1b1b0999d10e3d2dc": {
          "model_module": "@jupyter-widgets/controls",
          "model_name": "ProgressStyleModel",
          "model_module_version": "1.5.0",
          "state": {
            "_model_module": "@jupyter-widgets/controls",
            "_model_module_version": "1.5.0",
            "_model_name": "ProgressStyleModel",
            "_view_count": null,
            "_view_module": "@jupyter-widgets/base",
            "_view_module_version": "1.2.0",
            "_view_name": "StyleView",
            "bar_color": null,
            "description_width": ""
          }
        },
        "b1a0bdd78dbf4d438e7cfeb69538b712": {
          "model_module": "@jupyter-widgets/base",
          "model_name": "LayoutModel",
          "model_module_version": "1.2.0",
          "state": {
            "_model_module": "@jupyter-widgets/base",
            "_model_module_version": "1.2.0",
            "_model_name": "LayoutModel",
            "_view_count": null,
            "_view_module": "@jupyter-widgets/base",
            "_view_module_version": "1.2.0",
            "_view_name": "LayoutView",
            "align_content": null,
            "align_items": null,
            "align_self": null,
            "border": null,
            "bottom": null,
            "display": null,
            "flex": null,
            "flex_flow": null,
            "grid_area": null,
            "grid_auto_columns": null,
            "grid_auto_flow": null,
            "grid_auto_rows": null,
            "grid_column": null,
            "grid_gap": null,
            "grid_row": null,
            "grid_template_areas": null,
            "grid_template_columns": null,
            "grid_template_rows": null,
            "height": null,
            "justify_content": null,
            "justify_items": null,
            "left": null,
            "margin": null,
            "max_height": null,
            "max_width": null,
            "min_height": null,
            "min_width": null,
            "object_fit": null,
            "object_position": null,
            "order": null,
            "overflow": null,
            "overflow_x": null,
            "overflow_y": null,
            "padding": null,
            "right": null,
            "top": null,
            "visibility": null,
            "width": null
          }
        },
        "a29d49e846a144efad4e3b006d4455c0": {
          "model_module": "@jupyter-widgets/controls",
          "model_name": "DescriptionStyleModel",
          "model_module_version": "1.5.0",
          "state": {
            "_model_module": "@jupyter-widgets/controls",
            "_model_module_version": "1.5.0",
            "_model_name": "DescriptionStyleModel",
            "_view_count": null,
            "_view_module": "@jupyter-widgets/base",
            "_view_module_version": "1.2.0",
            "_view_name": "StyleView",
            "description_width": ""
          }
        }
      }
    }
  },
  "nbformat": 4,
  "nbformat_minor": 0
}