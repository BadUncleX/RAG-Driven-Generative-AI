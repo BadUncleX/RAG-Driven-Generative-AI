{
  "cells": [
    {
      "cell_type": "markdown",
      "metadata": {
        "id": "GFLLl1Agum8O"
      },
      "source": [
        "# Pipelines 2: Scaling the Pinecone vector store\n",
        "\n",
        "copyright 2024, Denis Rothman\n",
        "\n",
        "\n",
        "\n"
      ]
    },
    {
      "cell_type": "markdown",
      "metadata": {
        "id": "8QGI1D8FVrT6"
      },
      "source": [
        "#Installing the environment"
      ]
    },
    {
      "cell_type": "code",
      "execution_count": 1,
      "metadata": {
        "colab": {
          "base_uri": "https://localhost:8080/"
        },
        "id": "xoCE_RrKVrT7",
        "outputId": "100e8b75-04d2-4f55-c30f-a7bd18326111"
      },
      "outputs": [
        {
          "output_type": "stream",
          "name": "stdout",
          "text": [
            "Mounted at /content/drive\n"
          ]
        }
      ],
      "source": [
        "#API Key\n",
        "#Store you key in a file and read it(you can type it directly in the notebook but it will be visible for somebody next to you)\n",
        "from google.colab import drive\n",
        "drive.mount('/content/drive')"
      ]
    },
    {
      "cell_type": "code",
      "execution_count": 2,
      "metadata": {
        "colab": {
          "base_uri": "https://localhost:8080/"
        },
        "collapsed": true,
        "id": "Z2abuU9OkVFL",
        "outputId": "3b083efc-4fc2-4b22-f2b2-c0d97c955a7b"
      },
      "outputs": [
        {
          "output_type": "stream",
          "name": "stdout",
          "text": [
            "Collecting openai==1.40.3\n",
            "  Downloading openai-1.40.3-py3-none-any.whl.metadata (22 kB)\n",
            "Requirement already satisfied: anyio<5,>=3.5.0 in /usr/local/lib/python3.10/dist-packages (from openai==1.40.3) (3.7.1)\n",
            "Requirement already satisfied: distro<2,>=1.7.0 in /usr/lib/python3/dist-packages (from openai==1.40.3) (1.7.0)\n",
            "Collecting httpx<1,>=0.23.0 (from openai==1.40.3)\n",
            "  Downloading httpx-0.27.2-py3-none-any.whl.metadata (7.1 kB)\n",
            "Collecting jiter<1,>=0.4.0 (from openai==1.40.3)\n",
            "  Downloading jiter-0.5.0-cp310-cp310-manylinux_2_17_x86_64.manylinux2014_x86_64.whl.metadata (3.6 kB)\n",
            "Requirement already satisfied: pydantic<3,>=1.9.0 in /usr/local/lib/python3.10/dist-packages (from openai==1.40.3) (2.9.2)\n",
            "Requirement already satisfied: sniffio in /usr/local/lib/python3.10/dist-packages (from openai==1.40.3) (1.3.1)\n",
            "Requirement already satisfied: tqdm>4 in /usr/local/lib/python3.10/dist-packages (from openai==1.40.3) (4.66.5)\n",
            "Requirement already satisfied: typing-extensions<5,>=4.11 in /usr/local/lib/python3.10/dist-packages (from openai==1.40.3) (4.12.2)\n",
            "Requirement already satisfied: idna>=2.8 in /usr/local/lib/python3.10/dist-packages (from anyio<5,>=3.5.0->openai==1.40.3) (3.10)\n",
            "Requirement already satisfied: exceptiongroup in /usr/local/lib/python3.10/dist-packages (from anyio<5,>=3.5.0->openai==1.40.3) (1.2.2)\n",
            "Requirement already satisfied: certifi in /usr/local/lib/python3.10/dist-packages (from httpx<1,>=0.23.0->openai==1.40.3) (2024.8.30)\n",
            "Collecting httpcore==1.* (from httpx<1,>=0.23.0->openai==1.40.3)\n",
            "  Downloading httpcore-1.0.5-py3-none-any.whl.metadata (20 kB)\n",
            "Collecting h11<0.15,>=0.13 (from httpcore==1.*->httpx<1,>=0.23.0->openai==1.40.3)\n",
            "  Downloading h11-0.14.0-py3-none-any.whl.metadata (8.2 kB)\n",
            "Requirement already satisfied: annotated-types>=0.6.0 in /usr/local/lib/python3.10/dist-packages (from pydantic<3,>=1.9.0->openai==1.40.3) (0.7.0)\n",
            "Requirement already satisfied: pydantic-core==2.23.4 in /usr/local/lib/python3.10/dist-packages (from pydantic<3,>=1.9.0->openai==1.40.3) (2.23.4)\n",
            "Downloading openai-1.40.3-py3-none-any.whl (360 kB)\n",
            "\u001b[2K   \u001b[90m━━━━━━━━━━━━━━━━━━━━━━━━━━━━━━━━━━━━━━━━\u001b[0m \u001b[32m360.7/360.7 kB\u001b[0m \u001b[31m5.3 MB/s\u001b[0m eta \u001b[36m0:00:00\u001b[0m\n",
            "\u001b[?25hDownloading httpx-0.27.2-py3-none-any.whl (76 kB)\n",
            "\u001b[2K   \u001b[90m━━━━━━━━━━━━━━━━━━━━━━━━━━━━━━━━━━━━━━━━\u001b[0m \u001b[32m76.4/76.4 kB\u001b[0m \u001b[31m4.7 MB/s\u001b[0m eta \u001b[36m0:00:00\u001b[0m\n",
            "\u001b[?25hDownloading httpcore-1.0.5-py3-none-any.whl (77 kB)\n",
            "\u001b[2K   \u001b[90m━━━━━━━━━━━━━━━━━━━━━━━━━━━━━━━━━━━━━━━━\u001b[0m \u001b[32m77.9/77.9 kB\u001b[0m \u001b[31m4.1 MB/s\u001b[0m eta \u001b[36m0:00:00\u001b[0m\n",
            "\u001b[?25hDownloading jiter-0.5.0-cp310-cp310-manylinux_2_17_x86_64.manylinux2014_x86_64.whl (318 kB)\n",
            "\u001b[2K   \u001b[90m━━━━━━━━━━━━━━━━━━━━━━━━━━━━━━━━━━━━━━━━\u001b[0m \u001b[32m318.9/318.9 kB\u001b[0m \u001b[31m5.8 MB/s\u001b[0m eta \u001b[36m0:00:00\u001b[0m\n",
            "\u001b[?25hDownloading h11-0.14.0-py3-none-any.whl (58 kB)\n",
            "\u001b[2K   \u001b[90m━━━━━━━━━━━━━━━━━━━━━━━━━━━━━━━━━━━━━━━━\u001b[0m \u001b[32m58.3/58.3 kB\u001b[0m \u001b[31m3.2 MB/s\u001b[0m eta \u001b[36m0:00:00\u001b[0m\n",
            "\u001b[?25hInstalling collected packages: jiter, h11, httpcore, httpx, openai\n",
            "Successfully installed h11-0.14.0 httpcore-1.0.5 httpx-0.27.2 jiter-0.5.0 openai-1.40.3\n",
            "Collecting pinecone-client==5.0.1\n",
            "  Downloading pinecone_client-5.0.1-py3-none-any.whl.metadata (19 kB)\n",
            "Requirement already satisfied: certifi>=2019.11.17 in /usr/local/lib/python3.10/dist-packages (from pinecone-client==5.0.1) (2024.8.30)\n",
            "Collecting pinecone-plugin-inference<2.0.0,>=1.0.3 (from pinecone-client==5.0.1)\n",
            "  Downloading pinecone_plugin_inference-1.1.0-py3-none-any.whl.metadata (2.2 kB)\n",
            "Collecting pinecone-plugin-interface<0.0.8,>=0.0.7 (from pinecone-client==5.0.1)\n",
            "  Downloading pinecone_plugin_interface-0.0.7-py3-none-any.whl.metadata (1.2 kB)\n",
            "Requirement already satisfied: tqdm>=4.64.1 in /usr/local/lib/python3.10/dist-packages (from pinecone-client==5.0.1) (4.66.5)\n",
            "Requirement already satisfied: typing-extensions>=3.7.4 in /usr/local/lib/python3.10/dist-packages (from pinecone-client==5.0.1) (4.12.2)\n",
            "Requirement already satisfied: urllib3>=1.26.0 in /usr/local/lib/python3.10/dist-packages (from pinecone-client==5.0.1) (2.2.3)\n",
            "Downloading pinecone_client-5.0.1-py3-none-any.whl (244 kB)\n",
            "\u001b[2K   \u001b[90m━━━━━━━━━━━━━━━━━━━━━━━━━━━━━━━━━━━━━━━━\u001b[0m \u001b[32m244.8/244.8 kB\u001b[0m \u001b[31m9.0 MB/s\u001b[0m eta \u001b[36m0:00:00\u001b[0m\n",
            "\u001b[?25hDownloading pinecone_plugin_inference-1.1.0-py3-none-any.whl (85 kB)\n",
            "\u001b[2K   \u001b[90m━━━━━━━━━━━━━━━━━━━━━━━━━━━━━━━━━━━━━━━━\u001b[0m \u001b[32m85.4/85.4 kB\u001b[0m \u001b[31m7.8 MB/s\u001b[0m eta \u001b[36m0:00:00\u001b[0m\n",
            "\u001b[?25hDownloading pinecone_plugin_interface-0.0.7-py3-none-any.whl (6.2 kB)\n",
            "Installing collected packages: pinecone-plugin-interface, pinecone-plugin-inference, pinecone-client\n",
            "Successfully installed pinecone-client-5.0.1 pinecone-plugin-inference-1.1.0 pinecone-plugin-interface-0.0.7\n"
          ]
        }
      ],
      "source": [
        "!pip install openai==1.40.3\n",
        "!pip install pinecone-client==5.0.1"
      ]
    },
    {
      "cell_type": "code",
      "execution_count": 3,
      "metadata": {
        "id": "xotquvXHRxrU"
      },
      "outputs": [],
      "source": [
        "f = open(\"drive/MyDrive/files/pinecone.txt\", \"r\")\n",
        "PINECONE_API_KEY=f.readline()\n",
        "f.close()"
      ]
    },
    {
      "cell_type": "code",
      "execution_count": 4,
      "metadata": {
        "id": "I8lwM8XMd9bz"
      },
      "outputs": [],
      "source": [
        "f = open(\"drive/MyDrive/files/api_key.txt\", \"r\")\n",
        "API_KEY=f.readline()\n",
        "f.close()"
      ]
    },
    {
      "cell_type": "code",
      "execution_count": 5,
      "metadata": {
        "id": "UbKxUEHiZNyX"
      },
      "outputs": [],
      "source": [
        "#The OpenAI Key\n",
        "import os\n",
        "import openai\n",
        "os.environ['OPENAI_API_KEY'] =API_KEY\n",
        "openai.api_key = os.getenv(\"OPENAI_API_KEY\")"
      ]
    },
    {
      "cell_type": "markdown",
      "metadata": {
        "id": "cVjOmtIiY1yf"
      },
      "source": [
        "# Processing bank churn dataset"
      ]
    },
    {
      "cell_type": "markdown",
      "metadata": {
        "id": "M0QfuYcVSUYx"
      },
      "source": [
        "RangeIndex: 10000 entries, 0 to 9999\n",
        "Data columns (total 14 columns):\n",
        "    Column              Non-Null Count  Dtype  \n",
        "---  ------              --------------  -----  \n",
        " 0   CustomerId          10000 non-null  int64  \n",
        " 1   CreditScore         10000 non-null  int64  \n",
        " 2   Age                 10000 non-null  int64  \n",
        " 3   Tenure              10000 non-null  int64  \n",
        " 4   Balance             10000 non-null  float64  \n",
        " 5   NumOfProducts       10000 non-null  int64  \n",
        " 6   HasCrCard           10000 non-null  int64  \n",
        " 7   IsActiveMember      10000 non-null  int64  \n",
        " 8   EstimatedSalary     10000 non-null  float64  \n",
        " 9   Exited              10000 non-null  int64  \n",
        " 10  Complain            10000 non-null  int64  \n",
        " 11  Satisfaction Score  10000 non-null  int64  \n",
        " 12  Card Type           10000 non-null  object   \n",
        " 13  Point Earned        10000 non-null  int64    \n",
        "dtypes: float64(2), int64(11), object(1)\n",
        "memory usage: 1.1+ MB"
      ]
    },
    {
      "cell_type": "markdown",
      "metadata": {
        "id": "hdmbrrbmsv_q"
      },
      "source": [
        "You can retrieve `data1.csv` from Google Drive that was generated in `Pipeline_1_Collecting_and_preparing_the_dataset.ipynb` and saved in your Google Drive\n",
        "\n",
        "or\n",
        "\n",
        "You can download the ready-to-use `data1.csv` from the GitHub repository.\n"
      ]
    },
    {
      "cell_type": "code",
      "execution_count": 6,
      "metadata": {
        "id": "7wrAq4yYspVn",
        "outputId": "2d4dcf19-1424-43e7-c1a9-9b296fb2204b",
        "colab": {
          "base_uri": "https://localhost:8080/"
        }
      },
      "outputs": [
        {
          "output_type": "stream",
          "name": "stdout",
          "text": [
            "cp: cannot stat '/content/drive/MyDrive/files/rag_c6/data1.csv': No such file or directory\n"
          ]
        }
      ],
      "source": [
        "#Run this cell if you saved data.csv in your Google Drive\n",
        "#or comment this cell and run the next cell.\n",
        "!cp /content/drive/MyDrive/files/rag_c6/data1.csv /content/data1.csv"
      ]
    },
    {
      "cell_type": "code",
      "execution_count": 8,
      "metadata": {
        "colab": {
          "base_uri": "https://localhost:8080/"
        },
        "id": "Gl43WeHTYMVi",
        "outputId": "7f8cfdf1-dd72-4d4c-d52a-80a0bdae18aa"
      },
      "outputs": [
        {
          "output_type": "stream",
          "name": "stdout",
          "text": [
            "  % Total    % Received % Xferd  Average Speed   Time    Time     Time  Current\n",
            "                                 Dload  Upload   Total   Spent    Left  Speed\n",
            "\r  0     0    0     0    0     0      0      0 --:--:-- --:--:-- --:--:--     0\r100    14  100    14    0     0    113      0 --:--:-- --:--:-- --:--:--   113\n"
          ]
        }
      ],
      "source": [
        "#Uncomment the following command if you want to retrieve the ready-to-use data1.csv file\n",
        "#!curl -o data1.csv https://raw.githubusercontent.com/Denis2054/RAG-Driven-Generative-AI/main/Chapter06/data1.csv"
      ]
    },
    {
      "cell_type": "code",
      "execution_count": 9,
      "metadata": {
        "id": "f8xEic_3fTg-"
      },
      "outputs": [],
      "source": [
        "import pandas as pd\n",
        "# Load the CSV file\n",
        "file_path = '/content/data1.csv'\n",
        "data1 = pd.read_csv(file_path)"
      ]
    },
    {
      "cell_type": "code",
      "execution_count": 10,
      "metadata": {
        "colab": {
          "base_uri": "https://localhost:8080/"
        },
        "id": "V_9qm9wLLHRj",
        "outputId": "560848a3-9f57-4736-b076-85fd1cf68ac3"
      },
      "outputs": [
        {
          "output_type": "stream",
          "name": "stdout",
          "text": [
            "Number of lines:  10000\n"
          ]
        }
      ],
      "source": [
        "# Count the chunks\n",
        "number_of_lines = len(data1)\n",
        "print(\"Number of lines: \",number_of_lines)"
      ]
    },
    {
      "cell_type": "code",
      "execution_count": 11,
      "metadata": {
        "colab": {
          "base_uri": "https://localhost:8080/"
        },
        "id": "0BiYzIT5zvtx",
        "outputId": "a5f1a408-f5dc-482a-d144-cad9c62d7ca9"
      },
      "outputs": [
        {
          "output_type": "stream",
          "name": "stdout",
          "text": [
            "CustomerId: 15634602 CreditScore: 619 Age: 42 Tenure: 2 Balance: 0.0 NumOfProducts: 1 HasCrCard: 1 IsActiveMember: 1 EstimatedSalary: 101348.88 Exited: 1 Complain: 1 Satisfaction Score: 2 Card Type: DIAMOND Point Earned: 464\n",
            "CustomerId: 15647311 CreditScore: 608 Age: 41 Tenure: 1 Balance: 83807.86 NumOfProducts: 1 HasCrCard: 0 IsActiveMember: 1 EstimatedSalary: 112542.58 Exited: 0 Complain: 1 Satisfaction Score: 3 Card Type: DIAMOND Point Earned: 456\n",
            "CustomerId: 15619304 CreditScore: 502 Age: 42 Tenure: 8 Balance: 159660.8 NumOfProducts: 3 HasCrCard: 1 IsActiveMember: 0 EstimatedSalary: 113931.57 Exited: 1 Complain: 1 Satisfaction Score: 3 Card Type: DIAMOND Point Earned: 377\n",
            "CustomerId: 15701354 CreditScore: 699 Age: 39 Tenure: 1 Balance: 0.0 NumOfProducts: 2 HasCrCard: 0 IsActiveMember: 0 EstimatedSalary: 93826.63 Exited: 0 Complain: 0 Satisfaction Score: 5 Card Type: GOLD Point Earned: 350\n",
            "CustomerId: 15737888 CreditScore: 850 Age: 43 Tenure: 2 Balance: 125510.82 NumOfProducts: 1 HasCrCard: 1 IsActiveMember: 1 EstimatedSalary: 79084.1 Exited: 0 Complain: 0 Satisfaction Score: 5 Card Type: GOLD Point Earned: 425\n"
          ]
        }
      ],
      "source": [
        "import pandas as pd\n",
        "\n",
        "# Initialize an empty list to store the lines\n",
        "output_lines = []\n",
        "\n",
        "# Iterate over each row in the DataFrame\n",
        "for index, row in data1.iterrows():\n",
        "    # Create a list of \"column_name: value\" for each column in the row\n",
        "    row_data = [f\"{col}: {row[col]}\" for col in data1.columns]\n",
        "    # Join the list into a single string separated by spaces\n",
        "    line = ' '.join(row_data)\n",
        "    # Append the line to the output list\n",
        "    output_lines.append(line)\n",
        "\n",
        "# Display or further process `output_lines` as needed\n",
        "for line in output_lines[:5]:  # Displaying first 5 lines for preview\n",
        "    print(line)"
      ]
    },
    {
      "cell_type": "code",
      "execution_count": 12,
      "metadata": {
        "id": "Q0uvjtB-0AxM"
      },
      "outputs": [],
      "source": [
        "lines = output_lines.copy()"
      ]
    },
    {
      "cell_type": "code",
      "execution_count": 13,
      "metadata": {
        "colab": {
          "base_uri": "https://localhost:8080/"
        },
        "id": "WpCX9sHBLFZE",
        "outputId": "97cac3ac-48c4-4403-c599-0dfcc6dbe586"
      },
      "outputs": [
        {
          "output_type": "stream",
          "name": "stdout",
          "text": [
            "Number of lines:  10000\n"
          ]
        }
      ],
      "source": [
        "# Count the lines\n",
        "number_of_lines = len(lines)\n",
        "print(\"Number of lines: \",number_of_lines)"
      ]
    },
    {
      "cell_type": "markdown",
      "metadata": {
        "id": "eIb_dIfe1fOq"
      },
      "source": [
        "# Chunking and embedding the dataset"
      ]
    },
    {
      "cell_type": "markdown",
      "metadata": {
        "id": "e2GXkdHLS-Uq"
      },
      "source": [
        "## Chunking"
      ]
    },
    {
      "cell_type": "code",
      "execution_count": 14,
      "metadata": {
        "colab": {
          "base_uri": "https://localhost:8080/"
        },
        "id": "7lJfNBhbL7c_",
        "outputId": "54bfa5c8-a38f-424c-cae8-c39228f7102e"
      },
      "outputs": [
        {
          "output_type": "stream",
          "name": "stdout",
          "text": [
            "Total number of chunks: 10000\n",
            "Response Time: 0.01 seconds\n"
          ]
        }
      ],
      "source": [
        "import time\n",
        "start_time = time.time()  # Start timing before the request\n",
        "\n",
        "# Initialize an empty list for the chunks\n",
        "chunks = []\n",
        "\n",
        "# Add each line as a separate chunk to the chunks list\n",
        "for line in lines:\n",
        "    chunks.append(line)  # Each line becomes its own chunk\n",
        "\n",
        "# Now, each line is treated as a separate chunk\n",
        "print(f\"Total number of chunks: {len(chunks)}\")\n",
        "\n",
        "response_time = time.time() - start_time  # Measure response time\n",
        "print(f\"Response Time: {response_time:.2f} seconds\")  # Print response time"
      ]
    },
    {
      "cell_type": "code",
      "execution_count": 15,
      "metadata": {
        "colab": {
          "base_uri": "https://localhost:8080/"
        },
        "id": "iHwXHAO5DsaC",
        "outputId": "67bb0980-76b4-4ef5-f67a-7c263a293f8d"
      },
      "outputs": [
        {
          "output_type": "stream",
          "name": "stdout",
          "text": [
            "224\n",
            "CustomerId: 15634602 CreditScore: 619 Age: 42 Tenure: 2 Balance: 0.0 NumOfProducts: 1 HasCrCard: 1 IsActiveMember: 1 EstimatedSalary: 101348.88 Exited: 1 Complain: 1 Satisfaction Score: 2 Card Type: DIAMOND Point Earned: 464\n",
            "229\n",
            "CustomerId: 15647311 CreditScore: 608 Age: 41 Tenure: 1 Balance: 83807.86 NumOfProducts: 1 HasCrCard: 0 IsActiveMember: 1 EstimatedSalary: 112542.58 Exited: 0 Complain: 1 Satisfaction Score: 3 Card Type: DIAMOND Point Earned: 456\n",
            "229\n",
            "CustomerId: 15619304 CreditScore: 502 Age: 42 Tenure: 8 Balance: 159660.8 NumOfProducts: 3 HasCrCard: 1 IsActiveMember: 0 EstimatedSalary: 113931.57 Exited: 1 Complain: 1 Satisfaction Score: 3 Card Type: DIAMOND Point Earned: 377\n"
          ]
        }
      ],
      "source": [
        "# Print the length and content of the first 10 chunks\n",
        "for i in range(3):\n",
        "    print(len(chunks[i]))\n",
        "    print(chunks[i])"
      ]
    },
    {
      "cell_type": "markdown",
      "metadata": {
        "id": "xnpKzYzRpXfn"
      },
      "source": [
        "## Embedding"
      ]
    },
    {
      "cell_type": "markdown",
      "metadata": {
        "id": "EnNRM3aBlYea"
      },
      "source": [
        "### Initializing the embedding model\n"
      ]
    },
    {
      "cell_type": "code",
      "execution_count": null,
      "metadata": {
        "id": "nKl3UiJ3-pXE"
      },
      "outputs": [],
      "source": [
        "import openai\n",
        "import time\n",
        "\n",
        "embedding_model=\"text-embedding-3-small\"\n",
        "#embedding_model=\"text-embedding-3-large\"\n",
        "#embedding_model=\"text-embedding-ada-002\"\n",
        "\n",
        "# Initialize the OpenAI client\n",
        "client = openai.OpenAI()\n",
        "\n",
        "def get_embedding(text, model=embedding_model):\n",
        "    text = text.replace(\"\\n\", \" \")\n",
        "    response = client.embeddings.create(input=[text], model=model)\n",
        "    embedding = response.data[0].embedding\n",
        "    return embedding\n",
        "\n",
        "\n",
        "def get_embedding(texts, model=\"text-embedding-3-small\"):\n",
        "    texts = [text.replace(\"\\n\", \" \") for text in texts]  # Clean input texts\n",
        "    response = client.embeddings.create(input=texts, model=model)  # API call for batch\n",
        "    embeddings = [res.embedding for res in response.data]  # Extract embeddings\n",
        "    return embeddings\n"
      ]
    },
    {
      "cell_type": "markdown",
      "metadata": {
        "id": "RCAEGyrve2pW"
      },
      "source": [
        "### Embedding the chunks\n",
        "\n",
        "    Parameters:\n",
        "        chunks (list): List of text chunks to be embedded.\n",
        "        embedding_model (str): Model to be used for embedding.\n",
        "        batch_size (int): Number of chunks to process per batch.\n",
        "        pause_time (int): Time to wait between batches (in seconds).\n",
        "    "
      ]
    },
    {
      "cell_type": "code",
      "source": [
        "def embed_chunks(chunks, embedding_model=\"text-embedding-3-small\", batch_size=1000, pause_time=3):\n",
        "    start_time = time.time()  # Start timing the operation\n",
        "    embeddings = []  # Initialize an empty list to store the embeddings\n",
        "    counter = 1  # Batch counter\n",
        "\n",
        "    # Process chunks in batches\n",
        "    for i in range(0, len(chunks), batch_size):\n",
        "        chunk_batch = chunks[i:i + batch_size]  # Select a batch of chunks\n",
        "\n",
        "        # Get the embeddings for the current batch\n",
        "        current_embeddings = get_embedding(chunk_batch, model=embedding_model)\n",
        "\n",
        "        # Append the embeddings to the final list\n",
        "        embeddings.extend(current_embeddings)\n",
        "\n",
        "        # Print batch progress and pause\n",
        "        print(f\"Batch {counter} embedded.\")\n",
        "        counter += 1\n",
        "        time.sleep(pause_time)  # Optional: adjust or remove this depending on rate limits\n",
        "\n",
        "    # Print total response time\n",
        "    response_time = time.time() - start_time\n",
        "    print(f\"Total Response Time: {response_time:.2f} seconds\")\n",
        "\n",
        "    return embeddings\n",
        "\n",
        "embeddings = embed_chunks(chunks)\n"
      ],
      "metadata": {
        "id": "wWhJBzn6Ggak",
        "outputId": "e2070ab2-f74f-4026-b159-bada038d0d8a",
        "colab": {
          "base_uri": "https://localhost:8080/"
        }
      },
      "execution_count": 16,
      "outputs": [
        {
          "output_type": "stream",
          "name": "stdout",
          "text": [
            "Batch 1 embedded.\n",
            "Batch 2 embedded.\n",
            "Batch 3 embedded.\n",
            "Batch 4 embedded.\n",
            "Batch 5 embedded.\n",
            "Batch 6 embedded.\n",
            "Batch 7 embedded.\n",
            "Batch 8 embedded.\n",
            "Batch 9 embedded.\n",
            "Batch 10 embedded.\n",
            "Total Response Time: 53.71 seconds\n"
          ]
        }
      ]
    },
    {
      "cell_type": "code",
      "execution_count": 17,
      "metadata": {
        "colab": {
          "base_uri": "https://localhost:8080/"
        },
        "id": "W1r5SVLu768D",
        "outputId": "c22a1489-8891-4d00-9598-0b27acdfa0d0"
      },
      "outputs": [
        {
          "output_type": "stream",
          "name": "stdout",
          "text": [
            "First embedding: [0.00471159815788269, -0.008987484499812126, 0.000833576254080981, 0.03757462650537491, 0.022479787468910217, -0.02569962665438652, -0.010036147199571133, 0.07893034815788269, 0.00973336398601532, -0.04953824356198311, 0.05131063237786293, -0.04587531089782715, -0.028136659413576126, -0.007085859309881926, 0.0701865628361702, 0.046407025307416916, -0.03648165240883827, 0.020072294399142265, -0.025418998673558235, 0.04915422573685646, 0.03479788452386856, 0.06735074520111084, 0.015981031581759453, -0.021992381662130356, 0.0013634463539347053, 0.037545084953308105, -0.05754353106021881, -0.041621576994657516, 0.03550684079527855, -0.05760261043906212, 0.060911066830158234, -0.03317319601774216, 0.027796952053904533, 0.0382835790514946, 0.014378497377038002, 0.02530083805322647, -0.0003210145514458418, 0.050069961696863174, 0.036511193960905075, -0.04682058468461037, -0.05012904107570648, 0.02265702746808529, 0.017901118844747543, -9.767750452738255e-05, -0.014467117376625538, 0.006469216197729111, 0.01196361891925335, -0.004877759609371424, 0.004419892560690641, 0.044073380529880524, -0.014681280590593815, 0.016955845057964325, -0.01423818338662386, 0.0423009917140007, -0.01512437779456377, -0.024134015664458275, 0.02745724469423294, -0.036983828991651535, -0.0033619985915720463, 0.021283425390720367, 0.021032337099313736, -0.038578979671001434, 0.01383939664810896, 0.03320273384451866, 0.03023398481309414, -0.006458138581365347, -0.011114349588751793, 0.052610382437705994, -0.0407058447599411, 0.004323888104408979, -0.029185323044657707, 0.016719527542591095, 0.03648165240883827, -0.00829329900443554, 0.018964551389217377, 0.0025588851422071457, -0.0014022174291312695, -0.027014147490262985, 0.025034980848431587, -0.02825481817126274, -0.014312032610177994, 0.004848219454288483, -0.02760494314134121, -0.019570117816329002, 0.0002182021999033168, -0.061324626207351685, -0.02561100572347641, -0.05520988628268242, 0.018166976049542427, -0.025965483859181404, -0.05139925330877304, -0.042241912335157394, -0.027900341898202896, -0.03621579334139824, 0.01700015552341938, -0.01041277963668108, -0.0789894238114357, 0.017413711175322533, -0.020869867876172066, 0.01812266744673252, 0.015272076241672039, 0.02760494314134121, 0.04188743606209755, -0.03008628636598587, -0.005830417852848768, 0.047027360647916794, -0.002095479518175125, -0.0024831893388181925, -0.024119246751070023, 0.01232548151165247, -0.07438121736049652, 0.0163502786308527, -0.06557835638523102, 0.011476212181150913, -0.02283426560461521, 0.006435983814299107, -0.04817941412329674, -0.012000543996691704, -0.041680656373500824, -0.05497356876730919, -0.05376243591308594, 0.009275496937334538, 0.013418453745543957, -0.048238493502140045, -0.008847170509397984, 0.01196361891925335, 0.002221023663878441, -0.0035632383078336716, -0.00011469750461401418, -0.021667443215847015, 0.006387981586158276, 0.019909825176000595, 0.02640858106315136, -0.008330223150551319, -0.029406871646642685, 0.005922730080783367, 0.0038918687496334314, -0.010353700257837772, -0.04481187462806702, -0.06073382869362831, -0.027590172365307808, 0.015759482979774475, 0.043069027364254, -0.0052026971243321896, -0.03863805904984474, -0.059079598635435104, -0.02578824572265148, 0.03125310689210892, -0.0614427849650383, 0.002989058615639806, 0.021815141662955284, 0.009430580772459507, -0.04909514635801315, -0.05154694989323616, 0.049449626356363297, -0.02488728053867817, 0.024798661470413208, 0.03925839439034462, -0.033793531358242035, -0.014319417998194695, -0.005649486556649208, -0.02466573379933834, -0.017974968999624252, -0.020382462069392204, -0.012665188871324062, -0.025817785412073135, -0.0068384637124836445, -0.03713152930140495, -0.08282960206270218, -0.033557213842868805, -0.0002188945363741368, -0.05810478702187538, -0.04682058468461037, -0.06374689191579819, -0.021800372749567032, 0.0015037604607641697, 0.004770677536725998, -0.03792910277843475, -0.004050645045936108, 0.012724269181489944, -0.008116059936583042, 0.011195584200322628, 0.035063743591308594, -0.03952425345778465, -0.0295250304043293, -0.04271455109119415, -0.03677704930305481, 0.009282882325351238, 0.027161845937371254, 0.01754664070904255, 0.013447994366288185, 0.021342504769563675, -0.0003858636482618749, -0.0010698946425691247, -0.007311100605875254, -0.029953356832265854, 0.0066944570280611515, 0.04921330511569977, -0.05361473560333252, 0.030514612793922424, 0.011365437880158424, -0.04980410262942314, 0.03157804533839226, 0.04714551940560341, -0.05139925330877304, 0.01988028548657894, 0.0025422689504921436, -0.028446827083826065, -0.01543454546481371, 0.02419309690594673, 0.0654011145234108, 0.021578824147582054, 0.0031035251449793577, 0.0053873211145401, -0.03261194005608559, -0.005010688677430153, 0.0342957079410553, -0.01714785397052765, 0.014120024628937244, 0.02312966249883175, -0.015449315309524536, 0.01778296008706093, 0.009430580772459507, -0.0021508666686713696, -0.020958488807082176, 0.05600745975971222, 0.04395522177219391, 0.013625232502818108, 0.03964241221547127, -0.020530160516500473, -0.0020751708652824163, 0.012864583171904087, -0.015419775620102882, -0.03023398481309414, -0.004021105356514454, 0.05396921560168266, 0.024931591004133224, 0.04100124165415764, 0.006912313401699066, -0.016379818320274353, -0.046495646238327026, 0.030204445123672485, -0.01424556877464056, 0.026364270597696304, 0.030425993725657463, -0.032671019434928894, -0.015198227018117905, -0.02386815845966339, 0.007835431955754757, -0.0031238337978720665, 0.007181863766163588, 0.050158578902482986, -0.011867614462971687, 0.0020437848288565874, 0.01700015552341938, -0.011417132802307606, 0.004035875201225281, 0.06894589215517044, 0.03999688848853111, -0.021593593060970306, 0.02784126065671444, -0.03095770999789238, 0.0159662626683712, -0.012982741929590702, -0.04569806903600693, -0.007348025217652321, 0.024946361780166626, -0.008928404189646244, -0.03145988658070564, -0.012347636744379997, -0.026511970907449722, 0.016571827232837677, 0.044486939907073975, 0.03860851749777794, 0.002497959416359663, -0.011697760783135891, -0.01233286689966917, -0.012628264725208282, 0.04460509866476059, 0.023602299392223358, 0.0006581836496479809, -0.004966378677636385, 0.00905394833534956, -0.0007200326072052121, 0.009120413102209568, 0.013300294987857342, -0.011860230006277561, -0.022391168400645256, 0.0446937158703804, 0.025507617741823196, -0.041208021342754364, -0.05018812045454979, 0.015537934377789497, -0.037308767437934875, 0.03358675166964531, -0.01667521707713604, 0.026689209043979645, -0.028461597859859467, 0.011365437880158424, 0.011734685860574245, 0.03264147788286209, 0.08489738404750824, 0.02338075079023838, -0.007156016305088997, 0.011062654666602612, 0.039612870663404465, 0.03733830526471138, 0.012561799958348274, -0.02912624180316925, -0.04971548169851303, -0.031223569065332413, 0.010361084714531898, 0.03565453737974167, 0.0006752613699063659, 0.0017345400992780924, 0.024207865819334984, -0.00030185983632691205, -0.030750932171940804, 0.04481187462806702, -0.021342504769563675, -0.0038401740603148937, -0.014134794473648071, 0.012192551977932453, 0.009511815384030342, 0.016941076144576073, 0.0042574238032102585, 0.025507617741823196, 0.00588211277499795, 0.01652751863002777, -0.04543221369385719, -0.02617226354777813, -0.040971703827381134, 0.007643423043191433, -0.020722169429063797, -0.046643342822790146, 0.011350668035447598, 0.022627485916018486, -0.0011077425442636013, -0.02465096302330494, 0.05228544771671295, 0.03964241221547127, -0.07963930070400238, -0.011705146171152592, -0.04159203916788101, 0.030027206987142563, -0.041857898235321045, 0.019525807350873947, 0.011483597569167614, 0.0486520491540432, -0.014769899658858776, -0.03157804533839226, -0.021268656477332115, 0.011121734976768494, 0.04475279524922371, -0.02744247391819954, 0.01056786347180605, 0.009504430927336216, 0.012185167521238327, -0.008448382839560509, 0.03497512266039848, 0.012694728560745716, 0.032818716019392014, -0.03736784681677818, 0.022804725915193558, 0.05169465020298958, 0.0037681707181036472, -0.023365981876850128, -0.030189676210284233, 0.04930192604660988, -0.04076492413878441, -0.029111472889780998, 0.02169698290526867, -0.004682058468461037, -0.0035983168054372072, -0.04215329512953758, -0.040026430040597916, 0.009179492481052876, 0.006306747440248728, 0.05089707672595978, -0.0016920766793191433, 0.0526694618165493, 0.041385259479284286, -0.02185945212841034, 0.006520910654217005, 0.03335043415427208, 0.02698460780084133, 0.019895054399967194, 0.034591104835271835, -0.053023941814899445, -0.014540966600179672, 0.053910136222839355, -0.027988960966467857, 0.017339862883090973, -0.0662282332777977, -0.027796952053904533, -0.0054131681099534035, 0.016763836145401, 0.05001088231801987, 0.003027829574421048, -0.004419892560690641, 0.015331156551837921, -0.046879664063453674, 0.03784048184752464, -0.03627487272024155, 0.014009250327944756, -0.03766324371099472, 0.018935011699795723, 0.002069632289931178, 0.01946672797203064, -0.024134015664458275, 0.031400807201862335, -0.05910914018750191, 0.026585819199681282, 0.00886194035410881, 0.0014585276367142797, -0.016778606921434402, -0.03216884285211563, 0.02465096302330494, 0.0054611703380942345, -0.010427549481391907, -0.056686874479055405, -0.01939287781715393, -0.0026235035620629787, -0.01892024092376232, -0.027708332985639572, -0.003958333283662796, 0.008485307916998863, 0.02657105028629303, -0.007591728586703539, 0.0018425449961796403, -0.035004664212465286, 0.0430985689163208, 0.01852145418524742, 0.007473569363355637, -0.05435323342680931, -0.011867614462971687, -0.012222092598676682, 0.011321128346025944, -0.024001087993383408, -0.010848491452634335, -0.009275496937334538, -0.01547885499894619, -0.020013215020298958, -0.05376243591308594, -0.0159662626683712, -0.005985502153635025, 0.04454601928591728, -0.06120646372437477, 0.012229477055370808, 0.010523553937673569, -0.026275651529431343, -0.011040500365197659, -0.0003357844543643296, 0.010870646685361862, -0.08915111422538757, 0.002221023663878441, 0.014932368882000446, 0.041060321033000946, -0.01197100430727005, 0.04194651544094086, -0.029643189162015915, -0.015582244843244553, 0.045934390276670456, 0.007872357033193111, -0.010398009791970253, 0.00502545852214098, -0.041385259479284286, 0.023114893585443497, 0.023484140634536743, 0.014939754270017147, 0.007528956513851881, -0.02546330727636814, 0.01559701468795538, 0.029569339007139206, 0.020234763622283936, -0.004035875201225281, -0.019053170457482338, 0.020928949117660522, 0.02273087576031685, 0.02050062082707882, -0.040971703827381134, -0.0183442160487175, -0.044959574937820435, 0.046407025307416916, 0.018875932320952415, 0.03420708701014519, 3.8626749301329255e-05, 0.003936178516596556, -0.05978855490684509, 0.027176616713404655, 0.019688276574015617, 0.018639612942934036, 0.006879081018269062, -0.019023630768060684, -0.03246423974633217, 0.018890701234340668, 0.04008550941944122, -0.03008628636598587, -0.004434662405401468, -0.06882773339748383, -0.01756141148507595, -0.03216884285211563, 0.00506976805627346, 0.019363338127732277, -0.023809079080820084, 0.0037626319099217653, -0.021401584148406982, -0.06894589215517044, -0.019968904554843903, -0.033882152289152145, -0.005575637333095074, 0.08046641200780869, -0.02163790352642536, -0.03943563252687454, -0.034827422350645065, -0.009327191859483719, -0.002702891593798995, 0.05074937641620636, -0.021756062284111977, 0.00401002774015069, 0.03603855520486832, -0.004434662405401468, 0.012827658094465733, 0.009127798490226269, -0.0263199619948864, -0.020412001758813858, -0.01858053356409073, -0.04939054697751999, -0.029643189162015915, -0.014164334163069725, 0.010634328238666058, -0.008219449780881405, 0.01580379344522953, 0.058282025158405304, -0.011387593112885952, -0.004748522769659758, -0.02442941442131996, -0.017517101019620895, 0.00994014274328947, -0.016232119873166084, 0.06416044384241104, -0.0034303092397749424, -0.00025316531537100673, -0.023838618770241737, 0.01707400381565094, -0.030189676210284233, 0.022066229954361916, -0.004892529454082251, -0.016616137698292732, 0.02290811575949192, -0.004962686449289322, -0.03072139248251915, -0.0025588851422071457, 0.029096702113747597, -0.015818562358617783, -0.02441464550793171, 0.01668998785316944, -0.013433223590254784, -0.019363338127732277, -0.0022930270060896873, 0.00032309157541021705, -0.024621423333883286, 0.010331545025110245, 0.050394900143146515, -0.030278295278549194, 0.01200792845338583, 0.008928404189646244, -0.01589241251349449, -0.019643966108560562, 0.008913634344935417, -0.014880673959851265, 0.014910213649272919, -0.022361628711223602, 0.03597947582602501, 0.027944650501012802, 0.03305503726005554, -0.025803014636039734, 0.017974968999624252, 0.019658736884593964, 0.016158269718289375, -0.006923390552401543, -0.007004625163972378, 0.025655316188931465, 0.032050684094429016, -0.05952269583940506, 0.03367537260055542, 0.030691852793097496, -0.00011002421524608508, 0.02816619910299778, 0.020160913467407227, -0.00849269237369299, 0.00434973556548357, 0.002586578717455268, 0.022213930264115334, -0.02050062082707882, -0.017354631796479225, -0.017014924436807632, 0.011262048967182636, 0.027501553297042847, -0.020574470981955528, 0.022125309333205223, -0.015464085154235363, -0.007783737499266863, -0.017989737913012505, -0.0063842893578112125, 0.04259639233350754, 0.02831389755010605, 0.07538557052612305, 0.0020327074453234673, -0.012709499336779118, 0.005479632876813412, 0.015582244843244553, 0.013595692813396454, -0.03305503726005554, -0.014142178930342197, 0.014747745357453823, -0.02027907222509384, -0.005885805003345013, -0.01739894226193428, 0.003943563438951969, 0.009814598597586155, -0.027545863762497902, -0.01589241251349449, -0.001528684631921351, -0.0014419114449992776, 0.033232275396585464, 0.006435983814299107, -0.03627487272024155, -0.005719643551856279, 0.008152985014021397, -0.005830417852848768, -0.015286846086382866, 0.008322838693857193, 0.00448635732755065, 0.02376476861536503, 0.01021338626742363, 0.03600901737809181, 0.014814210124313831, -0.01200792845338583, -0.009866293519735336, 0.013484918512403965, 0.021120956167578697, 0.04008550941944122, -0.016453668475151062, 0.052462685853242874, 0.00021335581550374627, 0.0013459071051329374, 0.0211357269436121, -0.03899253532290459, 0.007189248688519001, -0.012576569803059101, -0.030189676210284233, 0.025891633704304695, -0.058222945779561996, 0.01124727912247181, -0.018875932320952415, -0.012591339647769928, 0.005494402721524239, -0.020234763622283936, 0.03863805904984474, -0.03704290837049484, 0.014585276134312153, -0.0034007695503532887, 0.013994480483233929, 0.01739894226193428, 0.029480719938874245, 0.0026382734067738056, 0.0011788225965574384, 0.005424245726317167, 0.03837219998240471, 0.005475940182805061, 0.014548351056873798, -0.020219992846250534, 0.01763525977730751, -0.005978117231279612, -0.0018046970944851637, 0.003943563438951969, -0.025182679295539856, 0.02010183408856392, -0.008832399733364582, 0.010804181918501854, -0.010678637772798538, -0.006897543091326952, -0.005302394274622202, -0.019570117816329002, -0.021002797409892082, 0.02448849380016327, -0.010988805443048477, 0.036186255514621735, 0.013935400173068047, 0.03017490543425083, 0.048238493502140045, 0.023262592032551765, -0.025478078052401543, -0.027427705004811287, -0.029170552268624306, 0.013012281619012356, 0.00043178879423066974, -0.020323382690548897, -0.05488494783639908, -0.02832866832613945, -0.026290422305464745, 0.0239420086145401, 0.002979827346280217, -0.04445739835500717, 0.029717039316892624, 0.03358675166964531, 0.011616526171565056, -0.011055270209908485, 0.005106693133711815, 0.00874378066509962, 0.009659514762461185, -0.012495335191488266, 0.006650147493928671, 0.0022727183531969786, 0.0034930813126266003, -0.004862989764660597, -0.028978543356060982, 0.0023502602707594633, -0.03264147788286209, 0.01787157915532589, 0.04590484872460365, 0.005258084274828434, -0.03240516036748886, 0.022789955139160156, 0.033704910427331924, -0.007156016305088997, 0.0008289606194011867, 0.029081933200359344, 0.008943174034357071, -0.0031127564143389463, -0.016941076144576073, 0.012199937365949154, -0.0012508259387686849, 0.0007961899391375482, 0.01858053356409073, -0.022376397624611855, 0.011823304928839207, -0.00926072709262371, -0.009504430927336216, -0.0041651115752756596, -0.013093516230583191, 0.013189520686864853, -0.0043054260313510895, -0.018299905583262444, 0.01460743136703968, 0.008566541597247124, -0.011003575287759304, -0.04091262444853783, 0.014828979969024658, 0.016616137698292732, 0.01340368390083313, 0.03704290837049484, -0.0002455495996400714, -0.0107746422290802, -0.00985152367502451, 0.009637359529733658, 0.0004435585578903556, 0.021815141662955284, -0.0011917463270947337, 0.026792598888278008, 0.07526741176843643, -0.004275885876268148, 0.05216728523373604, 0.011823304928839207, 0.003936178516596556, -0.04540267214179039, 0.021800372749567032, 0.008677315898239613, 0.01029461994767189, 0.010575247928500175, -0.0020290149841457605, -0.026127953082323074, -0.03208022192120552, 0.03727922588586807, -0.022789955139160156, 0.005981809459626675, -0.01611396111547947, -0.003212453331798315, -0.00786497164517641, 0.022302549332380295, 0.008042210713028908, -0.012022698298096657, -0.016424128785729408, -0.026851678267121315, -0.05323071777820587, 0.04108986258506775, -0.02171175368130207, -0.01236979104578495, 0.003498620120808482, -0.03335043415427208, 0.009866293519735336, -0.0299238171428442, 0.01988028548657894, -0.0004809448728337884, -0.0006757228984497488, -0.013108286075294018, -0.09370024502277374, 0.011520521715283394, 0.03473880514502525, -0.012000543996691704, 0.0038438665214926004, -0.0026364270597696304, 0.008965329267084599, -0.011003575287759304, -0.011882384307682514, 0.021490205079317093, -0.016955845057964325, -0.002549653872847557, -0.013374144211411476, -0.02361707016825676, 0.01850668527185917, 0.002174867782741785, 0.0030296756885945797, 0.007576958741992712, -0.024311255663633347, 0.02704368717968464, 0.021445894613862038, -0.007946206256747246, -0.001772388000972569, 0.029465951025485992, -0.013351989910006523, -0.010279850102961063, -0.032198380678892136, 0.030544152483344078, 0.04540267214179039, -0.02218439057469368, 0.03798818215727806, 0.0055091725662350655, -0.0031699896790087223, -0.01264303456991911, 0.015611784532666206, 0.005535020027309656, -0.0327300988137722, -0.022317318245768547, -0.011616526171565056, 0.007451414596289396, 0.01604011096060276, 0.004117109812796116, -0.007835431955754757, 0.04764769598841667, 0.008374533616006374, -0.027944650501012802, 0.0007084936369210482, 0.021682213991880417, 0.028860384598374367, -0.007137554232031107, 0.003544776001945138, 0.010959265753626823, 0.040587686002254486, -0.015995802357792854, -0.017103543505072594, -0.005667949095368385, -0.06002487242221832, 0.04451647773385048, 0.0351228229701519, -0.008322838693857193, 0.03692474961280823, -0.01731032319366932, 0.010427549481391907, -0.024621423333883286, 0.006627992726862431, 0.00696400785818696, -0.04156249761581421, 0.016143500804901123, 0.005498095415532589, 8.129214256769046e-05, 0.03565453737974167, 0.03949471190571785, 0.01420125924050808, -0.037072449922561646, -0.05364427715539932, 0.004401430021971464, -0.02225823886692524, 0.0007643423159606755, 0.0006235667387954891, 0.021091416478157043, 0.018890701234340668, 0.01683768630027771, 0.021047107875347137, 0.015257306396961212, 0.015286846086382866, 0.018477145582437515, -0.02123911678791046, 0.008086520247161388, 0.027161845937371254, -0.025891633704304695, 0.020412001758813858, -0.002137942938134074, 0.0036167793441563845, 0.012510105036199093, 0.005579329561442137, 0.009991837665438652, 0.027147077023983, -0.009526585228741169, -0.02561100572347641, 0.02417832612991333, 0.0374860055744648, -0.013595692813396454, -0.004903606604784727, 0.007776352111250162, 0.005863650236278772, -0.03095770999789238, -0.004634056240320206, -0.01954057812690735, -0.001034816144965589, 0.004538051784038544, -0.021756062284111977, 0.02227300964295864, 0.03113494999706745, 0.04011504724621773, -0.003349074861034751, 0.016557058319449425, 0.007192941382527351, 0.022317318245768547, 0.008640391752123833, -0.026054102927446365, -0.0075843436643481255, 0.030041975900530815, -0.014112639240920544, 0.01013953611254692, -0.021741293370723724, -0.006365826819092035, 0.03704290837049484, -0.029170552268624306, 0.01651274785399437, -0.011232509277760983, 4.2838481022045016e-05, 0.03527051955461502, 0.014474501833319664, 0.03287779912352562, 0.035772696137428284, 0.03157804533839226, 0.0358908586204052, -0.017738649621605873, -0.02097325772047043, -0.0032401469070464373, -0.001613611588254571, 0.025670086964964867, 0.006325209513306618, -0.01698538474738598, 0.037220146507024765, 0.008411457762122154, 0.0008995792013593018, 0.03414800763130188, -0.0033509209752082825, 0.03769278526306152, 0.003760785795748234, -0.010833721607923508, -0.004936838988214731, -0.0031127564143389463, -0.043128106743097305, 0.022287778556346893, -0.014518811367452145, -0.019983675330877304, 0.024636192247271538, 0.024710042402148247, -0.015065298415720463, 0.036511193960905075, 0.026763059198856354, -0.022863805294036865, -0.00269366055727005, 0.0047152903862297535, -0.039051614701747894, -0.025271298363804817, -0.017443252727389336, -0.004338657949119806, 0.0020604010205715895, 0.009452736005187035, 0.03184390440583229, 0.018388524651527405, 0.018477145582437515, -0.019171331077814102, 0.009799828752875328, 0.0025644239503890276, 0.00806436501443386, 0.002016091253608465, 0.0028339745476841927, 0.024828201159834862, -0.0012259016511961818, 0.01212608814239502, 0.047204598784446716, 0.04303948953747749, 0.0542646124958992, -0.02193330228328705, 0.0023890312295407057, 0.00024601115728728473, 0.04156249761581421, 0.023410292342305183, 0.021268656477332115, -0.0017705417703837156, 0.036333952099084854, 0.011166044510900974, 0.028151430189609528, 0.03143034875392914, 5.388705540099181e-05, -0.030603231862187386, 0.04277363047003746, -0.002326259156689048, 0.01129158865660429, -0.008389303460717201, 0.024754352867603302, -0.0093788867816329, -0.005808263085782528, -0.014260338619351387, 0.026866447180509567, 0.023484140634536743, -0.010663867928087711, 0.00662430003285408, -0.021283425390720367, -0.02123911678791046, -0.020943718031048775, -0.01587764173746109, 0.0003618625632952899, 0.028830844908952713, 0.013137825764715672, -0.02187422104179859, -0.023114893585443497, -0.007687733042985201, 0.013780316337943077, 0.034118469804525375, 0.028520677238702774, 0.005213774740695953, -0.004674673546105623, 0.0069824703969061375, 0.0015176072483882308, 0.03181436285376549, -0.0023521066177636385, -0.0018840853590518236, -0.011815919540822506, -0.015043143182992935, -0.011350668035447598, -0.03199160471558571, 0.023557990789413452, -0.005715951323509216, 0.046791043132543564, 0.01128420326858759, -0.004238961264491081, 0.024355564266443253, 0.027176616713404655, 0.0010061993962153792, -0.0023465678095817566, -0.019363338127732277, 0.010265080258250237, 0.020456312224268913, -0.0011677452130243182, 0.01508006826043129, 0.004298041108995676, 0.035536378622055054, -0.004035875201225281, -0.020928949117660522, -0.0207369402050972, 0.00450481940060854, -0.010065686888992786, -0.015656093135476112, 0.01995413564145565, 0.015537934377789497, -0.020544931292533875, 0.03899253532290459, 0.004951608832925558, 0.003317688824608922, -0.013233830220997334, -0.012192551977932453, 0.0012046699412167072, 0.006291977595537901, 0.010900186374783516, 0.057248130440711975, 0.017044464126229286, -0.014533581212162971, -0.004936838988214731, 0.01961442641913891, 0.019747355952858925, 0.014134794473648071, -0.032434701919555664, -0.01025031041353941, -1.2858755326305982e-05, -0.03016013652086258, -0.021106187254190445, -0.04803171381354332, 0.03473880514502525, -0.023173972964286804, 0.05157649144530296, -0.002217331202700734, -0.014075715094804764, -0.04487095773220062, 0.033704910427331924, -0.012140857987105846, 0.012406716123223305, -0.0013283678563311696, 0.006539373192936182, 0.04555037245154381, 0.007968361489474773, 0.011793765239417553, -0.0011049731401726604, 0.01995413564145565, 0.01045708917081356, -0.007167093921452761, 0.009127798490226269, 0.007621268276125193, 0.006820001173764467, 0.0024536496493965387, 0.041532959789037704, 0.022789955139160156, -0.014120024628937244, -0.002016091253608465, -0.010309389792382717, 0.008005285635590553, 0.015331156551837921, -0.026910757645964622, -0.001851776265539229, -0.017605720087885857, 0.01620258018374443, 0.008596082217991352, -0.0007468030671589077, 0.010191231034696102, -0.011919309385120869, 0.03385261073708534, 0.012074393220245838, -0.0042094215750694275, 0.020471081137657166, -0.02146066538989544, 0.01747279241681099, 0.033882152289152145, 0.04690920189023018, -0.032523319125175476, -0.0014539120020344853, -0.027147077023983, -0.03683612868189812, -0.02137204445898533, 0.01986551471054554, -0.006897543091326952, -0.02593594416975975, 0.002889361698180437, 0.01604011096060276, 0.011010960675776005, -0.01707400381565094, -0.03727922588586807, 0.020648319274187088, -0.03157804533839226, -0.046554725617170334, -0.030425993725657463, -0.005575637333095074, 0.005368858575820923, 0.032907336950302124, 0.021091416478157043, -0.00011815920152002946, -0.047027360647916794, 0.10179415345191956, -0.012724269181489944, 0.019053170457482338, 0.022775186225771904, -0.03296641632914543, 0.011631296016275883, 0.015818562358617783, -0.025197450071573257, 0.0011963618453592062, 0.008234219625592232, 0.01169037539511919, 0.011660835705697536, 0.036658890545368195, 0.028446827083826065, 0.0076803481206297874, -0.0006231051520444453, -0.03713152930140495, 0.008367148227989674, 0.007052627392113209, 0.007425567135214806, 0.027974190190434456, -0.02544853836297989, 0.015050527639687061, 0.004205728881061077, -0.005283931735903025, -0.01977689564228058, 0.015759482979774475, -0.002313335658982396, 0.008825015276670456, 0.030455533415079117, 0.013374144211411476, -0.011845460161566734, 0.03317319601774216, 0.0039177159778773785, -0.009873677976429462, 0.004693135619163513, -0.013351989910006523, 0.013772931881248951, 0.0008017286309041083, -0.009142568334937096, -0.006639069877564907, -0.0083819180727005, -0.022553637623786926, 0.015818562358617783, -0.004386660177260637, 0.008647776208817959, -0.011712530627846718, 0.003332458669319749, -0.0009674284374341369, 0.003698013722896576, -0.021002797409892082, -0.0342957079410553, 0.0037275534123182297, -0.03789956495165825, -0.007768967188894749, 0.01731032319366932, 0.03733830526471138, 0.044398318976163864, 0.005915345158427954, 0.03860851749777794, -0.012140857987105846, 0.00865516159683466, -0.0047928327694535255, 0.041385259479284286, 0.016660446301102638, -0.023971548303961754, 0.0057344138622283936, -0.011306358501315117, -0.02832866832613945, 0.01828513666987419, 0.008669931441545486, -0.005195312201976776, -0.003899253671988845, -0.03919931501150131, 0.02066309005022049, -0.0032346080988645554, 0.021903760731220245, -0.005420553497970104, -0.010471859015524387, 0.019008861854672432, 0.0031386036425828934, 0.02504974976181984, 0.01979166641831398, 0.015685634687542915, -0.016173040494322777, -0.004571284167468548, -0.010560478083789349, 0.017694341018795967, 0.009253342635929585, -0.004139264579862356, -0.021844681352376938, 0.009046563878655434, 0.0534374974668026, -0.018048817291855812, 0.009135182946920395, -0.012458411045372486, -0.05491448938846588, 0.008773320354521275, 0.0032161457929760218, 0.0029650575015693903, 0.017280783504247665, 0.002671505557373166, -0.011838074773550034, -0.02051539160311222, -0.030514612793922424, -0.0187577735632658, 0.026674440130591393, -0.01908271014690399, -0.016394589096307755, -0.014769899658858776, 0.025094060227274895, -0.0012120548635721207, 0.01559701468795538, 0.0422714538872242, 0.029185323044657707, -0.0009572741691954434, 0.013093516230583191, 0.023100122809410095, -0.01380985602736473, -0.018462374806404114, 0.008957943879067898, 0.01828513666987419, 0.00401002774015069, -0.007894511334598064, 0.01993936486542225, -0.007425567135214806, 0.025433767586946487, 0.04315764829516411, 0.0059485770761966705, -0.015449315309524536, -0.0299238171428442, 0.015419775620102882, 0.03225746005773544, 0.008352378383278847, 0.019200870767235756, 0.028387747704982758, 0.0043091182596981525, -0.012812888249754906, 0.006565220654010773, -0.0034635416232049465, -0.026703979820013046, -0.04100124165415764, -0.017502332106232643, -0.0050069959834218025, 0.004298041108995676, 0.007085859309881926, 0.015227766707539558, 0.007318485528230667, -0.00556455971673131, 0.020618779584765434, 0.0399082712829113, 0.03095770999789238, 0.009149952791631222, -0.01884639263153076, 0.011734685860574245, -0.03367537260055542, 0.026275651529431343, 0.003533698618412018, -0.0035004662349820137, 0.023041043430566788, 0.020633550360798836, -0.01045708917081356, -0.0638650506734848, -0.005793493241071701, 0.00470790546387434, 0.0015609938418492675, -0.01021338626742363, 0.012554414570331573, 0.00030324450926855206, 0.023631839081645012, -0.009327191859483719, 0.039051614701747894, -0.006247667595744133, 0.019688276574015617, -0.00044702025479637086, -0.003393384627997875, 0.007037857547402382, 0.020146142691373825, -0.03902207687497139, -0.0014862212119624019, -0.0034912351984530687, -0.017738649621605873, -0.03423662856221199, -0.004283270798623562, 0.018048817291855812, 0.01683768630027771, -0.02033815160393715, -0.028535446152091026, 0.006325209513306618, 0.0035743156913667917, 0.01196361891925335, -0.024724813178181648, 0.009622589685022831, 0.004789140075445175, -0.009799828752875328, 0.015582244843244553, 0.010597403161227703, 0.001100357505492866, -0.028535446152091026, 0.016173040494322777, 0.014481887221336365, 0.021194806322455406, -0.029022853821516037, 0.030204445123672485, 0.014924983493983746, 0.0007948052370920777, 0.009319806471467018, -0.019245179370045662, -0.005579329561442137, -0.004316503182053566, 0.018550993874669075, 0.04578668996691704, 0.01475512981414795, 0.00574918370693922, 0.015198227018117905, -0.02281949482858181, -0.008396687917411327, 0.03364583104848862, 0.007159708999097347, -0.021106187254190445, 0.014843749813735485, -0.025921175256371498, -0.004611901473253965, -0.006609530188143253, 0.027796952053904533, -0.019747355952858925, 0.006923390552401543, -0.00286351446993649, 0.02058923989534378, 0.0006881850422360003, 0.00994014274328947, -0.004080184735357761, -0.028446827083826065, -0.051665108650922775, 0.017620490863919258, 0.025256529450416565, 0.027545863762497902, 0.031075868755578995, 0.005095615517348051, -0.023735228925943375, 0.002416724804788828, -0.042803168296813965, -0.03213930130004883, 0.008817629888653755, -0.010161691345274448, 0.020234763622283936, -0.0026271960232406855, 0.024621423333883286, -0.00042117293924093246, 0.013514458201825619, -0.019422419369220734, -0.0010615865467116237, 0.0012148242676630616, 0.01756141148507595, -0.026999376714229584, -0.04271455109119415, -0.001111435005441308, -0.03329135477542877, 0.02841728739440441, -0.021106187254190445, -0.012702113948762417, 0.00829329900443554, 0.0071486313827335835, 0.004290655720978975, 0.037545084953308105, 0.0028505907393991947, -0.009785058908164501, 0.008729010820388794, -0.004021105356514454, -0.01892024092376232, -0.012591339647769928, -0.009548740461468697, -0.0010911263525485992, 0.0223468579351902, -0.024724813178181648, -0.006591067649424076, -0.028520677238702774, 0.006794154178351164, 0.026585819199681282, -0.017266012728214264, -0.02745724469423294, 0.04173973575234413, -0.019038401544094086, -0.038667596876621246, 0.03199160471558571, 0.014563120901584625, 0.003428463125601411, 0.0004276347463019192, 0.059493158012628555, 0.02943641133606434, -0.003576162038370967, 0.03465018421411514, -0.04274408891797066, -0.004523281939327717, 0.018536224961280823, -0.006709226872771978, 0.010080456733703613, -0.02051539160311222, 0.0005741798668168485, -0.004992226138710976, 0.01866915263235569, -0.037545084953308105, 0.005660564173012972, -0.006531988270580769, -0.012945816852152348, 0.0121703976765275, 0.019451959058642387, 0.016424128785729408, 0.01572994329035282, -0.006295669823884964, 0.009696438908576965, -0.0023613376542925835, 3.1761053833179176e-05, 0.012111318297684193, 0.015493624843657017, 0.002069632289931178, 0.04357120394706726, -0.010420164093375206, -0.0009360424010083079, 0.03636349365115166, -0.0026161186397075653, -0.04457555711269379, 0.028712686151266098, 0.02481343224644661, -0.015375466085970402, -0.010065686888992786, -0.005402090959250927, 0.02544853836297989, 0.0017945428844541311, 0.015242536552250385, 0.003450617892667651, -0.02019045315682888, 0.011158659122884274, -0.016557058319449425, 0.012694728560745716, 0.02146066538989544, -0.003950948361307383, -0.04962686449289322, 0.03202114254236221, 0.0067424592562019825, 0.030041975900530815, 0.019363338127732277, 0.020574470981955528, 0.033557213842868805, -0.02608364261686802, 0.03701337054371834, 0.022967195138335228, -0.010124766267836094, 0.004929454065859318, 0.004098647274076939, 0.0063842893578112125, 0.04132618010044098, -0.015907181426882744, 0.011321128346025944, -0.001968089258298278, 0.02050062082707882, 0.012251632288098335, 0.003485696390271187, 0.001057894085533917, -0.02984996698796749, 0.013780316337943077, -0.03846082091331482, 0.017650030553340912, -0.017812499776482582, -0.03154850751161575, 0.07438121736049652, 0.001602534088306129, -0.04838619381189346, 0.022036690264940262, 0.02131296508014202, 0.0062070502899587154, 0.0046672881580889225, -0.008507462218403816, 0.04531405493617058, -0.012857197783887386, 0.013396299444139004, 0.004124494735151529, 0.026541510596871376, -0.00850007776170969, -0.011439287103712559, 0.029303481802344322, -0.007506801746785641, 0.016158269718289375, 0.04020366817712784, 0.011882384307682514, 0.0028967466205358505, -0.017827268689870834, -0.01128420326858759, -0.002269025892019272]\n"
          ]
        }
      ],
      "source": [
        "print(\"First embedding:\", embeddings[0])"
      ]
    },
    {
      "cell_type": "markdown",
      "metadata": {
        "id": "29YsciMeN5iK"
      },
      "source": [
        "Control output"
      ]
    },
    {
      "cell_type": "code",
      "execution_count": 18,
      "metadata": {
        "colab": {
          "base_uri": "https://localhost:8080/"
        },
        "id": "SE3IiSUplYee",
        "outputId": "ce4400b3-5010-46ea-863c-cdc3ee59a912"
      },
      "outputs": [
        {
          "output_type": "stream",
          "name": "stdout",
          "text": [
            "Number of chunks: 10000\n",
            "Number of embeddings: 10000\n"
          ]
        }
      ],
      "source": [
        "# Check the lengths of the chunks and embeddings\n",
        "num_chunks = len(chunks)\n",
        "print(f\"Number of chunks: {num_chunks}\")\n",
        "print(f\"Number of embeddings: {len(embeddings)}\")"
      ]
    },
    {
      "cell_type": "code",
      "execution_count": 19,
      "metadata": {
        "colab": {
          "base_uri": "https://localhost:8080/"
        },
        "id": "FMbbPm2csDMK",
        "outputId": "53caa33e-a22b-4992-9cfe-490613bbc515"
      },
      "outputs": [
        {
          "output_type": "stream",
          "name": "stdout",
          "text": [
            "Total size 50000\n",
            "Number of duplicated chunks: 50000\n",
            "Number of duplicated embeddings: 50000\n"
          ]
        }
      ],
      "source": [
        "# Define the duplication size\n",
        "dsize = 5  # You can set this to any value between 1 and n as per your experimentation requirements\n",
        "total=dsize * len(chunks)\n",
        "print(\"Total size\", total)\n",
        "# Initialize new lists for duplicated chunks and embeddings\n",
        "duplicated_chunks = []\n",
        "duplicated_embeddings = []\n",
        "\n",
        "# Loop through the original lists and duplicate each entry\n",
        "for i in range(len(chunks)):\n",
        "    for _ in range(dsize):\n",
        "        duplicated_chunks.append(chunks[i])\n",
        "        duplicated_embeddings.append(embeddings[i])\n",
        "\n",
        "# Checking the lengths of the duplicated lists\n",
        "print(f\"Number of duplicated chunks: {len(duplicated_chunks)}\")\n",
        "print(f\"Number of duplicated embeddings: {len(duplicated_embeddings)}\")"
      ]
    },
    {
      "cell_type": "markdown",
      "metadata": {
        "id": "XswfiN5Z1OvT"
      },
      "source": [
        "#  The Pinecone index"
      ]
    },
    {
      "cell_type": "code",
      "execution_count": 21,
      "metadata": {
        "id": "nOSA_Spit_xq"
      },
      "outputs": [],
      "source": [
        "import os\n",
        "from pinecone import Pinecone, ServerlessSpec\n",
        "\n",
        "# initialize connection to pinecone (get API key at app.pinecone.io)\n",
        "api_key = os.environ.get('PINECONE_API_KEY') or 'PINECONE_API_KEY'\n",
        "\n",
        "from pinecone import Pinecone, ServerlessSpec\n",
        "pc = Pinecone(api_key=PINECONE_API_KEY)"
      ]
    },
    {
      "cell_type": "code",
      "execution_count": 20,
      "metadata": {
        "id": "P---PNLpXeQs"
      },
      "outputs": [],
      "source": [
        "from pinecone import ServerlessSpec\n",
        "\n",
        "index_name = 'bank-index-50000'\n",
        "cloud = os.environ.get('PINECONE_CLOUD') or 'aws'\n",
        "region = os.environ.get('PINECONE_REGION') or 'us-east-1'\n",
        "\n",
        "spec = ServerlessSpec(cloud=cloud, region=region)"
      ]
    },
    {
      "cell_type": "code",
      "execution_count": 22,
      "metadata": {
        "colab": {
          "base_uri": "https://localhost:8080/"
        },
        "id": "jO7AYljM0gq1",
        "outputId": "860e3847-120a-40c1-d442-bdcfb2df26d3"
      },
      "outputs": [
        {
          "output_type": "execute_result",
          "data": {
            "text/plain": [
              "{'dimension': 1536,\n",
              " 'index_fullness': 0.0,\n",
              " 'namespaces': {},\n",
              " 'total_vector_count': 0}"
            ]
          },
          "metadata": {},
          "execution_count": 22
        }
      ],
      "source": [
        "import time\n",
        "import pinecone\n",
        "# check if index already exists (it shouldn't if this is first time)\n",
        "if index_name not in pc.list_indexes().names():\n",
        "    # if does not exist, create index\n",
        "    pc.create_index(\n",
        "        index_name,\n",
        "        dimension=1536,  # dimension of the embedding model\n",
        "        metric='cosine',\n",
        "        spec=spec\n",
        "    )\n",
        "    # wait for index to be initialized\n",
        "    time.sleep(1)\n",
        "\n",
        "# connect to index\n",
        "index = pc.Index(index_name)\n",
        "# view index stats\n",
        "index.describe_index_stats()"
      ]
    },
    {
      "cell_type": "markdown",
      "metadata": {
        "id": "FrWqU-Ri115e"
      },
      "source": [
        "# Upserting"
      ]
    },
    {
      "cell_type": "code",
      "execution_count": 23,
      "metadata": {
        "id": "c2kXmv83j1V_"
      },
      "outputs": [],
      "source": [
        "# upsert function\n",
        "def upsert_to_pinecone(data, batch_size):\n",
        "    for i in range(0, len(data), batch_size):\n",
        "        batch = data[i:i+batch_size]\n",
        "        index.upsert(vectors=batch)\n",
        "        #time.sleep(1)  # Optional: add delay to avoid rate limits"
      ]
    },
    {
      "cell_type": "code",
      "execution_count": 24,
      "metadata": {
        "colab": {
          "base_uri": "https://localhost:8080/"
        },
        "id": "iUwvjba62iVT",
        "outputId": "f9e3b72f-c2c7-439f-a1e6-b0e09e5d7d88"
      },
      "outputs": [
        {
          "output_type": "stream",
          "name": "stdout",
          "text": [
            "Upserted 316/50000 items...\n",
            "Upserted 632/50000 items...\n",
            "Upserted 948/50000 items...\n",
            "Upserted 1264/50000 items...\n",
            "Upserted 1580/50000 items...\n",
            "Upserted 1896/50000 items...\n",
            "Upserted 2212/50000 items...\n",
            "Upserted 2528/50000 items...\n",
            "Upserted 2844/50000 items...\n",
            "Upserted 3160/50000 items...\n",
            "Upserted 3476/50000 items...\n",
            "Upserted 3792/50000 items...\n",
            "Upserted 4108/50000 items...\n",
            "Upserted 4424/50000 items...\n",
            "Upserted 4740/50000 items...\n",
            "Upserted 5056/50000 items...\n",
            "Upserted 5372/50000 items...\n",
            "Upserted 5688/50000 items...\n",
            "Upserted 6004/50000 items...\n",
            "Upserted 6320/50000 items...\n",
            "Upserted 6636/50000 items...\n",
            "Upserted 6952/50000 items...\n",
            "Upserted 7268/50000 items...\n",
            "Upserted 7584/50000 items...\n",
            "Upserted 7900/50000 items...\n",
            "Upserted 8216/50000 items...\n",
            "Upserted 8532/50000 items...\n",
            "Upserted 8848/50000 items...\n",
            "Upserted 9164/50000 items...\n",
            "Upserted 9480/50000 items...\n",
            "Upserted 9796/50000 items...\n",
            "Upserted 10112/50000 items...\n",
            "Upserted 10428/50000 items...\n",
            "Upserted 10744/50000 items...\n",
            "Upserted 11060/50000 items...\n",
            "Upserted 11376/50000 items...\n",
            "Upserted 11692/50000 items...\n",
            "Upserted 12008/50000 items...\n",
            "Upserted 12324/50000 items...\n",
            "Upserted 12640/50000 items...\n",
            "Upserted 12956/50000 items...\n",
            "Upserted 13272/50000 items...\n",
            "Upserted 13588/50000 items...\n",
            "Upserted 13904/50000 items...\n",
            "Upserted 14220/50000 items...\n",
            "Upserted 14536/50000 items...\n",
            "Upserted 14852/50000 items...\n",
            "Upserted 15168/50000 items...\n",
            "Upserted 15484/50000 items...\n",
            "Upserted 15800/50000 items...\n",
            "Upserted 16116/50000 items...\n",
            "Upserted 16432/50000 items...\n",
            "Upserted 16748/50000 items...\n",
            "Upserted 17064/50000 items...\n",
            "Upserted 17380/50000 items...\n",
            "Upserted 17696/50000 items...\n",
            "Upserted 18012/50000 items...\n",
            "Upserted 18328/50000 items...\n",
            "Upserted 18644/50000 items...\n",
            "Upserted 18960/50000 items...\n",
            "Upserted 19276/50000 items...\n",
            "Upserted 19592/50000 items...\n",
            "Upserted 19908/50000 items...\n",
            "Upserted 20224/50000 items...\n",
            "Upserted 20540/50000 items...\n",
            "Upserted 20856/50000 items...\n",
            "Upserted 21172/50000 items...\n",
            "Upserted 21488/50000 items...\n",
            "Upserted 21804/50000 items...\n",
            "Upserted 22120/50000 items...\n",
            "Upserted 22436/50000 items...\n",
            "Upserted 22752/50000 items...\n",
            "Upserted 23068/50000 items...\n",
            "Upserted 23384/50000 items...\n",
            "Upserted 23700/50000 items...\n",
            "Upserted 24016/50000 items...\n",
            "Upserted 24332/50000 items...\n",
            "Upserted 24648/50000 items...\n",
            "Upserted 24964/50000 items...\n",
            "Upserted 25280/50000 items...\n",
            "Upserted 25596/50000 items...\n",
            "Upserted 25912/50000 items...\n",
            "Upserted 26228/50000 items...\n",
            "Upserted 26544/50000 items...\n",
            "Upserted 26860/50000 items...\n",
            "Upserted 27176/50000 items...\n",
            "Upserted 27492/50000 items...\n",
            "Upserted 27808/50000 items...\n",
            "Upserted 28124/50000 items...\n",
            "Upserted 28440/50000 items...\n",
            "Upserted 28756/50000 items...\n",
            "Upserted 29072/50000 items...\n",
            "Upserted 29388/50000 items...\n",
            "Upserted 29704/50000 items...\n",
            "Upserted 30020/50000 items...\n",
            "Upserted 30336/50000 items...\n",
            "Upserted 30652/50000 items...\n",
            "Upserted 30968/50000 items...\n",
            "Upserted 31284/50000 items...\n",
            "Upserted 31600/50000 items...\n",
            "Upserted 31916/50000 items...\n",
            "Upserted 32232/50000 items...\n",
            "Upserted 32548/50000 items...\n",
            "Upserted 32864/50000 items...\n",
            "Upserted 33180/50000 items...\n",
            "Upserted 33496/50000 items...\n",
            "Upserted 33812/50000 items...\n",
            "Upserted 34128/50000 items...\n",
            "Upserted 34444/50000 items...\n",
            "Upserted 34760/50000 items...\n",
            "Upserted 35076/50000 items...\n",
            "Upserted 35392/50000 items...\n",
            "Upserted 35708/50000 items...\n",
            "Upserted 36024/50000 items...\n",
            "Upserted 36340/50000 items...\n",
            "Upserted 36656/50000 items...\n",
            "Upserted 36972/50000 items...\n",
            "Upserted 37288/50000 items...\n",
            "Upserted 37604/50000 items...\n",
            "Upserted 37920/50000 items...\n",
            "Upserted 38236/50000 items...\n",
            "Upserted 38552/50000 items...\n",
            "Upserted 38868/50000 items...\n",
            "Upserted 39184/50000 items...\n",
            "Upserted 39500/50000 items...\n",
            "Upserted 39816/50000 items...\n",
            "Upserted 40132/50000 items...\n",
            "Upserted 40448/50000 items...\n",
            "Upserted 40764/50000 items...\n",
            "Upserted 41080/50000 items...\n",
            "Upserted 41396/50000 items...\n",
            "Upserted 41712/50000 items...\n",
            "Upserted 42028/50000 items...\n",
            "Upserted 42344/50000 items...\n",
            "Upserted 42660/50000 items...\n",
            "Upserted 42976/50000 items...\n",
            "Upserted 43292/50000 items...\n",
            "Upserted 43608/50000 items...\n",
            "Upserted 43924/50000 items...\n",
            "Upserted 44240/50000 items...\n",
            "Upserted 44556/50000 items...\n",
            "Upserted 44872/50000 items...\n",
            "Upserted 45188/50000 items...\n",
            "Upserted 45504/50000 items...\n",
            "Upserted 45820/50000 items...\n",
            "Upserted 46136/50000 items...\n",
            "Upserted 46452/50000 items...\n",
            "Upserted 46768/50000 items...\n",
            "Upserted 47084/50000 items...\n",
            "Upserted 47400/50000 items...\n",
            "Upserted 47716/50000 items...\n",
            "Upserted 48032/50000 items...\n",
            "Upserted 48348/50000 items...\n",
            "Upserted 48664/50000 items...\n",
            "Upserted 48980/50000 items...\n",
            "Upserted 49296/50000 items...\n",
            "Upserted 49612/50000 items...\n",
            "Upserted 49928/50000 items...\n",
            "Upserted 50000/50000 items...\n",
            "Upsert complete.\n",
            "Upsertion response time: 558.90 seconds\n"
          ]
        }
      ],
      "source": [
        "import pinecone\n",
        "import time\n",
        "import sys\n",
        "\n",
        "start_time = time.time()  # Start timing before the request\n",
        "\n",
        "# Function to calculate the size of a batch\n",
        "def get_batch_size(data, limit=4000000):  # limit set to 4MB to be safe\n",
        "    total_size = 0\n",
        "    batch_size = 0\n",
        "    for item in data:\n",
        "        item_size = sum([sys.getsizeof(v) for v in item.values()])\n",
        "        if total_size + item_size > limit:\n",
        "            break\n",
        "        total_size += item_size\n",
        "        batch_size += 1\n",
        "    return batch_size\n",
        "\n",
        "def batch_upsert(data):\n",
        "    total = len(data)\n",
        "    i = 0\n",
        "    while i < total:\n",
        "        batch_size = get_batch_size(data[i:])\n",
        "        batch = data[i:i + batch_size]\n",
        "        if batch:\n",
        "            upsert_to_pinecone(batch,batch_size)\n",
        "            i += batch_size\n",
        "            print(f\"Upserted {i}/{total} items...\")  # Display current progress\n",
        "        else:\n",
        "            break\n",
        "    print(\"Upsert complete.\")\n",
        "\n",
        "# Generate IDs for each data item\n",
        "ids = [str(i) for i in range(1, len(duplicated_chunks) + 1)]\n",
        "\n",
        "# Prepare data for upsert\n",
        "data_for_upsert = [\n",
        "    {\"id\": str(id), \"values\": emb, \"metadata\": {\"text\": chunk}}\n",
        "    for id, (chunk, emb) in zip(ids, zip(duplicated_chunks, duplicated_embeddings))\n",
        "]\n",
        "\n",
        "# Upsert data in batches\n",
        "batch_upsert(data_for_upsert)\n",
        "\n",
        "response_time = time.time() - start_time  # Measure response time\n",
        "print(f\"Upsertion response time: {response_time:.2f} seconds\")  # Print response time"
      ]
    },
    {
      "cell_type": "code",
      "execution_count": 25,
      "metadata": {
        "colab": {
          "base_uri": "https://localhost:8080/"
        },
        "id": "xcM6mf7hvqCU",
        "outputId": "45a65efe-3ff1-4dfa-8442-dc3dd16e1956"
      },
      "outputs": [
        {
          "output_type": "stream",
          "name": "stdout",
          "text": [
            "Index stats\n",
            "{'dimension': 1536,\n",
            " 'index_fullness': 0.0,\n",
            " 'namespaces': {'': {'vector_count': 50000}},\n",
            " 'total_vector_count': 50000}\n"
          ]
        }
      ],
      "source": [
        "print(\"Index stats\")\n",
        "print(index.describe_index_stats(include_metadata=True))"
      ]
    },
    {
      "cell_type": "markdown",
      "metadata": {
        "id": "RjZQjENc3gd8"
      },
      "source": [
        "## Querying the index"
      ]
    },
    {
      "cell_type": "code",
      "execution_count": 26,
      "metadata": {
        "id": "tpOyd2snbY0G"
      },
      "outputs": [],
      "source": [
        "# Print the query results along with metadata\n",
        "def display_results(query_results):\n",
        "  for match in query_results['matches']:\n",
        "    print(f\"ID: {match['id']}, Score: {match['score']}\")\n",
        "    if 'metadata' in match and 'text' in match['metadata']:\n",
        "        print(f\"Text: {match['metadata']['text']}\")\n",
        "    else:\n",
        "        print(\"No metadata available.\")"
      ]
    },
    {
      "cell_type": "code",
      "execution_count": 27,
      "metadata": {
        "id": "DT6wytGz5hTS"
      },
      "outputs": [],
      "source": [
        "embedding_model = \"text-embedding-3-small\"\n",
        "def get_embedding(text, model=embedding_model):\n",
        "    text = text.replace(\"\\n\", \" \")\n",
        "    response = client.embeddings.create(input=[text], model=model)\n",
        "    embedding = response.data[0].embedding\n",
        "    return embedding"
      ]
    },
    {
      "cell_type": "code",
      "execution_count": 28,
      "metadata": {
        "colab": {
          "base_uri": "https://localhost:8080/"
        },
        "id": "D9yhZEvStqye",
        "outputId": "3dd948c7-4572-466d-94a1-2453a6a89135"
      },
      "outputs": [
        {
          "output_type": "stream",
          "name": "stdout",
          "text": [
            "Querying vector store\n",
            "processed query results\n",
            "ID: 1686, Score: 0.824840188\n",
            "Text: CustomerId: 15648064 CreditScore: 649 Age: 33 Tenure: 2 Balance: 0.0 NumOfProducts: 2 HasCrCard: 1 IsActiveMember: 0 EstimatedSalary: 2010.98 Exited: 0 Complain: 0 Satisfaction Score: 3 Card Type: DIAMOND Point Earned: 720\n",
            "Querying response time: 0.52 seconds\n"
          ]
        }
      ],
      "source": [
        "import openai\n",
        "# Initialize the OpenAI client\n",
        "client = openai.OpenAI()\n",
        "\n",
        "print(\"Querying vector store\")\n",
        "start_time = time.time()  # Start timing before the request\n",
        "query_text = \"Customer Robertson CreditScore 632Age 21 Tenure 2Balance 0.0NumOfProducts 1HasCrCard 1IsActiveMember 1EstimatedSalary 99000 Exited 1Complain 1Satisfaction Score 2Card Type DIAMONDPoint Earned 399\"\n",
        "query_embedding = get_embedding(query_text,model=embedding_model)\n",
        "query_results = index.query(vector=query_embedding, top_k=1, include_metadata=True)  # Request metadata\n",
        "#print(\"raw query_results\",query_results)\n",
        "print(\"processed query results\")\n",
        "display_results(query_results) #display results\n",
        "response_time = time.time() - start_time              # Measure response time\n",
        "print(f\"Querying response time: {response_time:.2f} seconds\")  # Print response time"
      ]
    },
    {
      "cell_type": "code",
      "execution_count": null,
      "metadata": {
        "id": "Pv0VrkncAHQ9"
      },
      "outputs": [],
      "source": [
        "# Close the Pinecone client (optional but good practice)\n",
        "#pc.deinit()"
      ]
    }
  ],
  "metadata": {
    "colab": {
      "collapsed_sections": [
        "8QGI1D8FVrT6"
      ],
      "provenance": [],
      "toc_visible": true
    },
    "gpuClass": "standard",
    "kernelspec": {
      "display_name": "Python 3",
      "name": "python3"
    },
    "language_info": {
      "name": "python"
    }
  },
  "nbformat": 4,
  "nbformat_minor": 0
}