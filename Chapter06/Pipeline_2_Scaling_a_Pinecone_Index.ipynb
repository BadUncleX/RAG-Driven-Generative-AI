{
  "cells": [
    {
      "cell_type": "markdown",
      "metadata": {
        "id": "GFLLl1Agum8O"
      },
      "source": [
        "# Pipelines 2: Scaling the Pinecone vector store\n",
        "\n",
        "copyright 2024, Denis Rothman\n",
        "\n",
        "\n",
        "\n"
      ]
    },
    {
      "cell_type": "markdown",
      "source": [
        "#Installing the environment"
      ],
      "metadata": {
        "id": "8QGI1D8FVrT6"
      }
    },
    {
      "cell_type": "code",
      "execution_count": 18,
      "metadata": {
        "colab": {
          "base_uri": "https://localhost:8080/"
        },
        "id": "xoCE_RrKVrT7",
        "outputId": "151f0273-8284-4f0e-a799-4e9d17987daa"
      },
      "outputs": [
        {
          "output_type": "stream",
          "name": "stdout",
          "text": [
            "Drive already mounted at /content/drive; to attempt to forcibly remount, call drive.mount(\"/content/drive\", force_remount=True).\n"
          ]
        }
      ],
      "source": [
        "#API Key\n",
        "#Store you key in a file and read it(you can type it directly in the notebook but it will be visible for somebody next to you)\n",
        "from google.colab import drive\n",
        "drive.mount('/content/drive')"
      ]
    },
    {
      "cell_type": "code",
      "execution_count": 19,
      "metadata": {
        "colab": {
          "base_uri": "https://localhost:8080/"
        },
        "outputId": "a72c257b-82a2-483c-df30-dcf00efaa2fa",
        "id": "Z2abuU9OkVFL",
        "collapsed": true
      },
      "outputs": [
        {
          "output_type": "stream",
          "name": "stdout",
          "text": [
            "Requirement already satisfied: openai==1.33.0 in /usr/local/lib/python3.10/dist-packages (1.33.0)\n",
            "Requirement already satisfied: anyio<5,>=3.5.0 in /usr/local/lib/python3.10/dist-packages (from openai==1.33.0) (3.7.1)\n",
            "Requirement already satisfied: distro<2,>=1.7.0 in /usr/lib/python3/dist-packages (from openai==1.33.0) (1.7.0)\n",
            "Requirement already satisfied: httpx<1,>=0.23.0 in /usr/local/lib/python3.10/dist-packages (from openai==1.33.0) (0.27.0)\n",
            "Requirement already satisfied: pydantic<3,>=1.9.0 in /usr/local/lib/python3.10/dist-packages (from openai==1.33.0) (2.7.3)\n",
            "Requirement already satisfied: sniffio in /usr/local/lib/python3.10/dist-packages (from openai==1.33.0) (1.3.1)\n",
            "Requirement already satisfied: tqdm>4 in /usr/local/lib/python3.10/dist-packages (from openai==1.33.0) (4.66.4)\n",
            "Requirement already satisfied: typing-extensions<5,>=4.7 in /usr/local/lib/python3.10/dist-packages (from openai==1.33.0) (4.12.2)\n",
            "Requirement already satisfied: idna>=2.8 in /usr/local/lib/python3.10/dist-packages (from anyio<5,>=3.5.0->openai==1.33.0) (3.7)\n",
            "Requirement already satisfied: exceptiongroup in /usr/local/lib/python3.10/dist-packages (from anyio<5,>=3.5.0->openai==1.33.0) (1.2.1)\n",
            "Requirement already satisfied: certifi in /usr/local/lib/python3.10/dist-packages (from httpx<1,>=0.23.0->openai==1.33.0) (2024.6.2)\n",
            "Requirement already satisfied: httpcore==1.* in /usr/local/lib/python3.10/dist-packages (from httpx<1,>=0.23.0->openai==1.33.0) (1.0.5)\n",
            "Requirement already satisfied: h11<0.15,>=0.13 in /usr/local/lib/python3.10/dist-packages (from httpcore==1.*->httpx<1,>=0.23.0->openai==1.33.0) (0.14.0)\n",
            "Requirement already satisfied: annotated-types>=0.4.0 in /usr/local/lib/python3.10/dist-packages (from pydantic<3,>=1.9.0->openai==1.33.0) (0.7.0)\n",
            "Requirement already satisfied: pydantic-core==2.18.4 in /usr/local/lib/python3.10/dist-packages (from pydantic<3,>=1.9.0->openai==1.33.0) (2.18.4)\n",
            "Requirement already satisfied: pinecone-client==4.1.1 in /usr/local/lib/python3.10/dist-packages (4.1.1)\n",
            "Requirement already satisfied: certifi>=2019.11.17 in /usr/local/lib/python3.10/dist-packages (from pinecone-client==4.1.1) (2024.6.2)\n",
            "Requirement already satisfied: pinecone-plugin-interface<0.0.8,>=0.0.7 in /usr/local/lib/python3.10/dist-packages (from pinecone-client==4.1.1) (0.0.7)\n",
            "Requirement already satisfied: tqdm>=4.64.1 in /usr/local/lib/python3.10/dist-packages (from pinecone-client==4.1.1) (4.66.4)\n",
            "Requirement already satisfied: typing-extensions>=3.7.4 in /usr/local/lib/python3.10/dist-packages (from pinecone-client==4.1.1) (4.12.2)\n",
            "Requirement already satisfied: urllib3>=1.26.0 in /usr/local/lib/python3.10/dist-packages (from pinecone-client==4.1.1) (2.0.7)\n"
          ]
        }
      ],
      "source": [
        "!pip install openai==1.33.0\n",
        "!pip install pinecone-client==4.1.1"
      ]
    },
    {
      "cell_type": "code",
      "source": [
        "f = open(\"drive/MyDrive/files/pinecone.txt\", \"r\")\n",
        "PINECONE_API_KEY=f.readline()\n",
        "f.close()"
      ],
      "metadata": {
        "id": "xotquvXHRxrU"
      },
      "execution_count": 20,
      "outputs": []
    },
    {
      "cell_type": "code",
      "source": [
        "f = open(\"drive/MyDrive/files/api_key.txt\", \"r\")\n",
        "API_KEY=f.readline()\n",
        "f.close()"
      ],
      "metadata": {
        "id": "I8lwM8XMd9bz"
      },
      "execution_count": 21,
      "outputs": []
    },
    {
      "cell_type": "code",
      "source": [
        "#The OpenAI Key\n",
        "import os\n",
        "import openai\n",
        "os.environ['OPENAI_API_KEY'] =API_KEY\n",
        "openai.api_key = os.getenv(\"OPENAI_API_KEY\")"
      ],
      "metadata": {
        "id": "UbKxUEHiZNyX"
      },
      "execution_count": 22,
      "outputs": []
    },
    {
      "cell_type": "markdown",
      "source": [
        "# Processing bank churn dataset"
      ],
      "metadata": {
        "id": "cVjOmtIiY1yf"
      }
    },
    {
      "cell_type": "markdown",
      "source": [
        "RangeIndex: 10000 entries, 0 to 9999\n",
        "Data columns (total 14 columns):\n",
        "    Column              Non-Null Count  Dtype  \n",
        "---  ------              --------------  -----  \n",
        " 0   CustomerId          10000 non-null  int64  \n",
        " 1   CreditScore         10000 non-null  int64  \n",
        " 2   Age                 10000 non-null  int64  \n",
        " 3   Tenure              10000 non-null  int64  \n",
        " 4   Balance             10000 non-null  float64  \n",
        " 5   NumOfProducts       10000 non-null  int64  \n",
        " 6   HasCrCard           10000 non-null  int64  \n",
        " 7   IsActiveMember      10000 non-null  int64  \n",
        " 8   EstimatedSalary     10000 non-null  float64  \n",
        " 9   Exited              10000 non-null  int64  \n",
        " 10  Complain            10000 non-null  int64  \n",
        " 11  Satisfaction Score  10000 non-null  int64  \n",
        " 12  Card Type           10000 non-null  object   \n",
        " 13  Point Earned        10000 non-null  int64    \n",
        "dtypes: float64(2), int64(11), object(1)\n",
        "memory usage: 1.1+ MB"
      ],
      "metadata": {
        "id": "M0QfuYcVSUYx"
      }
    },
    {
      "cell_type": "code",
      "source": [
        "!cp /content/drive/MyDrive/files/rag_c6/data1.csv /content/data1.csv"
      ],
      "metadata": {
        "id": "Gl43WeHTYMVi"
      },
      "execution_count": null,
      "outputs": []
    },
    {
      "cell_type": "code",
      "source": [
        "import pandas as pd\n",
        "# Load the CSV file\n",
        "file_path = '/content/data1.csv'\n",
        "data1 = pd.read_csv(file_path)"
      ],
      "metadata": {
        "id": "f8xEic_3fTg-"
      },
      "execution_count": null,
      "outputs": []
    },
    {
      "cell_type": "code",
      "source": [
        "# Count the chunks\n",
        "number_of_lines = len(data1)\n",
        "print(\"Number of lines: \",number_of_lines)"
      ],
      "metadata": {
        "id": "V_9qm9wLLHRj",
        "colab": {
          "base_uri": "https://localhost:8080/"
        },
        "outputId": "07c2d082-38b0-4e04-f403-74e6ec4d0e84"
      },
      "execution_count": null,
      "outputs": [
        {
          "output_type": "stream",
          "name": "stdout",
          "text": [
            "Number of lines:  10000\n"
          ]
        }
      ]
    },
    {
      "cell_type": "code",
      "source": [
        "import pandas as pd\n",
        "\n",
        "# Initialize an empty list to store the lines\n",
        "output_lines = []\n",
        "\n",
        "# Iterate over each row in the DataFrame\n",
        "for index, row in data1.iterrows():\n",
        "    # Create a list of \"column_name: value\" for each column in the row\n",
        "    row_data = [f\"{col}: {row[col]}\" for col in data1.columns]\n",
        "    # Join the list into a single string separated by spaces\n",
        "    line = ' '.join(row_data)\n",
        "    # Append the line to the output list\n",
        "    output_lines.append(line)\n",
        "\n",
        "# Display or further process `output_lines` as needed\n",
        "for line in output_lines[:5]:  # Displaying first 5 lines for preview\n",
        "    print(line)"
      ],
      "metadata": {
        "id": "0BiYzIT5zvtx",
        "colab": {
          "base_uri": "https://localhost:8080/"
        },
        "outputId": "c4c1319b-278c-48f9-dd03-6eddc81a3f90"
      },
      "execution_count": null,
      "outputs": [
        {
          "output_type": "stream",
          "name": "stdout",
          "text": [
            "CustomerId: 15634602 CreditScore: 619 Age: 42 Tenure: 2 Balance: 0.0 NumOfProducts: 1 HasCrCard: 1 IsActiveMember: 1 EstimatedSalary: 101348.88 Exited: 1 Complain: 1 Satisfaction Score: 2 Card Type: DIAMOND Point Earned: 464\n",
            "CustomerId: 15647311 CreditScore: 608 Age: 41 Tenure: 1 Balance: 83807.86 NumOfProducts: 1 HasCrCard: 0 IsActiveMember: 1 EstimatedSalary: 112542.58 Exited: 0 Complain: 1 Satisfaction Score: 3 Card Type: DIAMOND Point Earned: 456\n",
            "CustomerId: 15619304 CreditScore: 502 Age: 42 Tenure: 8 Balance: 159660.8 NumOfProducts: 3 HasCrCard: 1 IsActiveMember: 0 EstimatedSalary: 113931.57 Exited: 1 Complain: 1 Satisfaction Score: 3 Card Type: DIAMOND Point Earned: 377\n",
            "CustomerId: 15701354 CreditScore: 699 Age: 39 Tenure: 1 Balance: 0.0 NumOfProducts: 2 HasCrCard: 0 IsActiveMember: 0 EstimatedSalary: 93826.63 Exited: 0 Complain: 0 Satisfaction Score: 5 Card Type: GOLD Point Earned: 350\n",
            "CustomerId: 15737888 CreditScore: 850 Age: 43 Tenure: 2 Balance: 125510.82 NumOfProducts: 1 HasCrCard: 1 IsActiveMember: 1 EstimatedSalary: 79084.1 Exited: 0 Complain: 0 Satisfaction Score: 5 Card Type: GOLD Point Earned: 425\n"
          ]
        }
      ]
    },
    {
      "cell_type": "code",
      "source": [
        "lines = output_lines.copy()"
      ],
      "metadata": {
        "id": "Q0uvjtB-0AxM"
      },
      "execution_count": null,
      "outputs": []
    },
    {
      "cell_type": "code",
      "source": [
        "# Count the lines\n",
        "number_of_lines = len(lines)\n",
        "print(\"Number of lines: \",number_of_lines)"
      ],
      "metadata": {
        "id": "WpCX9sHBLFZE",
        "colab": {
          "base_uri": "https://localhost:8080/"
        },
        "outputId": "07f22916-c003-4999-f6b8-947fb12f7c35"
      },
      "execution_count": null,
      "outputs": [
        {
          "output_type": "stream",
          "name": "stdout",
          "text": [
            "Number of lines:  10000\n"
          ]
        }
      ]
    },
    {
      "cell_type": "markdown",
      "source": [
        "# Chunking and embedding the dataset"
      ],
      "metadata": {
        "id": "eIb_dIfe1fOq"
      }
    },
    {
      "cell_type": "markdown",
      "source": [
        "## Chunking"
      ],
      "metadata": {
        "id": "e2GXkdHLS-Uq"
      }
    },
    {
      "cell_type": "code",
      "source": [
        "import time\n",
        "start_time = time.time()  # Start timing before the request"
      ],
      "metadata": {
        "id": "oczHPQ8yo2f1"
      },
      "execution_count": null,
      "outputs": []
    },
    {
      "cell_type": "code",
      "source": [
        "# Initialize an empty list for the chunks\n",
        "chunks = []\n",
        "\n",
        "# Add each line as a separate chunk to the chunks list\n",
        "for line in lines:\n",
        "    chunks.append(line)  # Each line becomes its own chunk\n",
        "\n",
        "# Now, each line is treated as a separate chunk\n",
        "print(f\"Total number of chunks: {len(chunks)}\")"
      ],
      "metadata": {
        "id": "7lJfNBhbL7c_",
        "colab": {
          "base_uri": "https://localhost:8080/"
        },
        "outputId": "92fe17d9-7533-4b8c-e803-4ec0560bdce0"
      },
      "execution_count": null,
      "outputs": [
        {
          "output_type": "stream",
          "name": "stdout",
          "text": [
            "Total number of chunks: 10000\n"
          ]
        }
      ]
    },
    {
      "cell_type": "code",
      "source": [
        "response_time = time.time() - start_time  # Measure response time\n",
        "print(f\"Response Time: {response_time:.2f} seconds\")  # Print response time"
      ],
      "metadata": {
        "id": "uJtvSxjQS84J",
        "colab": {
          "base_uri": "https://localhost:8080/"
        },
        "outputId": "0c59ea97-019f-47c9-c55d-c0717482705b"
      },
      "execution_count": null,
      "outputs": [
        {
          "output_type": "stream",
          "name": "stdout",
          "text": [
            "Response Time: 0.03 seconds\n"
          ]
        }
      ]
    },
    {
      "cell_type": "code",
      "source": [
        "# Print the length and content of the first 10 chunks\n",
        "for i in range(3):\n",
        "    print(len(chunks[i]))\n",
        "    print(chunks[i])"
      ],
      "metadata": {
        "id": "iHwXHAO5DsaC",
        "colab": {
          "base_uri": "https://localhost:8080/"
        },
        "outputId": "b7d4f830-68fb-4ef5-f164-83185a72c380"
      },
      "execution_count": null,
      "outputs": [
        {
          "output_type": "stream",
          "name": "stdout",
          "text": [
            "224\n",
            "CustomerId: 15634602 CreditScore: 619 Age: 42 Tenure: 2 Balance: 0.0 NumOfProducts: 1 HasCrCard: 1 IsActiveMember: 1 EstimatedSalary: 101348.88 Exited: 1 Complain: 1 Satisfaction Score: 2 Card Type: DIAMOND Point Earned: 464\n",
            "229\n",
            "CustomerId: 15647311 CreditScore: 608 Age: 41 Tenure: 1 Balance: 83807.86 NumOfProducts: 1 HasCrCard: 0 IsActiveMember: 1 EstimatedSalary: 112542.58 Exited: 0 Complain: 1 Satisfaction Score: 3 Card Type: DIAMOND Point Earned: 456\n",
            "229\n",
            "CustomerId: 15619304 CreditScore: 502 Age: 42 Tenure: 8 Balance: 159660.8 NumOfProducts: 3 HasCrCard: 1 IsActiveMember: 0 EstimatedSalary: 113931.57 Exited: 1 Complain: 1 Satisfaction Score: 3 Card Type: DIAMOND Point Earned: 377\n"
          ]
        }
      ]
    },
    {
      "cell_type": "markdown",
      "source": [
        "## Embedding"
      ],
      "metadata": {
        "id": "xnpKzYzRpXfn"
      }
    },
    {
      "cell_type": "markdown",
      "metadata": {
        "id": "6yqQN39zo3-6"
      },
      "source": [
        "### Initializing the embedding model\n"
      ]
    },
    {
      "cell_type": "code",
      "source": [
        "import openai\n",
        "import time\n",
        "\n",
        "#embedding_model=\"text-embedding-3-small\"\n",
        "#embedding_model=\"text-embedding-3-large\"\n",
        "embedding_model=\"text-embedding-ada-002\"\n",
        "\n",
        "# Initialize the OpenAI client\n",
        "client = openai.OpenAI()\n",
        "\n",
        "def get_embedding(text, model=embedding_model):\n",
        "    text = text.replace(\"\\n\", \" \")\n",
        "    response = client.embeddings.create(input=[text], model=model)\n",
        "    embedding = response.data[0].embedding\n",
        "    return embedding\n",
        "'''\n",
        "# Uncomment the code to choose the best embedding model for a project\n",
        "# Chunk\n",
        "text = \"CustomerId: 15634602 CreditScore: 619 Age: 42 Tenure: 2 Balance: 0.0 NumOfProducts: 1 HasCrCard: 1 IsActiveMember: 1 EstimatedSalary: 101348.88 Exited: 1 Complain: 1 Satisfaction Score: 2 Card Type: DIAMOND Point Earned: 464\"\n",
        "\n",
        "\n",
        "for t in range(10):\n",
        "  # Choose the best embedding model for a project\n",
        "  start_time = time.time()  # Start timing before the request\n",
        "  embedding_model=\"text-embedding-ada-002\"\n",
        "  embedding = get_embedding(text,model=embedding_model)\n",
        "  response_time = time.time() - start_time  # Measure response time\n",
        "  print(\"Embedding:\", embedding)\n",
        "  print(f\"ada response Time: {response_time:.2f} seconds\")  # Print response time\n",
        "\n",
        "  start_time = time.time()  # Start timing before the request\n",
        "  embedding_model=\"text-embedding-3-small\"\n",
        "  embedding = get_embedding(text,model=embedding_model)\n",
        "  response_time = time.time() - start_time  # Measure response time\n",
        "  print(\"Embedding:\", embedding)\n",
        "  print(f\"Text-small response Time: {response_time:.2f} seconds\")  # Print response time\n",
        "\n",
        "  start_time = time.time()  # Start timing before the request\n",
        "  embedding_model=\"text-embedding-3-large\"\n",
        "  embedding = get_embedding(text,model=embedding_model)\n",
        "  response_time = time.time() - start_time  # Measure response time\n",
        "  print(\"Embedding:\", embedding)\n",
        "  print(f\"Text-large response Time: {response_time:.2f} seconds\")  # Print response time\n",
        "'''"
      ],
      "metadata": {
        "colab": {
          "base_uri": "https://localhost:8080/",
          "height": 157
        },
        "id": "nKl3UiJ3-pXE",
        "outputId": "8aabdec6-0d5c-4a29-c699-99ccb7394906"
      },
      "execution_count": 23,
      "outputs": [
        {
          "output_type": "execute_result",
          "data": {
            "text/plain": [
              "'\\n# Uncomment the code to choose the best embedding model for a project\\n# Chunk\\ntext = \"CustomerId: 15634602 CreditScore: 619 Age: 42 Tenure: 2 Balance: 0.0 NumOfProducts: 1 HasCrCard: 1 IsActiveMember: 1 EstimatedSalary: 101348.88 Exited: 1 Complain: 1 Satisfaction Score: 2 Card Type: DIAMOND Point Earned: 464\"\\n\\n\\nfor t in range(10):\\n  # Choose the best embedding model for a project\\n  start_time = time.time()  # Start timing before the request\\n  embedding_model=\"text-embedding-ada-002\"\\n  embedding = get_embedding(text,model=embedding_model)\\n  response_time = time.time() - start_time  # Measure response time\\n  print(\"Embedding:\", embedding)\\n  print(f\"ada response Time: {response_time:.2f} seconds\")  # Print response time\\n\\n  start_time = time.time()  # Start timing before the request\\n  embedding_model=\"text-embedding-3-small\"\\n  embedding = get_embedding(text,model=embedding_model)\\n  response_time = time.time() - start_time  # Measure response time\\n  print(\"Embedding:\", embedding)\\n  print(f\"Text-small response Time: {response_time:.2f} seconds\")  # Print response time\\n\\n  start_time = time.time()  # Start timing before the request\\n  embedding_model=\"text-embedding-3-large\"\\n  embedding = get_embedding(text,model=embedding_model)\\n  response_time = time.time() - start_time  # Measure response time\\n  print(\"Embedding:\", embedding)\\n  print(f\"Text-large response Time: {response_time:.2f} seconds\")  # Print response time\\n'"
            ],
            "application/vnd.google.colaboratory.intrinsic+json": {
              "type": "string"
            }
          },
          "metadata": {},
          "execution_count": 23
        }
      ]
    },
    {
      "cell_type": "markdown",
      "source": [
        "### Embedding"
      ],
      "metadata": {
        "id": "RCAEGyrve2pW"
      }
    },
    {
      "cell_type": "code",
      "source": [
        "import openai\n",
        "import time\n",
        "\n",
        "# Initialize the OpenAI client\n",
        "client = openai.OpenAI()\n",
        "\n",
        "# Initialize variables\n",
        "start_time = time.time()  # Start timing before the request\n",
        "chunk_start = 0\n",
        "chunk_end = 1000\n",
        "pause_time = 3\n",
        "embeddings = []\n",
        "counter = 1\n",
        "\n",
        "while chunk_end <= len(chunks):\n",
        "    # Select the current batch of chunks\n",
        "    chunks_to_embed = chunks[chunk_start:chunk_end]\n",
        "\n",
        "    # Initialize an empty list to store the embeddings\n",
        "    current_embeddings = []\n",
        "    ecounter = 0  # Initialize a counter to track progress of each embedding processed\n",
        "    # Loop over each chunk\n",
        "    for chunk in chunks_to_embed:\n",
        "      #print(f\"Processing chunk {ecounter + 1}/{len(chunks_to_embed)}...\")\n",
        "      embedding = get_embedding(chunk, model=embedding_model)\n",
        "      current_embeddings.append(embedding)\n",
        "      ecounter += 1  # Increment the counter after processing each chunk\n",
        "\n",
        "    print(\"All chunks processed.\")\n",
        "\n",
        "    # Append the embeddings to the list\n",
        "    embeddings.extend(current_embeddings)\n",
        "\n",
        "    # Print counter and sleep\n",
        "    print(f\"Batch {counter} embedded.\")\n",
        "    counter += 1\n",
        "    time.sleep(pause_time)\n",
        "\n",
        "    # Update the chunk indices\n",
        "    chunk_start += 1000\n",
        "    chunk_end += 1000\n",
        "\n",
        "# Process the remaining chunks if any\n",
        "if chunk_end < len(chunks):\n",
        "    remaining_chunks = chunks[chunk_end:]\n",
        "    remaining_embeddings = [get_embedding(chunk, model=embedding_model) for chunk in remaining_chunks]\n",
        "    embeddings.extend(remaining_embeddings)\n",
        "\n",
        "response_time = time.time() - start_time  # Measure response time\n",
        "print(f\"Response Time: {response_time:.2f} seconds\")  # Print response time"
      ],
      "metadata": {
        "colab": {
          "base_uri": "https://localhost:8080/"
        },
        "id": "vIUcZJBx6nBd",
        "outputId": "bf6fbcb6-31e8-422e-85ea-0e1a31a9f8c8"
      },
      "execution_count": 24,
      "outputs": [
        {
          "output_type": "stream",
          "name": "stdout",
          "text": [
            "All chunks processed.\n",
            "Batch 1 embedded.\n",
            "All chunks processed.\n",
            "Batch 2 embedded.\n",
            "All chunks processed.\n",
            "Batch 3 embedded.\n",
            "All chunks processed.\n",
            "Batch 4 embedded.\n",
            "All chunks processed.\n",
            "Batch 5 embedded.\n",
            "All chunks processed.\n",
            "Batch 6 embedded.\n",
            "All chunks processed.\n",
            "Batch 7 embedded.\n",
            "All chunks processed.\n",
            "Batch 8 embedded.\n",
            "All chunks processed.\n",
            "Batch 9 embedded.\n",
            "All chunks processed.\n",
            "Batch 10 embedded.\n",
            "Response Time: 3437.69 seconds\n"
          ]
        }
      ]
    },
    {
      "cell_type": "code",
      "source": [
        "print(\"First embedding:\", embeddings[0])"
      ],
      "metadata": {
        "id": "W1r5SVLu768D",
        "colab": {
          "base_uri": "https://localhost:8080/"
        },
        "outputId": "3a3a0545-dc4e-434f-994b-bdccde020a80"
      },
      "execution_count": null,
      "outputs": [
        {
          "output_type": "stream",
          "name": "stdout",
          "text": [
            "First embedding overall structure: [-0.024449337273836136, -0.00936567410826683, 0.021215716376900673, -0.043824780732393265, -0.01115993969142437, 0.004347644280642271, -0.01975664310157299, 0.005810003727674484, -0.025146013125777245, -0.017167115584015846, 0.017206549644470215, 0.013033074326813221, -0.014761616475880146, -0.03141608461737633, 0.005382797680795193, 0.026026714593172073, 0.008866171352565289, -0.016076097264885902, 0.006907595321536064, -0.014827340841293335, -0.04198450967669487, 0.00994404498487711, -0.0409066341817379, 0.005885586608201265, -0.00723621528595686, -0.023923546075820923, 0.008787302300333977, -0.002464650897309184, 0.009733728133141994, -0.015182250179350376, 0.014051796868443489, -0.0027801264077425003, -0.01695679873228073, -0.008695288561284542, -0.019388588145375252, 0.004209624137729406, -0.003404504619538784, 0.02773553878068924, 0.016102386638522148, 0.005642407573759556, 0.019204560667276382, 0.008195785805583, -0.005287497770041227, 0.012487565167248249, 0.003808707231655717, 0.017587749287486076, -0.014051796868443489, -0.008346951566636562, -0.012546716257929802, 0.02755151130259037, 0.0014089588075876236, 0.013486570678651333, 0.009069915860891342, -0.001017079339362681, 0.0021113844122737646, -0.0063555133529007435, 0.0022822667378932238, 0.027341194450855255, -0.02465965412557125, -0.012750460766255856, 0.007374235894531012, -0.002006225986406207, -0.008208930492401123, -0.01485363021492958, -0.028313910588622093, -0.021780941635370255, -0.015300553292036057, 0.02050589583814144, -0.0145907336845994, 0.030995450913906097, 0.01626012474298477, 0.021491756662726402, 0.007039043121039867, 0.017390577122569084, 0.003371642669662833, -0.0035425249952822924, -0.004804426338523626, -0.0020078690722584724, -0.008701860904693604, 0.0031383223831653595, 0.017311709001660347, -0.0245150625705719, -0.019953815266489983, -0.005290783941745758, 0.025224881246685982, 0.03591160848736763, -0.004784709308296442, 0.010298955254256725, -0.015681752935051918, -0.004682837054133415, 0.02175465226173401, 0.023029698058962822, 0.005402515176683664, 0.011935483664274216, 0.0021393171045929193, 0.008406102657318115, -0.018060961738228798, 0.004140613600611687, -0.0074596768245100975, -0.01626012474298477, 0.0019930810667574406, -0.0035425249952822924, -0.013815190643072128, -0.010298955254256725, -0.022425038740038872, 0.002964153653010726, -0.01718026027083397, -0.027945855632424355, 0.004127468913793564, -0.00891875009983778, 0.0115805733948946, 0.025435198098421097, 0.021518046036362648, -0.020939674228429794, 0.008925322443246841, 0.013644307851791382, 0.022609064355492592, -0.0057902866974473, -0.006437668576836586, -0.00864270981401205, 0.018455306068062782, 0.011856614612042904, 0.018271278589963913, -0.009983479976654053, 0.00019316702673677355, 0.011495131999254227, 0.002768624573945999, -0.01633899286389351, 0.01626012474298477, 0.019953815266489983, -0.0010918404441326857, -0.011074498295783997, -0.00807748269289732, 0.018337003886699677, -0.006841870956122875, 0.024015558883547783, -0.02072935737669468, 0.03725237771868706, 0.005395942367613316, -0.017824355512857437, -0.004465947393327951, 0.03541210666298866, -0.0010630860924720764, 0.000870843359734863, 0.012152372859418392, 0.01176460087299347, 0.0147353271022439, 0.006237210240215063, 0.0026191023644059896, -0.014866774901747704, -0.0006482031894847751, 0.02129458449780941, 0.033598121255636215, 0.03209961578249931, 0.003667400684207678, 0.0023939977400004864, 0.007992041297256947, 0.0396973118185997, -0.015090236440300941, -0.013539149425923824, -0.03259911760687828, 0.03254653885960579, -0.001291477121412754, -0.02007211744785309, 0.004327927250415087, 0.02784069813787937, -0.0008626278722658753, -0.024725379422307014, 0.0026733248960226774, 0.003158039413392544, 0.008721577934920788, 0.01545829139649868, 0.0050903260707855225, 0.035228077322244644, 0.02021671086549759, 0.0015354775823652744, 0.00039126334013417363, -0.014630168676376343, -0.024304745718836784, -0.03769930079579353, 0.005517532117664814, 0.013657452538609505, 0.019020533189177513, 0.012060359120368958, 0.014393561519682407, -0.005648979917168617, 0.021544335409998894, -0.00332070654258132, 0.019953815266489983, -0.04637487232685089, -0.0063062203116714954, 0.03517549857497215, 0.00789345521479845, -0.008011759258806705, -0.6418871283531189, -0.02936549484729767, -0.016417860984802246, 0.01569489762187004, -0.007742290385067463, 0.0042687756940722466, 0.007512256037443876, 0.016312703490257263, -0.019178271293640137, -0.005372939165681601, -0.007545118220150471, -0.0037429833319038153, -0.005340076982975006, 0.0017252557445317507, -0.01966462843120098, -0.030758844688534737, 0.008110345341265202, 0.008813591673970222, -0.017495736479759216, 0.013092226348817348, -0.011823751963675022, 0.006835298612713814, -0.0021853239741176367, 0.014156955294311047, 0.007203353103250265, -0.024120718240737915, 0.013079081661999226, -0.0005927485763095319, -0.0032352651469409466, -4.490285937208682e-05, 0.006546113174408674, 0.019270284101366997, 0.016983088105916977, 0.0072756498120725155, 0.04293093457818031, -0.020387593656778336, 0.016128676012158394, 0.02905002050101757, -0.014354127459228039, 0.03025934100151062, -0.03236250951886177, -0.000412007502745837, 0.01371003221720457, -0.01867876760661602, 0.013072509318590164, 0.0054123736917972565, -0.003844855586066842, -0.008340379223227501, -0.0018846364691853523, 0.021044833585619926, -0.007019326090812683, 0.006316078826785088, -0.011685731820762157, 0.0057607111521065235, 0.00730851199477911, -0.012632157653570175, 0.017522025853395462, -0.0015387637540698051, -0.01001634169369936, -0.00903705321252346, -0.016365282237529755, -0.009319666773080826, 0.013696887530386448, -0.01812668703496456, -0.023739518597722054, 0.015589739196002483, -0.02003268338739872, 0.015247974544763565, 0.017863789573311806, 0.009674577042460442, -0.004965450149029493, 0.008412675000727177, 0.0004978594952262938, -0.008931894786655903, 0.019559470936655998, 0.014327838085591793, 0.044797495007514954, -0.0009045269107446074, -0.007834304124116898, 0.032809432595968246, -0.00845210999250412, 0.0013670597691088915, 0.016917364671826363, -0.02228044532239437, -0.020952818915247917, -0.005320359952747822, -0.013000212609767914, -0.00989803858101368, -0.012941060587763786, 0.008373240940272808, 0.02114999108016491, -0.016312703490257263, 0.00845210999250412, -0.01214580051600933, 0.00664469925686717, 0.017640328034758568, -0.003936869092285633, -0.014262113720178604, -0.005990745034068823, -0.033966176211833954, -0.0025451630353927612, -0.0023348459508270025, 0.015497725456953049, 0.0017433298053219914, 0.019217705354094505, 0.012586151249706745, -0.019165126606822014, -0.020650489255785942, 0.036595139652490616, -0.04040713235735893, -0.009378818795084953, -0.024961985647678375, -0.016181254759430885, -0.0169962327927351, -0.021596916019916534, -0.018981099128723145, 0.01591835916042328, -0.008432392962276936, -0.01583949103951454, 0.0006749036256223917, -0.005586542189121246, 0.011238808743655682, 0.01272417139261961, -0.029575811699032784, 0.007564835250377655, 0.019454311579465866, 0.007091622333973646, 0.02199125848710537, 0.012480992823839188, -0.023713229224085808, 0.01615496538579464, -0.008668999187648296, 0.015063947066664696, -0.023095423355698586, 0.0182055551558733, -0.016378426924347878, 0.02026928961277008, 0.003466942347586155, 0.023976124823093414, -0.028182461857795715, -0.010601285845041275, -0.014748471789062023, 0.004147185944020748, -0.024738524109125137, -0.021636350080370903, -0.03125834837555885, 0.028366489335894585, 0.01686478592455387, 0.01703566685318947, -0.00020477142243180424, -0.006434382405132055, -0.026368480175733566, -0.0014311406994238496, 0.02277994714677334, -0.009391963481903076, -0.014801050536334515, 0.02101854421198368, -0.0189548097550869, -0.007085049990564585, -0.006250354927033186, -0.018994243815541267, 0.024593930691480637, -0.04500781372189522, -0.011869759298861027, 0.011442553251981735, -0.007610842119902372, 0.010870753787457943, -0.01265187468379736, -0.031494952738285065, -0.03296717256307602, -0.0042687756940722466, 0.005954596679657698, 0.011383401229977608, 0.00525463605299592, -0.016562454402446747, -0.0004847146919928491, -0.037988487631082535, -0.00723621528595686, -0.010325244627892971, -0.001956932945176959, 0.00910934992134571, 0.0062437825836241245, 0.005504387430846691, 0.001467288937419653, 0.022806236520409584, 0.014301547780632973, 0.01942802220582962, 0.052973564714193344, -0.03464970737695694, 0.017679763957858086, -0.014538154937326908, 0.022056983783841133, -0.02292454056441784, 0.03291459381580353, -0.004768277984112501, 0.001024473225697875, -0.006148482672870159, -0.031021740287542343, 0.0016891075065359473, 0.015708042308688164, 0.007039043121039867, 0.03793590888381004, 0.026039859279990196, 0.015116525813937187, 0.0037002626340836287, -0.01298049557954073, -0.0030298775527626276, -0.012993640266358852, 0.049240440130233765, 0.02385782077908516, 0.0031268205493688583, -0.004088034387677908, 0.0047255572862923145, -0.010233230888843536, 0.0015880567952990532, -0.0046795508824288845, 0.004383792635053396, -0.002356206299737096, 0.01055527850985527, 0.0044035096652805805, -0.002205041004344821, 0.01543200109153986, 0.014196389354765415, -0.01489306427538395, 0.005366366822272539, -0.009575990960001945, -0.001261901343241334, 0.0017975521041080356, -0.013341977261006832, -0.015484580770134926, -0.007144201546907425, -0.015537159517407417, 0.01778492145240307, 0.008195785805583, 0.013079081661999226, 0.02502770908176899, 0.03530694544315338, -0.01854732073843479, 0.011830325238406658, 0.0006872268277220428, 0.01176460087299347, 0.016707047820091248, 0.04082776606082916, -0.017968948930501938, -0.022438183426856995, -0.006352227181196213, 0.03357183188199997, 0.026920560747385025, -0.002548449207097292, 0.008327234536409378, -0.02204383909702301, 0.0031383223831653595, -0.0023989269975572824, -0.005366366822272539, 0.007952607236802578, -0.012829329818487167, 0.006940457038581371, 0.025146013125777245, 0.01601037196815014, 0.026223886758089066, 0.025763818994164467, 0.018902229145169258, 0.009543128311634064, -0.0070653329603374004, 0.03556984290480614, 0.015300553292036057, -0.02231987938284874, -0.01783750019967556, 0.010042631067335606, -0.026697099208831787, 0.0021639636252075434, -0.0015412283828482032, -0.007814587093889713, -0.019493745639920235, 0.010469837114214897, -0.005481383763253689, 0.031547531485557556, -0.002509014680981636, 0.01727227494120598, -0.0015716258203610778, -0.02246447280049324, -0.05384112149477005, 0.02894486114382744, 0.036910612136125565, 0.009129066951572895, 0.005455094389617443, 0.020624199882149696, -0.02138659916818142, -0.022346168756484985, 0.03162640333175659, -0.009562846273183823, 0.014091230928897858, -0.009372246451675892, -0.0023709943052381277, 0.0015305483248084784, -0.00997033528983593, 0.014367272146046162, -0.018889084458351135, -0.014695892110466957, 0.0031613255850970745, 0.02881341241300106, -0.004626971669495106, -0.0018665624083951116, -0.01672019250690937, 0.035464685410261154, -0.0002133976959157735, -0.0033272788859903812, -0.005948024336248636, -0.0004518526839092374, 0.002137674018740654, -0.002073592972010374, -0.008392957970499992, -0.005248063709586859, 0.03291459381580353, 0.01998010464012623, -0.001536299125291407, -0.004387078806757927, -0.03433423116803169, 0.011074498295783997, 0.01666761375963688, -0.004127468913793564, 0.009359101764857769, -0.019480600953102112, 0.008708433248102665, 0.07508312910795212, 0.01489306427538395, 0.0040814620442688465, 0.02050589583814144, -0.017627183347940445, 0.025803253054618835, -0.029523232951760292, -0.01862618885934353, 0.011291387490928173, 0.0026881126686930656, 0.01597093790769577, -0.010910188779234886, 0.017995238304138184, 0.010022914037108421, 0.03338780626654625, -0.007124484516680241, 0.02657879702746868, -0.000675314397085458, 0.002553378464654088, 0.006835298612713814, -0.019441166892647743, 0.008761012926697731, 0.020164132118225098, 0.03470228612422943, 0.024646509438753128, -0.0025813111569732428, 0.03333522751927376, -0.002108098240569234, 0.011988062411546707, -0.026394769549369812, -0.008208930492401123, 0.008517833426594734, 0.0022346170153468847, 0.00645409943535924, -0.013723176904022694, 0.037436407059431076, 0.004715698771178722, -0.016378426924347878, 0.00784744881093502, -0.026920560747385025, 0.020900240167975426, 0.010068920440971851, -0.013236818835139275, -0.00531378760933876, 0.012691309675574303, -0.010068920440971851, 0.01066700927913189, 0.009792880155146122, -0.00020240945741534233, 0.001511652604676783, 0.01904682256281376, -0.006651271600276232, 0.0012947632931172848, 0.004206337500363588, -0.0007747219642624259, -0.009010763838887215, -0.00933938380330801, -0.012849046848714352, -0.010837892070412636, -0.014525010250508785, -0.035044051706790924, -0.01723283901810646, 0.0061681997030973434, -0.008274654857814312, -0.005382797680795193, -0.02180723287165165, -0.03572757914662361, -0.02166263945400715, -0.016286414116621017, 0.006776147056370974, 0.006736712530255318, 0.017114536836743355, -0.0010967697016894817, 0.016378426924347878, 0.021097412332892418, 0.015050802379846573, 0.009556273929774761, 0.0034768010955303907, 0.005340076982975006, 0.025343185290694237, 0.015247974544763565, -0.025606080889701843, -0.004416654817759991, -0.006460671778768301, 0.010430403053760529, 0.0020259430166333914, -0.011455697938799858, -0.0005989102064631879, 0.0007057117181830108, 0.013256535865366459, 0.006250354927033186, -0.025803253054618835, -0.004643402528017759, -0.03265169635415077, 0.007840876467525959, -0.007131056860089302, 0.008530979044735432, -0.011074498295783997, -0.0041307550854980946, 0.01111393328756094, 0.010108355432748795, -0.009161929599940777, 0.005961169023066759, 0.006260213442146778, 0.025790108367800713, 0.0037692729383707047, -0.0019339295104146004, -0.01165287010371685, 0.0017646901542320848, 0.0041931928135454655, -0.0088004469871521, -0.007393952924758196, -0.002622388768941164, -0.008189213462173939, -0.014722182415425777, -0.01417009998112917, -0.005727848969399929, 0.002318415092304349, 0.014722182415425777, -0.03543839603662491, 0.018297569826245308, -0.005599686875939369, 0.020808227360248566, 0.0016570669831708074, 0.0030939585994929075, 0.016838496550917625, -0.012461275793612003, -0.02021671086549759, -0.022188430652022362, 0.008563840761780739, 0.00519548449665308, -0.010640719905495644, -0.024107573553919792, -0.010699871927499771, -0.019020533189177513, -0.0006403984734788537, -0.013539149425923824, 0.0003553205169737339, -0.0026683954056352377, -0.008833309635519981, -0.0433252789080143, -0.01081160269677639, -0.011679159477353096, -0.002011155243963003, 0.004574392456561327, -0.030653685331344604, -0.026605086401104927, -0.010036058723926544, -0.006480388808995485, 0.024449337273836136, -0.012993640266358852, 0.02003268338739872, -0.029339205473661423, -0.00025098363403230906, 0.011061353608965874, -0.016562454402446747, -0.010036058723926544, 0.007439959794282913, 0.04019681364297867, 0.023384608328342438, 0.03512291982769966, -0.004912870936095715, 0.02427845634520054, 0.008162924088537693, 0.01657559908926487, 0.005902017466723919, -0.00906334351748228, 0.008097199723124504, -0.01905996724963188, 0.014064941555261612, -0.004935874603688717, 0.008162924088537693, 0.010154361836612225, -0.01527426391839981, -0.012172089889645576, 0.007696283515542746, 0.009286805056035519, -0.013920349068939686, -0.03162640333175659, -0.0234503336250782, 0.0003454619145486504, -0.015300553292036057, -0.022490762174129486, 0.0008905605645850301, -0.05547107756137848, -0.006835298612713814, 0.005474811419844627, 0.016969943419098854, -0.015721186995506287, -0.0018501313170418143, 0.015563449822366238, -0.008885888382792473, 0.028497938066720963, 0.0048142848536372185, -0.015063947066664696, -0.010699871927499771, -0.01686478592455387, -0.01582634635269642, 0.006003889720886946, 0.012835902161896229, -0.008156351745128632, 0.04208966717123985, 0.004886581562459469, -0.010141217149794102, -0.0035326664801687002, -0.015077091753482819, -0.02465965412557125, -0.03252024948596954, 0.016378426924347878, -0.0022559771314263344, 0.012947632931172848, -0.03783075138926506, -0.01681220531463623, -0.02114999108016491, 0.010883898474276066, 0.021688928827643394, -0.02839277870953083, 0.025882121175527573, -0.02899743989109993, -0.022898251190781593, 0.008826736360788345, -0.0004949840949848294, 0.0367002971470356, -0.019257139414548874, 0.042799487709999084, 0.028103593736886978, 0.008182641118764877, -0.024449337273836136, 0.025422053411602974, -0.0009916112758219242, -0.011705448850989342, 0.05420917645096779, 0.04937188699841499, -0.02049275115132332, -0.012743888422846794, 0.01512967050075531, 0.011961773037910461, -0.007663421332836151, -0.014051796868443489, -0.006480388808995485, -0.009648286737501621, 0.027236036956310272, -0.01629955880343914, -0.0004958056379109621, -0.0234503336250782, 0.017114536836743355, -0.002640462713316083, -0.012500709854066372, -0.0001966586132766679, -0.009023908525705338, 0.01296077761799097, 0.02114999108016491, -0.021412888541817665, 0.013065936043858528, 0.006490247789770365, -0.016509875655174255, -0.011692304164171219, -0.004479092545807362, 0.022569630295038223, 0.01984865590929985, -0.0005722098285332322, 0.020519040524959564, -0.01792951487004757, 0.023936690762639046, -0.015984082594513893, 0.0003259500954300165, 0.0005147012998349965, 0.012638729996979237, 0.021005399525165558, 0.03241508826613426, 0.0165361650288105, -0.04048600047826767, 0.03183671832084656, -0.003552383743226528, -0.005073894746601582, 0.01386776939034462, -0.03496518358588219, -0.026079293340444565, -0.04082776606082916, -0.01624698005616665, 0.007196780759841204, -0.01295420527458191, -0.004909584764391184, 0.01501136738806963, -0.01008863840252161, -0.022293590009212494, -0.006417951080948114, -0.002758766058832407, 0.041774190962314606, -0.008833309635519981, -0.027052009478211403, -0.0157869104295969, -0.014695892110466957, 0.01401236280798912, 0.0032944169361144304, 0.006763002369552851, 0.020190421491861343, 0.01802152767777443, -0.031179478392004967, 0.0060564689338207245, -0.003346996149048209, -0.005425518378615379, -0.03325635567307472, -0.010305527597665787, -0.013657452538609505, -0.005898731295019388, 0.009089632891118526, -0.017666619271039963, -0.03357183188199997, -0.00573113514110446, 0.01648358628153801, -0.010824747383594513, 0.00488000875338912, -0.006868160795420408, -0.007203353103250265, 0.015103381127119064, 0.011067925952374935, 0.004015738144516945, 0.002162320539355278, 0.0017959090182557702, -0.0072756498120725155, -0.01779806613922119, -0.015524014830589294, 0.0013276253594085574, 0.01024637557566166, -0.0174563005566597, -0.001192891038954258, -0.005284211598336697, 0.003795562544837594, -0.025040853768587112, -0.020045828074216843, 0.0448237843811512, -0.002919789869338274, -0.012474420480430126, -0.040643736720085144, 0.007689711172133684, -0.011830325238406658, 0.04187934845685959, -0.021925535053014755, -0.0342816524207592, 0.03446567803621292, 0.005165908485651016, 0.006030179560184479, 0.0004953948664478958, 0.009937472641468048, -0.0118106072768569, -0.03362441062927246, -0.01111393328756094, -0.00830751657485962, 0.0040584588423371315, 0.013775755651295185, 0.03346667438745499, 0.03133721649646759, -0.008057765662670135, -0.005951310507953167, -0.015379422344267368, -0.058257777243852615, -0.02171521820127964, -0.01602351851761341, 0.05221116542816162, 0.019362298771739006, 0.01798209361732006, -0.013433991000056267, 0.014879919588565826, -0.007453104481101036, 0.02928662672638893, -0.03152124211192131, 0.01020036917179823, 0.0294706542044878, -0.012737316079437733, 0.035096630454063416, -0.004876722581684589, -0.030942872166633606, -0.0075254011899232864, 0.017430011183023453, 0.027761828154325485, 0.013762610964477062, 0.004906298592686653, -0.02502770908176899, 0.008162924088537693, 0.03748898580670357, -0.0014138881815597415, 0.007591125089675188, -0.011935483664274216, 0.005218487698584795, -0.030522238463163376, 0.003644397249445319, -0.014156955294311047, -0.020111551508307457, -0.0045645334757864475, -0.0014960431726649404, 0.007479394320398569, -0.025895265862345695, -0.009050198830664158, -0.014275258406996727, -0.0013719890266656876, -0.029943866655230522, -0.008346951566636562, -0.004935874603688717, 0.021636350080370903, -0.008787302300333977, 0.03741011768579483, 0.005267780739814043, -0.012099793180823326, 0.013309115543961525, 0.043036092072725296, 0.01111393328756094, -0.01891537569463253, -0.013460280373692513, -0.02582954242825508, 0.02484368160367012, -0.015760621055960655, 0.009470832534134388, 0.0005003241240046918, -0.024856826290488243, -0.026092438027262688, -3.0182347927620867e-06, -0.025987280532717705, 0.01104163657873869, -0.006638126913458109, -0.02465965412557125, 0.0117251668125391, 0.0026043145917356014, -0.025987280532717705, 0.02372637391090393, -0.016049807891249657, 0.004255630541592836, -0.005520818289369345, -0.046585191041231155, 0.029391784220933914, -0.008432392962276936, -0.042562879621982574, 0.011403118260204792, 0.006756430026143789, 0.011606862768530846, 0.018560465425252914, 0.19233478605747223, 0.0016233834903687239, -0.020190421491861343, 0.0224118921905756, 0.027998436242341995, 0.006375230383127928, 0.02820875309407711, 0.0005623511970043182, -0.028419069945812225, -0.0008544123265892267, -0.012770178727805614, 0.00506732240319252, 0.01798209361732006, -0.007466249633580446, 0.015208539552986622, -0.03338780626654625, -0.029496943578124046, 0.009871749207377434, -0.010680153965950012, -0.01873134821653366, 0.009030480869114399, -0.001058978377841413, -0.007301939185708761, -0.017337998375296593, 0.04006536677479744, -0.01447243057191372, -0.004686123225837946, -0.025093432515859604, 0.05102813243865967, 0.02292454056441784, -0.010266092605888844, -0.0017038953956216574, 0.0037396971601992846, 0.01428840309381485, -0.016220690682530403, -0.0066775609739124775, 0.021268295124173164, 0.00033313865424133837, 0.02381838671863079, -0.0021984686609357595, -0.016772771254181862, -0.013604873791337013, -0.0034998045302927494, -0.042431432753801346, -0.014419851824641228, 0.021833522245287895, -0.002660179976373911, 7.604475104017183e-05, -0.009359101764857769, 0.024817392230033875, -0.028839703649282455, 0.0066282679326832294, 0.0063062203116714954, -0.00864270981401205, 0.007104767486453056, -0.011468842625617981, 0.022293590009212494, -0.0014138881815597415, -0.023266306146979332, -0.029391784220933914, -0.0026256749406456947, 0.018718203529715538, -0.0034077907912433147, 0.005974314175546169, -0.0213471632450819, 0.006881305482238531, -0.013341977261006832, -0.004860291723161936, 0.005721276625990868, -0.015326842665672302, -0.008070910349488258, 0.0010893756989389658, -0.016378426924347878, -0.014235824346542358, -0.0119552006945014, -0.004423227161169052, 0.0047288439236581326, 0.005911875981837511, 0.006559257861226797, 0.008097199723124504, 0.010338389314711094, 0.0013744536554440856, -0.005514245945960283, -0.018665622919797897, 0.0037101213820278645, -0.04427170380949974, 0.0014927570009604096, -0.00012836724636144936, -0.007190208416432142, -0.013085654005408287, 0.007374235894531012, -0.010489555075764656, -0.024975130334496498, -0.012737316079437733, 0.00822207611054182, 0.0300753153860569, 0.012158945202827454, 0.02423902042210102, -0.009773163124918938, 0.004495523404330015, -0.00736766355112195, 0.04813627898693085, 0.00488000875338912, -0.0032944169361144304, -0.022714223712682724, -0.019914379343390465, -0.0029214329551905394, 0.026355335488915443, -0.008392957970499992, -0.0169962327927351, 0.002978941425681114, -0.023463478311896324, -0.007124484516680241, -0.0070258984342217445, -0.006881305482238531, 0.02713087759912014, 0.005169194657355547, 0.010160934180021286, -0.0012479349970817566, -0.0178900808095932, 0.013125088065862656, -0.018244989216327667, -0.0017219694564118981, -0.001966791460290551, 0.0071639190427958965, -0.03627966344356537, 0.008241793140769005, -0.017443155869841576, 0.004387078806757927, -0.04621713608503342, -0.0056226905435323715, -0.005619404371827841, 0.011981490068137646, -0.024015558883547783, -0.00952341128140688, 0.008195785805583, 0.000617395096924156, 0.03454454988241196, -0.003371642669662833, -0.008208930492401123, 0.01769290864467621, -0.01624698005616665, 0.015484580770134926, -0.010384396649897099, 0.008517833426594734, -0.005533962976187468, 0.018875939771533012, 0.018284425139427185, -0.01078531239181757, -0.013125088065862656, -0.00039167411159723997, -0.002459721639752388, 0.004817571025341749, 0.001912569161504507, 0.042378854006528854, 0.010180652141571045, -0.02586897648870945, -0.028103593736886978, -0.009010763838887215, -0.015747476369142532, -0.03688432276248932, -0.011896048672497272, 0.03472857549786568, -0.01557659450918436, -0.022819381207227707, 0.015484580770134926, -0.16688644886016846, 0.02396298013627529, 0.006651271600276232, -0.01501136738806963, 0.005911875981837511, -0.007545118220150471, 0.03722608834505081, -0.020519040524959564, 0.02008526213467121, 0.004406795836985111, 0.05547107756137848, -0.011850042268633842, 0.01531369797885418, -0.022122707217931747, -0.007124484516680241, 0.011094215326011181, -0.017482591792941093, 0.01746944710612297, 0.026697099208831787, 0.00730851199477911, 0.017955804243683815, -0.003453797660768032, -0.0010499412892386317, 0.01602351851761341, 0.033598121255636215, -0.009687721729278564, -0.002743978053331375, 0.03717350959777832, 0.014879919588565826, -0.019362298771739006, -0.022385602816939354, -0.00922108069062233, 0.026184452697634697, 0.014564444310963154, 0.014538154937326908, 0.011449125595390797, -0.00959570799022913, -0.0021163136698305607, 0.02157062478363514, 0.02894486114382744, 0.01489306427538395, -0.0023217012640088797, 0.02881341241300106, 0.009115922264754772, -0.0017351142596453428, 0.008603274822235107, 0.029339205473661423, 0.0224118921905756, 0.009181646630167961, -0.03194187581539154, 0.013131660409271717, -0.03959215432405472, 0.026552507653832436, -0.007499111350625753, 0.0016784273320809007, 0.018521031364798546, -0.013368266634643078, 0.016049807891249657, 0.010752450674772263, -0.018034672364592552, -0.012809612788259983, 0.0029608674813061953, -0.013407701626420021, -0.015366277657449245, 0.008866171352565289, -0.006053182762116194, 0.005744279827922583, 0.00019789094221778214, -0.0411958210170269, 0.014814195223152637, 0.006506678648293018, -0.024528207257390022, -0.010548706166446209, 0.019690917804837227, 0.015563449822366238, 0.003736410988494754, -0.026920560747385025, 0.008504688739776611, 0.011797462590038776, -0.002974012168124318, -0.019874945282936096, 0.04711098223924637, -0.007341373711824417, -0.011613435111939907, -0.02143917791545391, 0.009023908525705338, -0.004617112688720226, -0.005497814621776342, 0.030154183506965637, -0.016049807891249657, 0.006483675446361303, -0.03031192161142826, -0.0033946458715945482, 0.0041701896116137505, 0.022635355591773987, 0.0012454702518880367, -0.017863789573311806, 0.00024790281895548105, -0.0012232884764671326, 0.019480600953102112, -0.015760621055960655, 0.012007779441773891, -0.008346951566636562, 0.03372957184910774, 0.01979607716202736, -0.008274654857814312, 0.012369262054562569, 0.021307729184627533, 0.019835511222481728, -0.020282434299588203, 0.025658659636974335, -0.011797462590038776, 0.019533181563019753, 0.03386101871728897, -0.00868214387446642, 0.00422605499625206, -0.04290464520454407, -0.01909940131008625, 0.014577588997781277, 0.007748862728476524, 0.021452322602272034, -0.018271278589963913, -0.03777816891670227, 0.014130665920674801, 0.006624981760978699, -0.008044620975852013, -0.052789539098739624, 0.009575990960001945, 0.012684737332165241, 0.025763818994164467, 0.0010425474029034376, 0.018560465425252914, -0.016746481880545616, 0.038041066378355026, -0.02784069813787937, 0.01812668703496456, -0.013460280373692513, -0.01811354234814644, -0.02167578414082527, 0.016891075298190117, 0.018297569826245308, -0.025001419708132744, 0.007196780759841204, -0.017903225496411324, 0.0024087855126708746, 0.01321710180491209, -0.007177063729614019, -0.03974989056587219, 0.004442944191396236, 0.005011457018554211, -0.02167578414082527, 0.008392957970499992, -0.02096596360206604, 0.014722182415425777, -0.009904610924422741, 0.03501776233315468, 0.006322651170194149, -0.0009792880155146122, 0.006352227181196213, 0.004436371847987175, -0.018034672364592552, 0.00011162814917042851, -0.01988808996975422, -0.0172854196280241, 0.032152194529771805, -0.027761828154325485, 0.004939160775393248, 0.005892158951610327, -0.012750460766255856, -0.040932923555374146, 0.001373632112517953, -0.001410601893439889, -0.015103381127119064, 0.025382619351148605, -0.011784317903220654, -0.03246767073869705, -0.01146227028220892, -0.004985167644917965, -0.010312099941074848, -0.013644307851791382, -0.003075884422287345, 0.018323859199881554, 0.0115805733948946, 0.01020694151520729, -0.0053006429225206375, -0.007742290385067463, -0.010699871927499771, 0.0032697704154998064, -0.011935483664274216, 0.008195785805583, 0.018521031364798546, 0.0004354216798674315, -0.008958185091614723, 0.0032204773742705584, -0.007420242764055729, -0.02041388303041458, 0.0027702676597982645, 0.011751456186175346, -0.03717350959777832, 0.014498719945549965, -0.016693903133273125, 0.009194791316986084, -0.0339924655854702, -0.024541351944208145, -0.0049753086641430855, -0.028182461857795715, -0.016378426924347878, -0.0225564856082201, -0.005763997323811054, -0.007906600832939148, 0.003100530942901969, -0.0006021963781677186, -8.035789505811408e-05, -0.004419940989464521, 0.017206549644470215, -0.03772559016942978, 0.010614430531859398, 0.03651626780629158, -0.0015371206682175398, -0.027709249407052994, 0.009372246451675892, 0.014577588997781277, -0.026828547939658165, -0.026920560747385025, -0.004479092545807362, -0.014919353649020195, -0.009727155789732933, -0.005938165821135044, -0.07592439651489258, 0.033361516892910004, 0.027761828154325485, 0.003013446694239974, 0.01296077761799097, -0.020703068003058434, 0.012165517546236515, -0.01718026027083397, 0.003067668993026018, -0.010943050496280193, -0.018665622919797897, 0.02003268338739872, -0.020571621134877205, 0.004163617268204689, -0.03436052054166794, -0.019414877519011497, 0.02343718707561493, 0.019178271293640137, 0.01746944710612297, 0.017193404957652092, -0.014156955294311047, -0.016391571611166, 0.012750460766255856, 0.022635355591773987, 0.02083451673388481, 0.017614038661122322, -0.0182055551558733, 0.020519040524959564, -0.0009168501710519195, -0.003917152062058449, 0.02749893255531788, -0.013473425060510635, 0.005418946035206318, 0.021938679739832878, -0.00910934992134571, -0.042378854006528854, -0.003897434799000621, 0.011297959834337234, -0.006907595321536064, -0.02665766514837742, -0.007131056860089302, -0.005093612242490053, 0.00693388469517231, -0.007400525268167257, -0.030101604759693146, 0.004801140166819096, -0.015760621055960655, 0.013802045956254005, 0.028077304363250732, 0.011179656721651554, 0.014340982772409916, 0.012770178727805614, 0.002014441415667534, -0.01512967050075531, -0.00422605499625206, 0.003368356265127659, 0.0364111103117466, -0.004511954262852669, 0.027157166972756386, -0.01447243057191372, 0.01073930598795414, -0.014787905849516392, 0.014393561519682407, -0.03675287589430809, -0.004160331096500158, -0.010272664949297905, -0.004511954262852669, 0.021951824426651, 0.001373632112517953, -0.04082776606082916, 0.01501136738806963, -0.02189924567937851, 0.0021409601904451847, 0.00831408891826868, 0.010870753787457943, -0.01272417139261961, -0.00023537417291663587, -0.005366366822272539, -0.006828726269304752, 0.024120718240737915, 0.0038218521513044834, 0.019730353727936745, -0.03241508826613426, -0.0007533616735599935, 0.002645391970872879, 0.02105797827243805, -0.010732733644545078, 0.011324250139296055, 0.011712021194398403, -0.008767585270106792, -0.02488311566412449, 0.01984865590929985, -0.019809221848845482, -0.01756145991384983, 0.003897434799000621, 0.03725237771868706, 0.00645738560706377, -0.006365371868014336, 0.005530676804482937, 0.021636350080370903, 0.01984865590929985, 0.00989803858101368, -0.018599899485707283, -0.015221684239804745, 0.004827429540455341, -0.0024531492963433266, -0.017535170540213585, -0.03880346566438675, 0.004919443279504776, 0.008951612748205662, 0.021044833585619926, 0.0026289611123502254, -0.010101783089339733, 0.016128676012158394, 0.011705448850989342, -0.018060961738228798, 0.0046795508824288845, 0.004998312331736088, -0.027682960033416748, 0.022017549723386765, -0.03254653885960579, 0.013802045956254005, 0.01718026027083397, -0.012973923236131668, 0.027630381286144257, 0.0076699941419065, 0.013539149425923824, 0.00947740487754345, 0.009937472641468048, -0.011061353608965874, -0.009569418616592884, 0.0067892917431890965, -0.020558476448059082, -0.016707047820091248, -0.01092990580946207, -0.009806024841964245, -0.022845672443509102, 0.028839703649282455, 0.004594109486788511, 0.06756430119276047, 0.015261119231581688, -0.03441309928894043, 0.01188290398567915, 0.00936567410826683, 0.00332070654258132, 0.027288615703582764, -0.001261901343241334, -0.039013780653476715, -0.015589739196002483, -0.0007311797817237675, -0.035228077322244644, -0.010003197006881237, 0.003273056587204337, 0.00019214008352719247, -0.0051133292727172375, -0.013512860052287579, 0.004554674960672855, -0.00645738560706377, -0.014367272146046162, -0.0023660650476813316, -0.028235042467713356, 0.011639725416898727, -0.005967741832137108, -0.038698308169841766, -0.014183244667947292, 0.0013210528995841742, 0.015247974544763565, 0.002518873428925872, -0.052552931010723114, 0.012283820658922195, 0.010180652141571045, -0.016969943419098854, 0.015997227281332016, -2.7521935408003628e-05, -0.010068920440971851, -0.03667400777339935, -0.013552294112741947, 0.0018813502974808216, -0.0023627786431461573, -0.030890293419361115, 0.05499786511063576, -0.029260337352752686, -0.012671592645347118, 0.000600142520852387, 4.248955519869924e-06, -0.013999218121170998, 0.00693388469517231, -0.03514920920133591]\n"
          ]
        }
      ]
    },
    {
      "source": [
        "# Check the lengths of the chunks and embeddings\n",
        "num_chunks = len(chunks)\n",
        "print(f\"Number of chunks: {num_chunks}\")\n",
        "print(f\"Number of embeddings: {len(embeddings)}\")"
      ],
      "cell_type": "code",
      "metadata": {
        "id": "PpaYvxYp37Nu",
        "colab": {
          "base_uri": "https://localhost:8080/"
        },
        "outputId": "f9cb48aa-09bb-4a8c-aa2f-0db2cc021b04"
      },
      "execution_count": 26,
      "outputs": [
        {
          "output_type": "stream",
          "name": "stdout",
          "text": [
            "Number of chunks: 10000\n",
            "Number of embeddings: 10000\n"
          ]
        }
      ]
    },
    {
      "cell_type": "markdown",
      "source": [
        "#  The Pinecone index"
      ],
      "metadata": {
        "id": "XswfiN5Z1OvT"
      }
    },
    {
      "cell_type": "code",
      "execution_count": 27,
      "metadata": {
        "id": "nOSA_Spit_xq"
      },
      "outputs": [],
      "source": [
        "import os\n",
        "from pinecone import Pinecone, ServerlessSpec\n",
        "\n",
        "# initialize connection to pinecone (get API key at app.pinecone.io)\n",
        "api_key = os.environ.get('PINECONE_API_KEY') or 'PINECONE_API_KEY'\n",
        "\n",
        "from pinecone import Pinecone, ServerlessSpec\n",
        "pc = Pinecone(api_key=PINECONE_API_KEY)"
      ]
    },
    {
      "cell_type": "code",
      "execution_count": 40,
      "metadata": {
        "id": "P---PNLpXeQs"
      },
      "outputs": [],
      "source": [
        "from pinecone import ServerlessSpec\n",
        "\n",
        "index_name = 'bank-index-2'\n",
        "cloud = os.environ.get('PINECONE_CLOUD') or 'aws'\n",
        "region = os.environ.get('PINECONE_REGION') or 'us-east-1'\n",
        "\n",
        "spec = ServerlessSpec(cloud=cloud, region=region)"
      ]
    },
    {
      "source": [
        "import time\n",
        "import pinecone\n",
        "# check if index already exists (it shouldn't if this is first time)\n",
        "if index_name not in pc.list_indexes().names():\n",
        "    # if does not exist, create index\n",
        "    pc.create_index(\n",
        "        index_name,\n",
        "        dimension=1536,  # dimensionality of text-embedding-ada-002\n",
        "        metric='cosine',\n",
        "        spec=spec\n",
        "    )\n",
        "    # wait for index to be initialized\n",
        "    time.sleep(1)\n",
        "\n",
        "# connect to index\n",
        "index = pc.Index(index_name)\n",
        "# view index stats\n",
        "index.describe_index_stats()"
      ],
      "cell_type": "code",
      "metadata": {
        "id": "jO7AYljM0gq1",
        "colab": {
          "base_uri": "https://localhost:8080/"
        },
        "outputId": "9b89049b-35e6-46e8-d0a7-26637e8f23cc"
      },
      "execution_count": 41,
      "outputs": [
        {
          "output_type": "execute_result",
          "data": {
            "text/plain": [
              "{'dimension': 1536,\n",
              " 'index_fullness': 0.0,\n",
              " 'namespaces': {'': {'vector_count': 1017581}},\n",
              " 'total_vector_count': 1017581}"
            ]
          },
          "metadata": {},
          "execution_count": 41
        }
      ]
    },
    {
      "cell_type": "markdown",
      "source": [
        "# Upinserting"
      ],
      "metadata": {
        "id": "FrWqU-Ri115e"
      }
    },
    {
      "cell_type": "code",
      "source": [
        "# upsert function\n",
        "def upsert_to_pinecone(data, batch_size=100):\n",
        "    for i in range(0, len(data), batch_size):\n",
        "        batch = data[i:i+batch_size]\n",
        "        index.upsert(vectors=batch)\n",
        "        #time.sleep(1)  # Optional: add delay to avoid rate limits"
      ],
      "metadata": {
        "id": "c2kXmv83j1V_"
      },
      "execution_count": 30,
      "outputs": []
    },
    {
      "cell_type": "code",
      "source": [
        "# Print the query results along with metadata\n",
        "def display_results(query_results):\n",
        "  for match in query_results['matches']:\n",
        "    print(f\"ID: {match['id']}, Score: {match['score']}\")\n",
        "    if 'metadata' in match and 'text' in match['metadata']:\n",
        "        print(f\"Text: {match['metadata']['text']}\")\n",
        "    else:\n",
        "        print(\"No metadata available.\")"
      ],
      "metadata": {
        "id": "tpOyd2snbY0G"
      },
      "execution_count": 31,
      "outputs": []
    },
    {
      "cell_type": "code",
      "source": [
        "import openai\n",
        "import pinecone\n",
        "import time\n",
        "\n",
        "#batches\n",
        "bnb=2\n",
        "# Initial seed for ids\n",
        "#seed = 1000000000 #initial seed\n",
        "seed = 10 #seed based on vector store metrics\n",
        "ids = []\n",
        "for i in range(10000):\n",
        "  seed+=1\n",
        "  ids.append(seed)\n",
        "\n",
        "# Upsert data to Pinecone\n",
        "for b in range(bnb):\n",
        "  start_time = time.time()  # Start timing before the request\n",
        "  #data for upsert\n",
        "  if b>0:\n",
        "    ids = []\n",
        "    for i in range(10000):\n",
        "      seed+=1\n",
        "      ids.append(seed)\n",
        "  print(\"Id seed\", seed)\n",
        "  chunks = chunks  # List of text data\n",
        "  embeddings = embeddings  # List of corresponding embeddings\n",
        "  data_for_upsert = [\n",
        "      {\"id\": str(ids[i]), \"values\": emb, \"metadata\": {\"text\": chunk}}\n",
        "      for i, (chunk, emb) in enumerate(zip(chunks, embeddings))]\n",
        "  upsert_to_pinecone(data_for_upsert)\n",
        "  response_time = time.time() - start_time  # Measure response time\n",
        "  print(f\"Upsertion response time: {response_time:.2f} seconds\")  # Print response time\n",
        "  print(\"Index stats\")\n",
        "  print(index.describe_index_stats(include_metadata=True))\n",
        "  print(\"Upsert batch\", b,\"complete\")\n",
        "  if b==0 or b==1:\n",
        "    print(\"Querying vector store\")\n",
        "    start_time = time.time()  # Start timing before the request\n",
        "    query_text = \"Customer Paulsen CreditScore 619Age 18 Tenure 2Balance 0.0NumOfProducts 1HasCrCard 1IsActiveMember 1EstimatedSalary 101348.88Exited 1Complain 1Satisfaction Score 2Card Type DIAMONDPoint Earned 464\"\n",
        "    query_embedding = get_embedding(query_text,model=embedding_model)\n",
        "    query_results = index.query(vector=query_embedding, top_k=1, include_metadata=True)  # Request metadata\n",
        "    #print(\"raw query_results\",query_results)\n",
        "    print(\"processed query results\")\n",
        "    display_results(query_results) #display results\n",
        "    response_time = time.time() - start_time              # Measure response time\n",
        "    print(f\"Querying response time: {response_time:.2f} seconds\")  # Print response time"
      ],
      "metadata": {
        "id": "FPAEcXGY3GSJ",
        "colab": {
          "base_uri": "https://localhost:8080/"
        },
        "outputId": "0b0723fe-de18-4771-b5bb-d021b7692fdf"
      },
      "execution_count": 32,
      "outputs": [
        {
          "output_type": "stream",
          "name": "stdout",
          "text": [
            "Id seed 10010\n",
            "Upsertion response time: 93.80 seconds\n",
            "Index stats\n",
            "{'dimension': 1536,\n",
            " 'index_fullness': 0.0,\n",
            " 'namespaces': {'': {'vector_count': 9800}},\n",
            " 'total_vector_count': 9800}\n",
            "Upsert batch 0 complete\n",
            "Querying vector store\n",
            "processed query results\n",
            "ID: 9531, Score: 0.941800833\n",
            "Text: CustomerId: 15673180 CreditScore: 727 Age: 18 Tenure: 2 Balance: 93816.7 NumOfProducts: 2 HasCrCard: 1 IsActiveMember: 0 EstimatedSalary: 126172.11 Exited: 0 Complain: 0 Satisfaction Score: 1 Card Type: DIAMOND Point Earned: 523\n",
            "Querying response time: 0.25 seconds\n",
            "Id seed 20010\n",
            "Upsertion response time: 94.05 seconds\n",
            "Index stats\n",
            "{'dimension': 1536,\n",
            " 'index_fullness': 0.0,\n",
            " 'namespaces': {'': {'vector_count': 20300}},\n",
            " 'total_vector_count': 20300}\n",
            "Upsert batch 1 complete\n",
            "Querying vector store\n",
            "processed query results\n",
            "ID: 9531, Score: 0.941800833\n",
            "Text: CustomerId: 15673180 CreditScore: 727 Age: 18 Tenure: 2 Balance: 93816.7 NumOfProducts: 2 HasCrCard: 1 IsActiveMember: 0 EstimatedSalary: 126172.11 Exited: 0 Complain: 0 Satisfaction Score: 1 Card Type: DIAMOND Point Earned: 523\n",
            "Querying response time: 0.43 seconds\n"
          ]
        }
      ]
    },
    {
      "cell_type": "code",
      "source": [
        "print(index.describe_index_stats(include_metadata=True))"
      ],
      "metadata": {
        "id": "OjhGelbFaC9O",
        "colab": {
          "base_uri": "https://localhost:8080/"
        },
        "outputId": "a8dfed23-8b64-465a-fe4d-d94eb208a403"
      },
      "execution_count": 42,
      "outputs": [
        {
          "output_type": "stream",
          "name": "stdout",
          "text": [
            "{'dimension': 1536,\n",
            " 'index_fullness': 0.0,\n",
            " 'namespaces': {'': {'vector_count': 1017581}},\n",
            " 'total_vector_count': 1017581}\n"
          ]
        }
      ]
    },
    {
      "cell_type": "code",
      "source": [
        "# Close the Pinecone client (optional but good practice)\n",
        "#pc.deinit()"
      ],
      "metadata": {
        "id": "Pv0VrkncAHQ9"
      },
      "execution_count": null,
      "outputs": []
    }
  ],
  "metadata": {
    "colab": {
      "provenance": [],
      "toc_visible": true
    },
    "gpuClass": "standard",
    "kernelspec": {
      "display_name": "Python 3",
      "name": "python3"
    },
    "language_info": {
      "name": "python"
    }
  },
  "nbformat": 4,
  "nbformat_minor": 0
}