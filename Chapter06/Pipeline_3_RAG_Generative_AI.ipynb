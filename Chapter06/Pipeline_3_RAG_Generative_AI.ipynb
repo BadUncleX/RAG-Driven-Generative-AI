{
  "cells": [
    {
      "cell_type": "markdown",
      "metadata": {
        "id": "GFLLl1Agum8O"
      },
      "source": [
        "# Pipeline 3: A RAG Pinecone vector store for Generative AI\n",
        "\n",
        "copyright 2024, Denis Rothman\n",
        "\n"
      ]
    },
    {
      "cell_type": "markdown",
      "source": [
        "#Installing the environment"
      ],
      "metadata": {
        "id": "8QGI1D8FVrT6"
      }
    },
    {
      "cell_type": "code",
      "execution_count": null,
      "metadata": {
        "colab": {
          "base_uri": "https://localhost:8080/"
        },
        "id": "xoCE_RrKVrT7",
        "outputId": "2d9955ac-36af-493b-e145-47801e2b0d31"
      },
      "outputs": [
        {
          "output_type": "stream",
          "name": "stdout",
          "text": [
            "Mounted at /content/drive\n"
          ]
        }
      ],
      "source": [
        "#API Key\n",
        "#Store you key in a file and read it(you can type it directly in the notebook but it will be visible for somebody next to you)\n",
        "from google.colab import drive\n",
        "drive.mount('/content/drive')"
      ]
    },
    {
      "cell_type": "code",
      "execution_count": null,
      "metadata": {
        "colab": {
          "base_uri": "https://localhost:8080/"
        },
        "outputId": "391acab0-9999-40e4-9e3f-bb762006de0a",
        "id": "Z2abuU9OkVFL"
      },
      "outputs": [
        {
          "output_type": "stream",
          "name": "stdout",
          "text": [
            "Collecting openai==1.33.0\n",
            "  Downloading openai-1.33.0-py3-none-any.whl (325 kB)\n",
            "\u001b[2K     \u001b[90m━━━━━━━━━━━━━━━━━━━━━━━━━━━━━━━━━━━━━━━━\u001b[0m \u001b[32m325.5/325.5 kB\u001b[0m \u001b[31m4.1 MB/s\u001b[0m eta \u001b[36m0:00:00\u001b[0m\n",
            "\u001b[?25hRequirement already satisfied: anyio<5,>=3.5.0 in /usr/local/lib/python3.10/dist-packages (from openai==1.33.0) (3.7.1)\n",
            "Requirement already satisfied: distro<2,>=1.7.0 in /usr/lib/python3/dist-packages (from openai==1.33.0) (1.7.0)\n",
            "Collecting httpx<1,>=0.23.0 (from openai==1.33.0)\n",
            "  Downloading httpx-0.27.0-py3-none-any.whl (75 kB)\n",
            "\u001b[2K     \u001b[90m━━━━━━━━━━━━━━━━━━━━━━━━━━━━━━━━━━━━━━━━\u001b[0m \u001b[32m75.6/75.6 kB\u001b[0m \u001b[31m6.9 MB/s\u001b[0m eta \u001b[36m0:00:00\u001b[0m\n",
            "\u001b[?25hRequirement already satisfied: pydantic<3,>=1.9.0 in /usr/local/lib/python3.10/dist-packages (from openai==1.33.0) (2.7.3)\n",
            "Requirement already satisfied: sniffio in /usr/local/lib/python3.10/dist-packages (from openai==1.33.0) (1.3.1)\n",
            "Requirement already satisfied: tqdm>4 in /usr/local/lib/python3.10/dist-packages (from openai==1.33.0) (4.66.4)\n",
            "Requirement already satisfied: typing-extensions<5,>=4.7 in /usr/local/lib/python3.10/dist-packages (from openai==1.33.0) (4.12.2)\n",
            "Requirement already satisfied: idna>=2.8 in /usr/local/lib/python3.10/dist-packages (from anyio<5,>=3.5.0->openai==1.33.0) (3.7)\n",
            "Requirement already satisfied: exceptiongroup in /usr/local/lib/python3.10/dist-packages (from anyio<5,>=3.5.0->openai==1.33.0) (1.2.1)\n",
            "Requirement already satisfied: certifi in /usr/local/lib/python3.10/dist-packages (from httpx<1,>=0.23.0->openai==1.33.0) (2024.6.2)\n",
            "Collecting httpcore==1.* (from httpx<1,>=0.23.0->openai==1.33.0)\n",
            "  Downloading httpcore-1.0.5-py3-none-any.whl (77 kB)\n",
            "\u001b[2K     \u001b[90m━━━━━━━━━━━━━━━━━━━━━━━━━━━━━━━━━━━━━━━━\u001b[0m \u001b[32m77.9/77.9 kB\u001b[0m \u001b[31m7.4 MB/s\u001b[0m eta \u001b[36m0:00:00\u001b[0m\n",
            "\u001b[?25hCollecting h11<0.15,>=0.13 (from httpcore==1.*->httpx<1,>=0.23.0->openai==1.33.0)\n",
            "  Downloading h11-0.14.0-py3-none-any.whl (58 kB)\n",
            "\u001b[2K     \u001b[90m━━━━━━━━━━━━━━━━━━━━━━━━━━━━━━━━━━━━━━━━\u001b[0m \u001b[32m58.3/58.3 kB\u001b[0m \u001b[31m5.8 MB/s\u001b[0m eta \u001b[36m0:00:00\u001b[0m\n",
            "\u001b[?25hRequirement already satisfied: annotated-types>=0.4.0 in /usr/local/lib/python3.10/dist-packages (from pydantic<3,>=1.9.0->openai==1.33.0) (0.7.0)\n",
            "Requirement already satisfied: pydantic-core==2.18.4 in /usr/local/lib/python3.10/dist-packages (from pydantic<3,>=1.9.0->openai==1.33.0) (2.18.4)\n",
            "Installing collected packages: h11, httpcore, httpx, openai\n",
            "Successfully installed h11-0.14.0 httpcore-1.0.5 httpx-0.27.0 openai-1.33.0\n",
            "Collecting pinecone-client==4.1.1\n",
            "  Downloading pinecone_client-4.1.1-py3-none-any.whl (216 kB)\n",
            "\u001b[2K     \u001b[90m━━━━━━━━━━━━━━━━━━━━━━━━━━━━━━━━━━━━━━━━\u001b[0m \u001b[32m216.2/216.2 kB\u001b[0m \u001b[31m3.9 MB/s\u001b[0m eta \u001b[36m0:00:00\u001b[0m\n",
            "\u001b[?25hRequirement already satisfied: certifi>=2019.11.17 in /usr/local/lib/python3.10/dist-packages (from pinecone-client==4.1.1) (2024.6.2)\n",
            "Collecting pinecone-plugin-interface<0.0.8,>=0.0.7 (from pinecone-client==4.1.1)\n",
            "  Downloading pinecone_plugin_interface-0.0.7-py3-none-any.whl (6.2 kB)\n",
            "Requirement already satisfied: tqdm>=4.64.1 in /usr/local/lib/python3.10/dist-packages (from pinecone-client==4.1.1) (4.66.4)\n",
            "Requirement already satisfied: typing-extensions>=3.7.4 in /usr/local/lib/python3.10/dist-packages (from pinecone-client==4.1.1) (4.12.2)\n",
            "Requirement already satisfied: urllib3>=1.26.0 in /usr/local/lib/python3.10/dist-packages (from pinecone-client==4.1.1) (2.0.7)\n",
            "Installing collected packages: pinecone-plugin-interface, pinecone-client\n",
            "Successfully installed pinecone-client-4.1.1 pinecone-plugin-interface-0.0.7\n"
          ]
        }
      ],
      "source": [
        "!pip install openai==1.33.0\n",
        "!pip install pinecone-client==4.1.1"
      ]
    },
    {
      "cell_type": "code",
      "source": [
        "f = open(\"drive/MyDrive/files/pinecone.txt\", \"r\")\n",
        "PINECONE_API_KEY=f.readline()\n",
        "f.close()"
      ],
      "metadata": {
        "id": "xotquvXHRxrU"
      },
      "execution_count": null,
      "outputs": []
    },
    {
      "cell_type": "code",
      "source": [
        "f = open(\"drive/MyDrive/files/api_key.txt\", \"r\")\n",
        "API_KEY=f.readline()\n",
        "f.close()"
      ],
      "metadata": {
        "id": "I8lwM8XMd9bz"
      },
      "execution_count": null,
      "outputs": []
    },
    {
      "cell_type": "code",
      "source": [
        "#The OpenAI Key\n",
        "import os\n",
        "import openai\n",
        "os.environ['OPENAI_API_KEY'] =API_KEY\n",
        "openai.api_key = os.getenv(\"OPENAI_API_KEY\")"
      ],
      "metadata": {
        "id": "UbKxUEHiZNyX"
      },
      "execution_count": null,
      "outputs": []
    },
    {
      "cell_type": "markdown",
      "source": [
        "#  The Pinecone index"
      ],
      "metadata": {
        "id": "XswfiN5Z1OvT"
      }
    },
    {
      "cell_type": "code",
      "execution_count": null,
      "metadata": {
        "id": "nOSA_Spit_xq"
      },
      "outputs": [],
      "source": [
        "import os\n",
        "from pinecone import Pinecone, ServerlessSpec\n",
        "\n",
        "# initialize connection to pinecone (get API key at app.pinecone.io)\n",
        "api_key = os.environ.get('PINECONE_API_KEY') or 'PINECONE_API_KEY'\n",
        "\n",
        "from pinecone import Pinecone, ServerlessSpec\n",
        "pc = Pinecone(api_key=PINECONE_API_KEY)"
      ]
    },
    {
      "cell_type": "code",
      "execution_count": null,
      "metadata": {
        "id": "P---PNLpXeQs"
      },
      "outputs": [],
      "source": [
        "from pinecone import ServerlessSpec\n",
        "\n",
        "index_name = 'bank-index-2'\n",
        "cloud = os.environ.get('PINECONE_CLOUD') or 'aws'\n",
        "region = os.environ.get('PINECONE_REGION') or 'us-east-1'\n",
        "\n",
        "spec = ServerlessSpec(cloud=cloud, region=region)"
      ]
    },
    {
      "source": [
        "import time\n",
        "import pinecone\n",
        "# check if index already exists (it shouldn't if this is first time)\n",
        "if index_name not in pc.list_indexes().names():\n",
        "    # if does not exist, create index\n",
        "    pc.create_index(\n",
        "        index_name,\n",
        "        dimension=1536,  # dimensionality of text-embedding-ada-002\n",
        "        metric='cosine',\n",
        "        spec=spec\n",
        "    )\n",
        "    # wait for index to be initialized\n",
        "    time.sleep(1)\n",
        "\n",
        "# connect to index\n",
        "index = pc.Index(index_name)\n",
        "# view index stats\n",
        "index.describe_index_stats()"
      ],
      "cell_type": "code",
      "metadata": {
        "id": "jO7AYljM0gq1",
        "colab": {
          "base_uri": "https://localhost:8080/"
        },
        "outputId": "e72bf317-4b79-46ad-ea2f-8c81149356b6"
      },
      "execution_count": null,
      "outputs": [
        {
          "output_type": "execute_result",
          "data": {
            "text/plain": [
              "{'dimension': 1536,\n",
              " 'index_fullness': 0.0,\n",
              " 'namespaces': {'': {'vector_count': 1017581}},\n",
              " 'total_vector_count': 1017581}"
            ]
          },
          "metadata": {},
          "execution_count": 8
        }
      ]
    },
    {
      "cell_type": "markdown",
      "source": [
        "# RAG with GPT-4o"
      ],
      "metadata": {
        "id": "7vfLjBF4G9rk"
      }
    },
    {
      "cell_type": "markdown",
      "source": [
        "# Query the dataset"
      ],
      "metadata": {
        "id": "7K_RLspI4MLd"
      }
    },
    {
      "cell_type": "code",
      "source": [
        "import openai\n",
        "import time\n",
        "\n",
        "embedding_model=\"text-embedding-ada-002\"\n",
        "\n",
        "# Initialize the OpenAI client\n",
        "client = openai.OpenAI()\n",
        "\n",
        "def get_embedding(text, model=embedding_model):\n",
        "    text = text.replace(\"\\n\", \" \")\n",
        "    response = client.embeddings.create(input=[text], model=model)\n",
        "    embedding = response.data[0].embedding\n",
        "    return embedding"
      ],
      "metadata": {
        "id": "nKl3UiJ3-pXE"
      },
      "execution_count": null,
      "outputs": []
    },
    {
      "cell_type": "markdown",
      "source": [
        "## Querying a target vector"
      ],
      "metadata": {
        "id": "2qjzgj6XxDsf"
      }
    },
    {
      "cell_type": "code",
      "source": [
        "import time\n",
        "start_time = time.time()  # Start timing before the request\n",
        "# Target vector\n",
        "query_text = \"Customer Paulsen CreditScore 619Age 42Tenure 2Balance 0.0NumOfProducts 1HasCrCard 1IsActiveMember 1EstimatedSalary 101348.88Exited 1Complain 1Satisfaction Score 2Card Type DIAMONDPoint Earned 464\"\n",
        "query_embedding = get_embedding(query_text,model=embedding_model)"
      ],
      "metadata": {
        "id": "n4Ev_TOZ6NBy"
      },
      "execution_count": null,
      "outputs": []
    },
    {
      "cell_type": "code",
      "source": [
        "# Perform the query using the embedding\n",
        "query_results = index.query(vector=query_embedding, top_k=5, include_metadata=True)  # Request metadata\n",
        "\n",
        "# Print the query results along with metadata\n",
        "print(\"Query Results:\")\n",
        "for match in query_results['matches']:\n",
        "    print(f\"ID: {match['id']}, Score: {match['score']}\")\n",
        "    if 'metadata' in match and 'text' in match['metadata']:\n",
        "        print(f\"Text: {match['metadata']['text']}\")\n",
        "    else:\n",
        "        print(\"No metadata available.\")\n",
        "\n",
        "response_time = time.time() - start_time              # Measure response time\n",
        "print(f\"Querying response time: {response_time:.2f} seconds\")  # Print response time"
      ],
      "metadata": {
        "id": "-MkWhXEwF76b",
        "colab": {
          "base_uri": "https://localhost:8080/"
        },
        "outputId": "5469375a-58cf-4d8d-d320-7a5ccef175a6"
      },
      "execution_count": null,
      "outputs": [
        {
          "output_type": "stream",
          "name": "stdout",
          "text": [
            "Query Results:\n",
            "ID: 753144, Score: 0.941335917\n",
            "Text: CustomerId: 15722061 CreditScore: 619 Age: 41 Tenure: 8 Balance: 142015.76 NumOfProducts: 2 HasCrCard: 1 IsActiveMember: 0 EstimatedSalary: 114323.66 Exited: 0 Complain: 0 Satisfaction Score: 5 Card Type: DIAMOND Point Earned: 222\n",
            "ID: 773144, Score: 0.941335917\n",
            "Text: CustomerId: 15722061 CreditScore: 619 Age: 41 Tenure: 8 Balance: 142015.76 NumOfProducts: 2 HasCrCard: 1 IsActiveMember: 0 EstimatedSalary: 114323.66 Exited: 0 Complain: 0 Satisfaction Score: 5 Card Type: DIAMOND Point Earned: 222\n",
            "ID: 463144, Score: 0.941335917\n",
            "Text: CustomerId: 15722061 CreditScore: 619 Age: 41 Tenure: 8 Balance: 142015.76 NumOfProducts: 2 HasCrCard: 1 IsActiveMember: 0 EstimatedSalary: 114323.66 Exited: 0 Complain: 0 Satisfaction Score: 5 Card Type: DIAMOND Point Earned: 222\n",
            "ID: 453144, Score: 0.941335917\n",
            "Text: CustomerId: 15722061 CreditScore: 619 Age: 41 Tenure: 8 Balance: 142015.76 NumOfProducts: 2 HasCrCard: 1 IsActiveMember: 0 EstimatedSalary: 114323.66 Exited: 0 Complain: 0 Satisfaction Score: 5 Card Type: DIAMOND Point Earned: 222\n",
            "ID: 473144, Score: 0.941335917\n",
            "Text: CustomerId: 15722061 CreditScore: 619 Age: 41 Tenure: 8 Balance: 142015.76 NumOfProducts: 2 HasCrCard: 1 IsActiveMember: 0 EstimatedSalary: 114323.66 Exited: 0 Complain: 0 Satisfaction Score: 5 Card Type: DIAMOND Point Earned: 222\n",
            "Querying response time: 0.49 seconds\n"
          ]
        }
      ]
    },
    {
      "cell_type": "code",
      "source": [
        "query_results"
      ],
      "metadata": {
        "id": "QQ15YhcdGTvf",
        "colab": {
          "base_uri": "https://localhost:8080/"
        },
        "outputId": "30cf1b50-78d8-4b56-a7b2-ee1494291643"
      },
      "execution_count": null,
      "outputs": [
        {
          "output_type": "execute_result",
          "data": {
            "text/plain": [
              "{'matches': [{'id': '753144',\n",
              "              'metadata': {'text': 'CustomerId: 15722061 CreditScore: 619 Age: '\n",
              "                                   '41 Tenure: 8 Balance: 142015.76 '\n",
              "                                   'NumOfProducts: 2 HasCrCard: 1 '\n",
              "                                   'IsActiveMember: 0 EstimatedSalary: '\n",
              "                                   '114323.66 Exited: 0 Complain: 0 '\n",
              "                                   'Satisfaction Score: 5 Card Type: DIAMOND '\n",
              "                                   'Point Earned: 222'},\n",
              "              'score': 0.941335917,\n",
              "              'values': []},\n",
              "             {'id': '773144',\n",
              "              'metadata': {'text': 'CustomerId: 15722061 CreditScore: 619 Age: '\n",
              "                                   '41 Tenure: 8 Balance: 142015.76 '\n",
              "                                   'NumOfProducts: 2 HasCrCard: 1 '\n",
              "                                   'IsActiveMember: 0 EstimatedSalary: '\n",
              "                                   '114323.66 Exited: 0 Complain: 0 '\n",
              "                                   'Satisfaction Score: 5 Card Type: DIAMOND '\n",
              "                                   'Point Earned: 222'},\n",
              "              'score': 0.941335917,\n",
              "              'values': []},\n",
              "             {'id': '463144',\n",
              "              'metadata': {'text': 'CustomerId: 15722061 CreditScore: 619 Age: '\n",
              "                                   '41 Tenure: 8 Balance: 142015.76 '\n",
              "                                   'NumOfProducts: 2 HasCrCard: 1 '\n",
              "                                   'IsActiveMember: 0 EstimatedSalary: '\n",
              "                                   '114323.66 Exited: 0 Complain: 0 '\n",
              "                                   'Satisfaction Score: 5 Card Type: DIAMOND '\n",
              "                                   'Point Earned: 222'},\n",
              "              'score': 0.941335917,\n",
              "              'values': []},\n",
              "             {'id': '453144',\n",
              "              'metadata': {'text': 'CustomerId: 15722061 CreditScore: 619 Age: '\n",
              "                                   '41 Tenure: 8 Balance: 142015.76 '\n",
              "                                   'NumOfProducts: 2 HasCrCard: 1 '\n",
              "                                   'IsActiveMember: 0 EstimatedSalary: '\n",
              "                                   '114323.66 Exited: 0 Complain: 0 '\n",
              "                                   'Satisfaction Score: 5 Card Type: DIAMOND '\n",
              "                                   'Point Earned: 222'},\n",
              "              'score': 0.941335917,\n",
              "              'values': []},\n",
              "             {'id': '473144',\n",
              "              'metadata': {'text': 'CustomerId: 15722061 CreditScore: 619 Age: '\n",
              "                                   '41 Tenure: 8 Balance: 142015.76 '\n",
              "                                   'NumOfProducts: 2 HasCrCard: 1 '\n",
              "                                   'IsActiveMember: 0 EstimatedSalary: '\n",
              "                                   '114323.66 Exited: 0 Complain: 0 '\n",
              "                                   'Satisfaction Score: 5 Card Type: DIAMOND '\n",
              "                                   'Point Earned: 222'},\n",
              "              'score': 0.941335917,\n",
              "              'values': []}],\n",
              " 'namespace': '',\n",
              " 'usage': {'read_units': 23}}"
            ]
          },
          "metadata": {},
          "execution_count": 12
        }
      ]
    },
    {
      "cell_type": "markdown",
      "source": [
        "## Extract Relevant Texts"
      ],
      "metadata": {
        "id": "WajfbO2e4_fN"
      }
    },
    {
      "cell_type": "code",
      "source": [
        "relevant_texts = [match['metadata']['text'] for match in query_results['matches'] if 'metadata' in match and 'text' in match['metadata']]\n",
        "\n",
        "# Join all items in the list into a single string separated by a specific delimiter (e.g., a newline or space)\n",
        "combined_text = '\\n'.join(relevant_texts)  # Using newline as a separator for readability\n",
        "print(combined_text)"
      ],
      "metadata": {
        "colab": {
          "base_uri": "https://localhost:8080/"
        },
        "id": "8ClGVc5qUpPW",
        "outputId": "fcfb7bb5-afdc-41ee-fa55-d52a569576a7"
      },
      "execution_count": null,
      "outputs": [
        {
          "output_type": "stream",
          "name": "stdout",
          "text": [
            "CustomerId: 15722061 CreditScore: 619 Age: 41 Tenure: 8 Balance: 142015.76 NumOfProducts: 2 HasCrCard: 1 IsActiveMember: 0 EstimatedSalary: 114323.66 Exited: 0 Complain: 0 Satisfaction Score: 5 Card Type: DIAMOND Point Earned: 222\n",
            "CustomerId: 15722061 CreditScore: 619 Age: 41 Tenure: 8 Balance: 142015.76 NumOfProducts: 2 HasCrCard: 1 IsActiveMember: 0 EstimatedSalary: 114323.66 Exited: 0 Complain: 0 Satisfaction Score: 5 Card Type: DIAMOND Point Earned: 222\n",
            "CustomerId: 15722061 CreditScore: 619 Age: 41 Tenure: 8 Balance: 142015.76 NumOfProducts: 2 HasCrCard: 1 IsActiveMember: 0 EstimatedSalary: 114323.66 Exited: 0 Complain: 0 Satisfaction Score: 5 Card Type: DIAMOND Point Earned: 222\n",
            "CustomerId: 15722061 CreditScore: 619 Age: 41 Tenure: 8 Balance: 142015.76 NumOfProducts: 2 HasCrCard: 1 IsActiveMember: 0 EstimatedSalary: 114323.66 Exited: 0 Complain: 0 Satisfaction Score: 5 Card Type: DIAMOND Point Earned: 222\n",
            "CustomerId: 15722061 CreditScore: 619 Age: 41 Tenure: 8 Balance: 142015.76 NumOfProducts: 2 HasCrCard: 1 IsActiveMember: 0 EstimatedSalary: 114323.66 Exited: 0 Complain: 0 Satisfaction Score: 5 Card Type: DIAMOND Point Earned: 222\n"
          ]
        }
      ]
    },
    {
      "cell_type": "markdown",
      "source": [
        "## Augmented prompt"
      ],
      "metadata": {
        "id": "2cBZowvcHJ5j"
      }
    },
    {
      "cell_type": "code",
      "source": [
        "# Combine texts into a single string, separated by new lines\n",
        "combined_context = \"\\n\".join(relevant_texts)\n",
        "#prompt\n",
        "query_prompt=\"I have this customer bank record with interesting information on age, credit score and more and similar customers. What could I suggest to keep them in my bank in an email with an url to get new advantages based on the fields for each Customer ID:\"\n",
        "itext=query_prompt+ query_text+combined_context\n",
        "# Augmented input\n",
        "print(\"Prompt for the Generative AI model:\", itext)"
      ],
      "metadata": {
        "colab": {
          "base_uri": "https://localhost:8080/"
        },
        "outputId": "a5053d4d-045d-4412-8b8f-9e043a6ff338",
        "id": "rmXVFInU4_fO"
      },
      "execution_count": null,
      "outputs": [
        {
          "output_type": "stream",
          "name": "stdout",
          "text": [
            "Prompt for the Generative AI model: I have this customer bank record with interesting information on age, credit score and more and similar customers. What could I suggest to keep them in my bank in an email with an url to get new advantages based on the fields for each Customer ID:Customer Paulsen CreditScore 619Age 42Tenure 2Balance 0.0NumOfProducts 1HasCrCard 1IsActiveMember 1EstimatedSalary 101348.88Exited 1Complain 1Satisfaction Score 2Card Type DIAMONDPoint Earned 464CustomerId: 15722061 CreditScore: 619 Age: 41 Tenure: 8 Balance: 142015.76 NumOfProducts: 2 HasCrCard: 1 IsActiveMember: 0 EstimatedSalary: 114323.66 Exited: 0 Complain: 0 Satisfaction Score: 5 Card Type: DIAMOND Point Earned: 222\n",
            "CustomerId: 15722061 CreditScore: 619 Age: 41 Tenure: 8 Balance: 142015.76 NumOfProducts: 2 HasCrCard: 1 IsActiveMember: 0 EstimatedSalary: 114323.66 Exited: 0 Complain: 0 Satisfaction Score: 5 Card Type: DIAMOND Point Earned: 222\n",
            "CustomerId: 15722061 CreditScore: 619 Age: 41 Tenure: 8 Balance: 142015.76 NumOfProducts: 2 HasCrCard: 1 IsActiveMember: 0 EstimatedSalary: 114323.66 Exited: 0 Complain: 0 Satisfaction Score: 5 Card Type: DIAMOND Point Earned: 222\n",
            "CustomerId: 15722061 CreditScore: 619 Age: 41 Tenure: 8 Balance: 142015.76 NumOfProducts: 2 HasCrCard: 1 IsActiveMember: 0 EstimatedSalary: 114323.66 Exited: 0 Complain: 0 Satisfaction Score: 5 Card Type: DIAMOND Point Earned: 222\n",
            "CustomerId: 15722061 CreditScore: 619 Age: 41 Tenure: 8 Balance: 142015.76 NumOfProducts: 2 HasCrCard: 1 IsActiveMember: 0 EstimatedSalary: 114323.66 Exited: 0 Complain: 0 Satisfaction Score: 5 Card Type: DIAMOND Point Earned: 222\n"
          ]
        }
      ]
    },
    {
      "cell_type": "markdown",
      "source": [
        "## Augmented generation"
      ],
      "metadata": {
        "id": "QuF2PbYPbHtc"
      }
    },
    {
      "cell_type": "code",
      "source": [
        "from openai import OpenAI\n",
        "client = OpenAI()\n",
        "gpt_model = \"gpt-4o\"\n",
        "\n",
        "import time\n",
        "start_time = time.time()  # Start timing before the request\n",
        "\n",
        "response = client.chat.completions.create(\n",
        "  model=gpt_model,\n",
        "  messages=[\n",
        "    {\n",
        "      \"role\": \"system\",\n",
        "      \"content\": \"You are the community manager can write engaging email based on the text you have. Do not use a surname but simply Dear Valued Customer instead.\"\n",
        "    },\n",
        "    {\n",
        "      \"role\": \"user\",\n",
        "      \"content\": itext\n",
        "    }\n",
        "  ],\n",
        "  temperature=0,\n",
        "  max_tokens=300,\n",
        "  top_p=1,\n",
        "  frequency_penalty=0,\n",
        "  presence_penalty=0\n",
        ")\n",
        "print(response.choices[0].message.content)\n",
        "\n",
        "response_time = time.time() - start_time              # Measure response time\n",
        "print(f\"Querying response time: {response_time:.2f} seconds\")  # Print response time"
      ],
      "metadata": {
        "colab": {
          "base_uri": "https://localhost:8080/"
        },
        "id": "xxXAdRdLNr26",
        "outputId": "4e3ca191-3878-4481-8282-36d91928262e"
      },
      "execution_count": null,
      "outputs": [
        {
          "output_type": "stream",
          "name": "stdout",
          "text": [
            "Subject: Exclusive Benefits Await You at Our Bank!\n",
            "\n",
            "Dear Valued Customer,\n",
            "\n",
            "We hope this email finds you well. As a cherished member of our banking family, we are always looking for ways to enhance your experience and provide you with the best possible services.\n",
            "\n",
            "We noticed that you have been with us for quite some time and have a DIAMOND card with impressive points earned. To show our appreciation for your loyalty, we are excited to offer you exclusive benefits tailored just for you!\n",
            "\n",
            "Here are some of the exciting advantages you can now enjoy:\n",
            "\n",
            "1. **Enhanced Rewards Program**: Earn more points on every transaction and redeem them for exciting gifts and offers.\n",
            "2. **Personalized Financial Advice**: Get access to our expert financial advisors to help you make the most of your investments and savings.\n",
            "3. **Exclusive Discounts**: Enjoy special discounts on various products and services, curated just for our DIAMOND cardholders.\n",
            "4. **Priority Customer Service**: Experience faster and more efficient service with our dedicated customer support team.\n",
            "\n",
            "To explore these new benefits and more, please visit the following link: [Exclusive Benefits](https://www.yourbank.com/exclusive-benefits)\n",
            "\n",
            "We value your feedback and are committed to continuously improving our services. If you have any questions or need assistance, please do not hesitate to reach out to us.\n",
            "\n",
            "Thank you for being a valued customer. We look forward to serving you better and helping you achieve your financial goals.\n",
            "\n",
            "Best regards,\n",
            "\n",
            "[Your Bank's Name]\n",
            "Querying response time: 3.50 seconds\n"
          ]
        }
      ]
    }
  ],
  "metadata": {
    "colab": {
      "provenance": [],
      "toc_visible": true
    },
    "gpuClass": "standard",
    "kernelspec": {
      "display_name": "Python 3",
      "name": "python3"
    },
    "language_info": {
      "name": "python"
    }
  },
  "nbformat": 4,
  "nbformat_minor": 0
}